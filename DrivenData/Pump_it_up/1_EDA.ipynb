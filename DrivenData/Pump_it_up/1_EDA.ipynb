{
  "nbformat": 4,
  "nbformat_minor": 0,
  "metadata": {
    "colab": {
      "name": "Pump_it_up_EDA.ipynb",
      "provenance": [],
      "collapsed_sections": [],
      "toc_visible": true
    },
    "kernelspec": {
      "name": "python3",
      "display_name": "Python 3"
    },
    "language_info": {
      "name": "python"
    },
    "widgets": {
      "application/vnd.jupyter.widget-state+json": {
        "3541c4ec70584db0ba744fa91fe82ead": {
          "model_module": "@jupyter-widgets/controls",
          "model_name": "HBoxModel",
          "model_module_version": "1.5.0",
          "state": {
            "_view_name": "HBoxView",
            "_dom_classes": [],
            "_model_name": "HBoxModel",
            "_view_module": "@jupyter-widgets/controls",
            "_model_module_version": "1.5.0",
            "_view_count": null,
            "_view_module_version": "1.5.0",
            "box_style": "",
            "layout": "IPY_MODEL_84de2fdf38064c01ab0f00065e3d0f58",
            "_model_module": "@jupyter-widgets/controls",
            "children": [
              "IPY_MODEL_ead75f2cc5b147eebd06ef6a32840bc6",
              "IPY_MODEL_4227d86b64e940d5a9b03723d29008cb",
              "IPY_MODEL_56533170909e40efbaa6f83b7fe01f14"
            ]
          }
        },
        "84de2fdf38064c01ab0f00065e3d0f58": {
          "model_module": "@jupyter-widgets/base",
          "model_name": "LayoutModel",
          "model_module_version": "1.2.0",
          "state": {
            "_view_name": "LayoutView",
            "grid_template_rows": null,
            "right": null,
            "justify_content": null,
            "_view_module": "@jupyter-widgets/base",
            "overflow": null,
            "_model_module_version": "1.2.0",
            "_view_count": null,
            "flex_flow": null,
            "width": null,
            "min_width": null,
            "border": null,
            "align_items": null,
            "bottom": null,
            "_model_module": "@jupyter-widgets/base",
            "top": null,
            "grid_column": null,
            "overflow_y": null,
            "overflow_x": null,
            "grid_auto_flow": null,
            "grid_area": null,
            "grid_template_columns": null,
            "flex": null,
            "_model_name": "LayoutModel",
            "justify_items": null,
            "grid_row": null,
            "max_height": null,
            "align_content": null,
            "visibility": null,
            "align_self": null,
            "height": null,
            "min_height": null,
            "padding": null,
            "grid_auto_rows": null,
            "grid_gap": null,
            "max_width": null,
            "order": null,
            "_view_module_version": "1.2.0",
            "grid_template_areas": null,
            "object_position": null,
            "object_fit": null,
            "grid_auto_columns": null,
            "margin": null,
            "display": null,
            "left": null
          }
        },
        "ead75f2cc5b147eebd06ef6a32840bc6": {
          "model_module": "@jupyter-widgets/controls",
          "model_name": "HTMLModel",
          "model_module_version": "1.5.0",
          "state": {
            "_view_name": "HTMLView",
            "style": "IPY_MODEL_feb96fc336dd45bd9b723641f1d1504f",
            "_dom_classes": [],
            "description": "",
            "_model_name": "HTMLModel",
            "placeholder": "​",
            "_view_module": "@jupyter-widgets/controls",
            "_model_module_version": "1.5.0",
            "value": "100%",
            "_view_count": null,
            "_view_module_version": "1.5.0",
            "description_tooltip": null,
            "_model_module": "@jupyter-widgets/controls",
            "layout": "IPY_MODEL_97740ba8a452436794d5cdcd48150503"
          }
        },
        "4227d86b64e940d5a9b03723d29008cb": {
          "model_module": "@jupyter-widgets/controls",
          "model_name": "FloatProgressModel",
          "model_module_version": "1.5.0",
          "state": {
            "_view_name": "ProgressView",
            "style": "IPY_MODEL_905b760db38040628d8d261eb1e1a729",
            "_dom_classes": [],
            "description": "",
            "_model_name": "FloatProgressModel",
            "bar_style": "success",
            "max": 9,
            "_view_module": "@jupyter-widgets/controls",
            "_model_module_version": "1.5.0",
            "value": 9,
            "_view_count": null,
            "_view_module_version": "1.5.0",
            "orientation": "horizontal",
            "min": 0,
            "description_tooltip": null,
            "_model_module": "@jupyter-widgets/controls",
            "layout": "IPY_MODEL_b608a99ae35b49c7a2470784ccad9f32"
          }
        },
        "56533170909e40efbaa6f83b7fe01f14": {
          "model_module": "@jupyter-widgets/controls",
          "model_name": "HTMLModel",
          "model_module_version": "1.5.0",
          "state": {
            "_view_name": "HTMLView",
            "style": "IPY_MODEL_4c61ff93c8e940b69dc4f525c23bae0c",
            "_dom_classes": [],
            "description": "",
            "_model_name": "HTMLModel",
            "placeholder": "​",
            "_view_module": "@jupyter-widgets/controls",
            "_model_module_version": "1.5.0",
            "value": " 9/9 [00:00&lt;00:00, 74.27it/s]",
            "_view_count": null,
            "_view_module_version": "1.5.0",
            "description_tooltip": null,
            "_model_module": "@jupyter-widgets/controls",
            "layout": "IPY_MODEL_7ef3e147569b4245842d7777d3c79027"
          }
        },
        "feb96fc336dd45bd9b723641f1d1504f": {
          "model_module": "@jupyter-widgets/controls",
          "model_name": "DescriptionStyleModel",
          "model_module_version": "1.5.0",
          "state": {
            "_view_name": "StyleView",
            "_model_name": "DescriptionStyleModel",
            "description_width": "",
            "_view_module": "@jupyter-widgets/base",
            "_model_module_version": "1.5.0",
            "_view_count": null,
            "_view_module_version": "1.2.0",
            "_model_module": "@jupyter-widgets/controls"
          }
        },
        "97740ba8a452436794d5cdcd48150503": {
          "model_module": "@jupyter-widgets/base",
          "model_name": "LayoutModel",
          "model_module_version": "1.2.0",
          "state": {
            "_view_name": "LayoutView",
            "grid_template_rows": null,
            "right": null,
            "justify_content": null,
            "_view_module": "@jupyter-widgets/base",
            "overflow": null,
            "_model_module_version": "1.2.0",
            "_view_count": null,
            "flex_flow": null,
            "width": null,
            "min_width": null,
            "border": null,
            "align_items": null,
            "bottom": null,
            "_model_module": "@jupyter-widgets/base",
            "top": null,
            "grid_column": null,
            "overflow_y": null,
            "overflow_x": null,
            "grid_auto_flow": null,
            "grid_area": null,
            "grid_template_columns": null,
            "flex": null,
            "_model_name": "LayoutModel",
            "justify_items": null,
            "grid_row": null,
            "max_height": null,
            "align_content": null,
            "visibility": null,
            "align_self": null,
            "height": null,
            "min_height": null,
            "padding": null,
            "grid_auto_rows": null,
            "grid_gap": null,
            "max_width": null,
            "order": null,
            "_view_module_version": "1.2.0",
            "grid_template_areas": null,
            "object_position": null,
            "object_fit": null,
            "grid_auto_columns": null,
            "margin": null,
            "display": null,
            "left": null
          }
        },
        "905b760db38040628d8d261eb1e1a729": {
          "model_module": "@jupyter-widgets/controls",
          "model_name": "ProgressStyleModel",
          "model_module_version": "1.5.0",
          "state": {
            "_view_name": "StyleView",
            "_model_name": "ProgressStyleModel",
            "description_width": "",
            "_view_module": "@jupyter-widgets/base",
            "_model_module_version": "1.5.0",
            "_view_count": null,
            "_view_module_version": "1.2.0",
            "bar_color": null,
            "_model_module": "@jupyter-widgets/controls"
          }
        },
        "b608a99ae35b49c7a2470784ccad9f32": {
          "model_module": "@jupyter-widgets/base",
          "model_name": "LayoutModel",
          "model_module_version": "1.2.0",
          "state": {
            "_view_name": "LayoutView",
            "grid_template_rows": null,
            "right": null,
            "justify_content": null,
            "_view_module": "@jupyter-widgets/base",
            "overflow": null,
            "_model_module_version": "1.2.0",
            "_view_count": null,
            "flex_flow": null,
            "width": null,
            "min_width": null,
            "border": null,
            "align_items": null,
            "bottom": null,
            "_model_module": "@jupyter-widgets/base",
            "top": null,
            "grid_column": null,
            "overflow_y": null,
            "overflow_x": null,
            "grid_auto_flow": null,
            "grid_area": null,
            "grid_template_columns": null,
            "flex": null,
            "_model_name": "LayoutModel",
            "justify_items": null,
            "grid_row": null,
            "max_height": null,
            "align_content": null,
            "visibility": null,
            "align_self": null,
            "height": null,
            "min_height": null,
            "padding": null,
            "grid_auto_rows": null,
            "grid_gap": null,
            "max_width": null,
            "order": null,
            "_view_module_version": "1.2.0",
            "grid_template_areas": null,
            "object_position": null,
            "object_fit": null,
            "grid_auto_columns": null,
            "margin": null,
            "display": null,
            "left": null
          }
        },
        "4c61ff93c8e940b69dc4f525c23bae0c": {
          "model_module": "@jupyter-widgets/controls",
          "model_name": "DescriptionStyleModel",
          "model_module_version": "1.5.0",
          "state": {
            "_view_name": "StyleView",
            "_model_name": "DescriptionStyleModel",
            "description_width": "",
            "_view_module": "@jupyter-widgets/base",
            "_model_module_version": "1.5.0",
            "_view_count": null,
            "_view_module_version": "1.2.0",
            "_model_module": "@jupyter-widgets/controls"
          }
        },
        "7ef3e147569b4245842d7777d3c79027": {
          "model_module": "@jupyter-widgets/base",
          "model_name": "LayoutModel",
          "model_module_version": "1.2.0",
          "state": {
            "_view_name": "LayoutView",
            "grid_template_rows": null,
            "right": null,
            "justify_content": null,
            "_view_module": "@jupyter-widgets/base",
            "overflow": null,
            "_model_module_version": "1.2.0",
            "_view_count": null,
            "flex_flow": null,
            "width": null,
            "min_width": null,
            "border": null,
            "align_items": null,
            "bottom": null,
            "_model_module": "@jupyter-widgets/base",
            "top": null,
            "grid_column": null,
            "overflow_y": null,
            "overflow_x": null,
            "grid_auto_flow": null,
            "grid_area": null,
            "grid_template_columns": null,
            "flex": null,
            "_model_name": "LayoutModel",
            "justify_items": null,
            "grid_row": null,
            "max_height": null,
            "align_content": null,
            "visibility": null,
            "align_self": null,
            "height": null,
            "min_height": null,
            "padding": null,
            "grid_auto_rows": null,
            "grid_gap": null,
            "max_width": null,
            "order": null,
            "_view_module_version": "1.2.0",
            "grid_template_areas": null,
            "object_position": null,
            "object_fit": null,
            "grid_auto_columns": null,
            "margin": null,
            "display": null,
            "left": null
          }
        },
        "01258315abac4307a1f804e84dab3226": {
          "model_module": "@jupyter-widgets/controls",
          "model_name": "HBoxModel",
          "model_module_version": "1.5.0",
          "state": {
            "_view_name": "HBoxView",
            "_dom_classes": [],
            "_model_name": "HBoxModel",
            "_view_module": "@jupyter-widgets/controls",
            "_model_module_version": "1.5.0",
            "_view_count": null,
            "_view_module_version": "1.5.0",
            "box_style": "",
            "layout": "IPY_MODEL_3938d7a0e650498f97719af7b7a7b318",
            "_model_module": "@jupyter-widgets/controls",
            "children": [
              "IPY_MODEL_6fbb635f507144adb66673fe6aca183e",
              "IPY_MODEL_8cad35403caa447b8c632990ca11e582",
              "IPY_MODEL_5d065885202b4bb4a11cabf4de8dc2d7"
            ]
          }
        },
        "3938d7a0e650498f97719af7b7a7b318": {
          "model_module": "@jupyter-widgets/base",
          "model_name": "LayoutModel",
          "model_module_version": "1.2.0",
          "state": {
            "_view_name": "LayoutView",
            "grid_template_rows": null,
            "right": null,
            "justify_content": null,
            "_view_module": "@jupyter-widgets/base",
            "overflow": null,
            "_model_module_version": "1.2.0",
            "_view_count": null,
            "flex_flow": null,
            "width": null,
            "min_width": null,
            "border": null,
            "align_items": null,
            "bottom": null,
            "_model_module": "@jupyter-widgets/base",
            "top": null,
            "grid_column": null,
            "overflow_y": null,
            "overflow_x": null,
            "grid_auto_flow": null,
            "grid_area": null,
            "grid_template_columns": null,
            "flex": null,
            "_model_name": "LayoutModel",
            "justify_items": null,
            "grid_row": null,
            "max_height": null,
            "align_content": null,
            "visibility": null,
            "align_self": null,
            "height": null,
            "min_height": null,
            "padding": null,
            "grid_auto_rows": null,
            "grid_gap": null,
            "max_width": null,
            "order": null,
            "_view_module_version": "1.2.0",
            "grid_template_areas": null,
            "object_position": null,
            "object_fit": null,
            "grid_auto_columns": null,
            "margin": null,
            "display": null,
            "left": null
          }
        },
        "6fbb635f507144adb66673fe6aca183e": {
          "model_module": "@jupyter-widgets/controls",
          "model_name": "HTMLModel",
          "model_module_version": "1.5.0",
          "state": {
            "_view_name": "HTMLView",
            "style": "IPY_MODEL_bd8932ab56094d42823d42a8473acc64",
            "_dom_classes": [],
            "description": "",
            "_model_name": "HTMLModel",
            "placeholder": "​",
            "_view_module": "@jupyter-widgets/controls",
            "_model_module_version": "1.5.0",
            "value": "100%",
            "_view_count": null,
            "_view_module_version": "1.5.0",
            "description_tooltip": null,
            "_model_module": "@jupyter-widgets/controls",
            "layout": "IPY_MODEL_6fda6da4d6464df688e277e70c6dbf04"
          }
        },
        "8cad35403caa447b8c632990ca11e582": {
          "model_module": "@jupyter-widgets/controls",
          "model_name": "FloatProgressModel",
          "model_module_version": "1.5.0",
          "state": {
            "_view_name": "ProgressView",
            "style": "IPY_MODEL_3fbf5fe8f77445b6bbf9732620183cc9",
            "_dom_classes": [],
            "description": "",
            "_model_name": "FloatProgressModel",
            "bar_style": "success",
            "max": 14,
            "_view_module": "@jupyter-widgets/controls",
            "_model_module_version": "1.5.0",
            "value": 14,
            "_view_count": null,
            "_view_module_version": "1.5.0",
            "orientation": "horizontal",
            "min": 0,
            "description_tooltip": null,
            "_model_module": "@jupyter-widgets/controls",
            "layout": "IPY_MODEL_29e7ecaaa67841069bdb9966fcffc793"
          }
        },
        "5d065885202b4bb4a11cabf4de8dc2d7": {
          "model_module": "@jupyter-widgets/controls",
          "model_name": "HTMLModel",
          "model_module_version": "1.5.0",
          "state": {
            "_view_name": "HTMLView",
            "style": "IPY_MODEL_ed482dcac57340748cdaefd238becb99",
            "_dom_classes": [],
            "description": "",
            "_model_name": "HTMLModel",
            "placeholder": "​",
            "_view_module": "@jupyter-widgets/controls",
            "_model_module_version": "1.5.0",
            "value": " 14/14 [00:04&lt;00:00,  4.25it/s]",
            "_view_count": null,
            "_view_module_version": "1.5.0",
            "description_tooltip": null,
            "_model_module": "@jupyter-widgets/controls",
            "layout": "IPY_MODEL_bf47acba34024b2cac9ba7e1080dbcb5"
          }
        },
        "bd8932ab56094d42823d42a8473acc64": {
          "model_module": "@jupyter-widgets/controls",
          "model_name": "DescriptionStyleModel",
          "model_module_version": "1.5.0",
          "state": {
            "_view_name": "StyleView",
            "_model_name": "DescriptionStyleModel",
            "description_width": "",
            "_view_module": "@jupyter-widgets/base",
            "_model_module_version": "1.5.0",
            "_view_count": null,
            "_view_module_version": "1.2.0",
            "_model_module": "@jupyter-widgets/controls"
          }
        },
        "6fda6da4d6464df688e277e70c6dbf04": {
          "model_module": "@jupyter-widgets/base",
          "model_name": "LayoutModel",
          "model_module_version": "1.2.0",
          "state": {
            "_view_name": "LayoutView",
            "grid_template_rows": null,
            "right": null,
            "justify_content": null,
            "_view_module": "@jupyter-widgets/base",
            "overflow": null,
            "_model_module_version": "1.2.0",
            "_view_count": null,
            "flex_flow": null,
            "width": null,
            "min_width": null,
            "border": null,
            "align_items": null,
            "bottom": null,
            "_model_module": "@jupyter-widgets/base",
            "top": null,
            "grid_column": null,
            "overflow_y": null,
            "overflow_x": null,
            "grid_auto_flow": null,
            "grid_area": null,
            "grid_template_columns": null,
            "flex": null,
            "_model_name": "LayoutModel",
            "justify_items": null,
            "grid_row": null,
            "max_height": null,
            "align_content": null,
            "visibility": null,
            "align_self": null,
            "height": null,
            "min_height": null,
            "padding": null,
            "grid_auto_rows": null,
            "grid_gap": null,
            "max_width": null,
            "order": null,
            "_view_module_version": "1.2.0",
            "grid_template_areas": null,
            "object_position": null,
            "object_fit": null,
            "grid_auto_columns": null,
            "margin": null,
            "display": null,
            "left": null
          }
        },
        "3fbf5fe8f77445b6bbf9732620183cc9": {
          "model_module": "@jupyter-widgets/controls",
          "model_name": "ProgressStyleModel",
          "model_module_version": "1.5.0",
          "state": {
            "_view_name": "StyleView",
            "_model_name": "ProgressStyleModel",
            "description_width": "",
            "_view_module": "@jupyter-widgets/base",
            "_model_module_version": "1.5.0",
            "_view_count": null,
            "_view_module_version": "1.2.0",
            "bar_color": null,
            "_model_module": "@jupyter-widgets/controls"
          }
        },
        "29e7ecaaa67841069bdb9966fcffc793": {
          "model_module": "@jupyter-widgets/base",
          "model_name": "LayoutModel",
          "model_module_version": "1.2.0",
          "state": {
            "_view_name": "LayoutView",
            "grid_template_rows": null,
            "right": null,
            "justify_content": null,
            "_view_module": "@jupyter-widgets/base",
            "overflow": null,
            "_model_module_version": "1.2.0",
            "_view_count": null,
            "flex_flow": null,
            "width": null,
            "min_width": null,
            "border": null,
            "align_items": null,
            "bottom": null,
            "_model_module": "@jupyter-widgets/base",
            "top": null,
            "grid_column": null,
            "overflow_y": null,
            "overflow_x": null,
            "grid_auto_flow": null,
            "grid_area": null,
            "grid_template_columns": null,
            "flex": null,
            "_model_name": "LayoutModel",
            "justify_items": null,
            "grid_row": null,
            "max_height": null,
            "align_content": null,
            "visibility": null,
            "align_self": null,
            "height": null,
            "min_height": null,
            "padding": null,
            "grid_auto_rows": null,
            "grid_gap": null,
            "max_width": null,
            "order": null,
            "_view_module_version": "1.2.0",
            "grid_template_areas": null,
            "object_position": null,
            "object_fit": null,
            "grid_auto_columns": null,
            "margin": null,
            "display": null,
            "left": null
          }
        },
        "ed482dcac57340748cdaefd238becb99": {
          "model_module": "@jupyter-widgets/controls",
          "model_name": "DescriptionStyleModel",
          "model_module_version": "1.5.0",
          "state": {
            "_view_name": "StyleView",
            "_model_name": "DescriptionStyleModel",
            "description_width": "",
            "_view_module": "@jupyter-widgets/base",
            "_model_module_version": "1.5.0",
            "_view_count": null,
            "_view_module_version": "1.2.0",
            "_model_module": "@jupyter-widgets/controls"
          }
        },
        "bf47acba34024b2cac9ba7e1080dbcb5": {
          "model_module": "@jupyter-widgets/base",
          "model_name": "LayoutModel",
          "model_module_version": "1.2.0",
          "state": {
            "_view_name": "LayoutView",
            "grid_template_rows": null,
            "right": null,
            "justify_content": null,
            "_view_module": "@jupyter-widgets/base",
            "overflow": null,
            "_model_module_version": "1.2.0",
            "_view_count": null,
            "flex_flow": null,
            "width": null,
            "min_width": null,
            "border": null,
            "align_items": null,
            "bottom": null,
            "_model_module": "@jupyter-widgets/base",
            "top": null,
            "grid_column": null,
            "overflow_y": null,
            "overflow_x": null,
            "grid_auto_flow": null,
            "grid_area": null,
            "grid_template_columns": null,
            "flex": null,
            "_model_name": "LayoutModel",
            "justify_items": null,
            "grid_row": null,
            "max_height": null,
            "align_content": null,
            "visibility": null,
            "align_self": null,
            "height": null,
            "min_height": null,
            "padding": null,
            "grid_auto_rows": null,
            "grid_gap": null,
            "max_width": null,
            "order": null,
            "_view_module_version": "1.2.0",
            "grid_template_areas": null,
            "object_position": null,
            "object_fit": null,
            "grid_auto_columns": null,
            "margin": null,
            "display": null,
            "left": null
          }
        },
        "c89f1a54f7d24e22bdf42e40df5adb6f": {
          "model_module": "@jupyter-widgets/controls",
          "model_name": "HBoxModel",
          "model_module_version": "1.5.0",
          "state": {
            "_view_name": "HBoxView",
            "_dom_classes": [],
            "_model_name": "HBoxModel",
            "_view_module": "@jupyter-widgets/controls",
            "_model_module_version": "1.5.0",
            "_view_count": null,
            "_view_module_version": "1.5.0",
            "box_style": "",
            "layout": "IPY_MODEL_e5af04697f22458c8d0a88dbd2681644",
            "_model_module": "@jupyter-widgets/controls",
            "children": [
              "IPY_MODEL_6ca44453943d4ddfb8548411eba3c0cf",
              "IPY_MODEL_e22d80137648445598ec0ccbfc0d27a3",
              "IPY_MODEL_6b90b43d064a49deb997e8c554082583"
            ]
          }
        },
        "e5af04697f22458c8d0a88dbd2681644": {
          "model_module": "@jupyter-widgets/base",
          "model_name": "LayoutModel",
          "model_module_version": "1.2.0",
          "state": {
            "_view_name": "LayoutView",
            "grid_template_rows": null,
            "right": null,
            "justify_content": null,
            "_view_module": "@jupyter-widgets/base",
            "overflow": null,
            "_model_module_version": "1.2.0",
            "_view_count": null,
            "flex_flow": null,
            "width": null,
            "min_width": null,
            "border": null,
            "align_items": null,
            "bottom": null,
            "_model_module": "@jupyter-widgets/base",
            "top": null,
            "grid_column": null,
            "overflow_y": null,
            "overflow_x": null,
            "grid_auto_flow": null,
            "grid_area": null,
            "grid_template_columns": null,
            "flex": null,
            "_model_name": "LayoutModel",
            "justify_items": null,
            "grid_row": null,
            "max_height": null,
            "align_content": null,
            "visibility": null,
            "align_self": null,
            "height": null,
            "min_height": null,
            "padding": null,
            "grid_auto_rows": null,
            "grid_gap": null,
            "max_width": null,
            "order": null,
            "_view_module_version": "1.2.0",
            "grid_template_areas": null,
            "object_position": null,
            "object_fit": null,
            "grid_auto_columns": null,
            "margin": null,
            "display": null,
            "left": null
          }
        },
        "6ca44453943d4ddfb8548411eba3c0cf": {
          "model_module": "@jupyter-widgets/controls",
          "model_name": "HTMLModel",
          "model_module_version": "1.5.0",
          "state": {
            "_view_name": "HTMLView",
            "style": "IPY_MODEL_2525be2183e440708c04dbe933a2463d",
            "_dom_classes": [],
            "description": "",
            "_model_name": "HTMLModel",
            "placeholder": "​",
            "_view_module": "@jupyter-widgets/controls",
            "_model_module_version": "1.5.0",
            "value": "100%",
            "_view_count": null,
            "_view_module_version": "1.5.0",
            "description_tooltip": null,
            "_model_module": "@jupyter-widgets/controls",
            "layout": "IPY_MODEL_4e7b07bec80e483dab45a0534b8fae80"
          }
        },
        "e22d80137648445598ec0ccbfc0d27a3": {
          "model_module": "@jupyter-widgets/controls",
          "model_name": "FloatProgressModel",
          "model_module_version": "1.5.0",
          "state": {
            "_view_name": "ProgressView",
            "style": "IPY_MODEL_6b6c0d32d514404ebd24e09d9897d79f",
            "_dom_classes": [],
            "description": "",
            "_model_name": "FloatProgressModel",
            "bar_style": "success",
            "max": 2,
            "_view_module": "@jupyter-widgets/controls",
            "_model_module_version": "1.5.0",
            "value": 2,
            "_view_count": null,
            "_view_module_version": "1.5.0",
            "orientation": "horizontal",
            "min": 0,
            "description_tooltip": null,
            "_model_module": "@jupyter-widgets/controls",
            "layout": "IPY_MODEL_00811db30e464ef2b24c13756065da9b"
          }
        },
        "6b90b43d064a49deb997e8c554082583": {
          "model_module": "@jupyter-widgets/controls",
          "model_name": "HTMLModel",
          "model_module_version": "1.5.0",
          "state": {
            "_view_name": "HTMLView",
            "style": "IPY_MODEL_00b4108a73844ec6990972e87a8c1f5a",
            "_dom_classes": [],
            "description": "",
            "_model_name": "HTMLModel",
            "placeholder": "​",
            "_view_module": "@jupyter-widgets/controls",
            "_model_module_version": "1.5.0",
            "value": " 2/2 [00:00&lt;00:00,  7.34it/s]",
            "_view_count": null,
            "_view_module_version": "1.5.0",
            "description_tooltip": null,
            "_model_module": "@jupyter-widgets/controls",
            "layout": "IPY_MODEL_32fa75cc15c048a9a341c72f59210b70"
          }
        },
        "2525be2183e440708c04dbe933a2463d": {
          "model_module": "@jupyter-widgets/controls",
          "model_name": "DescriptionStyleModel",
          "model_module_version": "1.5.0",
          "state": {
            "_view_name": "StyleView",
            "_model_name": "DescriptionStyleModel",
            "description_width": "",
            "_view_module": "@jupyter-widgets/base",
            "_model_module_version": "1.5.0",
            "_view_count": null,
            "_view_module_version": "1.2.0",
            "_model_module": "@jupyter-widgets/controls"
          }
        },
        "4e7b07bec80e483dab45a0534b8fae80": {
          "model_module": "@jupyter-widgets/base",
          "model_name": "LayoutModel",
          "model_module_version": "1.2.0",
          "state": {
            "_view_name": "LayoutView",
            "grid_template_rows": null,
            "right": null,
            "justify_content": null,
            "_view_module": "@jupyter-widgets/base",
            "overflow": null,
            "_model_module_version": "1.2.0",
            "_view_count": null,
            "flex_flow": null,
            "width": null,
            "min_width": null,
            "border": null,
            "align_items": null,
            "bottom": null,
            "_model_module": "@jupyter-widgets/base",
            "top": null,
            "grid_column": null,
            "overflow_y": null,
            "overflow_x": null,
            "grid_auto_flow": null,
            "grid_area": null,
            "grid_template_columns": null,
            "flex": null,
            "_model_name": "LayoutModel",
            "justify_items": null,
            "grid_row": null,
            "max_height": null,
            "align_content": null,
            "visibility": null,
            "align_self": null,
            "height": null,
            "min_height": null,
            "padding": null,
            "grid_auto_rows": null,
            "grid_gap": null,
            "max_width": null,
            "order": null,
            "_view_module_version": "1.2.0",
            "grid_template_areas": null,
            "object_position": null,
            "object_fit": null,
            "grid_auto_columns": null,
            "margin": null,
            "display": null,
            "left": null
          }
        },
        "6b6c0d32d514404ebd24e09d9897d79f": {
          "model_module": "@jupyter-widgets/controls",
          "model_name": "ProgressStyleModel",
          "model_module_version": "1.5.0",
          "state": {
            "_view_name": "StyleView",
            "_model_name": "ProgressStyleModel",
            "description_width": "",
            "_view_module": "@jupyter-widgets/base",
            "_model_module_version": "1.5.0",
            "_view_count": null,
            "_view_module_version": "1.2.0",
            "bar_color": null,
            "_model_module": "@jupyter-widgets/controls"
          }
        },
        "00811db30e464ef2b24c13756065da9b": {
          "model_module": "@jupyter-widgets/base",
          "model_name": "LayoutModel",
          "model_module_version": "1.2.0",
          "state": {
            "_view_name": "LayoutView",
            "grid_template_rows": null,
            "right": null,
            "justify_content": null,
            "_view_module": "@jupyter-widgets/base",
            "overflow": null,
            "_model_module_version": "1.2.0",
            "_view_count": null,
            "flex_flow": null,
            "width": null,
            "min_width": null,
            "border": null,
            "align_items": null,
            "bottom": null,
            "_model_module": "@jupyter-widgets/base",
            "top": null,
            "grid_column": null,
            "overflow_y": null,
            "overflow_x": null,
            "grid_auto_flow": null,
            "grid_area": null,
            "grid_template_columns": null,
            "flex": null,
            "_model_name": "LayoutModel",
            "justify_items": null,
            "grid_row": null,
            "max_height": null,
            "align_content": null,
            "visibility": null,
            "align_self": null,
            "height": null,
            "min_height": null,
            "padding": null,
            "grid_auto_rows": null,
            "grid_gap": null,
            "max_width": null,
            "order": null,
            "_view_module_version": "1.2.0",
            "grid_template_areas": null,
            "object_position": null,
            "object_fit": null,
            "grid_auto_columns": null,
            "margin": null,
            "display": null,
            "left": null
          }
        },
        "00b4108a73844ec6990972e87a8c1f5a": {
          "model_module": "@jupyter-widgets/controls",
          "model_name": "DescriptionStyleModel",
          "model_module_version": "1.5.0",
          "state": {
            "_view_name": "StyleView",
            "_model_name": "DescriptionStyleModel",
            "description_width": "",
            "_view_module": "@jupyter-widgets/base",
            "_model_module_version": "1.5.0",
            "_view_count": null,
            "_view_module_version": "1.2.0",
            "_model_module": "@jupyter-widgets/controls"
          }
        },
        "32fa75cc15c048a9a341c72f59210b70": {
          "model_module": "@jupyter-widgets/base",
          "model_name": "LayoutModel",
          "model_module_version": "1.2.0",
          "state": {
            "_view_name": "LayoutView",
            "grid_template_rows": null,
            "right": null,
            "justify_content": null,
            "_view_module": "@jupyter-widgets/base",
            "overflow": null,
            "_model_module_version": "1.2.0",
            "_view_count": null,
            "flex_flow": null,
            "width": null,
            "min_width": null,
            "border": null,
            "align_items": null,
            "bottom": null,
            "_model_module": "@jupyter-widgets/base",
            "top": null,
            "grid_column": null,
            "overflow_y": null,
            "overflow_x": null,
            "grid_auto_flow": null,
            "grid_area": null,
            "grid_template_columns": null,
            "flex": null,
            "_model_name": "LayoutModel",
            "justify_items": null,
            "grid_row": null,
            "max_height": null,
            "align_content": null,
            "visibility": null,
            "align_self": null,
            "height": null,
            "min_height": null,
            "padding": null,
            "grid_auto_rows": null,
            "grid_gap": null,
            "max_width": null,
            "order": null,
            "_view_module_version": "1.2.0",
            "grid_template_areas": null,
            "object_position": null,
            "object_fit": null,
            "grid_auto_columns": null,
            "margin": null,
            "display": null,
            "left": null
          }
        }
      }
    }
  },
  "cells": [
    {
      "cell_type": "markdown",
      "source": [
        "**PipeLine**\n",
        " - EDA\n",
        " - Feature Engeneering\n",
        " - Preprocessing\n",
        " - Modelling\n",
        " - Interpretation\n",
        " - Submit\n",
        " - Refactoring"
      ],
      "metadata": {
        "id": "9pKt-t1wjyww"
      }
    },
    {
      "cell_type": "markdown",
      "source": [
        "**Загрузка необходимых библиотек**"
      ],
      "metadata": {
        "id": "4VyCg_uB1Xh1"
      }
    },
    {
      "cell_type": "code",
      "source": [
        "import pandas as pd\n",
        "import numpy as np\n",
        "import matplotlib.pyplot as plt\n",
        "import seaborn as sns\n",
        "\n",
        "!pip install patool\n",
        "import patoolib                       \n",
        "\n",
        "%matplotlib inline"
      ],
      "metadata": {
        "colab": {
          "base_uri": "https://localhost:8080/"
        },
        "id": "9AQvRfULjv7s",
        "outputId": "34f0d4fe-fb3d-401a-b635-4748b0083bb4"
      },
      "execution_count": 1,
      "outputs": [
        {
          "output_type": "stream",
          "name": "stdout",
          "text": [
            "Collecting patool\n",
            "  Downloading patool-1.12-py2.py3-none-any.whl (77 kB)\n",
            "\u001b[?25l\r\u001b[K     |████▎                           | 10 kB 31.6 MB/s eta 0:00:01\r\u001b[K     |████████▌                       | 20 kB 34.9 MB/s eta 0:00:01\r\u001b[K     |████████████▊                   | 30 kB 14.1 MB/s eta 0:00:01\r\u001b[K     |█████████████████               | 40 kB 11.0 MB/s eta 0:00:01\r\u001b[K     |█████████████████████▏          | 51 kB 7.9 MB/s eta 0:00:01\r\u001b[K     |█████████████████████████▍      | 61 kB 7.3 MB/s eta 0:00:01\r\u001b[K     |█████████████████████████████▋  | 71 kB 7.8 MB/s eta 0:00:01\r\u001b[K     |████████████████████████████████| 77 kB 4.2 MB/s \n",
            "\u001b[?25hInstalling collected packages: patool\n",
            "Successfully installed patool-1.12\n"
          ]
        }
      ]
    },
    {
      "cell_type": "code",
      "source": [
        "import warnings\n",
        "warnings.filterwarnings('ignore')"
      ],
      "metadata": {
        "id": "mfMFlAQW0yrc"
      },
      "execution_count": 3,
      "outputs": []
    },
    {
      "cell_type": "code",
      "source": [
        "from google.colab import drive\n",
        "drive.mount('/content/my_drive')"
      ],
      "metadata": {
        "id": "ztYE1-rCEL9_",
        "colab": {
          "base_uri": "https://localhost:8080/"
        },
        "outputId": "dfd09fe8-45dc-4e2d-ef2b-0b92ae1eccb4"
      },
      "execution_count": 4,
      "outputs": [
        {
          "output_type": "stream",
          "name": "stdout",
          "text": [
            "Mounted at /content/my_drive\n"
          ]
        }
      ]
    },
    {
      "cell_type": "code",
      "source": [
        "# Разархивируем архив\n",
        "patoolib.extract_archive('/content/my_drive/MyDrive/DataSets/Pump_it_Up.rar', outdir='/content' )"
      ],
      "metadata": {
        "colab": {
          "base_uri": "https://localhost:8080/",
          "height": 103
        },
        "id": "Fc3fVnTxRV6s",
        "outputId": "2620db0d-2fee-4e06-eb64-3ed7a78fbd71"
      },
      "execution_count": 5,
      "outputs": [
        {
          "output_type": "stream",
          "name": "stdout",
          "text": [
            "patool: Extracting /content/my_drive/MyDrive/DataSets/Pump_it_Up.rar ...\n",
            "patool: running /usr/bin/unrar x -- /content/my_drive/MyDrive/DataSets/Pump_it_Up.rar\n",
            "patool:     with cwd='/content'\n",
            "patool: ... /content/my_drive/MyDrive/DataSets/Pump_it_Up.rar extracted to `/content'.\n"
          ]
        },
        {
          "output_type": "execute_result",
          "data": {
            "application/vnd.google.colaboratory.intrinsic+json": {
              "type": "string"
            },
            "text/plain": [
              "'/content'"
            ]
          },
          "metadata": {},
          "execution_count": 5
        }
      ]
    },
    {
      "cell_type": "markdown",
      "source": [
        "Загружаем все датасеты"
      ],
      "metadata": {
        "id": "MNF5LXL0UNVd"
      }
    },
    {
      "cell_type": "code",
      "source": [
        "data_train  = pd.read_csv('/content/Pump_it_Up/x_train.csv')\n",
        "data_labels = pd.read_csv('/content/Pump_it_Up/y_train.csv')\n",
        "data_test   = pd.read_csv('/content/Pump_it_Up/x_test.csv')"
      ],
      "metadata": {
        "id": "Ia05Tn3GRWFU"
      },
      "execution_count": 6,
      "outputs": []
    },
    {
      "cell_type": "code",
      "source": [
        ""
      ],
      "metadata": {
        "id": "alFVaIYDXSKv"
      },
      "execution_count": 6,
      "outputs": []
    },
    {
      "cell_type": "markdown",
      "source": [
        "#EDA"
      ],
      "metadata": {
        "id": "XgRgz45AXSjN"
      }
    },
    {
      "cell_type": "markdown",
      "source": [
        "## Data Review"
      ],
      "metadata": {
        "id": "xHTPMgfmzO9L"
      }
    },
    {
      "cell_type": "code",
      "source": [
        "data_train"
      ],
      "metadata": {
        "colab": {
          "base_uri": "https://localhost:8080/",
          "height": 857
        },
        "id": "f_BcPA31my30",
        "outputId": "81836ca6-460c-4f28-e5dc-891ba6b2691d"
      },
      "execution_count": 7,
      "outputs": [
        {
          "output_type": "execute_result",
          "data": {
            "text/html": [
              "\n",
              "  <div id=\"df-b62975c3-d263-4f87-ad15-2942433b2579\">\n",
              "    <div class=\"colab-df-container\">\n",
              "      <div>\n",
              "<style scoped>\n",
              "    .dataframe tbody tr th:only-of-type {\n",
              "        vertical-align: middle;\n",
              "    }\n",
              "\n",
              "    .dataframe tbody tr th {\n",
              "        vertical-align: top;\n",
              "    }\n",
              "\n",
              "    .dataframe thead th {\n",
              "        text-align: right;\n",
              "    }\n",
              "</style>\n",
              "<table border=\"1\" class=\"dataframe\">\n",
              "  <thead>\n",
              "    <tr style=\"text-align: right;\">\n",
              "      <th></th>\n",
              "      <th>id</th>\n",
              "      <th>amount_tsh</th>\n",
              "      <th>date_recorded</th>\n",
              "      <th>funder</th>\n",
              "      <th>gps_height</th>\n",
              "      <th>installer</th>\n",
              "      <th>longitude</th>\n",
              "      <th>latitude</th>\n",
              "      <th>wpt_name</th>\n",
              "      <th>num_private</th>\n",
              "      <th>basin</th>\n",
              "      <th>subvillage</th>\n",
              "      <th>region</th>\n",
              "      <th>region_code</th>\n",
              "      <th>district_code</th>\n",
              "      <th>lga</th>\n",
              "      <th>ward</th>\n",
              "      <th>population</th>\n",
              "      <th>public_meeting</th>\n",
              "      <th>recorded_by</th>\n",
              "      <th>scheme_management</th>\n",
              "      <th>scheme_name</th>\n",
              "      <th>permit</th>\n",
              "      <th>construction_year</th>\n",
              "      <th>extraction_type</th>\n",
              "      <th>extraction_type_group</th>\n",
              "      <th>extraction_type_class</th>\n",
              "      <th>management</th>\n",
              "      <th>management_group</th>\n",
              "      <th>payment</th>\n",
              "      <th>payment_type</th>\n",
              "      <th>water_quality</th>\n",
              "      <th>quality_group</th>\n",
              "      <th>quantity</th>\n",
              "      <th>quantity_group</th>\n",
              "      <th>source</th>\n",
              "      <th>source_type</th>\n",
              "      <th>source_class</th>\n",
              "      <th>waterpoint_type</th>\n",
              "      <th>waterpoint_type_group</th>\n",
              "    </tr>\n",
              "  </thead>\n",
              "  <tbody>\n",
              "    <tr>\n",
              "      <th>0</th>\n",
              "      <td>69572</td>\n",
              "      <td>6000.0</td>\n",
              "      <td>2011-03-14</td>\n",
              "      <td>Roman</td>\n",
              "      <td>1390</td>\n",
              "      <td>Roman</td>\n",
              "      <td>34.938093</td>\n",
              "      <td>-9.856322</td>\n",
              "      <td>none</td>\n",
              "      <td>0</td>\n",
              "      <td>Lake Nyasa</td>\n",
              "      <td>Mnyusi B</td>\n",
              "      <td>Iringa</td>\n",
              "      <td>11</td>\n",
              "      <td>5</td>\n",
              "      <td>Ludewa</td>\n",
              "      <td>Mundindi</td>\n",
              "      <td>109</td>\n",
              "      <td>True</td>\n",
              "      <td>GeoData Consultants Ltd</td>\n",
              "      <td>VWC</td>\n",
              "      <td>Roman</td>\n",
              "      <td>False</td>\n",
              "      <td>1999</td>\n",
              "      <td>gravity</td>\n",
              "      <td>gravity</td>\n",
              "      <td>gravity</td>\n",
              "      <td>vwc</td>\n",
              "      <td>user-group</td>\n",
              "      <td>pay annually</td>\n",
              "      <td>annually</td>\n",
              "      <td>soft</td>\n",
              "      <td>good</td>\n",
              "      <td>enough</td>\n",
              "      <td>enough</td>\n",
              "      <td>spring</td>\n",
              "      <td>spring</td>\n",
              "      <td>groundwater</td>\n",
              "      <td>communal standpipe</td>\n",
              "      <td>communal standpipe</td>\n",
              "    </tr>\n",
              "    <tr>\n",
              "      <th>1</th>\n",
              "      <td>8776</td>\n",
              "      <td>0.0</td>\n",
              "      <td>2013-03-06</td>\n",
              "      <td>Grumeti</td>\n",
              "      <td>1399</td>\n",
              "      <td>GRUMETI</td>\n",
              "      <td>34.698766</td>\n",
              "      <td>-2.147466</td>\n",
              "      <td>Zahanati</td>\n",
              "      <td>0</td>\n",
              "      <td>Lake Victoria</td>\n",
              "      <td>Nyamara</td>\n",
              "      <td>Mara</td>\n",
              "      <td>20</td>\n",
              "      <td>2</td>\n",
              "      <td>Serengeti</td>\n",
              "      <td>Natta</td>\n",
              "      <td>280</td>\n",
              "      <td>NaN</td>\n",
              "      <td>GeoData Consultants Ltd</td>\n",
              "      <td>Other</td>\n",
              "      <td>NaN</td>\n",
              "      <td>True</td>\n",
              "      <td>2010</td>\n",
              "      <td>gravity</td>\n",
              "      <td>gravity</td>\n",
              "      <td>gravity</td>\n",
              "      <td>wug</td>\n",
              "      <td>user-group</td>\n",
              "      <td>never pay</td>\n",
              "      <td>never pay</td>\n",
              "      <td>soft</td>\n",
              "      <td>good</td>\n",
              "      <td>insufficient</td>\n",
              "      <td>insufficient</td>\n",
              "      <td>rainwater harvesting</td>\n",
              "      <td>rainwater harvesting</td>\n",
              "      <td>surface</td>\n",
              "      <td>communal standpipe</td>\n",
              "      <td>communal standpipe</td>\n",
              "    </tr>\n",
              "    <tr>\n",
              "      <th>2</th>\n",
              "      <td>34310</td>\n",
              "      <td>25.0</td>\n",
              "      <td>2013-02-25</td>\n",
              "      <td>Lottery Club</td>\n",
              "      <td>686</td>\n",
              "      <td>World vision</td>\n",
              "      <td>37.460664</td>\n",
              "      <td>-3.821329</td>\n",
              "      <td>Kwa Mahundi</td>\n",
              "      <td>0</td>\n",
              "      <td>Pangani</td>\n",
              "      <td>Majengo</td>\n",
              "      <td>Manyara</td>\n",
              "      <td>21</td>\n",
              "      <td>4</td>\n",
              "      <td>Simanjiro</td>\n",
              "      <td>Ngorika</td>\n",
              "      <td>250</td>\n",
              "      <td>True</td>\n",
              "      <td>GeoData Consultants Ltd</td>\n",
              "      <td>VWC</td>\n",
              "      <td>Nyumba ya mungu pipe scheme</td>\n",
              "      <td>True</td>\n",
              "      <td>2009</td>\n",
              "      <td>gravity</td>\n",
              "      <td>gravity</td>\n",
              "      <td>gravity</td>\n",
              "      <td>vwc</td>\n",
              "      <td>user-group</td>\n",
              "      <td>pay per bucket</td>\n",
              "      <td>per bucket</td>\n",
              "      <td>soft</td>\n",
              "      <td>good</td>\n",
              "      <td>enough</td>\n",
              "      <td>enough</td>\n",
              "      <td>dam</td>\n",
              "      <td>dam</td>\n",
              "      <td>surface</td>\n",
              "      <td>communal standpipe multiple</td>\n",
              "      <td>communal standpipe</td>\n",
              "    </tr>\n",
              "    <tr>\n",
              "      <th>3</th>\n",
              "      <td>67743</td>\n",
              "      <td>0.0</td>\n",
              "      <td>2013-01-28</td>\n",
              "      <td>Unicef</td>\n",
              "      <td>263</td>\n",
              "      <td>UNICEF</td>\n",
              "      <td>38.486161</td>\n",
              "      <td>-11.155298</td>\n",
              "      <td>Zahanati Ya Nanyumbu</td>\n",
              "      <td>0</td>\n",
              "      <td>Ruvuma / Southern Coast</td>\n",
              "      <td>Mahakamani</td>\n",
              "      <td>Mtwara</td>\n",
              "      <td>90</td>\n",
              "      <td>63</td>\n",
              "      <td>Nanyumbu</td>\n",
              "      <td>Nanyumbu</td>\n",
              "      <td>58</td>\n",
              "      <td>True</td>\n",
              "      <td>GeoData Consultants Ltd</td>\n",
              "      <td>VWC</td>\n",
              "      <td>NaN</td>\n",
              "      <td>True</td>\n",
              "      <td>1986</td>\n",
              "      <td>submersible</td>\n",
              "      <td>submersible</td>\n",
              "      <td>submersible</td>\n",
              "      <td>vwc</td>\n",
              "      <td>user-group</td>\n",
              "      <td>never pay</td>\n",
              "      <td>never pay</td>\n",
              "      <td>soft</td>\n",
              "      <td>good</td>\n",
              "      <td>dry</td>\n",
              "      <td>dry</td>\n",
              "      <td>machine dbh</td>\n",
              "      <td>borehole</td>\n",
              "      <td>groundwater</td>\n",
              "      <td>communal standpipe multiple</td>\n",
              "      <td>communal standpipe</td>\n",
              "    </tr>\n",
              "    <tr>\n",
              "      <th>4</th>\n",
              "      <td>19728</td>\n",
              "      <td>0.0</td>\n",
              "      <td>2011-07-13</td>\n",
              "      <td>Action In A</td>\n",
              "      <td>0</td>\n",
              "      <td>Artisan</td>\n",
              "      <td>31.130847</td>\n",
              "      <td>-1.825359</td>\n",
              "      <td>Shuleni</td>\n",
              "      <td>0</td>\n",
              "      <td>Lake Victoria</td>\n",
              "      <td>Kyanyamisa</td>\n",
              "      <td>Kagera</td>\n",
              "      <td>18</td>\n",
              "      <td>1</td>\n",
              "      <td>Karagwe</td>\n",
              "      <td>Nyakasimbi</td>\n",
              "      <td>0</td>\n",
              "      <td>True</td>\n",
              "      <td>GeoData Consultants Ltd</td>\n",
              "      <td>NaN</td>\n",
              "      <td>NaN</td>\n",
              "      <td>True</td>\n",
              "      <td>0</td>\n",
              "      <td>gravity</td>\n",
              "      <td>gravity</td>\n",
              "      <td>gravity</td>\n",
              "      <td>other</td>\n",
              "      <td>other</td>\n",
              "      <td>never pay</td>\n",
              "      <td>never pay</td>\n",
              "      <td>soft</td>\n",
              "      <td>good</td>\n",
              "      <td>seasonal</td>\n",
              "      <td>seasonal</td>\n",
              "      <td>rainwater harvesting</td>\n",
              "      <td>rainwater harvesting</td>\n",
              "      <td>surface</td>\n",
              "      <td>communal standpipe</td>\n",
              "      <td>communal standpipe</td>\n",
              "    </tr>\n",
              "    <tr>\n",
              "      <th>...</th>\n",
              "      <td>...</td>\n",
              "      <td>...</td>\n",
              "      <td>...</td>\n",
              "      <td>...</td>\n",
              "      <td>...</td>\n",
              "      <td>...</td>\n",
              "      <td>...</td>\n",
              "      <td>...</td>\n",
              "      <td>...</td>\n",
              "      <td>...</td>\n",
              "      <td>...</td>\n",
              "      <td>...</td>\n",
              "      <td>...</td>\n",
              "      <td>...</td>\n",
              "      <td>...</td>\n",
              "      <td>...</td>\n",
              "      <td>...</td>\n",
              "      <td>...</td>\n",
              "      <td>...</td>\n",
              "      <td>...</td>\n",
              "      <td>...</td>\n",
              "      <td>...</td>\n",
              "      <td>...</td>\n",
              "      <td>...</td>\n",
              "      <td>...</td>\n",
              "      <td>...</td>\n",
              "      <td>...</td>\n",
              "      <td>...</td>\n",
              "      <td>...</td>\n",
              "      <td>...</td>\n",
              "      <td>...</td>\n",
              "      <td>...</td>\n",
              "      <td>...</td>\n",
              "      <td>...</td>\n",
              "      <td>...</td>\n",
              "      <td>...</td>\n",
              "      <td>...</td>\n",
              "      <td>...</td>\n",
              "      <td>...</td>\n",
              "      <td>...</td>\n",
              "    </tr>\n",
              "    <tr>\n",
              "      <th>59395</th>\n",
              "      <td>60739</td>\n",
              "      <td>10.0</td>\n",
              "      <td>2013-05-03</td>\n",
              "      <td>Germany Republi</td>\n",
              "      <td>1210</td>\n",
              "      <td>CES</td>\n",
              "      <td>37.169807</td>\n",
              "      <td>-3.253847</td>\n",
              "      <td>Area Three Namba 27</td>\n",
              "      <td>0</td>\n",
              "      <td>Pangani</td>\n",
              "      <td>Kiduruni</td>\n",
              "      <td>Kilimanjaro</td>\n",
              "      <td>3</td>\n",
              "      <td>5</td>\n",
              "      <td>Hai</td>\n",
              "      <td>Masama Magharibi</td>\n",
              "      <td>125</td>\n",
              "      <td>True</td>\n",
              "      <td>GeoData Consultants Ltd</td>\n",
              "      <td>Water Board</td>\n",
              "      <td>Losaa Kia water supply</td>\n",
              "      <td>True</td>\n",
              "      <td>1999</td>\n",
              "      <td>gravity</td>\n",
              "      <td>gravity</td>\n",
              "      <td>gravity</td>\n",
              "      <td>water board</td>\n",
              "      <td>user-group</td>\n",
              "      <td>pay per bucket</td>\n",
              "      <td>per bucket</td>\n",
              "      <td>soft</td>\n",
              "      <td>good</td>\n",
              "      <td>enough</td>\n",
              "      <td>enough</td>\n",
              "      <td>spring</td>\n",
              "      <td>spring</td>\n",
              "      <td>groundwater</td>\n",
              "      <td>communal standpipe</td>\n",
              "      <td>communal standpipe</td>\n",
              "    </tr>\n",
              "    <tr>\n",
              "      <th>59396</th>\n",
              "      <td>27263</td>\n",
              "      <td>4700.0</td>\n",
              "      <td>2011-05-07</td>\n",
              "      <td>Cefa-njombe</td>\n",
              "      <td>1212</td>\n",
              "      <td>Cefa</td>\n",
              "      <td>35.249991</td>\n",
              "      <td>-9.070629</td>\n",
              "      <td>Kwa Yahona Kuvala</td>\n",
              "      <td>0</td>\n",
              "      <td>Rufiji</td>\n",
              "      <td>Igumbilo</td>\n",
              "      <td>Iringa</td>\n",
              "      <td>11</td>\n",
              "      <td>4</td>\n",
              "      <td>Njombe</td>\n",
              "      <td>Ikondo</td>\n",
              "      <td>56</td>\n",
              "      <td>True</td>\n",
              "      <td>GeoData Consultants Ltd</td>\n",
              "      <td>VWC</td>\n",
              "      <td>Ikondo electrical water sch</td>\n",
              "      <td>True</td>\n",
              "      <td>1996</td>\n",
              "      <td>gravity</td>\n",
              "      <td>gravity</td>\n",
              "      <td>gravity</td>\n",
              "      <td>vwc</td>\n",
              "      <td>user-group</td>\n",
              "      <td>pay annually</td>\n",
              "      <td>annually</td>\n",
              "      <td>soft</td>\n",
              "      <td>good</td>\n",
              "      <td>enough</td>\n",
              "      <td>enough</td>\n",
              "      <td>river</td>\n",
              "      <td>river/lake</td>\n",
              "      <td>surface</td>\n",
              "      <td>communal standpipe</td>\n",
              "      <td>communal standpipe</td>\n",
              "    </tr>\n",
              "    <tr>\n",
              "      <th>59397</th>\n",
              "      <td>37057</td>\n",
              "      <td>0.0</td>\n",
              "      <td>2011-04-11</td>\n",
              "      <td>NaN</td>\n",
              "      <td>0</td>\n",
              "      <td>NaN</td>\n",
              "      <td>34.017087</td>\n",
              "      <td>-8.750434</td>\n",
              "      <td>Mashine</td>\n",
              "      <td>0</td>\n",
              "      <td>Rufiji</td>\n",
              "      <td>Madungulu</td>\n",
              "      <td>Mbeya</td>\n",
              "      <td>12</td>\n",
              "      <td>7</td>\n",
              "      <td>Mbarali</td>\n",
              "      <td>Chimala</td>\n",
              "      <td>0</td>\n",
              "      <td>True</td>\n",
              "      <td>GeoData Consultants Ltd</td>\n",
              "      <td>VWC</td>\n",
              "      <td>NaN</td>\n",
              "      <td>False</td>\n",
              "      <td>0</td>\n",
              "      <td>swn 80</td>\n",
              "      <td>swn 80</td>\n",
              "      <td>handpump</td>\n",
              "      <td>vwc</td>\n",
              "      <td>user-group</td>\n",
              "      <td>pay monthly</td>\n",
              "      <td>monthly</td>\n",
              "      <td>fluoride</td>\n",
              "      <td>fluoride</td>\n",
              "      <td>enough</td>\n",
              "      <td>enough</td>\n",
              "      <td>machine dbh</td>\n",
              "      <td>borehole</td>\n",
              "      <td>groundwater</td>\n",
              "      <td>hand pump</td>\n",
              "      <td>hand pump</td>\n",
              "    </tr>\n",
              "    <tr>\n",
              "      <th>59398</th>\n",
              "      <td>31282</td>\n",
              "      <td>0.0</td>\n",
              "      <td>2011-03-08</td>\n",
              "      <td>Malec</td>\n",
              "      <td>0</td>\n",
              "      <td>Musa</td>\n",
              "      <td>35.861315</td>\n",
              "      <td>-6.378573</td>\n",
              "      <td>Mshoro</td>\n",
              "      <td>0</td>\n",
              "      <td>Rufiji</td>\n",
              "      <td>Mwinyi</td>\n",
              "      <td>Dodoma</td>\n",
              "      <td>1</td>\n",
              "      <td>4</td>\n",
              "      <td>Chamwino</td>\n",
              "      <td>Mvumi Makulu</td>\n",
              "      <td>0</td>\n",
              "      <td>True</td>\n",
              "      <td>GeoData Consultants Ltd</td>\n",
              "      <td>VWC</td>\n",
              "      <td>NaN</td>\n",
              "      <td>True</td>\n",
              "      <td>0</td>\n",
              "      <td>nira/tanira</td>\n",
              "      <td>nira/tanira</td>\n",
              "      <td>handpump</td>\n",
              "      <td>vwc</td>\n",
              "      <td>user-group</td>\n",
              "      <td>never pay</td>\n",
              "      <td>never pay</td>\n",
              "      <td>soft</td>\n",
              "      <td>good</td>\n",
              "      <td>insufficient</td>\n",
              "      <td>insufficient</td>\n",
              "      <td>shallow well</td>\n",
              "      <td>shallow well</td>\n",
              "      <td>groundwater</td>\n",
              "      <td>hand pump</td>\n",
              "      <td>hand pump</td>\n",
              "    </tr>\n",
              "    <tr>\n",
              "      <th>59399</th>\n",
              "      <td>26348</td>\n",
              "      <td>0.0</td>\n",
              "      <td>2011-03-23</td>\n",
              "      <td>World Bank</td>\n",
              "      <td>191</td>\n",
              "      <td>World</td>\n",
              "      <td>38.104048</td>\n",
              "      <td>-6.747464</td>\n",
              "      <td>Kwa Mzee Lugawa</td>\n",
              "      <td>0</td>\n",
              "      <td>Wami / Ruvu</td>\n",
              "      <td>Kikatanyemba</td>\n",
              "      <td>Morogoro</td>\n",
              "      <td>5</td>\n",
              "      <td>2</td>\n",
              "      <td>Morogoro Rural</td>\n",
              "      <td>Ngerengere</td>\n",
              "      <td>150</td>\n",
              "      <td>True</td>\n",
              "      <td>GeoData Consultants Ltd</td>\n",
              "      <td>VWC</td>\n",
              "      <td>NaN</td>\n",
              "      <td>True</td>\n",
              "      <td>2002</td>\n",
              "      <td>nira/tanira</td>\n",
              "      <td>nira/tanira</td>\n",
              "      <td>handpump</td>\n",
              "      <td>vwc</td>\n",
              "      <td>user-group</td>\n",
              "      <td>pay when scheme fails</td>\n",
              "      <td>on failure</td>\n",
              "      <td>salty</td>\n",
              "      <td>salty</td>\n",
              "      <td>enough</td>\n",
              "      <td>enough</td>\n",
              "      <td>shallow well</td>\n",
              "      <td>shallow well</td>\n",
              "      <td>groundwater</td>\n",
              "      <td>hand pump</td>\n",
              "      <td>hand pump</td>\n",
              "    </tr>\n",
              "  </tbody>\n",
              "</table>\n",
              "<p>59400 rows × 40 columns</p>\n",
              "</div>\n",
              "      <button class=\"colab-df-convert\" onclick=\"convertToInteractive('df-b62975c3-d263-4f87-ad15-2942433b2579')\"\n",
              "              title=\"Convert this dataframe to an interactive table.\"\n",
              "              style=\"display:none;\">\n",
              "        \n",
              "  <svg xmlns=\"http://www.w3.org/2000/svg\" height=\"24px\"viewBox=\"0 0 24 24\"\n",
              "       width=\"24px\">\n",
              "    <path d=\"M0 0h24v24H0V0z\" fill=\"none\"/>\n",
              "    <path d=\"M18.56 5.44l.94 2.06.94-2.06 2.06-.94-2.06-.94-.94-2.06-.94 2.06-2.06.94zm-11 1L8.5 8.5l.94-2.06 2.06-.94-2.06-.94L8.5 2.5l-.94 2.06-2.06.94zm10 10l.94 2.06.94-2.06 2.06-.94-2.06-.94-.94-2.06-.94 2.06-2.06.94z\"/><path d=\"M17.41 7.96l-1.37-1.37c-.4-.4-.92-.59-1.43-.59-.52 0-1.04.2-1.43.59L10.3 9.45l-7.72 7.72c-.78.78-.78 2.05 0 2.83L4 21.41c.39.39.9.59 1.41.59.51 0 1.02-.2 1.41-.59l7.78-7.78 2.81-2.81c.8-.78.8-2.07 0-2.86zM5.41 20L4 18.59l7.72-7.72 1.47 1.35L5.41 20z\"/>\n",
              "  </svg>\n",
              "      </button>\n",
              "      \n",
              "  <style>\n",
              "    .colab-df-container {\n",
              "      display:flex;\n",
              "      flex-wrap:wrap;\n",
              "      gap: 12px;\n",
              "    }\n",
              "\n",
              "    .colab-df-convert {\n",
              "      background-color: #E8F0FE;\n",
              "      border: none;\n",
              "      border-radius: 50%;\n",
              "      cursor: pointer;\n",
              "      display: none;\n",
              "      fill: #1967D2;\n",
              "      height: 32px;\n",
              "      padding: 0 0 0 0;\n",
              "      width: 32px;\n",
              "    }\n",
              "\n",
              "    .colab-df-convert:hover {\n",
              "      background-color: #E2EBFA;\n",
              "      box-shadow: 0px 1px 2px rgba(60, 64, 67, 0.3), 0px 1px 3px 1px rgba(60, 64, 67, 0.15);\n",
              "      fill: #174EA6;\n",
              "    }\n",
              "\n",
              "    [theme=dark] .colab-df-convert {\n",
              "      background-color: #3B4455;\n",
              "      fill: #D2E3FC;\n",
              "    }\n",
              "\n",
              "    [theme=dark] .colab-df-convert:hover {\n",
              "      background-color: #434B5C;\n",
              "      box-shadow: 0px 1px 3px 1px rgba(0, 0, 0, 0.15);\n",
              "      filter: drop-shadow(0px 1px 2px rgba(0, 0, 0, 0.3));\n",
              "      fill: #FFFFFF;\n",
              "    }\n",
              "  </style>\n",
              "\n",
              "      <script>\n",
              "        const buttonEl =\n",
              "          document.querySelector('#df-b62975c3-d263-4f87-ad15-2942433b2579 button.colab-df-convert');\n",
              "        buttonEl.style.display =\n",
              "          google.colab.kernel.accessAllowed ? 'block' : 'none';\n",
              "\n",
              "        async function convertToInteractive(key) {\n",
              "          const element = document.querySelector('#df-b62975c3-d263-4f87-ad15-2942433b2579');\n",
              "          const dataTable =\n",
              "            await google.colab.kernel.invokeFunction('convertToInteractive',\n",
              "                                                     [key], {});\n",
              "          if (!dataTable) return;\n",
              "\n",
              "          const docLinkHtml = 'Like what you see? Visit the ' +\n",
              "            '<a target=\"_blank\" href=https://colab.research.google.com/notebooks/data_table.ipynb>data table notebook</a>'\n",
              "            + ' to learn more about interactive tables.';\n",
              "          element.innerHTML = '';\n",
              "          dataTable['output_type'] = 'display_data';\n",
              "          await google.colab.output.renderOutput(dataTable, element);\n",
              "          const docLink = document.createElement('div');\n",
              "          docLink.innerHTML = docLinkHtml;\n",
              "          element.appendChild(docLink);\n",
              "        }\n",
              "      </script>\n",
              "    </div>\n",
              "  </div>\n",
              "  "
            ],
            "text/plain": [
              "          id  amount_tsh  ...              waterpoint_type waterpoint_type_group\n",
              "0      69572      6000.0  ...           communal standpipe    communal standpipe\n",
              "1       8776         0.0  ...           communal standpipe    communal standpipe\n",
              "2      34310        25.0  ...  communal standpipe multiple    communal standpipe\n",
              "3      67743         0.0  ...  communal standpipe multiple    communal standpipe\n",
              "4      19728         0.0  ...           communal standpipe    communal standpipe\n",
              "...      ...         ...  ...                          ...                   ...\n",
              "59395  60739        10.0  ...           communal standpipe    communal standpipe\n",
              "59396  27263      4700.0  ...           communal standpipe    communal standpipe\n",
              "59397  37057         0.0  ...                    hand pump             hand pump\n",
              "59398  31282         0.0  ...                    hand pump             hand pump\n",
              "59399  26348         0.0  ...                    hand pump             hand pump\n",
              "\n",
              "[59400 rows x 40 columns]"
            ]
          },
          "metadata": {},
          "execution_count": 7
        }
      ]
    },
    {
      "cell_type": "code",
      "source": [
        "# резервная копия на случай отката\n",
        "data_copy = data_train.copy()"
      ],
      "metadata": {
        "id": "qLSc2xxnz_Yj"
      },
      "execution_count": 8,
      "outputs": []
    },
    {
      "cell_type": "code",
      "source": [
        "data_all = data_copy"
      ],
      "metadata": {
        "id": "0el78TGe0BFC"
      },
      "execution_count": 9,
      "outputs": []
    },
    {
      "cell_type": "markdown",
      "source": [
        "Объединим обучающий и тестовый датасеты для одновременной работы с данными на обоих"
      ],
      "metadata": {
        "id": "ezPiElHSc_kn"
      }
    },
    {
      "cell_type": "code",
      "source": [
        "data_train['labels']  = True \n",
        "data_test['labels']   = False\n",
        "data_all = pd.concat([data_train, data_test])"
      ],
      "metadata": {
        "id": "3LO0LHJEeUJ3"
      },
      "execution_count": 10,
      "outputs": []
    },
    {
      "cell_type": "markdown",
      "source": [
        "Просматриваем общую информацию"
      ],
      "metadata": {
        "id": "Hm51BYpnnZ8G"
      }
    },
    {
      "cell_type": "code",
      "source": [
        "data_all.info"
      ],
      "metadata": {
        "colab": {
          "base_uri": "https://localhost:8080/"
        },
        "id": "3a-zdyMSUT-x",
        "outputId": "6b812254-9ae6-4382-b542-8fc69419290b"
      },
      "execution_count": 11,
      "outputs": [
        {
          "output_type": "execute_result",
          "data": {
            "text/plain": [
              "<bound method DataFrame.info of           id  amount_tsh  ... waterpoint_type_group labels\n",
              "0      69572      6000.0  ...    communal standpipe   True\n",
              "1       8776         0.0  ...    communal standpipe   True\n",
              "2      34310        25.0  ...    communal standpipe   True\n",
              "3      67743         0.0  ...    communal standpipe   True\n",
              "4      19728         0.0  ...    communal standpipe   True\n",
              "...      ...         ...  ...                   ...    ...\n",
              "14845  39307         0.0  ...    communal standpipe  False\n",
              "14846  18990      1000.0  ...             hand pump  False\n",
              "14847  28749         0.0  ...    communal standpipe  False\n",
              "14848  33492         0.0  ...    communal standpipe  False\n",
              "14849  68707         0.0  ...    communal standpipe  False\n",
              "\n",
              "[74250 rows x 41 columns]>"
            ]
          },
          "metadata": {},
          "execution_count": 11
        }
      ]
    },
    {
      "cell_type": "markdown",
      "source": [
        "Определяем доли пропущенных значений для каждого атрибута (фичи)"
      ],
      "metadata": {
        "id": "zC6aBWuQnkpv"
      }
    },
    {
      "cell_type": "code",
      "source": [
        "(data_all.isna().sum()/data_all.shape[0]).sort_values(ascending=False)"
      ],
      "metadata": {
        "colab": {
          "base_uri": "https://localhost:8080/"
        },
        "id": "6l420JXiZHQE",
        "outputId": "0c588cfc-73f7-4552-dc7f-1f270314291e"
      },
      "execution_count": 12,
      "outputs": [
        {
          "output_type": "execute_result",
          "data": {
            "text/plain": [
              "scheme_name              0.474855\n",
              "scheme_management        0.065266\n",
              "installer                0.061037\n",
              "funder                   0.060660\n",
              "public_meeting           0.055960\n",
              "permit                   0.051084\n",
              "subvillage               0.006330\n",
              "ward                     0.000000\n",
              "lga                      0.000000\n",
              "district_code            0.000000\n",
              "region_code              0.000000\n",
              "region                   0.000000\n",
              "num_private              0.000000\n",
              "basin                    0.000000\n",
              "wpt_name                 0.000000\n",
              "latitude                 0.000000\n",
              "longitude                0.000000\n",
              "gps_height               0.000000\n",
              "date_recorded            0.000000\n",
              "amount_tsh               0.000000\n",
              "population               0.000000\n",
              "labels                   0.000000\n",
              "recorded_by              0.000000\n",
              "water_quality            0.000000\n",
              "waterpoint_type          0.000000\n",
              "source_class             0.000000\n",
              "source_type              0.000000\n",
              "source                   0.000000\n",
              "quantity_group           0.000000\n",
              "quantity                 0.000000\n",
              "quality_group            0.000000\n",
              "payment_type             0.000000\n",
              "waterpoint_type_group    0.000000\n",
              "payment                  0.000000\n",
              "management_group         0.000000\n",
              "management               0.000000\n",
              "extraction_type_class    0.000000\n",
              "extraction_type_group    0.000000\n",
              "extraction_type          0.000000\n",
              "construction_year        0.000000\n",
              "id                       0.000000\n",
              "dtype: float64"
            ]
          },
          "metadata": {},
          "execution_count": 12
        }
      ]
    },
    {
      "cell_type": "markdown",
      "source": [
        "Смотрим какой тип значений содержит каждый атрибут"
      ],
      "metadata": {
        "id": "y9PF1qtnnvNK"
      }
    },
    {
      "cell_type": "code",
      "source": [
        "data_all.dtypes"
      ],
      "metadata": {
        "colab": {
          "base_uri": "https://localhost:8080/"
        },
        "id": "o--pRXDobVIO",
        "outputId": "ce01e5a1-6e9c-4ed0-ba4d-3c215a4acab7"
      },
      "execution_count": 13,
      "outputs": [
        {
          "output_type": "execute_result",
          "data": {
            "text/plain": [
              "id                         int64\n",
              "amount_tsh               float64\n",
              "date_recorded             object\n",
              "funder                    object\n",
              "gps_height                 int64\n",
              "installer                 object\n",
              "longitude                float64\n",
              "latitude                 float64\n",
              "wpt_name                  object\n",
              "num_private                int64\n",
              "basin                     object\n",
              "subvillage                object\n",
              "region                    object\n",
              "region_code                int64\n",
              "district_code              int64\n",
              "lga                       object\n",
              "ward                      object\n",
              "population                 int64\n",
              "public_meeting            object\n",
              "recorded_by               object\n",
              "scheme_management         object\n",
              "scheme_name               object\n",
              "permit                    object\n",
              "construction_year          int64\n",
              "extraction_type           object\n",
              "extraction_type_group     object\n",
              "extraction_type_class     object\n",
              "management                object\n",
              "management_group          object\n",
              "payment                   object\n",
              "payment_type              object\n",
              "water_quality             object\n",
              "quality_group             object\n",
              "quantity                  object\n",
              "quantity_group            object\n",
              "source                    object\n",
              "source_type               object\n",
              "source_class              object\n",
              "waterpoint_type           object\n",
              "waterpoint_type_group     object\n",
              "labels                      bool\n",
              "dtype: object"
            ]
          },
          "metadata": {},
          "execution_count": 13
        }
      ]
    },
    {
      "cell_type": "markdown",
      "source": [
        "## Feature Engeneering"
      ],
      "metadata": {
        "id": "n2PNJypqp3zT"
      }
    },
    {
      "cell_type": "code",
      "source": [
        "# Список имен всех атрибутов\n",
        "data_all.columns"
      ],
      "metadata": {
        "colab": {
          "base_uri": "https://localhost:8080/"
        },
        "id": "0HRBbV9PVtx1",
        "outputId": "0a726988-5394-44c3-91ee-ff9529ba8c62"
      },
      "execution_count": 14,
      "outputs": [
        {
          "output_type": "execute_result",
          "data": {
            "text/plain": [
              "Index(['id', 'amount_tsh', 'date_recorded', 'funder', 'gps_height',\n",
              "       'installer', 'longitude', 'latitude', 'wpt_name', 'num_private',\n",
              "       'basin', 'subvillage', 'region', 'region_code', 'district_code', 'lga',\n",
              "       'ward', 'population', 'public_meeting', 'recorded_by',\n",
              "       'scheme_management', 'scheme_name', 'permit', 'construction_year',\n",
              "       'extraction_type', 'extraction_type_group', 'extraction_type_class',\n",
              "       'management', 'management_group', 'payment', 'payment_type',\n",
              "       'water_quality', 'quality_group', 'quantity', 'quantity_group',\n",
              "       'source', 'source_type', 'source_class', 'waterpoint_type',\n",
              "       'waterpoint_type_group', 'labels'],\n",
              "      dtype='object')"
            ]
          },
          "metadata": {},
          "execution_count": 14
        }
      ]
    },
    {
      "cell_type": "code",
      "source": [
        ""
      ],
      "metadata": {
        "id": "QBSFGIzwq0Dd"
      },
      "execution_count": 14,
      "outputs": []
    },
    {
      "cell_type": "markdown",
      "source": [
        "### Attribute 'ID'"
      ],
      "metadata": {
        "id": "2XpBxD64qOd1"
      }
    },
    {
      "cell_type": "code",
      "source": [
        "data_all.id.value_counts()"
      ],
      "metadata": {
        "colab": {
          "base_uri": "https://localhost:8080/"
        },
        "id": "urVw1rgXmrHp",
        "outputId": "895b7d4b-9e90-4341-d056-bf4641ae88c1"
      },
      "execution_count": 15,
      "outputs": [
        {
          "output_type": "execute_result",
          "data": {
            "text/plain": [
              "2047     1\n",
              "72310    1\n",
              "14994    1\n",
              "12947    1\n",
              "2708     1\n",
              "        ..\n",
              "19811    1\n",
              "30052    1\n",
              "32101    1\n",
              "25958    1\n",
              "0        1\n",
              "Name: id, Length: 74250, dtype: int64"
            ]
          },
          "metadata": {},
          "execution_count": 15
        }
      ]
    },
    {
      "cell_type": "code",
      "source": [
        "data_all.id.value_counts().sum()"
      ],
      "metadata": {
        "colab": {
          "base_uri": "https://localhost:8080/"
        },
        "id": "RQvCJvtr1TR5",
        "outputId": "b934910e-501a-4efb-c760-466eaa7746f9"
      },
      "execution_count": 16,
      "outputs": [
        {
          "output_type": "execute_result",
          "data": {
            "text/plain": [
              "74250"
            ]
          },
          "metadata": {},
          "execution_count": 16
        }
      ]
    },
    {
      "cell_type": "code",
      "source": [
        "'''\n",
        "ЗАМЕТКА:\n",
        "Атрибут ID не несет в себе никакой полезной информации, т.к. это\n",
        "просто индетификатор и он будет удален\n",
        "'''\n",
        "print()"
      ],
      "metadata": {
        "id": "cPShQ4RcmrLo",
        "colab": {
          "base_uri": "https://localhost:8080/"
        },
        "outputId": "9abda896-500a-4430-b47b-7b1a098d950c"
      },
      "execution_count": 34,
      "outputs": [
        {
          "output_type": "stream",
          "name": "stdout",
          "text": [
            "\n"
          ]
        }
      ]
    },
    {
      "cell_type": "code",
      "source": [
        ""
      ],
      "metadata": {
        "id": "ESzbdh3z2f6A"
      },
      "execution_count": 17,
      "outputs": []
    },
    {
      "cell_type": "markdown",
      "source": [
        "### Attribute 'amount_tsh'"
      ],
      "metadata": {
        "id": "iZGSCBffrc2f"
      }
    },
    {
      "cell_type": "code",
      "source": [
        "data_all.amount_tsh.hist()"
      ],
      "metadata": {
        "colab": {
          "base_uri": "https://localhost:8080/",
          "height": 282
        },
        "id": "PQctAptmrb9b",
        "outputId": "d020106b-24d1-4c64-a719-6ac21adbbd6a"
      },
      "execution_count": 18,
      "outputs": [
        {
          "output_type": "execute_result",
          "data": {
            "text/plain": [
              "<matplotlib.axes._subplots.AxesSubplot at 0x7f0687bf60d0>"
            ]
          },
          "metadata": {},
          "execution_count": 18
        },
        {
          "output_type": "display_data",
          "data": {
            "image/png": "[encoded data removed]",
            "text/plain": [
              "<Figure size 432x288 with 1 Axes>"
            ]
          },
          "metadata": {
            "needs_background": "light"
          }
        }
      ]
    },
    {
      "cell_type": "code",
      "source": [
        "data_all.amount_tsh.value_counts(normalize=True).iloc[:10]"
      ],
      "metadata": {
        "colab": {
          "base_uri": "https://localhost:8080/"
        },
        "id": "aU-mJBXwmrPW",
        "outputId": "faabf690-5724-4c1a-92fe-e6616e2045df"
      },
      "execution_count": 19,
      "outputs": [
        {
          "output_type": "execute_result",
          "data": {
            "text/plain": [
              "0.0       0.700997\n",
              "500.0     0.052175\n",
              "50.0      0.041791\n",
              "1000.0    0.025024\n",
              "20.0      0.024404\n",
              "200.0     0.020418\n",
              "100.0     0.013926\n",
              "10.0      0.013401\n",
              "30.0      0.012512\n",
              "2000.0    0.011879\n",
              "Name: amount_tsh, dtype: float64"
            ]
          },
          "metadata": {},
          "execution_count": 19
        }
      ]
    },
    {
      "cell_type": "markdown",
      "source": [
        "Видно, что очень много нулевых значений"
      ],
      "metadata": {
        "id": "d6UL8Wd2t5pD"
      }
    },
    {
      "cell_type": "code",
      "source": [
        "'''\n",
        "Создадим новый категориальный атрибут, где \n",
        "True  - нулевые значения атрибута родителя\n",
        "False - НЕнулевые значения атрибута родителя\n",
        "\n",
        "'''\n",
        "\n",
        "data_all['amount_tsh_bool'] = data_all.amount_tsh == 0"
      ],
      "metadata": {
        "id": "PmAyK7Humovv"
      },
      "execution_count": 22,
      "outputs": []
    },
    {
      "cell_type": "code",
      "source": [
        "data_all.amount_tsh_bool.value_counts(normalize=True)"
      ],
      "metadata": {
        "colab": {
          "base_uri": "https://localhost:8080/"
        },
        "id": "J7mxDmcumoyx",
        "outputId": "73b26673-6299-4257-93cf-a04f5eabb514"
      },
      "execution_count": 23,
      "outputs": [
        {
          "output_type": "execute_result",
          "data": {
            "text/plain": [
              "True     0.700997\n",
              "False    0.299003\n",
              "Name: amount_tsh_bool, dtype: float64"
            ]
          },
          "metadata": {},
          "execution_count": 23
        }
      ]
    },
    {
      "cell_type": "code",
      "source": [
        "\n"
      ],
      "metadata": {
        "id": "CaFpB35Lmo2X"
      },
      "execution_count": 23,
      "outputs": []
    },
    {
      "cell_type": "markdown",
      "source": [
        "### Attributes 'date_recorded' and 'construction_year'"
      ],
      "metadata": {
        "id": "0bErSI_cu2x6"
      }
    },
    {
      "cell_type": "code",
      "source": [
        " data_all.date_recorded.value_counts()"
      ],
      "metadata": {
        "colab": {
          "base_uri": "https://localhost:8080/"
        },
        "id": "Ybuq7L1Smo51",
        "outputId": "1cf89bf6-ef59-4301-b87d-9f60ee6435c8"
      },
      "execution_count": 24,
      "outputs": [
        {
          "output_type": "execute_result",
          "data": {
            "text/plain": [
              "2011-03-17    695\n",
              "2011-03-15    694\n",
              "2013-02-03    684\n",
              "2011-03-16    650\n",
              "2011-03-14    649\n",
              "             ... \n",
              "2011-09-20      1\n",
              "2011-09-12      1\n",
              "2011-09-22      1\n",
              "2011-09-08      1\n",
              "2012-01-25      1\n",
              "Name: date_recorded, Length: 369, dtype: int64"
            ]
          },
          "metadata": {},
          "execution_count": 24
        }
      ]
    },
    {
      "cell_type": "code",
      "source": [
        "#############################################\n",
        "# переведем значения из object -> datetime64.\n",
        "#############################################\n",
        "data_all.date_recorded = pd.to_datetime(data_all.date_recorded) \n"
      ],
      "metadata": {
        "id": "8V_Wh3mSJt8l"
      },
      "execution_count": 25,
      "outputs": []
    },
    {
      "cell_type": "code",
      "source": [
        "data_all.date_recorded.dt.year"
      ],
      "metadata": {
        "colab": {
          "base_uri": "https://localhost:8080/"
        },
        "id": "3zxaOaIWJucv",
        "outputId": "7a834daa-b98b-449b-fc9c-5f1c8cf827a3"
      },
      "execution_count": 26,
      "outputs": [
        {
          "output_type": "execute_result",
          "data": {
            "text/plain": [
              "0        2011\n",
              "1        2013\n",
              "2        2013\n",
              "3        2013\n",
              "4        2011\n",
              "         ... \n",
              "14845    2011\n",
              "14846    2011\n",
              "14847    2013\n",
              "14848    2013\n",
              "14849    2013\n",
              "Name: date_recorded, Length: 74250, dtype: int64"
            ]
          },
          "metadata": {},
          "execution_count": 26
        }
      ]
    },
    {
      "cell_type": "code",
      "source": [
        "########################################################\n",
        "# добавляем атрибуты 'year_recorded' и 'month_recorded'. \n",
        "########################################################\n",
        "\n",
        "data_all['year_recorded']   = data_all.date_recorded.dt.year\n",
        "data_all['month_recorded'] = data_all.date_recorded.dt.month"
      ],
      "metadata": {
        "id": "5tMvZ2uOMOzj"
      },
      "execution_count": 27,
      "outputs": []
    },
    {
      "cell_type": "code",
      "source": [
        "data_all.year_recorded.hist()"
      ],
      "metadata": {
        "colab": {
          "base_uri": "https://localhost:8080/",
          "height": 285
        },
        "id": "ObqyrXiwMO3K",
        "outputId": "5d85e733-e862-487f-ac9c-4c921fe25585"
      },
      "execution_count": 28,
      "outputs": [
        {
          "output_type": "execute_result",
          "data": {
            "text/plain": [
              "<matplotlib.axes._subplots.AxesSubplot at 0x7f06876cedd0>"
            ]
          },
          "metadata": {},
          "execution_count": 28
        },
        {
          "output_type": "display_data",
          "data": {
            "image/png": "[encoded data removed]",
            "text/plain": [
              "<Figure size 432x288 with 1 Axes>"
            ]
          },
          "metadata": {
            "needs_background": "light"
          }
        }
      ]
    },
    {
      "cell_type": "code",
      "source": [
        "data_all.month_recorded.hist()"
      ],
      "metadata": {
        "colab": {
          "base_uri": "https://localhost:8080/",
          "height": 282
        },
        "id": "0v-pEMkbMO6h",
        "outputId": "1739a432-e1b9-45a5-f3fd-ab2b3c74e2e9"
      },
      "execution_count": 29,
      "outputs": [
        {
          "output_type": "execute_result",
          "data": {
            "text/plain": [
              "<matplotlib.axes._subplots.AxesSubplot at 0x7f06875eee50>"
            ]
          },
          "metadata": {},
          "execution_count": 29
        },
        {
          "output_type": "display_data",
          "data": {
            "image/png": "[encoded data removed]",
            "text/plain": [
              "<Figure size 432x288 with 1 Axes>"
            ]
          },
          "metadata": {
            "needs_background": "light"
          }
        }
      ]
    },
    {
      "cell_type": "code",
      "source": [
        "data_all.construction_year.value_counts()[:10]"
      ],
      "metadata": {
        "colab": {
          "base_uri": "https://localhost:8080/"
        },
        "id": "0fi9aExv8ERo",
        "outputId": "7437bb29-7f3b-4ff2-8941-2378deeee1c6"
      },
      "execution_count": 30,
      "outputs": [
        {
          "output_type": "execute_result",
          "data": {
            "text/plain": [
              "0       25969\n",
              "2010     3314\n",
              "2008     3243\n",
              "2009     3196\n",
              "2000     2578\n",
              "2007     1960\n",
              "2006     1892\n",
              "2011     1591\n",
              "2003     1579\n",
              "2004     1417\n",
              "Name: construction_year, dtype: int64"
            ]
          },
          "metadata": {},
          "execution_count": 30
        }
      ]
    },
    {
      "cell_type": "code",
      "source": [
        "'''\n",
        "ЗАМЕТКА:\n",
        "В construction_year очень много заглушек в виде нулей, поэтому\n",
        "необходимо придумать метод, по которому будут заполняться\n",
        "пробелы и заглушки атрибутов, в том числе и construction_year\n",
        "\n",
        "'''\n",
        "print()"
      ],
      "metadata": {
        "colab": {
          "base_uri": "https://localhost:8080/"
        },
        "id": "V4UzcGwe8EVJ",
        "outputId": "eeecc83b-0b4c-4c8d-e19f-1290ba3ea4ce"
      },
      "execution_count": 31,
      "outputs": [
        {
          "output_type": "stream",
          "name": "stdout",
          "text": [
            "\n"
          ]
        }
      ]
    },
    {
      "cell_type": "code",
      "source": [
        ""
      ],
      "metadata": {
        "id": "GVeZuINWMO-F"
      },
      "execution_count": null,
      "outputs": []
    },
    {
      "cell_type": "markdown",
      "source": [
        "### Attributes longitude, latitude, subvillage "
      ],
      "metadata": {
        "id": "Ke1odmXnZYMT"
      }
    },
    {
      "cell_type": "code",
      "source": [
        "'''\n",
        "ГИПОТЕЗА:\n",
        "Вероятно, что состояние waterpoint (водоколонки) сильно зависит\n",
        "от её географического месторасположения.\n",
        "Атрибуты  longitude, latitude представляют из себя географическую долготу\n",
        "и широту расположения конкретной водоколонки на карте \n",
        "Поэтому будет логично заполнять пропуски и заглушки атрибутов, \n",
        "отталкиваясь именно от расположения водоколонки.\n",
        "ЗАДАЧИ:\n",
        " - определить есть ли пропуски/заглушки в longitude&latitude\n",
        " - заполнить их\n",
        " - по местоположению водоколонки заполнить пропуски/заглушки остальных атрибутов этой водоколонки\n",
        "'''\n",
        "print()"
      ],
      "metadata": {
        "colab": {
          "base_uri": "https://localhost:8080/"
        },
        "id": "jN84aAhy_9_G",
        "outputId": "9161f5a6-bc17-4641-dbba-0653e6603469"
      },
      "execution_count": 35,
      "outputs": [
        {
          "output_type": "stream",
          "name": "stdout",
          "text": [
            "\n"
          ]
        }
      ]
    },
    {
      "cell_type": "code",
      "source": [
        "data_all[['longitude', 'latitude']].head()"
      ],
      "metadata": {
        "colab": {
          "base_uri": "https://localhost:8080/",
          "height": 204
        },
        "id": "T0GDrVXlZUYg",
        "outputId": "13b9dd1e-a37b-4dcf-a920-3549a99a6f2d"
      },
      "execution_count": null,
      "outputs": [
        {
          "output_type": "execute_result",
          "data": {
            "text/html": [
              "\n",
              "  <div id=\"df-bed44b51-73e1-42d2-82b5-a0f750a6ddb6\">\n",
              "    <div class=\"colab-df-container\">\n",
              "      <div>\n",
              "<style scoped>\n",
              "    .dataframe tbody tr th:only-of-type {\n",
              "        vertical-align: middle;\n",
              "    }\n",
              "\n",
              "    .dataframe tbody tr th {\n",
              "        vertical-align: top;\n",
              "    }\n",
              "\n",
              "    .dataframe thead th {\n",
              "        text-align: right;\n",
              "    }\n",
              "</style>\n",
              "<table border=\"1\" class=\"dataframe\">\n",
              "  <thead>\n",
              "    <tr style=\"text-align: right;\">\n",
              "      <th></th>\n",
              "      <th>longitude</th>\n",
              "      <th>latitude</th>\n",
              "    </tr>\n",
              "  </thead>\n",
              "  <tbody>\n",
              "    <tr>\n",
              "      <th>0</th>\n",
              "      <td>34.938093</td>\n",
              "      <td>-9.856322</td>\n",
              "    </tr>\n",
              "    <tr>\n",
              "      <th>1</th>\n",
              "      <td>34.698766</td>\n",
              "      <td>-2.147466</td>\n",
              "    </tr>\n",
              "    <tr>\n",
              "      <th>2</th>\n",
              "      <td>37.460664</td>\n",
              "      <td>-3.821329</td>\n",
              "    </tr>\n",
              "    <tr>\n",
              "      <th>3</th>\n",
              "      <td>38.486161</td>\n",
              "      <td>-11.155298</td>\n",
              "    </tr>\n",
              "    <tr>\n",
              "      <th>4</th>\n",
              "      <td>31.130847</td>\n",
              "      <td>-1.825359</td>\n",
              "    </tr>\n",
              "  </tbody>\n",
              "</table>\n",
              "</div>\n",
              "      <button class=\"colab-df-convert\" onclick=\"convertToInteractive('df-bed44b51-73e1-42d2-82b5-a0f750a6ddb6')\"\n",
              "              title=\"Convert this dataframe to an interactive table.\"\n",
              "              style=\"display:none;\">\n",
              "        \n",
              "  <svg xmlns=\"http://www.w3.org/2000/svg\" height=\"24px\"viewBox=\"0 0 24 24\"\n",
              "       width=\"24px\">\n",
              "    <path d=\"M0 0h24v24H0V0z\" fill=\"none\"/>\n",
              "    <path d=\"M18.56 5.44l.94 2.06.94-2.06 2.06-.94-2.06-.94-.94-2.06-.94 2.06-2.06.94zm-11 1L8.5 8.5l.94-2.06 2.06-.94-2.06-.94L8.5 2.5l-.94 2.06-2.06.94zm10 10l.94 2.06.94-2.06 2.06-.94-2.06-.94-.94-2.06-.94 2.06-2.06.94z\"/><path d=\"M17.41 7.96l-1.37-1.37c-.4-.4-.92-.59-1.43-.59-.52 0-1.04.2-1.43.59L10.3 9.45l-7.72 7.72c-.78.78-.78 2.05 0 2.83L4 21.41c.39.39.9.59 1.41.59.51 0 1.02-.2 1.41-.59l7.78-7.78 2.81-2.81c.8-.78.8-2.07 0-2.86zM5.41 20L4 18.59l7.72-7.72 1.47 1.35L5.41 20z\"/>\n",
              "  </svg>\n",
              "      </button>\n",
              "      \n",
              "  <style>\n",
              "    .colab-df-container {\n",
              "      display:flex;\n",
              "      flex-wrap:wrap;\n",
              "      gap: 12px;\n",
              "    }\n",
              "\n",
              "    .colab-df-convert {\n",
              "      background-color: #E8F0FE;\n",
              "      border: none;\n",
              "      border-radius: 50%;\n",
              "      cursor: pointer;\n",
              "      display: none;\n",
              "      fill: #1967D2;\n",
              "      height: 32px;\n",
              "      padding: 0 0 0 0;\n",
              "      width: 32px;\n",
              "    }\n",
              "\n",
              "    .colab-df-convert:hover {\n",
              "      background-color: #E2EBFA;\n",
              "      box-shadow: 0px 1px 2px rgba(60, 64, 67, 0.3), 0px 1px 3px 1px rgba(60, 64, 67, 0.15);\n",
              "      fill: #174EA6;\n",
              "    }\n",
              "\n",
              "    [theme=dark] .colab-df-convert {\n",
              "      background-color: #3B4455;\n",
              "      fill: #D2E3FC;\n",
              "    }\n",
              "\n",
              "    [theme=dark] .colab-df-convert:hover {\n",
              "      background-color: #434B5C;\n",
              "      box-shadow: 0px 1px 3px 1px rgba(0, 0, 0, 0.15);\n",
              "      filter: drop-shadow(0px 1px 2px rgba(0, 0, 0, 0.3));\n",
              "      fill: #FFFFFF;\n",
              "    }\n",
              "  </style>\n",
              "\n",
              "      <script>\n",
              "        const buttonEl =\n",
              "          document.querySelector('#df-bed44b51-73e1-42d2-82b5-a0f750a6ddb6 button.colab-df-convert');\n",
              "        buttonEl.style.display =\n",
              "          google.colab.kernel.accessAllowed ? 'block' : 'none';\n",
              "\n",
              "        async function convertToInteractive(key) {\n",
              "          const element = document.querySelector('#df-bed44b51-73e1-42d2-82b5-a0f750a6ddb6');\n",
              "          const dataTable =\n",
              "            await google.colab.kernel.invokeFunction('convertToInteractive',\n",
              "                                                     [key], {});\n",
              "          if (!dataTable) return;\n",
              "\n",
              "          const docLinkHtml = 'Like what you see? Visit the ' +\n",
              "            '<a target=\"_blank\" href=https://colab.research.google.com/notebooks/data_table.ipynb>data table notebook</a>'\n",
              "            + ' to learn more about interactive tables.';\n",
              "          element.innerHTML = '';\n",
              "          dataTable['output_type'] = 'display_data';\n",
              "          await google.colab.output.renderOutput(dataTable, element);\n",
              "          const docLink = document.createElement('div');\n",
              "          docLink.innerHTML = docLinkHtml;\n",
              "          element.appendChild(docLink);\n",
              "        }\n",
              "      </script>\n",
              "    </div>\n",
              "  </div>\n",
              "  "
            ],
            "text/plain": [
              "   longitude   latitude\n",
              "0  34.938093  -9.856322\n",
              "1  34.698766  -2.147466\n",
              "2  37.460664  -3.821329\n",
              "3  38.486161 -11.155298\n",
              "4  31.130847  -1.825359"
            ]
          },
          "metadata": {},
          "execution_count": 306
        }
      ]
    },
    {
      "cell_type": "code",
      "source": [
        "data_all[['longitude', 'latitude']].isnull().sum()"
      ],
      "metadata": {
        "colab": {
          "base_uri": "https://localhost:8080/"
        },
        "id": "LCm-6xEdZUbm",
        "outputId": "c3521b58-d4fd-4a75-fbf7-d0e83990335a"
      },
      "execution_count": null,
      "outputs": [
        {
          "output_type": "execute_result",
          "data": {
            "text/plain": [
              "longitude    0\n",
              "latitude     0\n",
              "dtype: int64"
            ]
          },
          "metadata": {},
          "execution_count": 307
        }
      ]
    },
    {
      "cell_type": "code",
      "source": [
        "plt.figure(figsize=(7,7))\n",
        "plt.scatter(data_all.longitude, data_all.latitude)\n",
        "plt.show()"
      ],
      "metadata": {
        "colab": {
          "base_uri": "https://localhost:8080/",
          "height": 428
        },
        "id": "nj4J-n_AZUfT",
        "outputId": "f3801e8f-3f84-4039-f673-5354e112f04c"
      },
      "execution_count": null,
      "outputs": [
        {
          "output_type": "display_data",
          "data": {
            "image/png": "[encoded data removed]",
            "text/plain": [
              "<Figure size 504x504 with 1 Axes>"
            ]
          },
          "metadata": {
            "needs_background": "light"
          }
        }
      ]
    },
    {
      "cell_type": "code",
      "source": [
        "'''\n",
        "Видно, что некоторые значения находятся ВНЕ карты Танзании, что\n",
        "связано с наличием заглушек в виде значений близких к нулю\n",
        "Данные заглушки нужно попробовать заполнить осмысленными данными\n",
        "\n",
        "ГИПОТЕЗА:\n",
        "Недостающие значения координат longitude&latitude можно попробовать заполнить,\n",
        "исходя из их пренадлежности к subvillage(деревне)\n",
        "АЛГОРИТМ РЕШЕНИЯ:\n",
        " - берем водоколонку с заглушками по координатам\n",
        " - проверяем, что у неё есть subvillage\n",
        " - считаем среднее расположение по всем известным водоколонкам в данном subvillage\n",
        "    важно: НЕ берем в расчет нулевые координаты!\n",
        " - записываем среднее значение расположения в longitude&latitude текущей водоколонки\n",
        "'''\n",
        "print()"
      ],
      "metadata": {
        "colab": {
          "base_uri": "https://localhost:8080/"
        },
        "id": "9W9hNxYtCuB7",
        "outputId": "68a04611-cfe0-4f99-e006-eed35cce30da"
      },
      "execution_count": 36,
      "outputs": [
        {
          "output_type": "stream",
          "name": "stdout",
          "text": [
            "\n"
          ]
        }
      ]
    },
    {
      "cell_type": "code",
      "source": [
        "data_all[data_all.longitude==0]"
      ],
      "metadata": {
        "colab": {
          "base_uri": "https://localhost:8080/",
          "height": 840
        },
        "id": "MstEqQhUZUiz",
        "outputId": "a75cc48b-17ac-4a1b-f486-e00ac5b56b7e"
      },
      "execution_count": 37,
      "outputs": [
        {
          "output_type": "execute_result",
          "data": {
            "text/html": [
              "\n",
              "  <div id=\"df-e13d06ae-acee-4236-bf6d-33751489f02d\">\n",
              "    <div class=\"colab-df-container\">\n",
              "      <div>\n",
              "<style scoped>\n",
              "    .dataframe tbody tr th:only-of-type {\n",
              "        vertical-align: middle;\n",
              "    }\n",
              "\n",
              "    .dataframe tbody tr th {\n",
              "        vertical-align: top;\n",
              "    }\n",
              "\n",
              "    .dataframe thead th {\n",
              "        text-align: right;\n",
              "    }\n",
              "</style>\n",
              "<table border=\"1\" class=\"dataframe\">\n",
              "  <thead>\n",
              "    <tr style=\"text-align: right;\">\n",
              "      <th></th>\n",
              "      <th>id</th>\n",
              "      <th>amount_tsh</th>\n",
              "      <th>date_recorded</th>\n",
              "      <th>funder</th>\n",
              "      <th>gps_height</th>\n",
              "      <th>installer</th>\n",
              "      <th>longitude</th>\n",
              "      <th>latitude</th>\n",
              "      <th>wpt_name</th>\n",
              "      <th>num_private</th>\n",
              "      <th>basin</th>\n",
              "      <th>subvillage</th>\n",
              "      <th>region</th>\n",
              "      <th>region_code</th>\n",
              "      <th>district_code</th>\n",
              "      <th>lga</th>\n",
              "      <th>ward</th>\n",
              "      <th>population</th>\n",
              "      <th>public_meeting</th>\n",
              "      <th>recorded_by</th>\n",
              "      <th>scheme_management</th>\n",
              "      <th>scheme_name</th>\n",
              "      <th>permit</th>\n",
              "      <th>construction_year</th>\n",
              "      <th>extraction_type</th>\n",
              "      <th>extraction_type_group</th>\n",
              "      <th>extraction_type_class</th>\n",
              "      <th>management</th>\n",
              "      <th>management_group</th>\n",
              "      <th>payment</th>\n",
              "      <th>payment_type</th>\n",
              "      <th>water_quality</th>\n",
              "      <th>quality_group</th>\n",
              "      <th>quantity</th>\n",
              "      <th>quantity_group</th>\n",
              "      <th>source</th>\n",
              "      <th>source_type</th>\n",
              "      <th>source_class</th>\n",
              "      <th>waterpoint_type</th>\n",
              "      <th>waterpoint_type_group</th>\n",
              "      <th>labels</th>\n",
              "      <th>amount_tsh_bool</th>\n",
              "      <th>year_recorded</th>\n",
              "      <th>month_recorded</th>\n",
              "    </tr>\n",
              "  </thead>\n",
              "  <tbody>\n",
              "    <tr>\n",
              "      <th>21</th>\n",
              "      <td>6091</td>\n",
              "      <td>0.0</td>\n",
              "      <td>2013-02-10</td>\n",
              "      <td>Dwsp</td>\n",
              "      <td>0</td>\n",
              "      <td>DWE</td>\n",
              "      <td>0.0</td>\n",
              "      <td>-2.000000e-08</td>\n",
              "      <td>Muungano</td>\n",
              "      <td>0</td>\n",
              "      <td>Lake Victoria</td>\n",
              "      <td>Ibabachegu</td>\n",
              "      <td>Shinyanga</td>\n",
              "      <td>17</td>\n",
              "      <td>1</td>\n",
              "      <td>Bariadi</td>\n",
              "      <td>Ikungulyabashashi</td>\n",
              "      <td>0</td>\n",
              "      <td>NaN</td>\n",
              "      <td>GeoData Consultants Ltd</td>\n",
              "      <td>WUG</td>\n",
              "      <td>NaN</td>\n",
              "      <td>False</td>\n",
              "      <td>0</td>\n",
              "      <td>swn 80</td>\n",
              "      <td>swn 80</td>\n",
              "      <td>handpump</td>\n",
              "      <td>wug</td>\n",
              "      <td>user-group</td>\n",
              "      <td>unknown</td>\n",
              "      <td>unknown</td>\n",
              "      <td>unknown</td>\n",
              "      <td>unknown</td>\n",
              "      <td>unknown</td>\n",
              "      <td>unknown</td>\n",
              "      <td>shallow well</td>\n",
              "      <td>shallow well</td>\n",
              "      <td>groundwater</td>\n",
              "      <td>hand pump</td>\n",
              "      <td>hand pump</td>\n",
              "      <td>True</td>\n",
              "      <td>True</td>\n",
              "      <td>2013</td>\n",
              "      <td>2</td>\n",
              "    </tr>\n",
              "    <tr>\n",
              "      <th>53</th>\n",
              "      <td>32376</td>\n",
              "      <td>0.0</td>\n",
              "      <td>2011-08-01</td>\n",
              "      <td>Government Of Tanzania</td>\n",
              "      <td>0</td>\n",
              "      <td>Government</td>\n",
              "      <td>0.0</td>\n",
              "      <td>-2.000000e-08</td>\n",
              "      <td>Polisi</td>\n",
              "      <td>0</td>\n",
              "      <td>Lake Victoria</td>\n",
              "      <td>Center</td>\n",
              "      <td>Mwanza</td>\n",
              "      <td>19</td>\n",
              "      <td>6</td>\n",
              "      <td>Geita</td>\n",
              "      <td>Nyang'hwale</td>\n",
              "      <td>0</td>\n",
              "      <td>True</td>\n",
              "      <td>GeoData Consultants Ltd</td>\n",
              "      <td>VWC</td>\n",
              "      <td>Nyang'hwale</td>\n",
              "      <td>True</td>\n",
              "      <td>0</td>\n",
              "      <td>submersible</td>\n",
              "      <td>submersible</td>\n",
              "      <td>submersible</td>\n",
              "      <td>vwc</td>\n",
              "      <td>user-group</td>\n",
              "      <td>unknown</td>\n",
              "      <td>unknown</td>\n",
              "      <td>unknown</td>\n",
              "      <td>unknown</td>\n",
              "      <td>dry</td>\n",
              "      <td>dry</td>\n",
              "      <td>machine dbh</td>\n",
              "      <td>borehole</td>\n",
              "      <td>groundwater</td>\n",
              "      <td>communal standpipe multiple</td>\n",
              "      <td>communal standpipe</td>\n",
              "      <td>True</td>\n",
              "      <td>True</td>\n",
              "      <td>2011</td>\n",
              "      <td>8</td>\n",
              "    </tr>\n",
              "    <tr>\n",
              "      <th>168</th>\n",
              "      <td>72678</td>\n",
              "      <td>0.0</td>\n",
              "      <td>2013-01-30</td>\n",
              "      <td>Wvt</td>\n",
              "      <td>0</td>\n",
              "      <td>WVT</td>\n",
              "      <td>0.0</td>\n",
              "      <td>-2.000000e-08</td>\n",
              "      <td>Wvt Tanzania</td>\n",
              "      <td>0</td>\n",
              "      <td>Lake Victoria</td>\n",
              "      <td>Ilula</td>\n",
              "      <td>Shinyanga</td>\n",
              "      <td>17</td>\n",
              "      <td>1</td>\n",
              "      <td>Bariadi</td>\n",
              "      <td>Chinamili</td>\n",
              "      <td>0</td>\n",
              "      <td>False</td>\n",
              "      <td>GeoData Consultants Ltd</td>\n",
              "      <td>Parastatal</td>\n",
              "      <td>NaN</td>\n",
              "      <td>False</td>\n",
              "      <td>0</td>\n",
              "      <td>gravity</td>\n",
              "      <td>gravity</td>\n",
              "      <td>gravity</td>\n",
              "      <td>parastatal</td>\n",
              "      <td>parastatal</td>\n",
              "      <td>other</td>\n",
              "      <td>other</td>\n",
              "      <td>soft</td>\n",
              "      <td>good</td>\n",
              "      <td>seasonal</td>\n",
              "      <td>seasonal</td>\n",
              "      <td>rainwater harvesting</td>\n",
              "      <td>rainwater harvesting</td>\n",
              "      <td>surface</td>\n",
              "      <td>communal standpipe</td>\n",
              "      <td>communal standpipe</td>\n",
              "      <td>True</td>\n",
              "      <td>True</td>\n",
              "      <td>2013</td>\n",
              "      <td>1</td>\n",
              "    </tr>\n",
              "    <tr>\n",
              "      <th>177</th>\n",
              "      <td>56725</td>\n",
              "      <td>0.0</td>\n",
              "      <td>2013-01-17</td>\n",
              "      <td>Netherlands</td>\n",
              "      <td>0</td>\n",
              "      <td>DWE</td>\n",
              "      <td>0.0</td>\n",
              "      <td>-2.000000e-08</td>\n",
              "      <td>Kikundi Cha Wakina Mama</td>\n",
              "      <td>0</td>\n",
              "      <td>Lake Victoria</td>\n",
              "      <td>Mahaha</td>\n",
              "      <td>Shinyanga</td>\n",
              "      <td>17</td>\n",
              "      <td>1</td>\n",
              "      <td>Bariadi</td>\n",
              "      <td>Bunamhala</td>\n",
              "      <td>0</td>\n",
              "      <td>NaN</td>\n",
              "      <td>GeoData Consultants Ltd</td>\n",
              "      <td>WUG</td>\n",
              "      <td>NaN</td>\n",
              "      <td>False</td>\n",
              "      <td>0</td>\n",
              "      <td>other</td>\n",
              "      <td>other</td>\n",
              "      <td>other</td>\n",
              "      <td>wug</td>\n",
              "      <td>user-group</td>\n",
              "      <td>unknown</td>\n",
              "      <td>unknown</td>\n",
              "      <td>soft</td>\n",
              "      <td>good</td>\n",
              "      <td>enough</td>\n",
              "      <td>enough</td>\n",
              "      <td>shallow well</td>\n",
              "      <td>shallow well</td>\n",
              "      <td>groundwater</td>\n",
              "      <td>other</td>\n",
              "      <td>other</td>\n",
              "      <td>True</td>\n",
              "      <td>True</td>\n",
              "      <td>2013</td>\n",
              "      <td>1</td>\n",
              "    </tr>\n",
              "    <tr>\n",
              "      <th>253</th>\n",
              "      <td>13042</td>\n",
              "      <td>0.0</td>\n",
              "      <td>2012-10-29</td>\n",
              "      <td>Hesawa</td>\n",
              "      <td>0</td>\n",
              "      <td>DWE</td>\n",
              "      <td>0.0</td>\n",
              "      <td>-2.000000e-08</td>\n",
              "      <td>Kwakisusi</td>\n",
              "      <td>0</td>\n",
              "      <td>Lake Victoria</td>\n",
              "      <td>Nyamatala</td>\n",
              "      <td>Mwanza</td>\n",
              "      <td>19</td>\n",
              "      <td>2</td>\n",
              "      <td>Magu</td>\n",
              "      <td>Malili</td>\n",
              "      <td>0</td>\n",
              "      <td>True</td>\n",
              "      <td>GeoData Consultants Ltd</td>\n",
              "      <td>NaN</td>\n",
              "      <td>NaN</td>\n",
              "      <td>True</td>\n",
              "      <td>0</td>\n",
              "      <td>nira/tanira</td>\n",
              "      <td>nira/tanira</td>\n",
              "      <td>handpump</td>\n",
              "      <td>vwc</td>\n",
              "      <td>user-group</td>\n",
              "      <td>never pay</td>\n",
              "      <td>never pay</td>\n",
              "      <td>soft</td>\n",
              "      <td>good</td>\n",
              "      <td>insufficient</td>\n",
              "      <td>insufficient</td>\n",
              "      <td>shallow well</td>\n",
              "      <td>shallow well</td>\n",
              "      <td>groundwater</td>\n",
              "      <td>hand pump</td>\n",
              "      <td>hand pump</td>\n",
              "      <td>True</td>\n",
              "      <td>True</td>\n",
              "      <td>2012</td>\n",
              "      <td>10</td>\n",
              "    </tr>\n",
              "    <tr>\n",
              "      <th>...</th>\n",
              "      <td>...</td>\n",
              "      <td>...</td>\n",
              "      <td>...</td>\n",
              "      <td>...</td>\n",
              "      <td>...</td>\n",
              "      <td>...</td>\n",
              "      <td>...</td>\n",
              "      <td>...</td>\n",
              "      <td>...</td>\n",
              "      <td>...</td>\n",
              "      <td>...</td>\n",
              "      <td>...</td>\n",
              "      <td>...</td>\n",
              "      <td>...</td>\n",
              "      <td>...</td>\n",
              "      <td>...</td>\n",
              "      <td>...</td>\n",
              "      <td>...</td>\n",
              "      <td>...</td>\n",
              "      <td>...</td>\n",
              "      <td>...</td>\n",
              "      <td>...</td>\n",
              "      <td>...</td>\n",
              "      <td>...</td>\n",
              "      <td>...</td>\n",
              "      <td>...</td>\n",
              "      <td>...</td>\n",
              "      <td>...</td>\n",
              "      <td>...</td>\n",
              "      <td>...</td>\n",
              "      <td>...</td>\n",
              "      <td>...</td>\n",
              "      <td>...</td>\n",
              "      <td>...</td>\n",
              "      <td>...</td>\n",
              "      <td>...</td>\n",
              "      <td>...</td>\n",
              "      <td>...</td>\n",
              "      <td>...</td>\n",
              "      <td>...</td>\n",
              "      <td>...</td>\n",
              "      <td>...</td>\n",
              "      <td>...</td>\n",
              "      <td>...</td>\n",
              "    </tr>\n",
              "    <tr>\n",
              "      <th>14649</th>\n",
              "      <td>30454</td>\n",
              "      <td>0.0</td>\n",
              "      <td>2011-08-08</td>\n",
              "      <td>Nyamigogo</td>\n",
              "      <td>0</td>\n",
              "      <td>MASWI</td>\n",
              "      <td>0.0</td>\n",
              "      <td>-2.000000e-08</td>\n",
              "      <td>Husein</td>\n",
              "      <td>0</td>\n",
              "      <td>Lake Victoria</td>\n",
              "      <td>Nyaweshi</td>\n",
              "      <td>Mwanza</td>\n",
              "      <td>19</td>\n",
              "      <td>6</td>\n",
              "      <td>Geita</td>\n",
              "      <td>Kharumwa</td>\n",
              "      <td>0</td>\n",
              "      <td>True</td>\n",
              "      <td>GeoData Consultants Ltd</td>\n",
              "      <td>VWC</td>\n",
              "      <td>Borehole</td>\n",
              "      <td>True</td>\n",
              "      <td>0</td>\n",
              "      <td>india mark ii</td>\n",
              "      <td>india mark ii</td>\n",
              "      <td>handpump</td>\n",
              "      <td>vwc</td>\n",
              "      <td>user-group</td>\n",
              "      <td>never pay</td>\n",
              "      <td>never pay</td>\n",
              "      <td>soft</td>\n",
              "      <td>good</td>\n",
              "      <td>insufficient</td>\n",
              "      <td>insufficient</td>\n",
              "      <td>shallow well</td>\n",
              "      <td>shallow well</td>\n",
              "      <td>groundwater</td>\n",
              "      <td>hand pump</td>\n",
              "      <td>hand pump</td>\n",
              "      <td>False</td>\n",
              "      <td>True</td>\n",
              "      <td>2011</td>\n",
              "      <td>8</td>\n",
              "    </tr>\n",
              "    <tr>\n",
              "      <th>14676</th>\n",
              "      <td>44766</td>\n",
              "      <td>0.0</td>\n",
              "      <td>2013-02-16</td>\n",
              "      <td>Dwsp</td>\n",
              "      <td>0</td>\n",
              "      <td>DWE</td>\n",
              "      <td>0.0</td>\n",
              "      <td>-2.000000e-08</td>\n",
              "      <td>Imalanota</td>\n",
              "      <td>0</td>\n",
              "      <td>Lake Victoria</td>\n",
              "      <td>Busumabwi</td>\n",
              "      <td>Mwanza</td>\n",
              "      <td>17</td>\n",
              "      <td>1</td>\n",
              "      <td>Magu</td>\n",
              "      <td>Nkungulu</td>\n",
              "      <td>0</td>\n",
              "      <td>False</td>\n",
              "      <td>GeoData Consultants Ltd</td>\n",
              "      <td>WUG</td>\n",
              "      <td>NaN</td>\n",
              "      <td>False</td>\n",
              "      <td>0</td>\n",
              "      <td>swn 80</td>\n",
              "      <td>swn 80</td>\n",
              "      <td>handpump</td>\n",
              "      <td>wug</td>\n",
              "      <td>user-group</td>\n",
              "      <td>other</td>\n",
              "      <td>other</td>\n",
              "      <td>soft</td>\n",
              "      <td>good</td>\n",
              "      <td>enough</td>\n",
              "      <td>enough</td>\n",
              "      <td>shallow well</td>\n",
              "      <td>shallow well</td>\n",
              "      <td>groundwater</td>\n",
              "      <td>hand pump</td>\n",
              "      <td>hand pump</td>\n",
              "      <td>False</td>\n",
              "      <td>True</td>\n",
              "      <td>2013</td>\n",
              "      <td>2</td>\n",
              "    </tr>\n",
              "    <tr>\n",
              "      <th>14766</th>\n",
              "      <td>56279</td>\n",
              "      <td>0.0</td>\n",
              "      <td>2012-11-04</td>\n",
              "      <td>Government Of Tanzania</td>\n",
              "      <td>0</td>\n",
              "      <td>RWE</td>\n",
              "      <td>0.0</td>\n",
              "      <td>-2.000000e-08</td>\n",
              "      <td>Ofisini</td>\n",
              "      <td>0</td>\n",
              "      <td>Lake Victoria</td>\n",
              "      <td>Madukani</td>\n",
              "      <td>Mwanza</td>\n",
              "      <td>19</td>\n",
              "      <td>2</td>\n",
              "      <td>Magu</td>\n",
              "      <td>Mkula</td>\n",
              "      <td>0</td>\n",
              "      <td>True</td>\n",
              "      <td>GeoData Consultants Ltd</td>\n",
              "      <td>VWC</td>\n",
              "      <td>Kalemela Water Supply</td>\n",
              "      <td>True</td>\n",
              "      <td>0</td>\n",
              "      <td>gravity</td>\n",
              "      <td>gravity</td>\n",
              "      <td>gravity</td>\n",
              "      <td>vwc</td>\n",
              "      <td>user-group</td>\n",
              "      <td>never pay</td>\n",
              "      <td>never pay</td>\n",
              "      <td>soft</td>\n",
              "      <td>good</td>\n",
              "      <td>insufficient</td>\n",
              "      <td>insufficient</td>\n",
              "      <td>lake</td>\n",
              "      <td>river/lake</td>\n",
              "      <td>surface</td>\n",
              "      <td>communal standpipe multiple</td>\n",
              "      <td>communal standpipe</td>\n",
              "      <td>False</td>\n",
              "      <td>True</td>\n",
              "      <td>2012</td>\n",
              "      <td>11</td>\n",
              "    </tr>\n",
              "    <tr>\n",
              "      <th>14831</th>\n",
              "      <td>37994</td>\n",
              "      <td>0.0</td>\n",
              "      <td>2012-10-26</td>\n",
              "      <td>Hesawa</td>\n",
              "      <td>0</td>\n",
              "      <td>DWE</td>\n",
              "      <td>0.0</td>\n",
              "      <td>-2.000000e-08</td>\n",
              "      <td>Kwa Masilili</td>\n",
              "      <td>0</td>\n",
              "      <td>Lake Victoria</td>\n",
              "      <td>Solima A</td>\n",
              "      <td>Mwanza</td>\n",
              "      <td>19</td>\n",
              "      <td>2</td>\n",
              "      <td>Magu</td>\n",
              "      <td>Kabita</td>\n",
              "      <td>0</td>\n",
              "      <td>True</td>\n",
              "      <td>GeoData Consultants Ltd</td>\n",
              "      <td>VWC</td>\n",
              "      <td>NaN</td>\n",
              "      <td>True</td>\n",
              "      <td>0</td>\n",
              "      <td>nira/tanira</td>\n",
              "      <td>nira/tanira</td>\n",
              "      <td>handpump</td>\n",
              "      <td>vwc</td>\n",
              "      <td>user-group</td>\n",
              "      <td>never pay</td>\n",
              "      <td>never pay</td>\n",
              "      <td>salty</td>\n",
              "      <td>salty</td>\n",
              "      <td>enough</td>\n",
              "      <td>enough</td>\n",
              "      <td>shallow well</td>\n",
              "      <td>shallow well</td>\n",
              "      <td>groundwater</td>\n",
              "      <td>hand pump</td>\n",
              "      <td>hand pump</td>\n",
              "      <td>False</td>\n",
              "      <td>True</td>\n",
              "      <td>2012</td>\n",
              "      <td>10</td>\n",
              "    </tr>\n",
              "    <tr>\n",
              "      <th>14841</th>\n",
              "      <td>64579</td>\n",
              "      <td>0.0</td>\n",
              "      <td>2012-10-26</td>\n",
              "      <td>Dwsp</td>\n",
              "      <td>0</td>\n",
              "      <td>DWE</td>\n",
              "      <td>0.0</td>\n",
              "      <td>-2.000000e-08</td>\n",
              "      <td>Iguna</td>\n",
              "      <td>0</td>\n",
              "      <td>Lake Victoria</td>\n",
              "      <td>Nyerere</td>\n",
              "      <td>Shinyanga</td>\n",
              "      <td>17</td>\n",
              "      <td>1</td>\n",
              "      <td>Bariadi</td>\n",
              "      <td>Kasoli</td>\n",
              "      <td>0</td>\n",
              "      <td>NaN</td>\n",
              "      <td>GeoData Consultants Ltd</td>\n",
              "      <td>WUG</td>\n",
              "      <td>NaN</td>\n",
              "      <td>False</td>\n",
              "      <td>0</td>\n",
              "      <td>swn 80</td>\n",
              "      <td>swn 80</td>\n",
              "      <td>handpump</td>\n",
              "      <td>wug</td>\n",
              "      <td>user-group</td>\n",
              "      <td>unknown</td>\n",
              "      <td>unknown</td>\n",
              "      <td>soft</td>\n",
              "      <td>good</td>\n",
              "      <td>enough</td>\n",
              "      <td>enough</td>\n",
              "      <td>shallow well</td>\n",
              "      <td>shallow well</td>\n",
              "      <td>groundwater</td>\n",
              "      <td>hand pump</td>\n",
              "      <td>hand pump</td>\n",
              "      <td>False</td>\n",
              "      <td>True</td>\n",
              "      <td>2012</td>\n",
              "      <td>10</td>\n",
              "    </tr>\n",
              "  </tbody>\n",
              "</table>\n",
              "<p>2269 rows × 44 columns</p>\n",
              "</div>\n",
              "      <button class=\"colab-df-convert\" onclick=\"convertToInteractive('df-e13d06ae-acee-4236-bf6d-33751489f02d')\"\n",
              "              title=\"Convert this dataframe to an interactive table.\"\n",
              "              style=\"display:none;\">\n",
              "        \n",
              "  <svg xmlns=\"http://www.w3.org/2000/svg\" height=\"24px\"viewBox=\"0 0 24 24\"\n",
              "       width=\"24px\">\n",
              "    <path d=\"M0 0h24v24H0V0z\" fill=\"none\"/>\n",
              "    <path d=\"M18.56 5.44l.94 2.06.94-2.06 2.06-.94-2.06-.94-.94-2.06-.94 2.06-2.06.94zm-11 1L8.5 8.5l.94-2.06 2.06-.94-2.06-.94L8.5 2.5l-.94 2.06-2.06.94zm10 10l.94 2.06.94-2.06 2.06-.94-2.06-.94-.94-2.06-.94 2.06-2.06.94z\"/><path d=\"M17.41 7.96l-1.37-1.37c-.4-.4-.92-.59-1.43-.59-.52 0-1.04.2-1.43.59L10.3 9.45l-7.72 7.72c-.78.78-.78 2.05 0 2.83L4 21.41c.39.39.9.59 1.41.59.51 0 1.02-.2 1.41-.59l7.78-7.78 2.81-2.81c.8-.78.8-2.07 0-2.86zM5.41 20L4 18.59l7.72-7.72 1.47 1.35L5.41 20z\"/>\n",
              "  </svg>\n",
              "      </button>\n",
              "      \n",
              "  <style>\n",
              "    .colab-df-container {\n",
              "      display:flex;\n",
              "      flex-wrap:wrap;\n",
              "      gap: 12px;\n",
              "    }\n",
              "\n",
              "    .colab-df-convert {\n",
              "      background-color: #E8F0FE;\n",
              "      border: none;\n",
              "      border-radius: 50%;\n",
              "      cursor: pointer;\n",
              "      display: none;\n",
              "      fill: #1967D2;\n",
              "      height: 32px;\n",
              "      padding: 0 0 0 0;\n",
              "      width: 32px;\n",
              "    }\n",
              "\n",
              "    .colab-df-convert:hover {\n",
              "      background-color: #E2EBFA;\n",
              "      box-shadow: 0px 1px 2px rgba(60, 64, 67, 0.3), 0px 1px 3px 1px rgba(60, 64, 67, 0.15);\n",
              "      fill: #174EA6;\n",
              "    }\n",
              "\n",
              "    [theme=dark] .colab-df-convert {\n",
              "      background-color: #3B4455;\n",
              "      fill: #D2E3FC;\n",
              "    }\n",
              "\n",
              "    [theme=dark] .colab-df-convert:hover {\n",
              "      background-color: #434B5C;\n",
              "      box-shadow: 0px 1px 3px 1px rgba(0, 0, 0, 0.15);\n",
              "      filter: drop-shadow(0px 1px 2px rgba(0, 0, 0, 0.3));\n",
              "      fill: #FFFFFF;\n",
              "    }\n",
              "  </style>\n",
              "\n",
              "      <script>\n",
              "        const buttonEl =\n",
              "          document.querySelector('#df-e13d06ae-acee-4236-bf6d-33751489f02d button.colab-df-convert');\n",
              "        buttonEl.style.display =\n",
              "          google.colab.kernel.accessAllowed ? 'block' : 'none';\n",
              "\n",
              "        async function convertToInteractive(key) {\n",
              "          const element = document.querySelector('#df-e13d06ae-acee-4236-bf6d-33751489f02d');\n",
              "          const dataTable =\n",
              "            await google.colab.kernel.invokeFunction('convertToInteractive',\n",
              "                                                     [key], {});\n",
              "          if (!dataTable) return;\n",
              "\n",
              "          const docLinkHtml = 'Like what you see? Visit the ' +\n",
              "            '<a target=\"_blank\" href=https://colab.research.google.com/notebooks/data_table.ipynb>data table notebook</a>'\n",
              "            + ' to learn more about interactive tables.';\n",
              "          element.innerHTML = '';\n",
              "          dataTable['output_type'] = 'display_data';\n",
              "          await google.colab.output.renderOutput(dataTable, element);\n",
              "          const docLink = document.createElement('div');\n",
              "          docLink.innerHTML = docLinkHtml;\n",
              "          element.appendChild(docLink);\n",
              "        }\n",
              "      </script>\n",
              "    </div>\n",
              "  </div>\n",
              "  "
            ],
            "text/plain": [
              "          id  amount_tsh  ... year_recorded month_recorded\n",
              "21      6091         0.0  ...          2013              2\n",
              "53     32376         0.0  ...          2011              8\n",
              "168    72678         0.0  ...          2013              1\n",
              "177    56725         0.0  ...          2013              1\n",
              "253    13042         0.0  ...          2012             10\n",
              "...      ...         ...  ...           ...            ...\n",
              "14649  30454         0.0  ...          2011              8\n",
              "14676  44766         0.0  ...          2013              2\n",
              "14766  56279         0.0  ...          2012             11\n",
              "14831  37994         0.0  ...          2012             10\n",
              "14841  64579         0.0  ...          2012             10\n",
              "\n",
              "[2269 rows x 44 columns]"
            ]
          },
          "metadata": {},
          "execution_count": 37
        }
      ]
    },
    {
      "cell_type": "code",
      "source": [
        "data_all[data_all.latitude==-0.00000002]"
      ],
      "metadata": {
        "colab": {
          "base_uri": "https://localhost:8080/",
          "height": 840
        },
        "id": "vUJcAJ-GZUmE",
        "outputId": "2497a02a-4d00-4f6a-d134-00114c0f49d2"
      },
      "execution_count": 38,
      "outputs": [
        {
          "output_type": "execute_result",
          "data": {
            "text/html": [
              "\n",
              "  <div id=\"df-5102f887-5a9d-46c1-b45b-d30db64e4483\">\n",
              "    <div class=\"colab-df-container\">\n",
              "      <div>\n",
              "<style scoped>\n",
              "    .dataframe tbody tr th:only-of-type {\n",
              "        vertical-align: middle;\n",
              "    }\n",
              "\n",
              "    .dataframe tbody tr th {\n",
              "        vertical-align: top;\n",
              "    }\n",
              "\n",
              "    .dataframe thead th {\n",
              "        text-align: right;\n",
              "    }\n",
              "</style>\n",
              "<table border=\"1\" class=\"dataframe\">\n",
              "  <thead>\n",
              "    <tr style=\"text-align: right;\">\n",
              "      <th></th>\n",
              "      <th>id</th>\n",
              "      <th>amount_tsh</th>\n",
              "      <th>date_recorded</th>\n",
              "      <th>funder</th>\n",
              "      <th>gps_height</th>\n",
              "      <th>installer</th>\n",
              "      <th>longitude</th>\n",
              "      <th>latitude</th>\n",
              "      <th>wpt_name</th>\n",
              "      <th>num_private</th>\n",
              "      <th>basin</th>\n",
              "      <th>subvillage</th>\n",
              "      <th>region</th>\n",
              "      <th>region_code</th>\n",
              "      <th>district_code</th>\n",
              "      <th>lga</th>\n",
              "      <th>ward</th>\n",
              "      <th>population</th>\n",
              "      <th>public_meeting</th>\n",
              "      <th>recorded_by</th>\n",
              "      <th>scheme_management</th>\n",
              "      <th>scheme_name</th>\n",
              "      <th>permit</th>\n",
              "      <th>construction_year</th>\n",
              "      <th>extraction_type</th>\n",
              "      <th>extraction_type_group</th>\n",
              "      <th>extraction_type_class</th>\n",
              "      <th>management</th>\n",
              "      <th>management_group</th>\n",
              "      <th>payment</th>\n",
              "      <th>payment_type</th>\n",
              "      <th>water_quality</th>\n",
              "      <th>quality_group</th>\n",
              "      <th>quantity</th>\n",
              "      <th>quantity_group</th>\n",
              "      <th>source</th>\n",
              "      <th>source_type</th>\n",
              "      <th>source_class</th>\n",
              "      <th>waterpoint_type</th>\n",
              "      <th>waterpoint_type_group</th>\n",
              "      <th>labels</th>\n",
              "      <th>amount_tsh_bool</th>\n",
              "      <th>year_recorded</th>\n",
              "      <th>month_recorded</th>\n",
              "    </tr>\n",
              "  </thead>\n",
              "  <tbody>\n",
              "    <tr>\n",
              "      <th>21</th>\n",
              "      <td>6091</td>\n",
              "      <td>0.0</td>\n",
              "      <td>2013-02-10</td>\n",
              "      <td>Dwsp</td>\n",
              "      <td>0</td>\n",
              "      <td>DWE</td>\n",
              "      <td>0.0</td>\n",
              "      <td>-2.000000e-08</td>\n",
              "      <td>Muungano</td>\n",
              "      <td>0</td>\n",
              "      <td>Lake Victoria</td>\n",
              "      <td>Ibabachegu</td>\n",
              "      <td>Shinyanga</td>\n",
              "      <td>17</td>\n",
              "      <td>1</td>\n",
              "      <td>Bariadi</td>\n",
              "      <td>Ikungulyabashashi</td>\n",
              "      <td>0</td>\n",
              "      <td>NaN</td>\n",
              "      <td>GeoData Consultants Ltd</td>\n",
              "      <td>WUG</td>\n",
              "      <td>NaN</td>\n",
              "      <td>False</td>\n",
              "      <td>0</td>\n",
              "      <td>swn 80</td>\n",
              "      <td>swn 80</td>\n",
              "      <td>handpump</td>\n",
              "      <td>wug</td>\n",
              "      <td>user-group</td>\n",
              "      <td>unknown</td>\n",
              "      <td>unknown</td>\n",
              "      <td>unknown</td>\n",
              "      <td>unknown</td>\n",
              "      <td>unknown</td>\n",
              "      <td>unknown</td>\n",
              "      <td>shallow well</td>\n",
              "      <td>shallow well</td>\n",
              "      <td>groundwater</td>\n",
              "      <td>hand pump</td>\n",
              "      <td>hand pump</td>\n",
              "      <td>True</td>\n",
              "      <td>True</td>\n",
              "      <td>2013</td>\n",
              "      <td>2</td>\n",
              "    </tr>\n",
              "    <tr>\n",
              "      <th>53</th>\n",
              "      <td>32376</td>\n",
              "      <td>0.0</td>\n",
              "      <td>2011-08-01</td>\n",
              "      <td>Government Of Tanzania</td>\n",
              "      <td>0</td>\n",
              "      <td>Government</td>\n",
              "      <td>0.0</td>\n",
              "      <td>-2.000000e-08</td>\n",
              "      <td>Polisi</td>\n",
              "      <td>0</td>\n",
              "      <td>Lake Victoria</td>\n",
              "      <td>Center</td>\n",
              "      <td>Mwanza</td>\n",
              "      <td>19</td>\n",
              "      <td>6</td>\n",
              "      <td>Geita</td>\n",
              "      <td>Nyang'hwale</td>\n",
              "      <td>0</td>\n",
              "      <td>True</td>\n",
              "      <td>GeoData Consultants Ltd</td>\n",
              "      <td>VWC</td>\n",
              "      <td>Nyang'hwale</td>\n",
              "      <td>True</td>\n",
              "      <td>0</td>\n",
              "      <td>submersible</td>\n",
              "      <td>submersible</td>\n",
              "      <td>submersible</td>\n",
              "      <td>vwc</td>\n",
              "      <td>user-group</td>\n",
              "      <td>unknown</td>\n",
              "      <td>unknown</td>\n",
              "      <td>unknown</td>\n",
              "      <td>unknown</td>\n",
              "      <td>dry</td>\n",
              "      <td>dry</td>\n",
              "      <td>machine dbh</td>\n",
              "      <td>borehole</td>\n",
              "      <td>groundwater</td>\n",
              "      <td>communal standpipe multiple</td>\n",
              "      <td>communal standpipe</td>\n",
              "      <td>True</td>\n",
              "      <td>True</td>\n",
              "      <td>2011</td>\n",
              "      <td>8</td>\n",
              "    </tr>\n",
              "    <tr>\n",
              "      <th>168</th>\n",
              "      <td>72678</td>\n",
              "      <td>0.0</td>\n",
              "      <td>2013-01-30</td>\n",
              "      <td>Wvt</td>\n",
              "      <td>0</td>\n",
              "      <td>WVT</td>\n",
              "      <td>0.0</td>\n",
              "      <td>-2.000000e-08</td>\n",
              "      <td>Wvt Tanzania</td>\n",
              "      <td>0</td>\n",
              "      <td>Lake Victoria</td>\n",
              "      <td>Ilula</td>\n",
              "      <td>Shinyanga</td>\n",
              "      <td>17</td>\n",
              "      <td>1</td>\n",
              "      <td>Bariadi</td>\n",
              "      <td>Chinamili</td>\n",
              "      <td>0</td>\n",
              "      <td>False</td>\n",
              "      <td>GeoData Consultants Ltd</td>\n",
              "      <td>Parastatal</td>\n",
              "      <td>NaN</td>\n",
              "      <td>False</td>\n",
              "      <td>0</td>\n",
              "      <td>gravity</td>\n",
              "      <td>gravity</td>\n",
              "      <td>gravity</td>\n",
              "      <td>parastatal</td>\n",
              "      <td>parastatal</td>\n",
              "      <td>other</td>\n",
              "      <td>other</td>\n",
              "      <td>soft</td>\n",
              "      <td>good</td>\n",
              "      <td>seasonal</td>\n",
              "      <td>seasonal</td>\n",
              "      <td>rainwater harvesting</td>\n",
              "      <td>rainwater harvesting</td>\n",
              "      <td>surface</td>\n",
              "      <td>communal standpipe</td>\n",
              "      <td>communal standpipe</td>\n",
              "      <td>True</td>\n",
              "      <td>True</td>\n",
              "      <td>2013</td>\n",
              "      <td>1</td>\n",
              "    </tr>\n",
              "    <tr>\n",
              "      <th>177</th>\n",
              "      <td>56725</td>\n",
              "      <td>0.0</td>\n",
              "      <td>2013-01-17</td>\n",
              "      <td>Netherlands</td>\n",
              "      <td>0</td>\n",
              "      <td>DWE</td>\n",
              "      <td>0.0</td>\n",
              "      <td>-2.000000e-08</td>\n",
              "      <td>Kikundi Cha Wakina Mama</td>\n",
              "      <td>0</td>\n",
              "      <td>Lake Victoria</td>\n",
              "      <td>Mahaha</td>\n",
              "      <td>Shinyanga</td>\n",
              "      <td>17</td>\n",
              "      <td>1</td>\n",
              "      <td>Bariadi</td>\n",
              "      <td>Bunamhala</td>\n",
              "      <td>0</td>\n",
              "      <td>NaN</td>\n",
              "      <td>GeoData Consultants Ltd</td>\n",
              "      <td>WUG</td>\n",
              "      <td>NaN</td>\n",
              "      <td>False</td>\n",
              "      <td>0</td>\n",
              "      <td>other</td>\n",
              "      <td>other</td>\n",
              "      <td>other</td>\n",
              "      <td>wug</td>\n",
              "      <td>user-group</td>\n",
              "      <td>unknown</td>\n",
              "      <td>unknown</td>\n",
              "      <td>soft</td>\n",
              "      <td>good</td>\n",
              "      <td>enough</td>\n",
              "      <td>enough</td>\n",
              "      <td>shallow well</td>\n",
              "      <td>shallow well</td>\n",
              "      <td>groundwater</td>\n",
              "      <td>other</td>\n",
              "      <td>other</td>\n",
              "      <td>True</td>\n",
              "      <td>True</td>\n",
              "      <td>2013</td>\n",
              "      <td>1</td>\n",
              "    </tr>\n",
              "    <tr>\n",
              "      <th>253</th>\n",
              "      <td>13042</td>\n",
              "      <td>0.0</td>\n",
              "      <td>2012-10-29</td>\n",
              "      <td>Hesawa</td>\n",
              "      <td>0</td>\n",
              "      <td>DWE</td>\n",
              "      <td>0.0</td>\n",
              "      <td>-2.000000e-08</td>\n",
              "      <td>Kwakisusi</td>\n",
              "      <td>0</td>\n",
              "      <td>Lake Victoria</td>\n",
              "      <td>Nyamatala</td>\n",
              "      <td>Mwanza</td>\n",
              "      <td>19</td>\n",
              "      <td>2</td>\n",
              "      <td>Magu</td>\n",
              "      <td>Malili</td>\n",
              "      <td>0</td>\n",
              "      <td>True</td>\n",
              "      <td>GeoData Consultants Ltd</td>\n",
              "      <td>NaN</td>\n",
              "      <td>NaN</td>\n",
              "      <td>True</td>\n",
              "      <td>0</td>\n",
              "      <td>nira/tanira</td>\n",
              "      <td>nira/tanira</td>\n",
              "      <td>handpump</td>\n",
              "      <td>vwc</td>\n",
              "      <td>user-group</td>\n",
              "      <td>never pay</td>\n",
              "      <td>never pay</td>\n",
              "      <td>soft</td>\n",
              "      <td>good</td>\n",
              "      <td>insufficient</td>\n",
              "      <td>insufficient</td>\n",
              "      <td>shallow well</td>\n",
              "      <td>shallow well</td>\n",
              "      <td>groundwater</td>\n",
              "      <td>hand pump</td>\n",
              "      <td>hand pump</td>\n",
              "      <td>True</td>\n",
              "      <td>True</td>\n",
              "      <td>2012</td>\n",
              "      <td>10</td>\n",
              "    </tr>\n",
              "    <tr>\n",
              "      <th>...</th>\n",
              "      <td>...</td>\n",
              "      <td>...</td>\n",
              "      <td>...</td>\n",
              "      <td>...</td>\n",
              "      <td>...</td>\n",
              "      <td>...</td>\n",
              "      <td>...</td>\n",
              "      <td>...</td>\n",
              "      <td>...</td>\n",
              "      <td>...</td>\n",
              "      <td>...</td>\n",
              "      <td>...</td>\n",
              "      <td>...</td>\n",
              "      <td>...</td>\n",
              "      <td>...</td>\n",
              "      <td>...</td>\n",
              "      <td>...</td>\n",
              "      <td>...</td>\n",
              "      <td>...</td>\n",
              "      <td>...</td>\n",
              "      <td>...</td>\n",
              "      <td>...</td>\n",
              "      <td>...</td>\n",
              "      <td>...</td>\n",
              "      <td>...</td>\n",
              "      <td>...</td>\n",
              "      <td>...</td>\n",
              "      <td>...</td>\n",
              "      <td>...</td>\n",
              "      <td>...</td>\n",
              "      <td>...</td>\n",
              "      <td>...</td>\n",
              "      <td>...</td>\n",
              "      <td>...</td>\n",
              "      <td>...</td>\n",
              "      <td>...</td>\n",
              "      <td>...</td>\n",
              "      <td>...</td>\n",
              "      <td>...</td>\n",
              "      <td>...</td>\n",
              "      <td>...</td>\n",
              "      <td>...</td>\n",
              "      <td>...</td>\n",
              "      <td>...</td>\n",
              "    </tr>\n",
              "    <tr>\n",
              "      <th>14649</th>\n",
              "      <td>30454</td>\n",
              "      <td>0.0</td>\n",
              "      <td>2011-08-08</td>\n",
              "      <td>Nyamigogo</td>\n",
              "      <td>0</td>\n",
              "      <td>MASWI</td>\n",
              "      <td>0.0</td>\n",
              "      <td>-2.000000e-08</td>\n",
              "      <td>Husein</td>\n",
              "      <td>0</td>\n",
              "      <td>Lake Victoria</td>\n",
              "      <td>Nyaweshi</td>\n",
              "      <td>Mwanza</td>\n",
              "      <td>19</td>\n",
              "      <td>6</td>\n",
              "      <td>Geita</td>\n",
              "      <td>Kharumwa</td>\n",
              "      <td>0</td>\n",
              "      <td>True</td>\n",
              "      <td>GeoData Consultants Ltd</td>\n",
              "      <td>VWC</td>\n",
              "      <td>Borehole</td>\n",
              "      <td>True</td>\n",
              "      <td>0</td>\n",
              "      <td>india mark ii</td>\n",
              "      <td>india mark ii</td>\n",
              "      <td>handpump</td>\n",
              "      <td>vwc</td>\n",
              "      <td>user-group</td>\n",
              "      <td>never pay</td>\n",
              "      <td>never pay</td>\n",
              "      <td>soft</td>\n",
              "      <td>good</td>\n",
              "      <td>insufficient</td>\n",
              "      <td>insufficient</td>\n",
              "      <td>shallow well</td>\n",
              "      <td>shallow well</td>\n",
              "      <td>groundwater</td>\n",
              "      <td>hand pump</td>\n",
              "      <td>hand pump</td>\n",
              "      <td>False</td>\n",
              "      <td>True</td>\n",
              "      <td>2011</td>\n",
              "      <td>8</td>\n",
              "    </tr>\n",
              "    <tr>\n",
              "      <th>14676</th>\n",
              "      <td>44766</td>\n",
              "      <td>0.0</td>\n",
              "      <td>2013-02-16</td>\n",
              "      <td>Dwsp</td>\n",
              "      <td>0</td>\n",
              "      <td>DWE</td>\n",
              "      <td>0.0</td>\n",
              "      <td>-2.000000e-08</td>\n",
              "      <td>Imalanota</td>\n",
              "      <td>0</td>\n",
              "      <td>Lake Victoria</td>\n",
              "      <td>Busumabwi</td>\n",
              "      <td>Mwanza</td>\n",
              "      <td>17</td>\n",
              "      <td>1</td>\n",
              "      <td>Magu</td>\n",
              "      <td>Nkungulu</td>\n",
              "      <td>0</td>\n",
              "      <td>False</td>\n",
              "      <td>GeoData Consultants Ltd</td>\n",
              "      <td>WUG</td>\n",
              "      <td>NaN</td>\n",
              "      <td>False</td>\n",
              "      <td>0</td>\n",
              "      <td>swn 80</td>\n",
              "      <td>swn 80</td>\n",
              "      <td>handpump</td>\n",
              "      <td>wug</td>\n",
              "      <td>user-group</td>\n",
              "      <td>other</td>\n",
              "      <td>other</td>\n",
              "      <td>soft</td>\n",
              "      <td>good</td>\n",
              "      <td>enough</td>\n",
              "      <td>enough</td>\n",
              "      <td>shallow well</td>\n",
              "      <td>shallow well</td>\n",
              "      <td>groundwater</td>\n",
              "      <td>hand pump</td>\n",
              "      <td>hand pump</td>\n",
              "      <td>False</td>\n",
              "      <td>True</td>\n",
              "      <td>2013</td>\n",
              "      <td>2</td>\n",
              "    </tr>\n",
              "    <tr>\n",
              "      <th>14766</th>\n",
              "      <td>56279</td>\n",
              "      <td>0.0</td>\n",
              "      <td>2012-11-04</td>\n",
              "      <td>Government Of Tanzania</td>\n",
              "      <td>0</td>\n",
              "      <td>RWE</td>\n",
              "      <td>0.0</td>\n",
              "      <td>-2.000000e-08</td>\n",
              "      <td>Ofisini</td>\n",
              "      <td>0</td>\n",
              "      <td>Lake Victoria</td>\n",
              "      <td>Madukani</td>\n",
              "      <td>Mwanza</td>\n",
              "      <td>19</td>\n",
              "      <td>2</td>\n",
              "      <td>Magu</td>\n",
              "      <td>Mkula</td>\n",
              "      <td>0</td>\n",
              "      <td>True</td>\n",
              "      <td>GeoData Consultants Ltd</td>\n",
              "      <td>VWC</td>\n",
              "      <td>Kalemela Water Supply</td>\n",
              "      <td>True</td>\n",
              "      <td>0</td>\n",
              "      <td>gravity</td>\n",
              "      <td>gravity</td>\n",
              "      <td>gravity</td>\n",
              "      <td>vwc</td>\n",
              "      <td>user-group</td>\n",
              "      <td>never pay</td>\n",
              "      <td>never pay</td>\n",
              "      <td>soft</td>\n",
              "      <td>good</td>\n",
              "      <td>insufficient</td>\n",
              "      <td>insufficient</td>\n",
              "      <td>lake</td>\n",
              "      <td>river/lake</td>\n",
              "      <td>surface</td>\n",
              "      <td>communal standpipe multiple</td>\n",
              "      <td>communal standpipe</td>\n",
              "      <td>False</td>\n",
              "      <td>True</td>\n",
              "      <td>2012</td>\n",
              "      <td>11</td>\n",
              "    </tr>\n",
              "    <tr>\n",
              "      <th>14831</th>\n",
              "      <td>37994</td>\n",
              "      <td>0.0</td>\n",
              "      <td>2012-10-26</td>\n",
              "      <td>Hesawa</td>\n",
              "      <td>0</td>\n",
              "      <td>DWE</td>\n",
              "      <td>0.0</td>\n",
              "      <td>-2.000000e-08</td>\n",
              "      <td>Kwa Masilili</td>\n",
              "      <td>0</td>\n",
              "      <td>Lake Victoria</td>\n",
              "      <td>Solima A</td>\n",
              "      <td>Mwanza</td>\n",
              "      <td>19</td>\n",
              "      <td>2</td>\n",
              "      <td>Magu</td>\n",
              "      <td>Kabita</td>\n",
              "      <td>0</td>\n",
              "      <td>True</td>\n",
              "      <td>GeoData Consultants Ltd</td>\n",
              "      <td>VWC</td>\n",
              "      <td>NaN</td>\n",
              "      <td>True</td>\n",
              "      <td>0</td>\n",
              "      <td>nira/tanira</td>\n",
              "      <td>nira/tanira</td>\n",
              "      <td>handpump</td>\n",
              "      <td>vwc</td>\n",
              "      <td>user-group</td>\n",
              "      <td>never pay</td>\n",
              "      <td>never pay</td>\n",
              "      <td>salty</td>\n",
              "      <td>salty</td>\n",
              "      <td>enough</td>\n",
              "      <td>enough</td>\n",
              "      <td>shallow well</td>\n",
              "      <td>shallow well</td>\n",
              "      <td>groundwater</td>\n",
              "      <td>hand pump</td>\n",
              "      <td>hand pump</td>\n",
              "      <td>False</td>\n",
              "      <td>True</td>\n",
              "      <td>2012</td>\n",
              "      <td>10</td>\n",
              "    </tr>\n",
              "    <tr>\n",
              "      <th>14841</th>\n",
              "      <td>64579</td>\n",
              "      <td>0.0</td>\n",
              "      <td>2012-10-26</td>\n",
              "      <td>Dwsp</td>\n",
              "      <td>0</td>\n",
              "      <td>DWE</td>\n",
              "      <td>0.0</td>\n",
              "      <td>-2.000000e-08</td>\n",
              "      <td>Iguna</td>\n",
              "      <td>0</td>\n",
              "      <td>Lake Victoria</td>\n",
              "      <td>Nyerere</td>\n",
              "      <td>Shinyanga</td>\n",
              "      <td>17</td>\n",
              "      <td>1</td>\n",
              "      <td>Bariadi</td>\n",
              "      <td>Kasoli</td>\n",
              "      <td>0</td>\n",
              "      <td>NaN</td>\n",
              "      <td>GeoData Consultants Ltd</td>\n",
              "      <td>WUG</td>\n",
              "      <td>NaN</td>\n",
              "      <td>False</td>\n",
              "      <td>0</td>\n",
              "      <td>swn 80</td>\n",
              "      <td>swn 80</td>\n",
              "      <td>handpump</td>\n",
              "      <td>wug</td>\n",
              "      <td>user-group</td>\n",
              "      <td>unknown</td>\n",
              "      <td>unknown</td>\n",
              "      <td>soft</td>\n",
              "      <td>good</td>\n",
              "      <td>enough</td>\n",
              "      <td>enough</td>\n",
              "      <td>shallow well</td>\n",
              "      <td>shallow well</td>\n",
              "      <td>groundwater</td>\n",
              "      <td>hand pump</td>\n",
              "      <td>hand pump</td>\n",
              "      <td>False</td>\n",
              "      <td>True</td>\n",
              "      <td>2012</td>\n",
              "      <td>10</td>\n",
              "    </tr>\n",
              "  </tbody>\n",
              "</table>\n",
              "<p>2269 rows × 44 columns</p>\n",
              "</div>\n",
              "      <button class=\"colab-df-convert\" onclick=\"convertToInteractive('df-5102f887-5a9d-46c1-b45b-d30db64e4483')\"\n",
              "              title=\"Convert this dataframe to an interactive table.\"\n",
              "              style=\"display:none;\">\n",
              "        \n",
              "  <svg xmlns=\"http://www.w3.org/2000/svg\" height=\"24px\"viewBox=\"0 0 24 24\"\n",
              "       width=\"24px\">\n",
              "    <path d=\"M0 0h24v24H0V0z\" fill=\"none\"/>\n",
              "    <path d=\"M18.56 5.44l.94 2.06.94-2.06 2.06-.94-2.06-.94-.94-2.06-.94 2.06-2.06.94zm-11 1L8.5 8.5l.94-2.06 2.06-.94-2.06-.94L8.5 2.5l-.94 2.06-2.06.94zm10 10l.94 2.06.94-2.06 2.06-.94-2.06-.94-.94-2.06-.94 2.06-2.06.94z\"/><path d=\"M17.41 7.96l-1.37-1.37c-.4-.4-.92-.59-1.43-.59-.52 0-1.04.2-1.43.59L10.3 9.45l-7.72 7.72c-.78.78-.78 2.05 0 2.83L4 21.41c.39.39.9.59 1.41.59.51 0 1.02-.2 1.41-.59l7.78-7.78 2.81-2.81c.8-.78.8-2.07 0-2.86zM5.41 20L4 18.59l7.72-7.72 1.47 1.35L5.41 20z\"/>\n",
              "  </svg>\n",
              "      </button>\n",
              "      \n",
              "  <style>\n",
              "    .colab-df-container {\n",
              "      display:flex;\n",
              "      flex-wrap:wrap;\n",
              "      gap: 12px;\n",
              "    }\n",
              "\n",
              "    .colab-df-convert {\n",
              "      background-color: #E8F0FE;\n",
              "      border: none;\n",
              "      border-radius: 50%;\n",
              "      cursor: pointer;\n",
              "      display: none;\n",
              "      fill: #1967D2;\n",
              "      height: 32px;\n",
              "      padding: 0 0 0 0;\n",
              "      width: 32px;\n",
              "    }\n",
              "\n",
              "    .colab-df-convert:hover {\n",
              "      background-color: #E2EBFA;\n",
              "      box-shadow: 0px 1px 2px rgba(60, 64, 67, 0.3), 0px 1px 3px 1px rgba(60, 64, 67, 0.15);\n",
              "      fill: #174EA6;\n",
              "    }\n",
              "\n",
              "    [theme=dark] .colab-df-convert {\n",
              "      background-color: #3B4455;\n",
              "      fill: #D2E3FC;\n",
              "    }\n",
              "\n",
              "    [theme=dark] .colab-df-convert:hover {\n",
              "      background-color: #434B5C;\n",
              "      box-shadow: 0px 1px 3px 1px rgba(0, 0, 0, 0.15);\n",
              "      filter: drop-shadow(0px 1px 2px rgba(0, 0, 0, 0.3));\n",
              "      fill: #FFFFFF;\n",
              "    }\n",
              "  </style>\n",
              "\n",
              "      <script>\n",
              "        const buttonEl =\n",
              "          document.querySelector('#df-5102f887-5a9d-46c1-b45b-d30db64e4483 button.colab-df-convert');\n",
              "        buttonEl.style.display =\n",
              "          google.colab.kernel.accessAllowed ? 'block' : 'none';\n",
              "\n",
              "        async function convertToInteractive(key) {\n",
              "          const element = document.querySelector('#df-5102f887-5a9d-46c1-b45b-d30db64e4483');\n",
              "          const dataTable =\n",
              "            await google.colab.kernel.invokeFunction('convertToInteractive',\n",
              "                                                     [key], {});\n",
              "          if (!dataTable) return;\n",
              "\n",
              "          const docLinkHtml = 'Like what you see? Visit the ' +\n",
              "            '<a target=\"_blank\" href=https://colab.research.google.com/notebooks/data_table.ipynb>data table notebook</a>'\n",
              "            + ' to learn more about interactive tables.';\n",
              "          element.innerHTML = '';\n",
              "          dataTable['output_type'] = 'display_data';\n",
              "          await google.colab.output.renderOutput(dataTable, element);\n",
              "          const docLink = document.createElement('div');\n",
              "          docLink.innerHTML = docLinkHtml;\n",
              "          element.appendChild(docLink);\n",
              "        }\n",
              "      </script>\n",
              "    </div>\n",
              "  </div>\n",
              "  "
            ],
            "text/plain": [
              "          id  amount_tsh  ... year_recorded month_recorded\n",
              "21      6091         0.0  ...          2013              2\n",
              "53     32376         0.0  ...          2011              8\n",
              "168    72678         0.0  ...          2013              1\n",
              "177    56725         0.0  ...          2013              1\n",
              "253    13042         0.0  ...          2012             10\n",
              "...      ...         ...  ...           ...            ...\n",
              "14649  30454         0.0  ...          2011              8\n",
              "14676  44766         0.0  ...          2013              2\n",
              "14766  56279         0.0  ...          2012             11\n",
              "14831  37994         0.0  ...          2012             10\n",
              "14841  64579         0.0  ...          2012             10\n",
              "\n",
              "[2269 rows x 44 columns]"
            ]
          },
          "metadata": {},
          "execution_count": 38
        }
      ]
    },
    {
      "cell_type": "code",
      "source": [
        "'''\n",
        "ЗАМЕТКИ:\n",
        " - Есть 2269 водоколонок с заглушками по координатам\n",
        " - У всех заполнен атрибут деревни\n",
        "'''\n",
        "print()"
      ],
      "metadata": {
        "colab": {
          "base_uri": "https://localhost:8080/"
        },
        "id": "fMj-9dDZGZi8",
        "outputId": "605a01cb-f79e-40d2-9968-7033f31ab030"
      },
      "execution_count": 41,
      "outputs": [
        {
          "output_type": "stream",
          "name": "stdout",
          "text": [
            "\n"
          ]
        }
      ]
    },
    {
      "cell_type": "code",
      "source": [
        ""
      ],
      "metadata": {
        "id": "bl5FhalONE0L"
      },
      "execution_count": null,
      "outputs": []
    },
    {
      "cell_type": "code",
      "source": [
        "############################################################\n",
        "# Получаем таблицу средних расположений водоколонок по деревням.\n",
        "############################################################\n",
        "\n",
        "average_coords_subvillage = data_all[data_all.longitude!=0].groupby('subvillage')[['longitude', 'latitude']].mean()"
      ],
      "metadata": {
        "id": "gqy_ahu9RV11"
      },
      "execution_count": 42,
      "outputs": []
    },
    {
      "cell_type": "code",
      "source": [
        "average_coords_subvillage"
      ],
      "metadata": {
        "colab": {
          "base_uri": "https://localhost:8080/",
          "height": 450
        },
        "id": "L--nBLg-s76j",
        "outputId": "82aa73b8-e01f-4935-a1f6-c417d048b152"
      },
      "execution_count": 43,
      "outputs": [
        {
          "output_type": "execute_result",
          "data": {
            "text/html": [
              "\n",
              "  <div id=\"df-031f68ae-5262-4fbd-abfa-bf2c68847da7\">\n",
              "    <div class=\"colab-df-container\">\n",
              "      <div>\n",
              "<style scoped>\n",
              "    .dataframe tbody tr th:only-of-type {\n",
              "        vertical-align: middle;\n",
              "    }\n",
              "\n",
              "    .dataframe tbody tr th {\n",
              "        vertical-align: top;\n",
              "    }\n",
              "\n",
              "    .dataframe thead th {\n",
              "        text-align: right;\n",
              "    }\n",
              "</style>\n",
              "<table border=\"1\" class=\"dataframe\">\n",
              "  <thead>\n",
              "    <tr style=\"text-align: right;\">\n",
              "      <th></th>\n",
              "      <th>longitude</th>\n",
              "      <th>latitude</th>\n",
              "    </tr>\n",
              "    <tr>\n",
              "      <th>subvillage</th>\n",
              "      <th></th>\n",
              "      <th></th>\n",
              "    </tr>\n",
              "  </thead>\n",
              "  <tbody>\n",
              "    <tr>\n",
              "      <th>##</th>\n",
              "      <td>31.460087</td>\n",
              "      <td>-1.553813</td>\n",
              "    </tr>\n",
              "    <tr>\n",
              "      <th>'A' Kati</th>\n",
              "      <td>33.731741</td>\n",
              "      <td>-1.902525</td>\n",
              "    </tr>\n",
              "    <tr>\n",
              "      <th>1</th>\n",
              "      <td>32.986332</td>\n",
              "      <td>-2.455440</td>\n",
              "    </tr>\n",
              "    <tr>\n",
              "      <th>10C</th>\n",
              "      <td>32.170419</td>\n",
              "      <td>-4.677651</td>\n",
              "    </tr>\n",
              "    <tr>\n",
              "      <th>18</th>\n",
              "      <td>32.134800</td>\n",
              "      <td>-4.582413</td>\n",
              "    </tr>\n",
              "    <tr>\n",
              "      <th>...</th>\n",
              "      <td>...</td>\n",
              "      <td>...</td>\n",
              "    </tr>\n",
              "    <tr>\n",
              "      <th>Zumve</th>\n",
              "      <td>33.192803</td>\n",
              "      <td>-3.639579</td>\n",
              "    </tr>\n",
              "    <tr>\n",
              "      <th>Zunga</th>\n",
              "      <td>38.366623</td>\n",
              "      <td>-6.346883</td>\n",
              "    </tr>\n",
              "    <tr>\n",
              "      <th>Zunguni</th>\n",
              "      <td>38.837185</td>\n",
              "      <td>-7.144544</td>\n",
              "    </tr>\n",
              "    <tr>\n",
              "      <th>Zunzuli</th>\n",
              "      <td>32.837214</td>\n",
              "      <td>-3.324591</td>\n",
              "    </tr>\n",
              "    <tr>\n",
              "      <th>Zuri</th>\n",
              "      <td>33.133822</td>\n",
              "      <td>-2.522985</td>\n",
              "    </tr>\n",
              "  </tbody>\n",
              "</table>\n",
              "<p>20617 rows × 2 columns</p>\n",
              "</div>\n",
              "      <button class=\"colab-df-convert\" onclick=\"convertToInteractive('df-031f68ae-5262-4fbd-abfa-bf2c68847da7')\"\n",
              "              title=\"Convert this dataframe to an interactive table.\"\n",
              "              style=\"display:none;\">\n",
              "        \n",
              "  <svg xmlns=\"http://www.w3.org/2000/svg\" height=\"24px\"viewBox=\"0 0 24 24\"\n",
              "       width=\"24px\">\n",
              "    <path d=\"M0 0h24v24H0V0z\" fill=\"none\"/>\n",
              "    <path d=\"M18.56 5.44l.94 2.06.94-2.06 2.06-.94-2.06-.94-.94-2.06-.94 2.06-2.06.94zm-11 1L8.5 8.5l.94-2.06 2.06-.94-2.06-.94L8.5 2.5l-.94 2.06-2.06.94zm10 10l.94 2.06.94-2.06 2.06-.94-2.06-.94-.94-2.06-.94 2.06-2.06.94z\"/><path d=\"M17.41 7.96l-1.37-1.37c-.4-.4-.92-.59-1.43-.59-.52 0-1.04.2-1.43.59L10.3 9.45l-7.72 7.72c-.78.78-.78 2.05 0 2.83L4 21.41c.39.39.9.59 1.41.59.51 0 1.02-.2 1.41-.59l7.78-7.78 2.81-2.81c.8-.78.8-2.07 0-2.86zM5.41 20L4 18.59l7.72-7.72 1.47 1.35L5.41 20z\"/>\n",
              "  </svg>\n",
              "      </button>\n",
              "      \n",
              "  <style>\n",
              "    .colab-df-container {\n",
              "      display:flex;\n",
              "      flex-wrap:wrap;\n",
              "      gap: 12px;\n",
              "    }\n",
              "\n",
              "    .colab-df-convert {\n",
              "      background-color: #E8F0FE;\n",
              "      border: none;\n",
              "      border-radius: 50%;\n",
              "      cursor: pointer;\n",
              "      display: none;\n",
              "      fill: #1967D2;\n",
              "      height: 32px;\n",
              "      padding: 0 0 0 0;\n",
              "      width: 32px;\n",
              "    }\n",
              "\n",
              "    .colab-df-convert:hover {\n",
              "      background-color: #E2EBFA;\n",
              "      box-shadow: 0px 1px 2px rgba(60, 64, 67, 0.3), 0px 1px 3px 1px rgba(60, 64, 67, 0.15);\n",
              "      fill: #174EA6;\n",
              "    }\n",
              "\n",
              "    [theme=dark] .colab-df-convert {\n",
              "      background-color: #3B4455;\n",
              "      fill: #D2E3FC;\n",
              "    }\n",
              "\n",
              "    [theme=dark] .colab-df-convert:hover {\n",
              "      background-color: #434B5C;\n",
              "      box-shadow: 0px 1px 3px 1px rgba(0, 0, 0, 0.15);\n",
              "      filter: drop-shadow(0px 1px 2px rgba(0, 0, 0, 0.3));\n",
              "      fill: #FFFFFF;\n",
              "    }\n",
              "  </style>\n",
              "\n",
              "      <script>\n",
              "        const buttonEl =\n",
              "          document.querySelector('#df-031f68ae-5262-4fbd-abfa-bf2c68847da7 button.colab-df-convert');\n",
              "        buttonEl.style.display =\n",
              "          google.colab.kernel.accessAllowed ? 'block' : 'none';\n",
              "\n",
              "        async function convertToInteractive(key) {\n",
              "          const element = document.querySelector('#df-031f68ae-5262-4fbd-abfa-bf2c68847da7');\n",
              "          const dataTable =\n",
              "            await google.colab.kernel.invokeFunction('convertToInteractive',\n",
              "                                                     [key], {});\n",
              "          if (!dataTable) return;\n",
              "\n",
              "          const docLinkHtml = 'Like what you see? Visit the ' +\n",
              "            '<a target=\"_blank\" href=https://colab.research.google.com/notebooks/data_table.ipynb>data table notebook</a>'\n",
              "            + ' to learn more about interactive tables.';\n",
              "          element.innerHTML = '';\n",
              "          dataTable['output_type'] = 'display_data';\n",
              "          await google.colab.output.renderOutput(dataTable, element);\n",
              "          const docLink = document.createElement('div');\n",
              "          docLink.innerHTML = docLinkHtml;\n",
              "          element.appendChild(docLink);\n",
              "        }\n",
              "      </script>\n",
              "    </div>\n",
              "  </div>\n",
              "  "
            ],
            "text/plain": [
              "            longitude  latitude\n",
              "subvillage                     \n",
              "##          31.460087 -1.553813\n",
              "'A' Kati    33.731741 -1.902525\n",
              "1           32.986332 -2.455440\n",
              "10C         32.170419 -4.677651\n",
              "18          32.134800 -4.582413\n",
              "...               ...       ...\n",
              "Zumve       33.192803 -3.639579\n",
              "Zunga       38.366623 -6.346883\n",
              "Zunguni     38.837185 -7.144544\n",
              "Zunzuli     32.837214 -3.324591\n",
              "Zuri        33.133822 -2.522985\n",
              "\n",
              "[20617 rows x 2 columns]"
            ]
          },
          "metadata": {},
          "execution_count": 43
        }
      ]
    },
    {
      "cell_type": "code",
      "source": [
        "average_coords_subvillage.min()"
      ],
      "metadata": {
        "colab": {
          "base_uri": "https://localhost:8080/"
        },
        "id": "G2-1zd3FsnmJ",
        "outputId": "9b44b589-91b1-4086-d4bf-6b24758d37e5"
      },
      "execution_count": 44,
      "outputs": [
        {
          "output_type": "execute_result",
          "data": {
            "text/plain": [
              "longitude    29.609495\n",
              "latitude    -11.560658\n",
              "dtype: float64"
            ]
          },
          "metadata": {},
          "execution_count": 44
        }
      ]
    },
    {
      "cell_type": "code",
      "source": [
        "average_coords_subvillage.max()"
      ],
      "metadata": {
        "id": "5cYHLFYlRWAG",
        "colab": {
          "base_uri": "https://localhost:8080/"
        },
        "outputId": "da179a70-e1c1-455d-9359-4ea0af9d923d"
      },
      "execution_count": 45,
      "outputs": [
        {
          "output_type": "execute_result",
          "data": {
            "text/plain": [
              "longitude    40.345193\n",
              "latitude     -0.998464\n",
              "dtype: float64"
            ]
          },
          "metadata": {},
          "execution_count": 45
        }
      ]
    },
    {
      "cell_type": "code",
      "source": [
        ""
      ],
      "metadata": {
        "id": "CTtXybju-g-W"
      },
      "execution_count": 45,
      "outputs": []
    },
    {
      "cell_type": "code",
      "source": [
        "#################################\n",
        "# Заполняем пропуски по деревням.\n",
        "#################################\n",
        "\n",
        "data_all.longitude[data_all.longitude==0] = data_all[data_all.longitude==0].subvillage.map(\n",
        "    average_coords_subvillage['longitude']\n",
        ")\n",
        "\n",
        "data_all.latitude[data_all.latitude==-0.00000002] = data_all[data_all.latitude==-0.00000002].subvillage.map(\n",
        "    average_coords_subvillage['latitude']\n",
        ")"
      ],
      "metadata": {
        "id": "3iQ-5LfEZU-A"
      },
      "execution_count": 46,
      "outputs": []
    },
    {
      "cell_type": "code",
      "source": [
        "#################################################################\n",
        "# Отображение всех водоколонок на карте Танзании, включая высоты.\n",
        "#################################################################\n",
        "\n",
        "plt.figure(figsize=(10,10))\n",
        "plt.scatter(data_all.longitude, data_all.latitude, c=data_all.gps_height)\n",
        "plt.show()"
      ],
      "metadata": {
        "colab": {
          "base_uri": "https://localhost:8080/",
          "height": 592
        },
        "id": "eJl40EMnNLqz",
        "outputId": "7c59c039-4337-4d24-a3ec-fbb42ac52620"
      },
      "execution_count": 47,
      "outputs": [
        {
          "output_type": "display_data",
          "data": {
            "image/png": "[encoded data removed]",
            "text/plain": [
              "<Figure size 720x720 with 1 Axes>"
            ]
          },
          "metadata": {
            "needs_background": "light"
          }
        }
      ]
    },
    {
      "cell_type": "markdown",
      "source": [
        "![Map.jpg](data:image/jpeg;base64,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)"
      ],
      "metadata": {
        "id": "uuGzo0Wr5UE6"
      }
    },
    {
      "cell_type": "code",
      "source": [
        "data_all.gps_height.value_counts()"
      ],
      "metadata": {
        "colab": {
          "base_uri": "https://localhost:8080/"
        },
        "id": "DZ9Lears7l61",
        "outputId": "aa03bb21-6e09-42f0-a390-2adcb83ec771"
      },
      "execution_count": 51,
      "outputs": [
        {
          "output_type": "execute_result",
          "data": {
            "text/plain": [
              " 0       25649\n",
              "-16         71\n",
              "-15         69\n",
              "-13         68\n",
              "-19         65\n",
              "         ...  \n",
              " 2457        1\n",
              " 2091        1\n",
              " 2536        1\n",
              " 2408        1\n",
              " 2015        1\n",
              "Name: gps_height, Length: 2456, dtype: int64"
            ]
          },
          "metadata": {},
          "execution_count": 51
        }
      ]
    },
    {
      "cell_type": "code",
      "source": [
        "'''\n",
        "ЗАМЕТКИ:\n",
        "- Чем ближе к феолетовому, тем ближе высота точки к уровню моря (т.е. нулю)\n",
        "- Чем ближе к желтому, тем выше точка над уровнем моря (т.е. нулю)\n",
        "Видно, что очень много нулевых высот в горных месностях, что является\n",
        "следствием установки заглушек в виде нулей в атрибуте 'gps_height'\n",
        "Водоколонок с нулевыми значениями высоты - 25649\n",
        "'''\n",
        "print()"
      ],
      "metadata": {
        "colab": {
          "base_uri": "https://localhost:8080/"
        },
        "id": "scdRl2-d5JHW",
        "outputId": "540e01d2-895a-48ea-dcd1-90df4557719e"
      },
      "execution_count": 52,
      "outputs": [
        {
          "output_type": "stream",
          "name": "stdout",
          "text": [
            "\n"
          ]
        }
      ]
    },
    {
      "cell_type": "code",
      "source": [
        "data_all.latitude.isna().sum()"
      ],
      "metadata": {
        "colab": {
          "base_uri": "https://localhost:8080/"
        },
        "id": "lGHHCJ_kK6Z6",
        "outputId": "e2447988-d7b9-43df-9e89-ef52d4eb7061"
      },
      "execution_count": 53,
      "outputs": [
        {
          "output_type": "execute_result",
          "data": {
            "text/plain": [
              "1410"
            ]
          },
          "metadata": {},
          "execution_count": 53
        }
      ]
    },
    {
      "cell_type": "code",
      "source": [
        "data_all.longitude.isna().sum()"
      ],
      "metadata": {
        "colab": {
          "base_uri": "https://localhost:8080/"
        },
        "id": "SNZMgBN3K9FA",
        "outputId": "081b89b6-57e6-4111-89ed-3b0b0ebfacf8"
      },
      "execution_count": 54,
      "outputs": [
        {
          "output_type": "execute_result",
          "data": {
            "text/plain": [
              "1410"
            ]
          },
          "metadata": {},
          "execution_count": 54
        }
      ]
    },
    {
      "cell_type": "markdown",
      "source": [
        "**Заметка:**\n",
        "\n",
        "**Не все значения успешно заменились.**\n",
        "\n",
        "**Большая часть из них превратилась в  NaN!!!**"
      ],
      "metadata": {
        "id": "X5svGQT979bI"
      }
    },
    {
      "cell_type": "code",
      "source": [
        "average_coords_subvillage"
      ],
      "metadata": {
        "colab": {
          "base_uri": "https://localhost:8080/",
          "height": 450
        },
        "id": "PQ20jNp6LTWa",
        "outputId": "71a0857b-a4be-43db-9306-3ecf5373c4ef"
      },
      "execution_count": 55,
      "outputs": [
        {
          "output_type": "execute_result",
          "data": {
            "text/html": [
              "\n",
              "  <div id=\"df-f4ffeca3-3b92-4fa6-95fd-5482eca724a9\">\n",
              "    <div class=\"colab-df-container\">\n",
              "      <div>\n",
              "<style scoped>\n",
              "    .dataframe tbody tr th:only-of-type {\n",
              "        vertical-align: middle;\n",
              "    }\n",
              "\n",
              "    .dataframe tbody tr th {\n",
              "        vertical-align: top;\n",
              "    }\n",
              "\n",
              "    .dataframe thead th {\n",
              "        text-align: right;\n",
              "    }\n",
              "</style>\n",
              "<table border=\"1\" class=\"dataframe\">\n",
              "  <thead>\n",
              "    <tr style=\"text-align: right;\">\n",
              "      <th></th>\n",
              "      <th>longitude</th>\n",
              "      <th>latitude</th>\n",
              "    </tr>\n",
              "    <tr>\n",
              "      <th>subvillage</th>\n",
              "      <th></th>\n",
              "      <th></th>\n",
              "    </tr>\n",
              "  </thead>\n",
              "  <tbody>\n",
              "    <tr>\n",
              "      <th>##</th>\n",
              "      <td>31.460087</td>\n",
              "      <td>-1.553813</td>\n",
              "    </tr>\n",
              "    <tr>\n",
              "      <th>'A' Kati</th>\n",
              "      <td>33.731741</td>\n",
              "      <td>-1.902525</td>\n",
              "    </tr>\n",
              "    <tr>\n",
              "      <th>1</th>\n",
              "      <td>32.986332</td>\n",
              "      <td>-2.455440</td>\n",
              "    </tr>\n",
              "    <tr>\n",
              "      <th>10C</th>\n",
              "      <td>32.170419</td>\n",
              "      <td>-4.677651</td>\n",
              "    </tr>\n",
              "    <tr>\n",
              "      <th>18</th>\n",
              "      <td>32.134800</td>\n",
              "      <td>-4.582413</td>\n",
              "    </tr>\n",
              "    <tr>\n",
              "      <th>...</th>\n",
              "      <td>...</td>\n",
              "      <td>...</td>\n",
              "    </tr>\n",
              "    <tr>\n",
              "      <th>Zumve</th>\n",
              "      <td>33.192803</td>\n",
              "      <td>-3.639579</td>\n",
              "    </tr>\n",
              "    <tr>\n",
              "      <th>Zunga</th>\n",
              "      <td>38.366623</td>\n",
              "      <td>-6.346883</td>\n",
              "    </tr>\n",
              "    <tr>\n",
              "      <th>Zunguni</th>\n",
              "      <td>38.837185</td>\n",
              "      <td>-7.144544</td>\n",
              "    </tr>\n",
              "    <tr>\n",
              "      <th>Zunzuli</th>\n",
              "      <td>32.837214</td>\n",
              "      <td>-3.324591</td>\n",
              "    </tr>\n",
              "    <tr>\n",
              "      <th>Zuri</th>\n",
              "      <td>33.133822</td>\n",
              "      <td>-2.522985</td>\n",
              "    </tr>\n",
              "  </tbody>\n",
              "</table>\n",
              "<p>20617 rows × 2 columns</p>\n",
              "</div>\n",
              "      <button class=\"colab-df-convert\" onclick=\"convertToInteractive('df-f4ffeca3-3b92-4fa6-95fd-5482eca724a9')\"\n",
              "              title=\"Convert this dataframe to an interactive table.\"\n",
              "              style=\"display:none;\">\n",
              "        \n",
              "  <svg xmlns=\"http://www.w3.org/2000/svg\" height=\"24px\"viewBox=\"0 0 24 24\"\n",
              "       width=\"24px\">\n",
              "    <path d=\"M0 0h24v24H0V0z\" fill=\"none\"/>\n",
              "    <path d=\"M18.56 5.44l.94 2.06.94-2.06 2.06-.94-2.06-.94-.94-2.06-.94 2.06-2.06.94zm-11 1L8.5 8.5l.94-2.06 2.06-.94-2.06-.94L8.5 2.5l-.94 2.06-2.06.94zm10 10l.94 2.06.94-2.06 2.06-.94-2.06-.94-.94-2.06-.94 2.06-2.06.94z\"/><path d=\"M17.41 7.96l-1.37-1.37c-.4-.4-.92-.59-1.43-.59-.52 0-1.04.2-1.43.59L10.3 9.45l-7.72 7.72c-.78.78-.78 2.05 0 2.83L4 21.41c.39.39.9.59 1.41.59.51 0 1.02-.2 1.41-.59l7.78-7.78 2.81-2.81c.8-.78.8-2.07 0-2.86zM5.41 20L4 18.59l7.72-7.72 1.47 1.35L5.41 20z\"/>\n",
              "  </svg>\n",
              "      </button>\n",
              "      \n",
              "  <style>\n",
              "    .colab-df-container {\n",
              "      display:flex;\n",
              "      flex-wrap:wrap;\n",
              "      gap: 12px;\n",
              "    }\n",
              "\n",
              "    .colab-df-convert {\n",
              "      background-color: #E8F0FE;\n",
              "      border: none;\n",
              "      border-radius: 50%;\n",
              "      cursor: pointer;\n",
              "      display: none;\n",
              "      fill: #1967D2;\n",
              "      height: 32px;\n",
              "      padding: 0 0 0 0;\n",
              "      width: 32px;\n",
              "    }\n",
              "\n",
              "    .colab-df-convert:hover {\n",
              "      background-color: #E2EBFA;\n",
              "      box-shadow: 0px 1px 2px rgba(60, 64, 67, 0.3), 0px 1px 3px 1px rgba(60, 64, 67, 0.15);\n",
              "      fill: #174EA6;\n",
              "    }\n",
              "\n",
              "    [theme=dark] .colab-df-convert {\n",
              "      background-color: #3B4455;\n",
              "      fill: #D2E3FC;\n",
              "    }\n",
              "\n",
              "    [theme=dark] .colab-df-convert:hover {\n",
              "      background-color: #434B5C;\n",
              "      box-shadow: 0px 1px 3px 1px rgba(0, 0, 0, 0.15);\n",
              "      filter: drop-shadow(0px 1px 2px rgba(0, 0, 0, 0.3));\n",
              "      fill: #FFFFFF;\n",
              "    }\n",
              "  </style>\n",
              "\n",
              "      <script>\n",
              "        const buttonEl =\n",
              "          document.querySelector('#df-f4ffeca3-3b92-4fa6-95fd-5482eca724a9 button.colab-df-convert');\n",
              "        buttonEl.style.display =\n",
              "          google.colab.kernel.accessAllowed ? 'block' : 'none';\n",
              "\n",
              "        async function convertToInteractive(key) {\n",
              "          const element = document.querySelector('#df-f4ffeca3-3b92-4fa6-95fd-5482eca724a9');\n",
              "          const dataTable =\n",
              "            await google.colab.kernel.invokeFunction('convertToInteractive',\n",
              "                                                     [key], {});\n",
              "          if (!dataTable) return;\n",
              "\n",
              "          const docLinkHtml = 'Like what you see? Visit the ' +\n",
              "            '<a target=\"_blank\" href=https://colab.research.google.com/notebooks/data_table.ipynb>data table notebook</a>'\n",
              "            + ' to learn more about interactive tables.';\n",
              "          element.innerHTML = '';\n",
              "          dataTable['output_type'] = 'display_data';\n",
              "          await google.colab.output.renderOutput(dataTable, element);\n",
              "          const docLink = document.createElement('div');\n",
              "          docLink.innerHTML = docLinkHtml;\n",
              "          element.appendChild(docLink);\n",
              "        }\n",
              "      </script>\n",
              "    </div>\n",
              "  </div>\n",
              "  "
            ],
            "text/plain": [
              "            longitude  latitude\n",
              "subvillage                     \n",
              "##          31.460087 -1.553813\n",
              "'A' Kati    33.731741 -1.902525\n",
              "1           32.986332 -2.455440\n",
              "10C         32.170419 -4.677651\n",
              "18          32.134800 -4.582413\n",
              "...               ...       ...\n",
              "Zumve       33.192803 -3.639579\n",
              "Zunga       38.366623 -6.346883\n",
              "Zunguni     38.837185 -7.144544\n",
              "Zunzuli     32.837214 -3.324591\n",
              "Zuri        33.133822 -2.522985\n",
              "\n",
              "[20617 rows x 2 columns]"
            ]
          },
          "metadata": {},
          "execution_count": 55
        }
      ]
    },
    {
      "cell_type": "code",
      "source": [
        "subvillage_un = len(data_all.subvillage.unique())\n",
        "print(f'Кол-во уникальных значений subvillage: {round(subvillage_un, 2)}')"
      ],
      "metadata": {
        "colab": {
          "base_uri": "https://localhost:8080/"
        },
        "id": "oiwhnwl2Nf_P",
        "outputId": "b187ebdf-6443-494c-80e4-fb01b76d27b0"
      },
      "execution_count": 56,
      "outputs": [
        {
          "output_type": "stream",
          "name": "stdout",
          "text": [
            "Кол-во уникальных значений subvillage: 21426\n"
          ]
        }
      ]
    },
    {
      "cell_type": "code",
      "source": [
        "'''\n",
        "ЗАМЕТКИ:\n",
        "Всего уникальных деревень - 21426\n",
        "Деревень добавилось в average_coords_subvillage - 20617\n",
        "809 деревень было удалено т.к. каждая из этих деревень:\n",
        " - содержала только одну водоколонку\n",
        " - эта водоколонка была с заглушкой по координатам\n",
        "Поэтому фильтр и убрал данные деревни из расчета\n",
        "\n",
        "ГИПОТЕЗА:\n",
        "Для незаполнившихся занчений взять среднее расположение уже НЕ по деревне,\n",
        "а по региону, к которому пренадлежит данная деревня\n",
        "Данный способ менее точен, чем с деревнями, но более точен, чем брать\n",
        "среднее по всей Танзании для всех пропусков.\n",
        "'''\n",
        "print()"
      ],
      "metadata": {
        "colab": {
          "base_uri": "https://localhost:8080/"
        },
        "id": "J2ODA1fdNaA3",
        "outputId": "5832a622-54da-4693-a874-92954704796b"
      },
      "execution_count": 57,
      "outputs": [
        {
          "output_type": "stream",
          "name": "stdout",
          "text": [
            "\n"
          ]
        }
      ]
    },
    {
      "cell_type": "code",
      "source": [
        "data_all.region.value_counts()"
      ],
      "metadata": {
        "colab": {
          "base_uri": "https://localhost:8080/"
        },
        "id": "FJFhYfSNOg8G",
        "outputId": "697090d1-9cb7-40e2-9028-28c7e8709709"
      },
      "execution_count": 58,
      "outputs": [
        {
          "output_type": "execute_result",
          "data": {
            "text/plain": [
              "Iringa           6599\n",
              "Shinyanga        6293\n",
              "Mbeya            5758\n",
              "Kilimanjaro      5494\n",
              "Morogoro         5038\n",
              "Kagera           4174\n",
              "Arusha           4111\n",
              "Mwanza           3897\n",
              "Kigoma           3533\n",
              "Pwani            3331\n",
              "Ruvuma           3306\n",
              "Tanga            3186\n",
              "Dodoma           2779\n",
              "Singida          2536\n",
              "Tabora           2466\n",
              "Mara             2451\n",
              "Rukwa            2242\n",
              "Mtwara           2144\n",
              "Manyara          1972\n",
              "Lindi            1920\n",
              "Dar es Salaam    1020\n",
              "Name: region, dtype: int64"
            ]
          },
          "metadata": {},
          "execution_count": 58
        }
      ]
    },
    {
      "cell_type": "code",
      "source": [
        "############################################################################\n",
        "# Определяем в каких регионах есть водоколонки неопределенного расположения.\n",
        "############################################################################\n",
        "\n",
        "data_all[data_all.longitude.isna()].groupby('region')[['longitude', 'latitude']].mean()"
      ],
      "metadata": {
        "colab": {
          "base_uri": "https://localhost:8080/",
          "height": 142
        },
        "id": "LPTjnSXoQlGz",
        "outputId": "15bf40c7-fb2d-42f3-9db8-2c138766ea31"
      },
      "execution_count": 59,
      "outputs": [
        {
          "output_type": "execute_result",
          "data": {
            "text/html": [
              "\n",
              "  <div id=\"df-e07ede0e-c3ad-4b61-8cc8-0824ca238f9a\">\n",
              "    <div class=\"colab-df-container\">\n",
              "      <div>\n",
              "<style scoped>\n",
              "    .dataframe tbody tr th:only-of-type {\n",
              "        vertical-align: middle;\n",
              "    }\n",
              "\n",
              "    .dataframe tbody tr th {\n",
              "        vertical-align: top;\n",
              "    }\n",
              "\n",
              "    .dataframe thead th {\n",
              "        text-align: right;\n",
              "    }\n",
              "</style>\n",
              "<table border=\"1\" class=\"dataframe\">\n",
              "  <thead>\n",
              "    <tr style=\"text-align: right;\">\n",
              "      <th></th>\n",
              "      <th>longitude</th>\n",
              "      <th>latitude</th>\n",
              "    </tr>\n",
              "    <tr>\n",
              "      <th>region</th>\n",
              "      <th></th>\n",
              "      <th></th>\n",
              "    </tr>\n",
              "  </thead>\n",
              "  <tbody>\n",
              "    <tr>\n",
              "      <th>Mwanza</th>\n",
              "      <td>NaN</td>\n",
              "      <td>NaN</td>\n",
              "    </tr>\n",
              "    <tr>\n",
              "      <th>Shinyanga</th>\n",
              "      <td>NaN</td>\n",
              "      <td>NaN</td>\n",
              "    </tr>\n",
              "  </tbody>\n",
              "</table>\n",
              "</div>\n",
              "      <button class=\"colab-df-convert\" onclick=\"convertToInteractive('df-e07ede0e-c3ad-4b61-8cc8-0824ca238f9a')\"\n",
              "              title=\"Convert this dataframe to an interactive table.\"\n",
              "              style=\"display:none;\">\n",
              "        \n",
              "  <svg xmlns=\"http://www.w3.org/2000/svg\" height=\"24px\"viewBox=\"0 0 24 24\"\n",
              "       width=\"24px\">\n",
              "    <path d=\"M0 0h24v24H0V0z\" fill=\"none\"/>\n",
              "    <path d=\"M18.56 5.44l.94 2.06.94-2.06 2.06-.94-2.06-.94-.94-2.06-.94 2.06-2.06.94zm-11 1L8.5 8.5l.94-2.06 2.06-.94-2.06-.94L8.5 2.5l-.94 2.06-2.06.94zm10 10l.94 2.06.94-2.06 2.06-.94-2.06-.94-.94-2.06-.94 2.06-2.06.94z\"/><path d=\"M17.41 7.96l-1.37-1.37c-.4-.4-.92-.59-1.43-.59-.52 0-1.04.2-1.43.59L10.3 9.45l-7.72 7.72c-.78.78-.78 2.05 0 2.83L4 21.41c.39.39.9.59 1.41.59.51 0 1.02-.2 1.41-.59l7.78-7.78 2.81-2.81c.8-.78.8-2.07 0-2.86zM5.41 20L4 18.59l7.72-7.72 1.47 1.35L5.41 20z\"/>\n",
              "  </svg>\n",
              "      </button>\n",
              "      \n",
              "  <style>\n",
              "    .colab-df-container {\n",
              "      display:flex;\n",
              "      flex-wrap:wrap;\n",
              "      gap: 12px;\n",
              "    }\n",
              "\n",
              "    .colab-df-convert {\n",
              "      background-color: #E8F0FE;\n",
              "      border: none;\n",
              "      border-radius: 50%;\n",
              "      cursor: pointer;\n",
              "      display: none;\n",
              "      fill: #1967D2;\n",
              "      height: 32px;\n",
              "      padding: 0 0 0 0;\n",
              "      width: 32px;\n",
              "    }\n",
              "\n",
              "    .colab-df-convert:hover {\n",
              "      background-color: #E2EBFA;\n",
              "      box-shadow: 0px 1px 2px rgba(60, 64, 67, 0.3), 0px 1px 3px 1px rgba(60, 64, 67, 0.15);\n",
              "      fill: #174EA6;\n",
              "    }\n",
              "\n",
              "    [theme=dark] .colab-df-convert {\n",
              "      background-color: #3B4455;\n",
              "      fill: #D2E3FC;\n",
              "    }\n",
              "\n",
              "    [theme=dark] .colab-df-convert:hover {\n",
              "      background-color: #434B5C;\n",
              "      box-shadow: 0px 1px 3px 1px rgba(0, 0, 0, 0.15);\n",
              "      filter: drop-shadow(0px 1px 2px rgba(0, 0, 0, 0.3));\n",
              "      fill: #FFFFFF;\n",
              "    }\n",
              "  </style>\n",
              "\n",
              "      <script>\n",
              "        const buttonEl =\n",
              "          document.querySelector('#df-e07ede0e-c3ad-4b61-8cc8-0824ca238f9a button.colab-df-convert');\n",
              "        buttonEl.style.display =\n",
              "          google.colab.kernel.accessAllowed ? 'block' : 'none';\n",
              "\n",
              "        async function convertToInteractive(key) {\n",
              "          const element = document.querySelector('#df-e07ede0e-c3ad-4b61-8cc8-0824ca238f9a');\n",
              "          const dataTable =\n",
              "            await google.colab.kernel.invokeFunction('convertToInteractive',\n",
              "                                                     [key], {});\n",
              "          if (!dataTable) return;\n",
              "\n",
              "          const docLinkHtml = 'Like what you see? Visit the ' +\n",
              "            '<a target=\"_blank\" href=https://colab.research.google.com/notebooks/data_table.ipynb>data table notebook</a>'\n",
              "            + ' to learn more about interactive tables.';\n",
              "          element.innerHTML = '';\n",
              "          dataTable['output_type'] = 'display_data';\n",
              "          await google.colab.output.renderOutput(dataTable, element);\n",
              "          const docLink = document.createElement('div');\n",
              "          docLink.innerHTML = docLinkHtml;\n",
              "          element.appendChild(docLink);\n",
              "        }\n",
              "      </script>\n",
              "    </div>\n",
              "  </div>\n",
              "  "
            ],
            "text/plain": [
              "           longitude  latitude\n",
              "region                        \n",
              "Mwanza           NaN       NaN\n",
              "Shinyanga        NaN       NaN"
            ]
          },
          "metadata": {},
          "execution_count": 59
        }
      ]
    },
    {
      "cell_type": "code",
      "source": [
        "################################################\n",
        "# находим средние координаты для региона Mwanza.\n",
        "################################################\n",
        "\n",
        "condition = (~data_all.longitude.isna()) & (data_all.region == 'Mwanza')  # скобки важны!!!\n",
        "av_Mwanza = data_all[condition].groupby('region')[['longitude', 'latitude']].mean()"
      ],
      "metadata": {
        "id": "MKDnrfa1RR7S"
      },
      "execution_count": 60,
      "outputs": []
    },
    {
      "cell_type": "code",
      "source": [
        "av_Mwanza"
      ],
      "metadata": {
        "colab": {
          "base_uri": "https://localhost:8080/",
          "height": 111
        },
        "id": "bmKu1R-eRhDc",
        "outputId": "2372eacf-168b-4b35-af64-9e784bd30413"
      },
      "execution_count": 61,
      "outputs": [
        {
          "output_type": "execute_result",
          "data": {
            "text/html": [
              "\n",
              "  <div id=\"df-ce849fcd-5419-4eab-972a-1e43c56bc04d\">\n",
              "    <div class=\"colab-df-container\">\n",
              "      <div>\n",
              "<style scoped>\n",
              "    .dataframe tbody tr th:only-of-type {\n",
              "        vertical-align: middle;\n",
              "    }\n",
              "\n",
              "    .dataframe tbody tr th {\n",
              "        vertical-align: top;\n",
              "    }\n",
              "\n",
              "    .dataframe thead th {\n",
              "        text-align: right;\n",
              "    }\n",
              "</style>\n",
              "<table border=\"1\" class=\"dataframe\">\n",
              "  <thead>\n",
              "    <tr style=\"text-align: right;\">\n",
              "      <th></th>\n",
              "      <th>longitude</th>\n",
              "      <th>latitude</th>\n",
              "    </tr>\n",
              "    <tr>\n",
              "      <th>region</th>\n",
              "      <th></th>\n",
              "      <th></th>\n",
              "    </tr>\n",
              "  </thead>\n",
              "  <tbody>\n",
              "    <tr>\n",
              "      <th>Mwanza</th>\n",
              "      <td>33.240344</td>\n",
              "      <td>-2.877543</td>\n",
              "    </tr>\n",
              "  </tbody>\n",
              "</table>\n",
              "</div>\n",
              "      <button class=\"colab-df-convert\" onclick=\"convertToInteractive('df-ce849fcd-5419-4eab-972a-1e43c56bc04d')\"\n",
              "              title=\"Convert this dataframe to an interactive table.\"\n",
              "              style=\"display:none;\">\n",
              "        \n",
              "  <svg xmlns=\"http://www.w3.org/2000/svg\" height=\"24px\"viewBox=\"0 0 24 24\"\n",
              "       width=\"24px\">\n",
              "    <path d=\"M0 0h24v24H0V0z\" fill=\"none\"/>\n",
              "    <path d=\"M18.56 5.44l.94 2.06.94-2.06 2.06-.94-2.06-.94-.94-2.06-.94 2.06-2.06.94zm-11 1L8.5 8.5l.94-2.06 2.06-.94-2.06-.94L8.5 2.5l-.94 2.06-2.06.94zm10 10l.94 2.06.94-2.06 2.06-.94-2.06-.94-.94-2.06-.94 2.06-2.06.94z\"/><path d=\"M17.41 7.96l-1.37-1.37c-.4-.4-.92-.59-1.43-.59-.52 0-1.04.2-1.43.59L10.3 9.45l-7.72 7.72c-.78.78-.78 2.05 0 2.83L4 21.41c.39.39.9.59 1.41.59.51 0 1.02-.2 1.41-.59l7.78-7.78 2.81-2.81c.8-.78.8-2.07 0-2.86zM5.41 20L4 18.59l7.72-7.72 1.47 1.35L5.41 20z\"/>\n",
              "  </svg>\n",
              "      </button>\n",
              "      \n",
              "  <style>\n",
              "    .colab-df-container {\n",
              "      display:flex;\n",
              "      flex-wrap:wrap;\n",
              "      gap: 12px;\n",
              "    }\n",
              "\n",
              "    .colab-df-convert {\n",
              "      background-color: #E8F0FE;\n",
              "      border: none;\n",
              "      border-radius: 50%;\n",
              "      cursor: pointer;\n",
              "      display: none;\n",
              "      fill: #1967D2;\n",
              "      height: 32px;\n",
              "      padding: 0 0 0 0;\n",
              "      width: 32px;\n",
              "    }\n",
              "\n",
              "    .colab-df-convert:hover {\n",
              "      background-color: #E2EBFA;\n",
              "      box-shadow: 0px 1px 2px rgba(60, 64, 67, 0.3), 0px 1px 3px 1px rgba(60, 64, 67, 0.15);\n",
              "      fill: #174EA6;\n",
              "    }\n",
              "\n",
              "    [theme=dark] .colab-df-convert {\n",
              "      background-color: #3B4455;\n",
              "      fill: #D2E3FC;\n",
              "    }\n",
              "\n",
              "    [theme=dark] .colab-df-convert:hover {\n",
              "      background-color: #434B5C;\n",
              "      box-shadow: 0px 1px 3px 1px rgba(0, 0, 0, 0.15);\n",
              "      filter: drop-shadow(0px 1px 2px rgba(0, 0, 0, 0.3));\n",
              "      fill: #FFFFFF;\n",
              "    }\n",
              "  </style>\n",
              "\n",
              "      <script>\n",
              "        const buttonEl =\n",
              "          document.querySelector('#df-ce849fcd-5419-4eab-972a-1e43c56bc04d button.colab-df-convert');\n",
              "        buttonEl.style.display =\n",
              "          google.colab.kernel.accessAllowed ? 'block' : 'none';\n",
              "\n",
              "        async function convertToInteractive(key) {\n",
              "          const element = document.querySelector('#df-ce849fcd-5419-4eab-972a-1e43c56bc04d');\n",
              "          const dataTable =\n",
              "            await google.colab.kernel.invokeFunction('convertToInteractive',\n",
              "                                                     [key], {});\n",
              "          if (!dataTable) return;\n",
              "\n",
              "          const docLinkHtml = 'Like what you see? Visit the ' +\n",
              "            '<a target=\"_blank\" href=https://colab.research.google.com/notebooks/data_table.ipynb>data table notebook</a>'\n",
              "            + ' to learn more about interactive tables.';\n",
              "          element.innerHTML = '';\n",
              "          dataTable['output_type'] = 'display_data';\n",
              "          await google.colab.output.renderOutput(dataTable, element);\n",
              "          const docLink = document.createElement('div');\n",
              "          docLink.innerHTML = docLinkHtml;\n",
              "          element.appendChild(docLink);\n",
              "        }\n",
              "      </script>\n",
              "    </div>\n",
              "  </div>\n",
              "  "
            ],
            "text/plain": [
              "        longitude  latitude\n",
              "region                     \n",
              "Mwanza  33.240344 -2.877543"
            ]
          },
          "metadata": {},
          "execution_count": 61
        }
      ]
    },
    {
      "cell_type": "code",
      "source": [
        ""
      ],
      "metadata": {
        "id": "NS8JFU-ui_oV"
      },
      "execution_count": 61,
      "outputs": []
    },
    {
      "cell_type": "code",
      "source": [
        "###################################################\n",
        "# находим средние координаты для региона Shinyanga.\n",
        "###################################################\n",
        "\n",
        "condition = (~data_all.longitude.isna()) & (data_all.region == 'Shinyanga')  # скобки важны!!!\n",
        "av_Shinyanga = data_all[condition].groupby('region')[['longitude', 'latitude']].mean()"
      ],
      "metadata": {
        "id": "KML8ZkeVSmJA"
      },
      "execution_count": 62,
      "outputs": []
    },
    {
      "cell_type": "code",
      "source": [
        "av_Shinyanga"
      ],
      "metadata": {
        "colab": {
          "base_uri": "https://localhost:8080/",
          "height": 111
        },
        "id": "XgRspAOMTLwV",
        "outputId": "0401ccd8-1f0c-4394-be36-c42c1091dbdf"
      },
      "execution_count": 63,
      "outputs": [
        {
          "output_type": "execute_result",
          "data": {
            "text/html": [
              "\n",
              "  <div id=\"df-ee263676-751b-4f5a-a081-7308c10365c9\">\n",
              "    <div class=\"colab-df-container\">\n",
              "      <div>\n",
              "<style scoped>\n",
              "    .dataframe tbody tr th:only-of-type {\n",
              "        vertical-align: middle;\n",
              "    }\n",
              "\n",
              "    .dataframe tbody tr th {\n",
              "        vertical-align: top;\n",
              "    }\n",
              "\n",
              "    .dataframe thead th {\n",
              "        text-align: right;\n",
              "    }\n",
              "</style>\n",
              "<table border=\"1\" class=\"dataframe\">\n",
              "  <thead>\n",
              "    <tr style=\"text-align: right;\">\n",
              "      <th></th>\n",
              "      <th>longitude</th>\n",
              "      <th>latitude</th>\n",
              "    </tr>\n",
              "    <tr>\n",
              "      <th>region</th>\n",
              "      <th></th>\n",
              "      <th></th>\n",
              "    </tr>\n",
              "  </thead>\n",
              "  <tbody>\n",
              "    <tr>\n",
              "      <th>Shinyanga</th>\n",
              "      <td>33.330086</td>\n",
              "      <td>-3.587087</td>\n",
              "    </tr>\n",
              "  </tbody>\n",
              "</table>\n",
              "</div>\n",
              "      <button class=\"colab-df-convert\" onclick=\"convertToInteractive('df-ee263676-751b-4f5a-a081-7308c10365c9')\"\n",
              "              title=\"Convert this dataframe to an interactive table.\"\n",
              "              style=\"display:none;\">\n",
              "        \n",
              "  <svg xmlns=\"http://www.w3.org/2000/svg\" height=\"24px\"viewBox=\"0 0 24 24\"\n",
              "       width=\"24px\">\n",
              "    <path d=\"M0 0h24v24H0V0z\" fill=\"none\"/>\n",
              "    <path d=\"M18.56 5.44l.94 2.06.94-2.06 2.06-.94-2.06-.94-.94-2.06-.94 2.06-2.06.94zm-11 1L8.5 8.5l.94-2.06 2.06-.94-2.06-.94L8.5 2.5l-.94 2.06-2.06.94zm10 10l.94 2.06.94-2.06 2.06-.94-2.06-.94-.94-2.06-.94 2.06-2.06.94z\"/><path d=\"M17.41 7.96l-1.37-1.37c-.4-.4-.92-.59-1.43-.59-.52 0-1.04.2-1.43.59L10.3 9.45l-7.72 7.72c-.78.78-.78 2.05 0 2.83L4 21.41c.39.39.9.59 1.41.59.51 0 1.02-.2 1.41-.59l7.78-7.78 2.81-2.81c.8-.78.8-2.07 0-2.86zM5.41 20L4 18.59l7.72-7.72 1.47 1.35L5.41 20z\"/>\n",
              "  </svg>\n",
              "      </button>\n",
              "      \n",
              "  <style>\n",
              "    .colab-df-container {\n",
              "      display:flex;\n",
              "      flex-wrap:wrap;\n",
              "      gap: 12px;\n",
              "    }\n",
              "\n",
              "    .colab-df-convert {\n",
              "      background-color: #E8F0FE;\n",
              "      border: none;\n",
              "      border-radius: 50%;\n",
              "      cursor: pointer;\n",
              "      display: none;\n",
              "      fill: #1967D2;\n",
              "      height: 32px;\n",
              "      padding: 0 0 0 0;\n",
              "      width: 32px;\n",
              "    }\n",
              "\n",
              "    .colab-df-convert:hover {\n",
              "      background-color: #E2EBFA;\n",
              "      box-shadow: 0px 1px 2px rgba(60, 64, 67, 0.3), 0px 1px 3px 1px rgba(60, 64, 67, 0.15);\n",
              "      fill: #174EA6;\n",
              "    }\n",
              "\n",
              "    [theme=dark] .colab-df-convert {\n",
              "      background-color: #3B4455;\n",
              "      fill: #D2E3FC;\n",
              "    }\n",
              "\n",
              "    [theme=dark] .colab-df-convert:hover {\n",
              "      background-color: #434B5C;\n",
              "      box-shadow: 0px 1px 3px 1px rgba(0, 0, 0, 0.15);\n",
              "      filter: drop-shadow(0px 1px 2px rgba(0, 0, 0, 0.3));\n",
              "      fill: #FFFFFF;\n",
              "    }\n",
              "  </style>\n",
              "\n",
              "      <script>\n",
              "        const buttonEl =\n",
              "          document.querySelector('#df-ee263676-751b-4f5a-a081-7308c10365c9 button.colab-df-convert');\n",
              "        buttonEl.style.display =\n",
              "          google.colab.kernel.accessAllowed ? 'block' : 'none';\n",
              "\n",
              "        async function convertToInteractive(key) {\n",
              "          const element = document.querySelector('#df-ee263676-751b-4f5a-a081-7308c10365c9');\n",
              "          const dataTable =\n",
              "            await google.colab.kernel.invokeFunction('convertToInteractive',\n",
              "                                                     [key], {});\n",
              "          if (!dataTable) return;\n",
              "\n",
              "          const docLinkHtml = 'Like what you see? Visit the ' +\n",
              "            '<a target=\"_blank\" href=https://colab.research.google.com/notebooks/data_table.ipynb>data table notebook</a>'\n",
              "            + ' to learn more about interactive tables.';\n",
              "          element.innerHTML = '';\n",
              "          dataTable['output_type'] = 'display_data';\n",
              "          await google.colab.output.renderOutput(dataTable, element);\n",
              "          const docLink = document.createElement('div');\n",
              "          docLink.innerHTML = docLinkHtml;\n",
              "          element.appendChild(docLink);\n",
              "        }\n",
              "      </script>\n",
              "    </div>\n",
              "  </div>\n",
              "  "
            ],
            "text/plain": [
              "           longitude  latitude\n",
              "region                        \n",
              "Shinyanga  33.330086 -3.587087"
            ]
          },
          "metadata": {},
          "execution_count": 63
        }
      ]
    },
    {
      "cell_type": "code",
      "source": [
        "condition = (data_all.longitude.isna()) & (data_all.region == 'Mwanza')  # скобки важны!!!"
      ],
      "metadata": {
        "id": "_bG8y3cpU7ic"
      },
      "execution_count": 64,
      "outputs": []
    },
    {
      "cell_type": "code",
      "source": [
        "print('Количество водоколонок для заполнения в Mwanza:', data_all[condition].shape[0])"
      ],
      "metadata": {
        "colab": {
          "base_uri": "https://localhost:8080/"
        },
        "id": "mmwP6SXiVCKv",
        "outputId": "818b55a9-7428-4bd3-c2df-fa4224a27302"
      },
      "execution_count": 65,
      "outputs": [
        {
          "output_type": "stream",
          "name": "stdout",
          "text": [
            "Количество водоколонок для заполнения в Mwanza: 545\n"
          ]
        }
      ]
    },
    {
      "cell_type": "code",
      "source": [
        "# Проверяем, что есть пропуски\n",
        "data_all.longitude.isna().sum()"
      ],
      "metadata": {
        "colab": {
          "base_uri": "https://localhost:8080/"
        },
        "id": "GpokhkGhZSNH",
        "outputId": "9a3e715b-4d4d-4524-ab84-d8125afd1a46"
      },
      "execution_count": 66,
      "outputs": [
        {
          "output_type": "execute_result",
          "data": {
            "text/plain": [
              "1410"
            ]
          },
          "metadata": {},
          "execution_count": 66
        }
      ]
    },
    {
      "cell_type": "code",
      "source": [
        "########################################################\n",
        "# Заполняем координаты для водоколонок в регионе Mwanza.\n",
        "########################################################\n",
        "\n",
        "data_all.longitude[data_all.longitude.isna()] = data_all[data_all.longitude.isna()].region.map(\n",
        "    av_Mwanza['longitude'])\n",
        "\n",
        "data_all.latitude[data_all.latitude.isna()] = data_all[data_all.latitude.isna()].region.map(\n",
        "    av_Mwanza['latitude'])"
      ],
      "metadata": {
        "id": "P0HvuXaukwhp"
      },
      "execution_count": 67,
      "outputs": []
    },
    {
      "cell_type": "code",
      "source": [
        "# проверяем заполнение\n",
        "print(data_all.longitude.isna().sum())\n",
        "print(data_all.latitude.isna().sum())"
      ],
      "metadata": {
        "colab": {
          "base_uri": "https://localhost:8080/"
        },
        "id": "9KXhHkCqk9pt",
        "outputId": "bca3fb74-bbe8-498e-b53b-2a4db171fddf"
      },
      "execution_count": 68,
      "outputs": [
        {
          "output_type": "stream",
          "name": "stdout",
          "text": [
            "865\n",
            "865\n"
          ]
        }
      ]
    },
    {
      "cell_type": "code",
      "source": [
        ""
      ],
      "metadata": {
        "id": "aibPmXHak9zQ"
      },
      "execution_count": 68,
      "outputs": []
    },
    {
      "cell_type": "code",
      "source": [
        "###########################################################\n",
        "# Заполняем координаты для водоколонок в регионе Shinyanga.\n",
        "###########################################################\n",
        "\n",
        "data_all.longitude[data_all.longitude.isna()] = data_all[data_all.longitude.isna()].region.map(\n",
        "    av_Shinyanga['longitude'])\n",
        "\n",
        "data_all.latitude[data_all.latitude.isna()] = data_all[data_all.latitude.isna()].region.map(\n",
        "    av_Shinyanga['latitude'])"
      ],
      "metadata": {
        "id": "mBcdSfz1e3y9"
      },
      "execution_count": 69,
      "outputs": []
    },
    {
      "cell_type": "code",
      "source": [
        "# проверяем заполнение\n",
        "print(data_all.longitude.isna().sum())\n",
        "print(data_all.latitude.isna().sum())"
      ],
      "metadata": {
        "colab": {
          "base_uri": "https://localhost:8080/"
        },
        "id": "bjoJ4IjxgTH4",
        "outputId": "51d99647-412f-4cc8-c99d-004894bcfd8d"
      },
      "execution_count": 70,
      "outputs": [
        {
          "output_type": "stream",
          "name": "stdout",
          "text": [
            "0\n",
            "0\n"
          ]
        }
      ]
    },
    {
      "cell_type": "code",
      "source": [
        "print(data_all.longitude.mean())\n",
        "print(data_all.longitude.min())\n",
        "print(data_all.longitude.max())"
      ],
      "metadata": {
        "colab": {
          "base_uri": "https://localhost:8080/"
        },
        "id": "9XD27SXmY2eN",
        "outputId": "710ea595-4179-4a2f-eed7-c6eb1a3ec8c1"
      },
      "execution_count": 71,
      "outputs": [
        {
          "output_type": "stream",
          "name": "stdout",
          "text": [
            "35.10331591553695\n",
            "29.6071219\n",
            "40.34519307\n"
          ]
        }
      ]
    },
    {
      "cell_type": "code",
      "source": [
        "print(data_all.latitude.mean())\n",
        "print(data_all.latitude.min())\n",
        "print(data_all.latitude.max())"
      ],
      "metadata": {
        "colab": {
          "base_uri": "https://localhost:8080/"
        },
        "id": "r_DEvS-6lsj1",
        "outputId": "2b8b6c43-556a-4ee6-8088-bf00bbee9c64"
      },
      "execution_count": 72,
      "outputs": [
        {
          "output_type": "stream",
          "name": "stdout",
          "text": [
            "-5.817963866445396\n",
            "-11.64944018\n",
            "-0.99846435\n"
          ]
        }
      ]
    },
    {
      "cell_type": "code",
      "source": [
        ""
      ],
      "metadata": {
        "id": "S_Sq9E67xIGK"
      },
      "execution_count": null,
      "outputs": []
    },
    {
      "cell_type": "markdown",
      "source": [
        "### Filling gaps and stubs"
      ],
      "metadata": {
        "id": "d-KbnSP8PH8H"
      }
    },
    {
      "cell_type": "markdown",
      "source": [
        "Заполнять пробелы будем по методу К ближайших соседей (kNN)\n",
        "\n",
        "\n",
        "Цель - научить классификатор по координатам предсказывать значения других атрибутов."
      ],
      "metadata": {
        "id": "IcTV3cIti_z0"
      }
    },
    {
      "cell_type": "code",
      "source": [
        "from sklearn.neighbors import KNeighborsClassifier, KNeighborsRegressor\n",
        "from sklearn.preprocessing import LabelEncoder"
      ],
      "metadata": {
        "id": "8U8CqRXJPocy"
      },
      "execution_count": 73,
      "outputs": []
    },
    {
      "cell_type": "code",
      "source": [
        "###########################################################\n",
        "# Заполняем координаты для водоколонок в регионе Shinyanga.\n",
        "###########################################################\n",
        "\n",
        "def fill_values_with_knn(column_name, data_all=data_all, categorical=True):\n",
        "  '''\n",
        "  Функция:\n",
        "  Заполняет значения NaN текущего атрибута по longitude&latitude согласно kNN\n",
        "\n",
        "  Принимает:\n",
        "  column_name - имя атрибута\n",
        "  data_all - датафрейм\n",
        "  categorical - флаг определяющий тип данных категориальные/числовые \n",
        "\n",
        "  '''\n",
        "\n",
        "  if categorical:\n",
        "    knn = KNeighborsClassifier(n_neighbors=5)\n",
        "    le = LabelEncoder()\n",
        "    data_all[f'{column_name}_encoded'] = le.fit_transform(data_all[column_name].astype(str)) # однако здесь все пропуски закодируются одинакого\n",
        "                                                          \n",
        "    y = data_all[f'{column_name}_encoded'] # столбец с закодированными значениями\n",
        "  else:\n",
        "    knn = KNeighborsRegressor(n_neighbors=5)\n",
        "    y = data_all[column_name] # столбец с закодированными значениями\n",
        "\n",
        "  X = data_all[['longitude', 'latitude']] # атрибуты для дтренировкм knn классификатора\n",
        "  condition = (~data_all[column_name].isna()) & (data_all.labels==True)\n",
        "\n",
        "  knn.fit(\n",
        "    X=X[condition],\n",
        "    y=y[condition]\n",
        ")\n",
        "\n",
        "  if categorical:\n",
        "    data_all[f'{column_name}_encoded'][data_all[column_name].isna()] = knn.predict(\n",
        "        X[data_all[column_name].isna()])\n",
        "  else:\n",
        "    data_all[column_name][data_all[column_name].isna()] = knn.predict(\n",
        "        X[data_all[column_name].isna()])\n",
        "        \n",
        "  "
      ],
      "metadata": {
        "id": "xC4zA4vS5QZb"
      },
      "execution_count": 74,
      "outputs": []
    },
    {
      "cell_type": "markdown",
      "source": [
        "**Заполнение 'gps_height'**"
      ],
      "metadata": {
        "id": "CvqC0ZYJG8uh"
      }
    },
    {
      "cell_type": "code",
      "source": [
        "data_all.gps_height.value_counts()"
      ],
      "metadata": {
        "colab": {
          "base_uri": "https://localhost:8080/"
        },
        "id": "L_fkLCvTHWdE",
        "outputId": "378d86f6-154f-405a-ee26-5dba17348d87"
      },
      "execution_count": 75,
      "outputs": [
        {
          "output_type": "execute_result",
          "data": {
            "text/plain": [
              " 0       25649\n",
              "-16         71\n",
              "-15         69\n",
              "-13         68\n",
              "-19         65\n",
              "         ...  \n",
              " 2457        1\n",
              " 2091        1\n",
              " 2536        1\n",
              " 2408        1\n",
              " 2015        1\n",
              "Name: gps_height, Length: 2456, dtype: int64"
            ]
          },
          "metadata": {},
          "execution_count": 75
        }
      ]
    },
    {
      "cell_type": "code",
      "source": [
        "data_all.gps_height[data_all.gps_height==0] = np.NaN"
      ],
      "metadata": {
        "id": "RfTbIythEuKC"
      },
      "execution_count": 76,
      "outputs": []
    },
    {
      "cell_type": "code",
      "source": [
        "data_all.gps_height.isna().sum()"
      ],
      "metadata": {
        "colab": {
          "base_uri": "https://localhost:8080/"
        },
        "id": "b6g20V9EEuNp",
        "outputId": "b23b3c07-c578-4101-b694-bf838a73d6fc"
      },
      "execution_count": 77,
      "outputs": [
        {
          "output_type": "execute_result",
          "data": {
            "text/plain": [
              "25649"
            ]
          },
          "metadata": {},
          "execution_count": 77
        }
      ]
    },
    {
      "cell_type": "code",
      "source": [
        "############################################\n",
        "# Проверка функции заполнения на gps_height.\n",
        "############################################\n",
        "\n",
        "fill_values_with_knn('gps_height', categorical=False)"
      ],
      "metadata": {
        "id": "lFAaZEhcEuSz"
      },
      "execution_count": 78,
      "outputs": []
    },
    {
      "cell_type": "code",
      "source": [
        "plt.figure(figsize=(10,10))\n",
        "plt.scatter(data_all.longitude, data_all.latitude, c=data_all.gps_height)\n",
        "plt.show()"
      ],
      "metadata": {
        "colab": {
          "base_uri": "https://localhost:8080/",
          "height": 592
        },
        "id": "XZnPMrq9EuWm",
        "outputId": "13fe9bea-1373-411d-cd6d-3690a594bcb7"
      },
      "execution_count": 79,
      "outputs": [
        {
          "output_type": "display_data",
          "data": {
            "image/png": "[encoded data removed]",
            "text/plain": [
              "<Figure size 720x720 with 1 Axes>"
            ]
          },
          "metadata": {
            "needs_background": "light"
          }
        }
      ]
    },
    {
      "cell_type": "code",
      "source": [
        "# резервная копия на случай отката\n",
        "data_copy = data_all.copy()"
      ],
      "metadata": {
        "id": "GqpEnRhZEuad"
      },
      "execution_count": 80,
      "outputs": []
    },
    {
      "cell_type": "code",
      "source": [
        ""
      ],
      "metadata": {
        "id": "rtQLo-Mkb9f2"
      },
      "execution_count": null,
      "outputs": []
    },
    {
      "cell_type": "markdown",
      "source": [
        "**Заполнение пропусков остальных атрибутов**"
      ],
      "metadata": {
        "id": "aQAaiLyblxbv"
      }
    },
    {
      "cell_type": "code",
      "source": [
        "data_all = data_copy.copy()"
      ],
      "metadata": {
        "id": "T7HIhHU3cESs"
      },
      "execution_count": 81,
      "outputs": []
    },
    {
      "cell_type": "code",
      "source": [
        "# доля пропусков\n",
        "(data_all.isna().sum()/data_all.shape[0]).sort_values(ascending=False)"
      ],
      "metadata": {
        "id": "N462xQYBIJYM",
        "colab": {
          "base_uri": "https://localhost:8080/"
        },
        "outputId": "0cf6aaf2-6ef7-4a0d-8850-471451cf12cf"
      },
      "execution_count": 82,
      "outputs": [
        {
          "output_type": "execute_result",
          "data": {
            "text/plain": [
              "scheme_name              0.474855\n",
              "scheme_management        0.065266\n",
              "installer                0.061037\n",
              "funder                   0.060660\n",
              "public_meeting           0.055960\n",
              "permit                   0.051084\n",
              "subvillage               0.006330\n",
              "gps_height               0.000000\n",
              "longitude                0.000000\n",
              "latitude                 0.000000\n",
              "wpt_name                 0.000000\n",
              "num_private              0.000000\n",
              "date_recorded            0.000000\n",
              "region                   0.000000\n",
              "region_code              0.000000\n",
              "district_code            0.000000\n",
              "lga                      0.000000\n",
              "ward                     0.000000\n",
              "population               0.000000\n",
              "amount_tsh               0.000000\n",
              "recorded_by              0.000000\n",
              "basin                    0.000000\n",
              "month_recorded           0.000000\n",
              "year_recorded            0.000000\n",
              "quantity                 0.000000\n",
              "amount_tsh_bool          0.000000\n",
              "labels                   0.000000\n",
              "waterpoint_type_group    0.000000\n",
              "waterpoint_type          0.000000\n",
              "source_class             0.000000\n",
              "source_type              0.000000\n",
              "source                   0.000000\n",
              "quantity_group           0.000000\n",
              "quality_group            0.000000\n",
              "construction_year        0.000000\n",
              "water_quality            0.000000\n",
              "payment_type             0.000000\n",
              "payment                  0.000000\n",
              "management_group         0.000000\n",
              "management               0.000000\n",
              "extraction_type_class    0.000000\n",
              "extraction_type_group    0.000000\n",
              "extraction_type          0.000000\n",
              "id                       0.000000\n",
              "dtype: float64"
            ]
          },
          "metadata": {},
          "execution_count": 82
        }
      ]
    },
    {
      "cell_type": "code",
      "source": [
        "# красивый Progress_board\n",
        "from tqdm import tqdm_notebook"
      ],
      "metadata": {
        "id": "KHrgN-FcYfc3"
      },
      "execution_count": 83,
      "outputs": []
    },
    {
      "cell_type": "code",
      "source": [
        "#################################\n",
        "# Функция замены заглушек на NaN\n",
        "#################################\n",
        "\n",
        "fill_dict_cat_change = {\n",
        "              # с заглушками\n",
        "             'wpt_name'         :'none',      # класс none -> NaN (в примере так НЕ делают)\n",
        "             'population'       :0,           # заполнение нулей NaN\n",
        "             'construction_year':0,\n",
        "             'management'       :'unknown',   # класс unknow -> NaN (в примере так НЕ делают)\n",
        "             'payment'          :'unknown',   # класс unknow -> NaN (в примере так НЕ делают)\n",
        "             'payment_type'     :'unknown',   # класс unknow -> NaN (в примере так НЕ делают)\n",
        "             'water_quality'    :'unknown',   # класс unknow -> NaN (в примере так НЕ делают)\n",
        "             'quality_group'    :'unknown',   # класс unknow -> NaN (в примере так НЕ делают)\n",
        "             'quantity'         :'unknown'    # класс unknow -> NaN (в примере так НЕ делают)\n",
        "}\n",
        "\n",
        "for atribut in tqdm_notebook(fill_dict_cat_change):\n",
        "  condition = (data_all[atribut] == fill_dict_cat_change[atribut])\n",
        "  data_all[atribut][condition] = np.NaN\n",
        "  "
      ],
      "metadata": {
        "colab": {
          "base_uri": "https://localhost:8080/",
          "height": 49,
          "referenced_widgets": [
            "3541c4ec70584db0ba744fa91fe82ead",
            "84de2fdf38064c01ab0f00065e3d0f58",
            "ead75f2cc5b147eebd06ef6a32840bc6",
            "4227d86b64e940d5a9b03723d29008cb",
            "56533170909e40efbaa6f83b7fe01f14",
            "feb96fc336dd45bd9b723641f1d1504f",
            "97740ba8a452436794d5cdcd48150503",
            "905b760db38040628d8d261eb1e1a729",
            "b608a99ae35b49c7a2470784ccad9f32",
            "4c61ff93c8e940b69dc4f525c23bae0c",
            "7ef3e147569b4245842d7777d3c79027"
          ]
        },
        "id": "mXBHn8buYfgW",
        "outputId": "7a5c706b-c153-4982-b145-48b32d8f56e1"
      },
      "execution_count": 84,
      "outputs": [
        {
          "output_type": "display_data",
          "data": {
            "application/vnd.jupyter.widget-view+json": {
              "model_id": "3541c4ec70584db0ba744fa91fe82ead",
              "version_minor": 0,
              "version_major": 2
            },
            "text/plain": [
              "  0%|          | 0/9 [00:00<?, ?it/s]"
            ]
          },
          "metadata": {}
        }
      ]
    },
    {
      "cell_type": "code",
      "source": [
        "(data_all.isna().sum()/data_all.shape[0]).sort_values(ascending=False)"
      ],
      "metadata": {
        "colab": {
          "base_uri": "https://localhost:8080/"
        },
        "id": "uCl9DeRvYfj0",
        "outputId": "6f15d78c-dd01-48d0-83aa-31b5188253ce"
      },
      "execution_count": 85,
      "outputs": [
        {
          "output_type": "execute_result",
          "data": {
            "text/plain": [
              "scheme_name              0.474855\n",
              "population               0.361401\n",
              "construction_year        0.349751\n",
              "payment                  0.136687\n",
              "payment_type             0.136687\n",
              "scheme_management        0.065266\n",
              "installer                0.061037\n",
              "funder                   0.060660\n",
              "wpt_name                 0.059798\n",
              "public_meeting           0.055960\n",
              "permit                   0.051084\n",
              "quality_group            0.031582\n",
              "water_quality            0.031582\n",
              "quantity                 0.013131\n",
              "management               0.009199\n",
              "subvillage               0.006330\n",
              "region                   0.000000\n",
              "district_code            0.000000\n",
              "region_code              0.000000\n",
              "gps_height               0.000000\n",
              "basin                    0.000000\n",
              "num_private              0.000000\n",
              "date_recorded            0.000000\n",
              "lga                      0.000000\n",
              "latitude                 0.000000\n",
              "longitude                0.000000\n",
              "amount_tsh               0.000000\n",
              "month_recorded           0.000000\n",
              "ward                     0.000000\n",
              "recorded_by              0.000000\n",
              "year_recorded            0.000000\n",
              "extraction_type          0.000000\n",
              "extraction_type_group    0.000000\n",
              "extraction_type_class    0.000000\n",
              "management_group         0.000000\n",
              "quantity_group           0.000000\n",
              "source                   0.000000\n",
              "source_type              0.000000\n",
              "source_class             0.000000\n",
              "waterpoint_type          0.000000\n",
              "waterpoint_type_group    0.000000\n",
              "labels                   0.000000\n",
              "amount_tsh_bool          0.000000\n",
              "id                       0.000000\n",
              "dtype: float64"
            ]
          },
          "metadata": {},
          "execution_count": 85
        }
      ]
    },
    {
      "cell_type": "code",
      "source": [
        "'''\n",
        "ЗАМЕТКА:\n",
        "Видно, что число атрибутов с нулевыми значениями увеличилось, т.е.\n",
        "замены произошла  успешно\n",
        "'''\n",
        "print()"
      ],
      "metadata": {
        "colab": {
          "base_uri": "https://localhost:8080/"
        },
        "id": "iTmk3ZcYrlXA",
        "outputId": "aaa66969-0565-4ac7-9758-343da2bca778"
      },
      "execution_count": 86,
      "outputs": [
        {
          "output_type": "stream",
          "name": "stdout",
          "text": [
            "\n"
          ]
        }
      ]
    },
    {
      "cell_type": "code",
      "source": [
        ""
      ],
      "metadata": {
        "id": "L92DLxy3YfoE"
      },
      "execution_count": 86,
      "outputs": []
    },
    {
      "cell_type": "code",
      "source": [
        "#############################\n",
        "# Лист атрибутов на удаление.\n",
        "#############################\n",
        "\n",
        "drop_list = [\n",
        "             'id',              # камон! это же ID\n",
        "             'num_private',      # много пропусков и нет информации\n",
        "             'amount_tsh',       # создали альтернативу\n",
        "             'date_recorded',    # создали альтернативу\n",
        "             'year_recorded',\n",
        "             'recorded_by',     # дич\n",
        "             'quantity_group',  # ВООБЩЕ нет разницы с quantity\n",
        "             'source_type',     # обобщают данные source\n",
        "             'source_class',    # обобщают данные source\n",
        "             'waterpoint_type_group',\n",
        "             'extraction_type_group',\n",
        "             'extraction_type_class',\n",
        "             'management_group'\n",
        "]\n",
        "\n",
        "#########################################################\n",
        "# Лист атрибутов на заполнение для категориальных данных.\n",
        "#########################################################\n",
        "\n",
        "fill_list_cat = [\n",
        "              # изначально были с NaN  \n",
        "             'funder',\n",
        "             'installer', \n",
        "             'scheme_management',\n",
        "             'scheme_name',     # потом можно попробовать дропнуть\n",
        "             'public_meeting',\n",
        "             'permit',\n",
        "             'subvillage',      # деревни\n",
        "\n",
        "              # с замененными заглушками\n",
        "             'wpt_name',        # класс none -> NaN (в примере так НЕ делают)\n",
        "             'management',      # класс unknow -> NaN (в примере так НЕ делают)\n",
        "             'payment',         # класс unknow -> NaN (в примере так НЕ делают)\n",
        "             'payment_type',    # класс unknow -> NaN (в примере так НЕ делают)\n",
        "             'water_quality',   # класс unknow -> NaN (в примере так НЕ делают)\n",
        "             'quality_group',   # класс unknow -> NaN (в примере так НЕ делают)\n",
        "             'quantity'         # класс unknow -> NaN (в примере так НЕ делают)\n",
        "]\n",
        "\n",
        "# группы вероятно сильно кореллируют, можно пробовать чистить\n",
        "# other вероятно тоже заглушка, но пока её НЕ заменяю\n",
        "\n",
        "######################################################\n",
        "# Лист атрибутов на заполнение для непрерывных дынных.\n",
        "######################################################\n",
        "\n",
        "fill_list_num = [\n",
        "                 'construction_year',\n",
        "                 'population'         #\n",
        "]"
      ],
      "metadata": {
        "id": "9tlwnV9uIJdY"
      },
      "execution_count": 87,
      "outputs": []
    },
    {
      "cell_type": "code",
      "source": [
        "############################\n",
        "# Заменяем NaN согласно kNN.\n",
        "############################\n",
        "\n",
        "for i in tqdm_notebook(fill_list_cat):\n",
        "  fill_values_with_knn(i, data_all=data_all, categorical=True)\n",
        "  data_all.drop(i, axis=1, inplace=True)\n",
        "\n",
        "for i in tqdm_notebook(fill_list_num):\n",
        "  fill_values_with_knn(i, data_all=data_all, categorical=False)\n",
        "#  data_all.drop(i, axis=1, inplace=True)"
      ],
      "metadata": {
        "colab": {
          "base_uri": "https://localhost:8080/",
          "height": 81,
          "referenced_widgets": [
            "01258315abac4307a1f804e84dab3226",
            "3938d7a0e650498f97719af7b7a7b318",
            "6fbb635f507144adb66673fe6aca183e",
            "8cad35403caa447b8c632990ca11e582",
            "5d065885202b4bb4a11cabf4de8dc2d7",
            "bd8932ab56094d42823d42a8473acc64",
            "6fda6da4d6464df688e277e70c6dbf04",
            "3fbf5fe8f77445b6bbf9732620183cc9",
            "29e7ecaaa67841069bdb9966fcffc793",
            "ed482dcac57340748cdaefd238becb99",
            "bf47acba34024b2cac9ba7e1080dbcb5",
            "c89f1a54f7d24e22bdf42e40df5adb6f",
            "e5af04697f22458c8d0a88dbd2681644",
            "6ca44453943d4ddfb8548411eba3c0cf",
            "e22d80137648445598ec0ccbfc0d27a3",
            "6b90b43d064a49deb997e8c554082583",
            "2525be2183e440708c04dbe933a2463d",
            "4e7b07bec80e483dab45a0534b8fae80",
            "6b6c0d32d514404ebd24e09d9897d79f",
            "00811db30e464ef2b24c13756065da9b",
            "00b4108a73844ec6990972e87a8c1f5a",
            "32fa75cc15c048a9a341c72f59210b70"
          ]
        },
        "id": "yOrje7_TvNKk",
        "outputId": "40edbc93-ed3d-4e35-83ff-0f74a658c098"
      },
      "execution_count": 88,
      "outputs": [
        {
          "output_type": "display_data",
          "data": {
            "application/vnd.jupyter.widget-view+json": {
              "model_id": "01258315abac4307a1f804e84dab3226",
              "version_minor": 0,
              "version_major": 2
            },
            "text/plain": [
              "  0%|          | 0/14 [00:00<?, ?it/s]"
            ]
          },
          "metadata": {}
        },
        {
          "output_type": "display_data",
          "data": {
            "application/vnd.jupyter.widget-view+json": {
              "model_id": "c89f1a54f7d24e22bdf42e40df5adb6f",
              "version_minor": 0,
              "version_major": 2
            },
            "text/plain": [
              "  0%|          | 0/2 [00:00<?, ?it/s]"
            ]
          },
          "metadata": {}
        }
      ]
    },
    {
      "cell_type": "code",
      "source": [
        ""
      ],
      "metadata": {
        "id": "nOvj-WuTj74A"
      },
      "execution_count": null,
      "outputs": []
    },
    {
      "cell_type": "code",
      "source": [
        "# проверяем успешность замены NAN по kNN\n",
        "\n",
        "100 * (data_all.isna().sum()/data_all.shape[0]).sort_values(ascending=False)"
      ],
      "metadata": {
        "colab": {
          "base_uri": "https://localhost:8080/"
        },
        "id": "H62u4KszLOlu",
        "outputId": "8a661f1b-f1f8-4bd7-aad8-f18be6f3295f"
      },
      "execution_count": 89,
      "outputs": [
        {
          "output_type": "execute_result",
          "data": {
            "text/plain": [
              "quantity_encoded             0.0\n",
              "quality_group_encoded        0.0\n",
              "management_group             0.0\n",
              "extraction_type_class        0.0\n",
              "extraction_type_group        0.0\n",
              "extraction_type              0.0\n",
              "construction_year            0.0\n",
              "recorded_by                  0.0\n",
              "population                   0.0\n",
              "ward                         0.0\n",
              "lga                          0.0\n",
              "district_code                0.0\n",
              "region_code                  0.0\n",
              "region                       0.0\n",
              "basin                        0.0\n",
              "num_private                  0.0\n",
              "latitude                     0.0\n",
              "longitude                    0.0\n",
              "gps_height                   0.0\n",
              "date_recorded                0.0\n",
              "amount_tsh                   0.0\n",
              "quantity_group               0.0\n",
              "source                       0.0\n",
              "source_type                  0.0\n",
              "scheme_name_encoded          0.0\n",
              "water_quality_encoded        0.0\n",
              "payment_type_encoded         0.0\n",
              "payment_encoded              0.0\n",
              "management_encoded           0.0\n",
              "wpt_name_encoded             0.0\n",
              "subvillage_encoded           0.0\n",
              "permit_encoded               0.0\n",
              "public_meeting_encoded       0.0\n",
              "scheme_management_encoded    0.0\n",
              "source_class                 0.0\n",
              "installer_encoded            0.0\n",
              "funder_encoded               0.0\n",
              "month_recorded               0.0\n",
              "year_recorded                0.0\n",
              "amount_tsh_bool              0.0\n",
              "labels                       0.0\n",
              "waterpoint_type_group        0.0\n",
              "waterpoint_type              0.0\n",
              "id                           0.0\n",
              "dtype: float64"
            ]
          },
          "metadata": {},
          "execution_count": 89
        }
      ]
    },
    {
      "cell_type": "code",
      "source": [
        "s1 = len(data_all.columns)\n",
        "s2 = len(drop_list)\n",
        "f = len(data_all.columns) - len(drop_list)\n",
        "print(f'Исходное чилос колоно ({s1}) - колонки на удаление ({s2}) = ({f})')"
      ],
      "metadata": {
        "colab": {
          "base_uri": "https://localhost:8080/"
        },
        "id": "feyZVRHAOCxK",
        "outputId": "0817a1a2-cc8a-43ac-ea6a-f2cc3f6d6665"
      },
      "execution_count": 91,
      "outputs": [
        {
          "output_type": "stream",
          "name": "stdout",
          "text": [
            "Исходное чилос колоно (44) - колонки на удаление (13) = (31)\n"
          ]
        }
      ]
    },
    {
      "cell_type": "code",
      "source": [
        "data_all.drop(drop_list, axis=1, inplace=True)"
      ],
      "metadata": {
        "id": "Jc4g7T8_sGMs"
      },
      "execution_count": 92,
      "outputs": []
    },
    {
      "cell_type": "code",
      "source": [
        "# проверка успешности удаления\n",
        "\n",
        "len(data_all.columns)"
      ],
      "metadata": {
        "colab": {
          "base_uri": "https://localhost:8080/"
        },
        "id": "6xRiRtHOsGQr",
        "outputId": "8d5508e7-c707-4e6c-f67b-714e88228eb8"
      },
      "execution_count": 93,
      "outputs": [
        {
          "output_type": "execute_result",
          "data": {
            "text/plain": [
              "31"
            ]
          },
          "metadata": {},
          "execution_count": 93
        }
      ]
    },
    {
      "cell_type": "code",
      "source": [
        "data_all.columns"
      ],
      "metadata": {
        "id": "sqvKjgDAIJlF",
        "colab": {
          "base_uri": "https://localhost:8080/"
        },
        "outputId": "96d75b76-5dc9-4676-b12a-eeee803f7ddb"
      },
      "execution_count": 94,
      "outputs": [
        {
          "output_type": "execute_result",
          "data": {
            "text/plain": [
              "Index(['gps_height', 'longitude', 'latitude', 'basin', 'region', 'region_code',\n",
              "       'district_code', 'lga', 'ward', 'population', 'construction_year',\n",
              "       'extraction_type', 'source', 'waterpoint_type', 'labels',\n",
              "       'amount_tsh_bool', 'month_recorded', 'funder_encoded',\n",
              "       'installer_encoded', 'scheme_management_encoded', 'scheme_name_encoded',\n",
              "       'public_meeting_encoded', 'permit_encoded', 'subvillage_encoded',\n",
              "       'wpt_name_encoded', 'management_encoded', 'payment_encoded',\n",
              "       'payment_type_encoded', 'water_quality_encoded',\n",
              "       'quality_group_encoded', 'quantity_encoded'],\n",
              "      dtype='object')"
            ]
          },
          "metadata": {},
          "execution_count": 94
        }
      ]
    },
    {
      "cell_type": "code",
      "source": [
        "data_all.dtypes"
      ],
      "metadata": {
        "colab": {
          "base_uri": "https://localhost:8080/"
        },
        "id": "6lb9x38KwNO8",
        "outputId": "fa080d85-9b1b-441d-87bb-2e5fe6b87006"
      },
      "execution_count": 95,
      "outputs": [
        {
          "output_type": "execute_result",
          "data": {
            "text/plain": [
              "gps_height                   float64\n",
              "longitude                    float64\n",
              "latitude                     float64\n",
              "basin                         object\n",
              "region                        object\n",
              "region_code                    int64\n",
              "district_code                  int64\n",
              "lga                           object\n",
              "ward                          object\n",
              "population                   float64\n",
              "construction_year            float64\n",
              "extraction_type               object\n",
              "source                        object\n",
              "waterpoint_type               object\n",
              "labels                          bool\n",
              "amount_tsh_bool                 bool\n",
              "month_recorded                 int64\n",
              "funder_encoded                 int64\n",
              "installer_encoded              int64\n",
              "scheme_management_encoded      int64\n",
              "scheme_name_encoded            int64\n",
              "public_meeting_encoded         int64\n",
              "permit_encoded                 int64\n",
              "subvillage_encoded             int64\n",
              "wpt_name_encoded               int64\n",
              "management_encoded             int64\n",
              "payment_encoded                int64\n",
              "payment_type_encoded           int64\n",
              "water_quality_encoded          int64\n",
              "quality_group_encoded          int64\n",
              "quantity_encoded               int64\n",
              "dtype: object"
            ]
          },
          "metadata": {},
          "execution_count": 95
        }
      ]
    },
    {
      "cell_type": "code",
      "source": [
        "list_need_encode = ['basin', 'region', 'lga', 'ward', 'extraction_type', 'source', 'waterpoint_type']"
      ],
      "metadata": {
        "id": "NG04bXZVwNSR"
      },
      "execution_count": 96,
      "outputs": []
    },
    {
      "cell_type": "code",
      "source": [
        "'''\n",
        "ЗАМЕТКА:\n",
        "Не которые атрибуты имеют тип object\n",
        "ЗАДАЧА:\n",
        "Закодировать значения данных атрибутов \n",
        "'''\n",
        "print()"
      ],
      "metadata": {
        "id": "-KwOUMfNtWuH",
        "colab": {
          "base_uri": "https://localhost:8080/"
        },
        "outputId": "f55c5c27-164e-4b7d-fea4-ec1cbdeb870e"
      },
      "execution_count": 97,
      "outputs": [
        {
          "output_type": "stream",
          "name": "stdout",
          "text": [
            "\n"
          ]
        }
      ]
    },
    {
      "cell_type": "code",
      "source": [
        "le = LabelEncoder()\n",
        "for atribut in list_need_encode:\n",
        "  data_all[f'{atribut}_encoded'] = le.fit_transform(data_all[atribut])\n",
        "  data_all.drop(atribut, axis=1, inplace=True)"
      ],
      "metadata": {
        "id": "jS989vm7EueT"
      },
      "execution_count": 98,
      "outputs": []
    },
    {
      "cell_type": "code",
      "source": [
        "# проверка кодировки\n",
        "data_all.dtypes"
      ],
      "metadata": {
        "colab": {
          "base_uri": "https://localhost:8080/"
        },
        "id": "cyfGQ3qqxQEV",
        "outputId": "a34db6cc-83c9-45ca-c021-bc5fc3c94f14"
      },
      "execution_count": 99,
      "outputs": [
        {
          "output_type": "execute_result",
          "data": {
            "text/plain": [
              "gps_height                   float64\n",
              "longitude                    float64\n",
              "latitude                     float64\n",
              "region_code                    int64\n",
              "district_code                  int64\n",
              "population                   float64\n",
              "construction_year            float64\n",
              "labels                          bool\n",
              "amount_tsh_bool                 bool\n",
              "month_recorded                 int64\n",
              "funder_encoded                 int64\n",
              "installer_encoded              int64\n",
              "scheme_management_encoded      int64\n",
              "scheme_name_encoded            int64\n",
              "public_meeting_encoded         int64\n",
              "permit_encoded                 int64\n",
              "subvillage_encoded             int64\n",
              "wpt_name_encoded               int64\n",
              "management_encoded             int64\n",
              "payment_encoded                int64\n",
              "payment_type_encoded           int64\n",
              "water_quality_encoded          int64\n",
              "quality_group_encoded          int64\n",
              "quantity_encoded               int64\n",
              "basin_encoded                  int64\n",
              "region_encoded                 int64\n",
              "lga_encoded                    int64\n",
              "ward_encoded                   int64\n",
              "extraction_type_encoded        int64\n",
              "source_encoded                 int64\n",
              "waterpoint_type_encoded        int64\n",
              "dtype: object"
            ]
          },
          "metadata": {},
          "execution_count": 99
        }
      ]
    },
    {
      "cell_type": "code",
      "source": [
        "data_all"
      ],
      "metadata": {
        "colab": {
          "base_uri": "https://localhost:8080/",
          "height": 483
        },
        "id": "oFUhy5OYzIOA",
        "outputId": "1d2b6061-02bf-4590-ef9c-27d09ccb8f48"
      },
      "execution_count": 100,
      "outputs": [
        {
          "output_type": "execute_result",
          "data": {
            "text/html": [
              "\n",
              "  <div id=\"df-01195759-9a2b-4bc5-82be-d45b134d7c27\">\n",
              "    <div class=\"colab-df-container\">\n",
              "      <div>\n",
              "<style scoped>\n",
              "    .dataframe tbody tr th:only-of-type {\n",
              "        vertical-align: middle;\n",
              "    }\n",
              "\n",
              "    .dataframe tbody tr th {\n",
              "        vertical-align: top;\n",
              "    }\n",
              "\n",
              "    .dataframe thead th {\n",
              "        text-align: right;\n",
              "    }\n",
              "</style>\n",
              "<table border=\"1\" class=\"dataframe\">\n",
              "  <thead>\n",
              "    <tr style=\"text-align: right;\">\n",
              "      <th></th>\n",
              "      <th>gps_height</th>\n",
              "      <th>longitude</th>\n",
              "      <th>latitude</th>\n",
              "      <th>region_code</th>\n",
              "      <th>district_code</th>\n",
              "      <th>population</th>\n",
              "      <th>construction_year</th>\n",
              "      <th>labels</th>\n",
              "      <th>amount_tsh_bool</th>\n",
              "      <th>month_recorded</th>\n",
              "      <th>funder_encoded</th>\n",
              "      <th>installer_encoded</th>\n",
              "      <th>scheme_management_encoded</th>\n",
              "      <th>scheme_name_encoded</th>\n",
              "      <th>public_meeting_encoded</th>\n",
              "      <th>permit_encoded</th>\n",
              "      <th>subvillage_encoded</th>\n",
              "      <th>wpt_name_encoded</th>\n",
              "      <th>management_encoded</th>\n",
              "      <th>payment_encoded</th>\n",
              "      <th>payment_type_encoded</th>\n",
              "      <th>water_quality_encoded</th>\n",
              "      <th>quality_group_encoded</th>\n",
              "      <th>quantity_encoded</th>\n",
              "      <th>basin_encoded</th>\n",
              "      <th>region_encoded</th>\n",
              "      <th>lga_encoded</th>\n",
              "      <th>ward_encoded</th>\n",
              "      <th>extraction_type_encoded</th>\n",
              "      <th>source_encoded</th>\n",
              "      <th>waterpoint_type_encoded</th>\n",
              "    </tr>\n",
              "  </thead>\n",
              "  <tbody>\n",
              "    <tr>\n",
              "      <th>0</th>\n",
              "      <td>1390.0</td>\n",
              "      <td>34.938093</td>\n",
              "      <td>-9.856322</td>\n",
              "      <td>11</td>\n",
              "      <td>5</td>\n",
              "      <td>109.0</td>\n",
              "      <td>1999.0</td>\n",
              "      <td>True</td>\n",
              "      <td>False</td>\n",
              "      <td>3</td>\n",
              "      <td>1548</td>\n",
              "      <td>1706</td>\n",
              "      <td>7</td>\n",
              "      <td>2388</td>\n",
              "      <td>1</td>\n",
              "      <td>0</td>\n",
              "      <td>13116</td>\n",
              "      <td>9784</td>\n",
              "      <td>7</td>\n",
              "      <td>3</td>\n",
              "      <td>0</td>\n",
              "      <td>7</td>\n",
              "      <td>2</td>\n",
              "      <td>1</td>\n",
              "      <td>1</td>\n",
              "      <td>3</td>\n",
              "      <td>51</td>\n",
              "      <td>1429</td>\n",
              "      <td>3</td>\n",
              "      <td>8</td>\n",
              "      <td>1</td>\n",
              "    </tr>\n",
              "    <tr>\n",
              "      <th>1</th>\n",
              "      <td>1399.0</td>\n",
              "      <td>34.698766</td>\n",
              "      <td>-2.147466</td>\n",
              "      <td>20</td>\n",
              "      <td>2</td>\n",
              "      <td>280.0</td>\n",
              "      <td>2010.0</td>\n",
              "      <td>True</td>\n",
              "      <td>True</td>\n",
              "      <td>3</td>\n",
              "      <td>522</td>\n",
              "      <td>610</td>\n",
              "      <td>2</td>\n",
              "      <td>2385</td>\n",
              "      <td>1</td>\n",
              "      <td>1</td>\n",
              "      <td>17596</td>\n",
              "      <td>45426</td>\n",
              "      <td>11</td>\n",
              "      <td>1</td>\n",
              "      <td>3</td>\n",
              "      <td>7</td>\n",
              "      <td>2</td>\n",
              "      <td>2</td>\n",
              "      <td>4</td>\n",
              "      <td>9</td>\n",
              "      <td>103</td>\n",
              "      <td>1581</td>\n",
              "      <td>3</td>\n",
              "      <td>5</td>\n",
              "      <td>1</td>\n",
              "    </tr>\n",
              "    <tr>\n",
              "      <th>2</th>\n",
              "      <td>686.0</td>\n",
              "      <td>37.460664</td>\n",
              "      <td>-3.821329</td>\n",
              "      <td>21</td>\n",
              "      <td>4</td>\n",
              "      <td>250.0</td>\n",
              "      <td>2009.0</td>\n",
              "      <td>True</td>\n",
              "      <td>False</td>\n",
              "      <td>2</td>\n",
              "      <td>924</td>\n",
              "      <td>2296</td>\n",
              "      <td>7</td>\n",
              "      <td>2261</td>\n",
              "      <td>1</td>\n",
              "      <td>1</td>\n",
              "      <td>10096</td>\n",
              "      <td>17767</td>\n",
              "      <td>7</td>\n",
              "      <td>5</td>\n",
              "      <td>6</td>\n",
              "      <td>7</td>\n",
              "      <td>2</td>\n",
              "      <td>1</td>\n",
              "      <td>5</td>\n",
              "      <td>8</td>\n",
              "      <td>108</td>\n",
              "      <td>1629</td>\n",
              "      <td>3</td>\n",
              "      <td>0</td>\n",
              "      <td>2</td>\n",
              "    </tr>\n",
              "    <tr>\n",
              "      <th>3</th>\n",
              "      <td>263.0</td>\n",
              "      <td>38.486161</td>\n",
              "      <td>-11.155298</td>\n",
              "      <td>90</td>\n",
              "      <td>63</td>\n",
              "      <td>58.0</td>\n",
              "      <td>1986.0</td>\n",
              "      <td>True</td>\n",
              "      <td>True</td>\n",
              "      <td>1</td>\n",
              "      <td>1961</td>\n",
              "      <td>2078</td>\n",
              "      <td>7</td>\n",
              "      <td>1130</td>\n",
              "      <td>1</td>\n",
              "      <td>1</td>\n",
              "      <td>9998</td>\n",
              "      <td>45537</td>\n",
              "      <td>7</td>\n",
              "      <td>1</td>\n",
              "      <td>3</td>\n",
              "      <td>7</td>\n",
              "      <td>2</td>\n",
              "      <td>0</td>\n",
              "      <td>7</td>\n",
              "      <td>12</td>\n",
              "      <td>87</td>\n",
              "      <td>1576</td>\n",
              "      <td>14</td>\n",
              "      <td>3</td>\n",
              "      <td>2</td>\n",
              "    </tr>\n",
              "    <tr>\n",
              "      <th>4</th>\n",
              "      <td>1328.8</td>\n",
              "      <td>31.130847</td>\n",
              "      <td>-1.825359</td>\n",
              "      <td>18</td>\n",
              "      <td>1</td>\n",
              "      <td>264.0</td>\n",
              "      <td>2005.4</td>\n",
              "      <td>True</td>\n",
              "      <td>True</td>\n",
              "      <td>7</td>\n",
              "      <td>20</td>\n",
              "      <td>133</td>\n",
              "      <td>7</td>\n",
              "      <td>204</td>\n",
              "      <td>1</td>\n",
              "      <td>1</td>\n",
              "      <td>8583</td>\n",
              "      <td>43411</td>\n",
              "      <td>2</td>\n",
              "      <td>1</td>\n",
              "      <td>3</td>\n",
              "      <td>7</td>\n",
              "      <td>2</td>\n",
              "      <td>4</td>\n",
              "      <td>4</td>\n",
              "      <td>4</td>\n",
              "      <td>26</td>\n",
              "      <td>1692</td>\n",
              "      <td>3</td>\n",
              "      <td>5</td>\n",
              "      <td>1</td>\n",
              "    </tr>\n",
              "    <tr>\n",
              "      <th>...</th>\n",
              "      <td>...</td>\n",
              "      <td>...</td>\n",
              "      <td>...</td>\n",
              "      <td>...</td>\n",
              "      <td>...</td>\n",
              "      <td>...</td>\n",
              "      <td>...</td>\n",
              "      <td>...</td>\n",
              "      <td>...</td>\n",
              "      <td>...</td>\n",
              "      <td>...</td>\n",
              "      <td>...</td>\n",
              "      <td>...</td>\n",
              "      <td>...</td>\n",
              "      <td>...</td>\n",
              "      <td>...</td>\n",
              "      <td>...</td>\n",
              "      <td>...</td>\n",
              "      <td>...</td>\n",
              "      <td>...</td>\n",
              "      <td>...</td>\n",
              "      <td>...</td>\n",
              "      <td>...</td>\n",
              "      <td>...</td>\n",
              "      <td>...</td>\n",
              "      <td>...</td>\n",
              "      <td>...</td>\n",
              "      <td>...</td>\n",
              "      <td>...</td>\n",
              "      <td>...</td>\n",
              "      <td>...</td>\n",
              "    </tr>\n",
              "    <tr>\n",
              "      <th>14845</th>\n",
              "      <td>34.0</td>\n",
              "      <td>38.852669</td>\n",
              "      <td>-6.582841</td>\n",
              "      <td>6</td>\n",
              "      <td>1</td>\n",
              "      <td>20.0</td>\n",
              "      <td>1988.0</td>\n",
              "      <td>False</td>\n",
              "      <td>True</td>\n",
              "      <td>2</td>\n",
              "      <td>293</td>\n",
              "      <td>456</td>\n",
              "      <td>7</td>\n",
              "      <td>168</td>\n",
              "      <td>1</td>\n",
              "      <td>1</td>\n",
              "      <td>21327</td>\n",
              "      <td>30976</td>\n",
              "      <td>7</td>\n",
              "      <td>1</td>\n",
              "      <td>3</td>\n",
              "      <td>7</td>\n",
              "      <td>2</td>\n",
              "      <td>1</td>\n",
              "      <td>8</td>\n",
              "      <td>14</td>\n",
              "      <td>3</td>\n",
              "      <td>2087</td>\n",
              "      <td>7</td>\n",
              "      <td>6</td>\n",
              "      <td>1</td>\n",
              "    </tr>\n",
              "    <tr>\n",
              "      <th>14846</th>\n",
              "      <td>1178.4</td>\n",
              "      <td>37.451633</td>\n",
              "      <td>-5.350428</td>\n",
              "      <td>4</td>\n",
              "      <td>7</td>\n",
              "      <td>2960.0</td>\n",
              "      <td>1994.0</td>\n",
              "      <td>False</td>\n",
              "      <td>False</td>\n",
              "      <td>3</td>\n",
              "      <td>584</td>\n",
              "      <td>675</td>\n",
              "      <td>7</td>\n",
              "      <td>2571</td>\n",
              "      <td>1</td>\n",
              "      <td>0</td>\n",
              "      <td>12687</td>\n",
              "      <td>1352</td>\n",
              "      <td>7</td>\n",
              "      <td>3</td>\n",
              "      <td>0</td>\n",
              "      <td>5</td>\n",
              "      <td>5</td>\n",
              "      <td>2</td>\n",
              "      <td>5</td>\n",
              "      <td>20</td>\n",
              "      <td>33</td>\n",
              "      <td>1454</td>\n",
              "      <td>8</td>\n",
              "      <td>7</td>\n",
              "      <td>4</td>\n",
              "    </tr>\n",
              "    <tr>\n",
              "      <th>14847</th>\n",
              "      <td>1476.0</td>\n",
              "      <td>34.739804</td>\n",
              "      <td>-4.585587</td>\n",
              "      <td>13</td>\n",
              "      <td>2</td>\n",
              "      <td>200.0</td>\n",
              "      <td>2010.0</td>\n",
              "      <td>False</td>\n",
              "      <td>True</td>\n",
              "      <td>3</td>\n",
              "      <td>1858</td>\n",
              "      <td>1939</td>\n",
              "      <td>7</td>\n",
              "      <td>2638</td>\n",
              "      <td>1</td>\n",
              "      <td>1</td>\n",
              "      <td>4755</td>\n",
              "      <td>1821</td>\n",
              "      <td>7</td>\n",
              "      <td>1</td>\n",
              "      <td>3</td>\n",
              "      <td>7</td>\n",
              "      <td>2</td>\n",
              "      <td>2</td>\n",
              "      <td>0</td>\n",
              "      <td>18</td>\n",
              "      <td>109</td>\n",
              "      <td>2000</td>\n",
              "      <td>3</td>\n",
              "      <td>0</td>\n",
              "      <td>1</td>\n",
              "    </tr>\n",
              "    <tr>\n",
              "      <th>14848</th>\n",
              "      <td>998.0</td>\n",
              "      <td>35.432732</td>\n",
              "      <td>-10.584159</td>\n",
              "      <td>10</td>\n",
              "      <td>2</td>\n",
              "      <td>150.0</td>\n",
              "      <td>2009.0</td>\n",
              "      <td>False</td>\n",
              "      <td>True</td>\n",
              "      <td>2</td>\n",
              "      <td>482</td>\n",
              "      <td>442</td>\n",
              "      <td>7</td>\n",
              "      <td>1767</td>\n",
              "      <td>1</td>\n",
              "      <td>1</td>\n",
              "      <td>15803</td>\n",
              "      <td>14467</td>\n",
              "      <td>7</td>\n",
              "      <td>1</td>\n",
              "      <td>3</td>\n",
              "      <td>7</td>\n",
              "      <td>2</td>\n",
              "      <td>2</td>\n",
              "      <td>1</td>\n",
              "      <td>16</td>\n",
              "      <td>111</td>\n",
              "      <td>1072</td>\n",
              "      <td>3</td>\n",
              "      <td>6</td>\n",
              "      <td>1</td>\n",
              "    </tr>\n",
              "    <tr>\n",
              "      <th>14849</th>\n",
              "      <td>481.0</td>\n",
              "      <td>34.765054</td>\n",
              "      <td>-11.226012</td>\n",
              "      <td>10</td>\n",
              "      <td>3</td>\n",
              "      <td>40.0</td>\n",
              "      <td>2008.0</td>\n",
              "      <td>False</td>\n",
              "      <td>True</td>\n",
              "      <td>2</td>\n",
              "      <td>507</td>\n",
              "      <td>637</td>\n",
              "      <td>7</td>\n",
              "      <td>313</td>\n",
              "      <td>1</td>\n",
              "      <td>1</td>\n",
              "      <td>5205</td>\n",
              "      <td>21779</td>\n",
              "      <td>7</td>\n",
              "      <td>1</td>\n",
              "      <td>3</td>\n",
              "      <td>7</td>\n",
              "      <td>2</td>\n",
              "      <td>0</td>\n",
              "      <td>1</td>\n",
              "      <td>16</td>\n",
              "      <td>61</td>\n",
              "      <td>1144</td>\n",
              "      <td>3</td>\n",
              "      <td>8</td>\n",
              "      <td>1</td>\n",
              "    </tr>\n",
              "  </tbody>\n",
              "</table>\n",
              "<p>74250 rows × 31 columns</p>\n",
              "</div>\n",
              "      <button class=\"colab-df-convert\" onclick=\"convertToInteractive('df-01195759-9a2b-4bc5-82be-d45b134d7c27')\"\n",
              "              title=\"Convert this dataframe to an interactive table.\"\n",
              "              style=\"display:none;\">\n",
              "        \n",
              "  <svg xmlns=\"http://www.w3.org/2000/svg\" height=\"24px\"viewBox=\"0 0 24 24\"\n",
              "       width=\"24px\">\n",
              "    <path d=\"M0 0h24v24H0V0z\" fill=\"none\"/>\n",
              "    <path d=\"M18.56 5.44l.94 2.06.94-2.06 2.06-.94-2.06-.94-.94-2.06-.94 2.06-2.06.94zm-11 1L8.5 8.5l.94-2.06 2.06-.94-2.06-.94L8.5 2.5l-.94 2.06-2.06.94zm10 10l.94 2.06.94-2.06 2.06-.94-2.06-.94-.94-2.06-.94 2.06-2.06.94z\"/><path d=\"M17.41 7.96l-1.37-1.37c-.4-.4-.92-.59-1.43-.59-.52 0-1.04.2-1.43.59L10.3 9.45l-7.72 7.72c-.78.78-.78 2.05 0 2.83L4 21.41c.39.39.9.59 1.41.59.51 0 1.02-.2 1.41-.59l7.78-7.78 2.81-2.81c.8-.78.8-2.07 0-2.86zM5.41 20L4 18.59l7.72-7.72 1.47 1.35L5.41 20z\"/>\n",
              "  </svg>\n",
              "      </button>\n",
              "      \n",
              "  <style>\n",
              "    .colab-df-container {\n",
              "      display:flex;\n",
              "      flex-wrap:wrap;\n",
              "      gap: 12px;\n",
              "    }\n",
              "\n",
              "    .colab-df-convert {\n",
              "      background-color: #E8F0FE;\n",
              "      border: none;\n",
              "      border-radius: 50%;\n",
              "      cursor: pointer;\n",
              "      display: none;\n",
              "      fill: #1967D2;\n",
              "      height: 32px;\n",
              "      padding: 0 0 0 0;\n",
              "      width: 32px;\n",
              "    }\n",
              "\n",
              "    .colab-df-convert:hover {\n",
              "      background-color: #E2EBFA;\n",
              "      box-shadow: 0px 1px 2px rgba(60, 64, 67, 0.3), 0px 1px 3px 1px rgba(60, 64, 67, 0.15);\n",
              "      fill: #174EA6;\n",
              "    }\n",
              "\n",
              "    [theme=dark] .colab-df-convert {\n",
              "      background-color: #3B4455;\n",
              "      fill: #D2E3FC;\n",
              "    }\n",
              "\n",
              "    [theme=dark] .colab-df-convert:hover {\n",
              "      background-color: #434B5C;\n",
              "      box-shadow: 0px 1px 3px 1px rgba(0, 0, 0, 0.15);\n",
              "      filter: drop-shadow(0px 1px 2px rgba(0, 0, 0, 0.3));\n",
              "      fill: #FFFFFF;\n",
              "    }\n",
              "  </style>\n",
              "\n",
              "      <script>\n",
              "        const buttonEl =\n",
              "          document.querySelector('#df-01195759-9a2b-4bc5-82be-d45b134d7c27 button.colab-df-convert');\n",
              "        buttonEl.style.display =\n",
              "          google.colab.kernel.accessAllowed ? 'block' : 'none';\n",
              "\n",
              "        async function convertToInteractive(key) {\n",
              "          const element = document.querySelector('#df-01195759-9a2b-4bc5-82be-d45b134d7c27');\n",
              "          const dataTable =\n",
              "            await google.colab.kernel.invokeFunction('convertToInteractive',\n",
              "                                                     [key], {});\n",
              "          if (!dataTable) return;\n",
              "\n",
              "          const docLinkHtml = 'Like what you see? Visit the ' +\n",
              "            '<a target=\"_blank\" href=https://colab.research.google.com/notebooks/data_table.ipynb>data table notebook</a>'\n",
              "            + ' to learn more about interactive tables.';\n",
              "          element.innerHTML = '';\n",
              "          dataTable['output_type'] = 'display_data';\n",
              "          await google.colab.output.renderOutput(dataTable, element);\n",
              "          const docLink = document.createElement('div');\n",
              "          docLink.innerHTML = docLinkHtml;\n",
              "          element.appendChild(docLink);\n",
              "        }\n",
              "      </script>\n",
              "    </div>\n",
              "  </div>\n",
              "  "
            ],
            "text/plain": [
              "       gps_height  longitude  ...  source_encoded  waterpoint_type_encoded\n",
              "0          1390.0  34.938093  ...               8                        1\n",
              "1          1399.0  34.698766  ...               5                        1\n",
              "2           686.0  37.460664  ...               0                        2\n",
              "3           263.0  38.486161  ...               3                        2\n",
              "4          1328.8  31.130847  ...               5                        1\n",
              "...           ...        ...  ...             ...                      ...\n",
              "14845        34.0  38.852669  ...               6                        1\n",
              "14846      1178.4  37.451633  ...               7                        4\n",
              "14847      1476.0  34.739804  ...               0                        1\n",
              "14848       998.0  35.432732  ...               6                        1\n",
              "14849       481.0  34.765054  ...               8                        1\n",
              "\n",
              "[74250 rows x 31 columns]"
            ]
          },
          "metadata": {},
          "execution_count": 100
        }
      ]
    },
    {
      "cell_type": "code",
      "source": [
        "data_all.to_csv('/content/my_drive/MyDrive/DataSets/Data_processed_new_coords.csv')"
      ],
      "metadata": {
        "id": "PUsqpO2Fy3Ol"
      },
      "execution_count": null,
      "outputs": []
    },
    {
      "cell_type": "code",
      "source": [
        ""
      ],
      "metadata": {
        "id": "5iJ_7yKv09xe"
      },
      "execution_count": null,
      "outputs": []
    }
  ]
}