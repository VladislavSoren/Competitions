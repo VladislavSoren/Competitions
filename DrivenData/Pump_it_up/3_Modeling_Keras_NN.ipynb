{
  "nbformat": 4,
  "nbformat_minor": 0,
  "metadata": {
    "colab": {
      "name": "3_Modeling_Keras_NN.ipynb",
      "provenance": [],
      "collapsed_sections": [],
      "toc_visible": true
    },
    "kernelspec": {
      "name": "python3",
      "display_name": "Python 3"
    },
    "language_info": {
      "name": "python"
    },
    "widgets": {
      "application/vnd.jupyter.widget-state+json": {
        "ddfcf5146c93433297945c5457b846e2": {
          "model_module": "@jupyter-widgets/controls",
          "model_name": "HBoxModel",
          "model_module_version": "1.5.0",
          "state": {
            "_view_name": "HBoxView",
            "_dom_classes": [],
            "_model_name": "HBoxModel",
            "_view_module": "@jupyter-widgets/controls",
            "_model_module_version": "1.5.0",
            "_view_count": null,
            "_view_module_version": "1.5.0",
            "box_style": "",
            "layout": "IPY_MODEL_4b2ec1f289a341be9f3ae7d1d3f0f6f8",
            "_model_module": "@jupyter-widgets/controls",
            "children": [
              "IPY_MODEL_adf6d9bd2ff1442189432adaae87c55b",
              "IPY_MODEL_0f510374918f40dc9a5ba7c4abe910d6",
              "IPY_MODEL_2e0b185644c94c43b975248699fe9b26"
            ]
          }
        },
        "4b2ec1f289a341be9f3ae7d1d3f0f6f8": {
          "model_module": "@jupyter-widgets/base",
          "model_name": "LayoutModel",
          "model_module_version": "1.2.0",
          "state": {
            "_view_name": "LayoutView",
            "grid_template_rows": null,
            "right": null,
            "justify_content": null,
            "_view_module": "@jupyter-widgets/base",
            "overflow": null,
            "_model_module_version": "1.2.0",
            "_view_count": null,
            "flex_flow": null,
            "width": null,
            "min_width": null,
            "border": null,
            "align_items": null,
            "bottom": null,
            "_model_module": "@jupyter-widgets/base",
            "top": null,
            "grid_column": null,
            "overflow_y": null,
            "overflow_x": null,
            "grid_auto_flow": null,
            "grid_area": null,
            "grid_template_columns": null,
            "flex": null,
            "_model_name": "LayoutModel",
            "justify_items": null,
            "grid_row": null,
            "max_height": null,
            "align_content": null,
            "visibility": null,
            "align_self": null,
            "height": null,
            "min_height": null,
            "padding": null,
            "grid_auto_rows": null,
            "grid_gap": null,
            "max_width": null,
            "order": null,
            "_view_module_version": "1.2.0",
            "grid_template_areas": null,
            "object_position": null,
            "object_fit": null,
            "grid_auto_columns": null,
            "margin": null,
            "display": null,
            "left": null
          }
        },
        "adf6d9bd2ff1442189432adaae87c55b": {
          "model_module": "@jupyter-widgets/controls",
          "model_name": "HTMLModel",
          "model_module_version": "1.5.0",
          "state": {
            "_view_name": "HTMLView",
            "style": "IPY_MODEL_ddb3d62f84f64fa1adfead7f30b5b54a",
            "_dom_classes": [],
            "description": "",
            "_model_name": "HTMLModel",
            "placeholder": "​",
            "_view_module": "@jupyter-widgets/controls",
            "_model_module_version": "1.5.0",
            "value": "100%",
            "_view_count": null,
            "_view_module_version": "1.5.0",
            "description_tooltip": null,
            "_model_module": "@jupyter-widgets/controls",
            "layout": "IPY_MODEL_9778c0c36229471fb7da1361e9702710"
          }
        },
        "0f510374918f40dc9a5ba7c4abe910d6": {
          "model_module": "@jupyter-widgets/controls",
          "model_name": "FloatProgressModel",
          "model_module_version": "1.5.0",
          "state": {
            "_view_name": "ProgressView",
            "style": "IPY_MODEL_e50206b4193343b5a297865b087fcb43",
            "_dom_classes": [],
            "description": "",
            "_model_name": "FloatProgressModel",
            "bar_style": "success",
            "max": 17820,
            "_view_module": "@jupyter-widgets/controls",
            "_model_module_version": "1.5.0",
            "value": 17820,
            "_view_count": null,
            "_view_module_version": "1.5.0",
            "orientation": "horizontal",
            "min": 0,
            "description_tooltip": null,
            "_model_module": "@jupyter-widgets/controls",
            "layout": "IPY_MODEL_5033dbb233dc48b396be4295e59bf1bd"
          }
        },
        "2e0b185644c94c43b975248699fe9b26": {
          "model_module": "@jupyter-widgets/controls",
          "model_name": "HTMLModel",
          "model_module_version": "1.5.0",
          "state": {
            "_view_name": "HTMLView",
            "style": "IPY_MODEL_a473c57f55d34b388a6a75a659331339",
            "_dom_classes": [],
            "description": "",
            "_model_name": "HTMLModel",
            "placeholder": "​",
            "_view_module": "@jupyter-widgets/controls",
            "_model_module_version": "1.5.0",
            "value": " 17820/17820 [17:19&lt;00:00, 16.59it/s]",
            "_view_count": null,
            "_view_module_version": "1.5.0",
            "description_tooltip": null,
            "_model_module": "@jupyter-widgets/controls",
            "layout": "IPY_MODEL_ebae6f1b36224e1baa232b3a544237fb"
          }
        },
        "ddb3d62f84f64fa1adfead7f30b5b54a": {
          "model_module": "@jupyter-widgets/controls",
          "model_name": "DescriptionStyleModel",
          "model_module_version": "1.5.0",
          "state": {
            "_view_name": "StyleView",
            "_model_name": "DescriptionStyleModel",
            "description_width": "",
            "_view_module": "@jupyter-widgets/base",
            "_model_module_version": "1.5.0",
            "_view_count": null,
            "_view_module_version": "1.2.0",
            "_model_module": "@jupyter-widgets/controls"
          }
        },
        "9778c0c36229471fb7da1361e9702710": {
          "model_module": "@jupyter-widgets/base",
          "model_name": "LayoutModel",
          "model_module_version": "1.2.0",
          "state": {
            "_view_name": "LayoutView",
            "grid_template_rows": null,
            "right": null,
            "justify_content": null,
            "_view_module": "@jupyter-widgets/base",
            "overflow": null,
            "_model_module_version": "1.2.0",
            "_view_count": null,
            "flex_flow": null,
            "width": null,
            "min_width": null,
            "border": null,
            "align_items": null,
            "bottom": null,
            "_model_module": "@jupyter-widgets/base",
            "top": null,
            "grid_column": null,
            "overflow_y": null,
            "overflow_x": null,
            "grid_auto_flow": null,
            "grid_area": null,
            "grid_template_columns": null,
            "flex": null,
            "_model_name": "LayoutModel",
            "justify_items": null,
            "grid_row": null,
            "max_height": null,
            "align_content": null,
            "visibility": null,
            "align_self": null,
            "height": null,
            "min_height": null,
            "padding": null,
            "grid_auto_rows": null,
            "grid_gap": null,
            "max_width": null,
            "order": null,
            "_view_module_version": "1.2.0",
            "grid_template_areas": null,
            "object_position": null,
            "object_fit": null,
            "grid_auto_columns": null,
            "margin": null,
            "display": null,
            "left": null
          }
        },
        "e50206b4193343b5a297865b087fcb43": {
          "model_module": "@jupyter-widgets/controls",
          "model_name": "ProgressStyleModel",
          "model_module_version": "1.5.0",
          "state": {
            "_view_name": "StyleView",
            "_model_name": "ProgressStyleModel",
            "description_width": "",
            "_view_module": "@jupyter-widgets/base",
            "_model_module_version": "1.5.0",
            "_view_count": null,
            "_view_module_version": "1.2.0",
            "bar_color": null,
            "_model_module": "@jupyter-widgets/controls"
          }
        },
        "5033dbb233dc48b396be4295e59bf1bd": {
          "model_module": "@jupyter-widgets/base",
          "model_name": "LayoutModel",
          "model_module_version": "1.2.0",
          "state": {
            "_view_name": "LayoutView",
            "grid_template_rows": null,
            "right": null,
            "justify_content": null,
            "_view_module": "@jupyter-widgets/base",
            "overflow": null,
            "_model_module_version": "1.2.0",
            "_view_count": null,
            "flex_flow": null,
            "width": null,
            "min_width": null,
            "border": null,
            "align_items": null,
            "bottom": null,
            "_model_module": "@jupyter-widgets/base",
            "top": null,
            "grid_column": null,
            "overflow_y": null,
            "overflow_x": null,
            "grid_auto_flow": null,
            "grid_area": null,
            "grid_template_columns": null,
            "flex": null,
            "_model_name": "LayoutModel",
            "justify_items": null,
            "grid_row": null,
            "max_height": null,
            "align_content": null,
            "visibility": null,
            "align_self": null,
            "height": null,
            "min_height": null,
            "padding": null,
            "grid_auto_rows": null,
            "grid_gap": null,
            "max_width": null,
            "order": null,
            "_view_module_version": "1.2.0",
            "grid_template_areas": null,
            "object_position": null,
            "object_fit": null,
            "grid_auto_columns": null,
            "margin": null,
            "display": null,
            "left": null
          }
        },
        "a473c57f55d34b388a6a75a659331339": {
          "model_module": "@jupyter-widgets/controls",
          "model_name": "DescriptionStyleModel",
          "model_module_version": "1.5.0",
          "state": {
            "_view_name": "StyleView",
            "_model_name": "DescriptionStyleModel",
            "description_width": "",
            "_view_module": "@jupyter-widgets/base",
            "_model_module_version": "1.5.0",
            "_view_count": null,
            "_view_module_version": "1.2.0",
            "_model_module": "@jupyter-widgets/controls"
          }
        },
        "ebae6f1b36224e1baa232b3a544237fb": {
          "model_module": "@jupyter-widgets/base",
          "model_name": "LayoutModel",
          "model_module_version": "1.2.0",
          "state": {
            "_view_name": "LayoutView",
            "grid_template_rows": null,
            "right": null,
            "justify_content": null,
            "_view_module": "@jupyter-widgets/base",
            "overflow": null,
            "_model_module_version": "1.2.0",
            "_view_count": null,
            "flex_flow": null,
            "width": null,
            "min_width": null,
            "border": null,
            "align_items": null,
            "bottom": null,
            "_model_module": "@jupyter-widgets/base",
            "top": null,
            "grid_column": null,
            "overflow_y": null,
            "overflow_x": null,
            "grid_auto_flow": null,
            "grid_area": null,
            "grid_template_columns": null,
            "flex": null,
            "_model_name": "LayoutModel",
            "justify_items": null,
            "grid_row": null,
            "max_height": null,
            "align_content": null,
            "visibility": null,
            "align_self": null,
            "height": null,
            "min_height": null,
            "padding": null,
            "grid_auto_rows": null,
            "grid_gap": null,
            "max_width": null,
            "order": null,
            "_view_module_version": "1.2.0",
            "grid_template_areas": null,
            "object_position": null,
            "object_fit": null,
            "grid_auto_columns": null,
            "margin": null,
            "display": null,
            "left": null
          }
        },
        "bf3ceec61f96449bb46280a3eadf9ae5": {
          "model_module": "@jupyter-widgets/controls",
          "model_name": "HBoxModel",
          "model_module_version": "1.5.0",
          "state": {
            "_view_name": "HBoxView",
            "_dom_classes": [],
            "_model_name": "HBoxModel",
            "_view_module": "@jupyter-widgets/controls",
            "_model_module_version": "1.5.0",
            "_view_count": null,
            "_view_module_version": "1.5.0",
            "box_style": "",
            "layout": "IPY_MODEL_0587187a3b334bf6ba2ca2bd5fe0a3a1",
            "_model_module": "@jupyter-widgets/controls",
            "children": [
              "IPY_MODEL_7396ee245a9d4864bbaa6f26632a2bd4",
              "IPY_MODEL_0b5e2c89f48149568927c4e67a791ee0",
              "IPY_MODEL_4685e5a0f3c54d70978224aa8358df5f"
            ]
          }
        },
        "0587187a3b334bf6ba2ca2bd5fe0a3a1": {
          "model_module": "@jupyter-widgets/base",
          "model_name": "LayoutModel",
          "model_module_version": "1.2.0",
          "state": {
            "_view_name": "LayoutView",
            "grid_template_rows": null,
            "right": null,
            "justify_content": null,
            "_view_module": "@jupyter-widgets/base",
            "overflow": null,
            "_model_module_version": "1.2.0",
            "_view_count": null,
            "flex_flow": null,
            "width": null,
            "min_width": null,
            "border": null,
            "align_items": null,
            "bottom": null,
            "_model_module": "@jupyter-widgets/base",
            "top": null,
            "grid_column": null,
            "overflow_y": null,
            "overflow_x": null,
            "grid_auto_flow": null,
            "grid_area": null,
            "grid_template_columns": null,
            "flex": null,
            "_model_name": "LayoutModel",
            "justify_items": null,
            "grid_row": null,
            "max_height": null,
            "align_content": null,
            "visibility": null,
            "align_self": null,
            "height": null,
            "min_height": null,
            "padding": null,
            "grid_auto_rows": null,
            "grid_gap": null,
            "max_width": null,
            "order": null,
            "_view_module_version": "1.2.0",
            "grid_template_areas": null,
            "object_position": null,
            "object_fit": null,
            "grid_auto_columns": null,
            "margin": null,
            "display": null,
            "left": null
          }
        },
        "7396ee245a9d4864bbaa6f26632a2bd4": {
          "model_module": "@jupyter-widgets/controls",
          "model_name": "HTMLModel",
          "model_module_version": "1.5.0",
          "state": {
            "_view_name": "HTMLView",
            "style": "IPY_MODEL_ad27b2002acc40e5b13da2587795be81",
            "_dom_classes": [],
            "description": "",
            "_model_name": "HTMLModel",
            "placeholder": "​",
            "_view_module": "@jupyter-widgets/controls",
            "_model_module_version": "1.5.0",
            "value": "100%",
            "_view_count": null,
            "_view_module_version": "1.5.0",
            "description_tooltip": null,
            "_model_module": "@jupyter-widgets/controls",
            "layout": "IPY_MODEL_5167807c91324ab1b6e25435e7d6ef26"
          }
        },
        "0b5e2c89f48149568927c4e67a791ee0": {
          "model_module": "@jupyter-widgets/controls",
          "model_name": "FloatProgressModel",
          "model_module_version": "1.5.0",
          "state": {
            "_view_name": "ProgressView",
            "style": "IPY_MODEL_251fe953d5c94834b6f8f3a9d1b87f70",
            "_dom_classes": [],
            "description": "",
            "_model_name": "FloatProgressModel",
            "bar_style": "success",
            "max": 14850,
            "_view_module": "@jupyter-widgets/controls",
            "_model_module_version": "1.5.0",
            "value": 14850,
            "_view_count": null,
            "_view_module_version": "1.5.0",
            "orientation": "horizontal",
            "min": 0,
            "description_tooltip": null,
            "_model_module": "@jupyter-widgets/controls",
            "layout": "IPY_MODEL_1e2b12b803a341debec2ad0289deb3c9"
          }
        },
        "4685e5a0f3c54d70978224aa8358df5f": {
          "model_module": "@jupyter-widgets/controls",
          "model_name": "HTMLModel",
          "model_module_version": "1.5.0",
          "state": {
            "_view_name": "HTMLView",
            "style": "IPY_MODEL_f34b67a6d74b44d693d157316576f12f",
            "_dom_classes": [],
            "description": "",
            "_model_name": "HTMLModel",
            "placeholder": "​",
            "_view_module": "@jupyter-widgets/controls",
            "_model_module_version": "1.5.0",
            "value": " 14850/14850 [00:00&lt;00:00, 169979.49it/s]",
            "_view_count": null,
            "_view_module_version": "1.5.0",
            "description_tooltip": null,
            "_model_module": "@jupyter-widgets/controls",
            "layout": "IPY_MODEL_685fe72df6884ce799dc8a3a9591054d"
          }
        },
        "ad27b2002acc40e5b13da2587795be81": {
          "model_module": "@jupyter-widgets/controls",
          "model_name": "DescriptionStyleModel",
          "model_module_version": "1.5.0",
          "state": {
            "_view_name": "StyleView",
            "_model_name": "DescriptionStyleModel",
            "description_width": "",
            "_view_module": "@jupyter-widgets/base",
            "_model_module_version": "1.5.0",
            "_view_count": null,
            "_view_module_version": "1.2.0",
            "_model_module": "@jupyter-widgets/controls"
          }
        },
        "5167807c91324ab1b6e25435e7d6ef26": {
          "model_module": "@jupyter-widgets/base",
          "model_name": "LayoutModel",
          "model_module_version": "1.2.0",
          "state": {
            "_view_name": "LayoutView",
            "grid_template_rows": null,
            "right": null,
            "justify_content": null,
            "_view_module": "@jupyter-widgets/base",
            "overflow": null,
            "_model_module_version": "1.2.0",
            "_view_count": null,
            "flex_flow": null,
            "width": null,
            "min_width": null,
            "border": null,
            "align_items": null,
            "bottom": null,
            "_model_module": "@jupyter-widgets/base",
            "top": null,
            "grid_column": null,
            "overflow_y": null,
            "overflow_x": null,
            "grid_auto_flow": null,
            "grid_area": null,
            "grid_template_columns": null,
            "flex": null,
            "_model_name": "LayoutModel",
            "justify_items": null,
            "grid_row": null,
            "max_height": null,
            "align_content": null,
            "visibility": null,
            "align_self": null,
            "height": null,
            "min_height": null,
            "padding": null,
            "grid_auto_rows": null,
            "grid_gap": null,
            "max_width": null,
            "order": null,
            "_view_module_version": "1.2.0",
            "grid_template_areas": null,
            "object_position": null,
            "object_fit": null,
            "grid_auto_columns": null,
            "margin": null,
            "display": null,
            "left": null
          }
        },
        "251fe953d5c94834b6f8f3a9d1b87f70": {
          "model_module": "@jupyter-widgets/controls",
          "model_name": "ProgressStyleModel",
          "model_module_version": "1.5.0",
          "state": {
            "_view_name": "StyleView",
            "_model_name": "ProgressStyleModel",
            "description_width": "",
            "_view_module": "@jupyter-widgets/base",
            "_model_module_version": "1.5.0",
            "_view_count": null,
            "_view_module_version": "1.2.0",
            "bar_color": null,
            "_model_module": "@jupyter-widgets/controls"
          }
        },
        "1e2b12b803a341debec2ad0289deb3c9": {
          "model_module": "@jupyter-widgets/base",
          "model_name": "LayoutModel",
          "model_module_version": "1.2.0",
          "state": {
            "_view_name": "LayoutView",
            "grid_template_rows": null,
            "right": null,
            "justify_content": null,
            "_view_module": "@jupyter-widgets/base",
            "overflow": null,
            "_model_module_version": "1.2.0",
            "_view_count": null,
            "flex_flow": null,
            "width": null,
            "min_width": null,
            "border": null,
            "align_items": null,
            "bottom": null,
            "_model_module": "@jupyter-widgets/base",
            "top": null,
            "grid_column": null,
            "overflow_y": null,
            "overflow_x": null,
            "grid_auto_flow": null,
            "grid_area": null,
            "grid_template_columns": null,
            "flex": null,
            "_model_name": "LayoutModel",
            "justify_items": null,
            "grid_row": null,
            "max_height": null,
            "align_content": null,
            "visibility": null,
            "align_self": null,
            "height": null,
            "min_height": null,
            "padding": null,
            "grid_auto_rows": null,
            "grid_gap": null,
            "max_width": null,
            "order": null,
            "_view_module_version": "1.2.0",
            "grid_template_areas": null,
            "object_position": null,
            "object_fit": null,
            "grid_auto_columns": null,
            "margin": null,
            "display": null,
            "left": null
          }
        },
        "f34b67a6d74b44d693d157316576f12f": {
          "model_module": "@jupyter-widgets/controls",
          "model_name": "DescriptionStyleModel",
          "model_module_version": "1.5.0",
          "state": {
            "_view_name": "StyleView",
            "_model_name": "DescriptionStyleModel",
            "description_width": "",
            "_view_module": "@jupyter-widgets/base",
            "_model_module_version": "1.5.0",
            "_view_count": null,
            "_view_module_version": "1.2.0",
            "_model_module": "@jupyter-widgets/controls"
          }
        },
        "685fe72df6884ce799dc8a3a9591054d": {
          "model_module": "@jupyter-widgets/base",
          "model_name": "LayoutModel",
          "model_module_version": "1.2.0",
          "state": {
            "_view_name": "LayoutView",
            "grid_template_rows": null,
            "right": null,
            "justify_content": null,
            "_view_module": "@jupyter-widgets/base",
            "overflow": null,
            "_model_module_version": "1.2.0",
            "_view_count": null,
            "flex_flow": null,
            "width": null,
            "min_width": null,
            "border": null,
            "align_items": null,
            "bottom": null,
            "_model_module": "@jupyter-widgets/base",
            "top": null,
            "grid_column": null,
            "overflow_y": null,
            "overflow_x": null,
            "grid_auto_flow": null,
            "grid_area": null,
            "grid_template_columns": null,
            "flex": null,
            "_model_name": "LayoutModel",
            "justify_items": null,
            "grid_row": null,
            "max_height": null,
            "align_content": null,
            "visibility": null,
            "align_self": null,
            "height": null,
            "min_height": null,
            "padding": null,
            "grid_auto_rows": null,
            "grid_gap": null,
            "max_width": null,
            "order": null,
            "_view_module_version": "1.2.0",
            "grid_template_areas": null,
            "object_position": null,
            "object_fit": null,
            "grid_auto_columns": null,
            "margin": null,
            "display": null,
            "left": null
          }
        }
      }
    }
  },
  "cells": [
    {
      "cell_type": "code",
      "source": [
        "import pandas as pd\n",
        "import numpy as np\n",
        "import matplotlib.pyplot as plt\n",
        "import seaborn as sns\n",
        "\n",
        "!pip install patool\n",
        "import patoolib                       \n",
        "\n",
        "import warnings\n",
        "warnings.filterwarnings('ignore')\n",
        "\n",
        "# красивый Progress_board\n",
        "from tqdm import tqdm_notebook\n",
        "\n",
        "%matplotlib inline"
      ],
      "metadata": {
        "colab": {
          "base_uri": "https://localhost:8080/"
        },
        "id": "iMzEsp2MLDBK",
        "outputId": "deb36523-6b0b-45e9-a13e-02b87460c4ae"
      },
      "execution_count": null,
      "outputs": [
        {
          "output_type": "stream",
          "name": "stdout",
          "text": [
            "Collecting patool\n",
            "  Downloading patool-1.12-py2.py3-none-any.whl (77 kB)\n",
            "\u001b[?25l\r\u001b[K     |████▎                           | 10 kB 27.6 MB/s eta 0:00:01\r\u001b[K     |████████▌                       | 20 kB 17.6 MB/s eta 0:00:01\r\u001b[K     |████████████▊                   | 30 kB 10.3 MB/s eta 0:00:01\r\u001b[K     |█████████████████               | 40 kB 8.4 MB/s eta 0:00:01\r\u001b[K     |█████████████████████▏          | 51 kB 5.4 MB/s eta 0:00:01\r\u001b[K     |█████████████████████████▍      | 61 kB 5.5 MB/s eta 0:00:01\r\u001b[K     |█████████████████████████████▋  | 71 kB 5.9 MB/s eta 0:00:01\r\u001b[K     |████████████████████████████████| 77 kB 3.4 MB/s \n",
            "\u001b[?25hInstalling collected packages: patool\n",
            "Successfully installed patool-1.12\n"
          ]
        }
      ]
    },
    {
      "cell_type": "code",
      "source": [
        "from google.colab import drive\n",
        "drive.mount('/content/my_drive')"
      ],
      "metadata": {
        "id": "BeBBK5JNLDUR",
        "colab": {
          "base_uri": "https://localhost:8080/"
        },
        "outputId": "b5f22615-4e82-409d-cf3f-1de05cea453c"
      },
      "execution_count": null,
      "outputs": [
        {
          "output_type": "stream",
          "name": "stdout",
          "text": [
            "Mounted at /content/my_drive\n"
          ]
        }
      ]
    },
    {
      "cell_type": "code",
      "source": [
        "data = pd.read_csv('/content/my_drive/MyDrive/DataSets/Data_processed_new_coords.csv', index_col=0)"
      ],
      "metadata": {
        "id": "JmKrP79dLFU0"
      },
      "execution_count": null,
      "outputs": []
    },
    {
      "cell_type": "code",
      "source": [
        "data.head()"
      ],
      "metadata": {
        "colab": {
          "base_uri": "https://localhost:8080/",
          "height": 270
        },
        "id": "XX6JWOOZLFXN",
        "outputId": "ef3c9d79-96b4-4165-a7fa-4b8339f5a272"
      },
      "execution_count": null,
      "outputs": [
        {
          "output_type": "execute_result",
          "data": {
            "text/html": [
              "\n",
              "  <div id=\"df-25b1f670-28b2-4ef1-ba0c-7a2cb13742c8\">\n",
              "    <div class=\"colab-df-container\">\n",
              "      <div>\n",
              "<style scoped>\n",
              "    .dataframe tbody tr th:only-of-type {\n",
              "        vertical-align: middle;\n",
              "    }\n",
              "\n",
              "    .dataframe tbody tr th {\n",
              "        vertical-align: top;\n",
              "    }\n",
              "\n",
              "    .dataframe thead th {\n",
              "        text-align: right;\n",
              "    }\n",
              "</style>\n",
              "<table border=\"1\" class=\"dataframe\">\n",
              "  <thead>\n",
              "    <tr style=\"text-align: right;\">\n",
              "      <th></th>\n",
              "      <th>gps_height</th>\n",
              "      <th>longitude</th>\n",
              "      <th>latitude</th>\n",
              "      <th>region_code</th>\n",
              "      <th>district_code</th>\n",
              "      <th>population</th>\n",
              "      <th>construction_year</th>\n",
              "      <th>labels</th>\n",
              "      <th>amount_tsh_bool</th>\n",
              "      <th>month_recorded</th>\n",
              "      <th>funder_encoded</th>\n",
              "      <th>installer_encoded</th>\n",
              "      <th>scheme_management_encoded</th>\n",
              "      <th>scheme_name_encoded</th>\n",
              "      <th>public_meeting_encoded</th>\n",
              "      <th>permit_encoded</th>\n",
              "      <th>subvillage_encoded</th>\n",
              "      <th>wpt_name_encoded</th>\n",
              "      <th>management_encoded</th>\n",
              "      <th>payment_encoded</th>\n",
              "      <th>payment_type_encoded</th>\n",
              "      <th>water_quality_encoded</th>\n",
              "      <th>quality_group_encoded</th>\n",
              "      <th>quantity_encoded</th>\n",
              "      <th>basin_encoded</th>\n",
              "      <th>region_encoded</th>\n",
              "      <th>lga_encoded</th>\n",
              "      <th>ward_encoded</th>\n",
              "      <th>extraction_type_encoded</th>\n",
              "      <th>source_encoded</th>\n",
              "      <th>waterpoint_type_encoded</th>\n",
              "    </tr>\n",
              "  </thead>\n",
              "  <tbody>\n",
              "    <tr>\n",
              "      <th>0</th>\n",
              "      <td>1390.0</td>\n",
              "      <td>34.938093</td>\n",
              "      <td>-9.856322</td>\n",
              "      <td>11</td>\n",
              "      <td>5</td>\n",
              "      <td>109.0</td>\n",
              "      <td>1999.0</td>\n",
              "      <td>True</td>\n",
              "      <td>False</td>\n",
              "      <td>3</td>\n",
              "      <td>1548</td>\n",
              "      <td>1706</td>\n",
              "      <td>7</td>\n",
              "      <td>2388</td>\n",
              "      <td>1</td>\n",
              "      <td>0</td>\n",
              "      <td>13116</td>\n",
              "      <td>9784</td>\n",
              "      <td>7</td>\n",
              "      <td>3</td>\n",
              "      <td>0</td>\n",
              "      <td>7</td>\n",
              "      <td>2</td>\n",
              "      <td>1</td>\n",
              "      <td>1</td>\n",
              "      <td>3</td>\n",
              "      <td>51</td>\n",
              "      <td>1429</td>\n",
              "      <td>3</td>\n",
              "      <td>8</td>\n",
              "      <td>1</td>\n",
              "    </tr>\n",
              "    <tr>\n",
              "      <th>1</th>\n",
              "      <td>1399.0</td>\n",
              "      <td>34.698766</td>\n",
              "      <td>-2.147466</td>\n",
              "      <td>20</td>\n",
              "      <td>2</td>\n",
              "      <td>280.0</td>\n",
              "      <td>2010.0</td>\n",
              "      <td>True</td>\n",
              "      <td>True</td>\n",
              "      <td>3</td>\n",
              "      <td>522</td>\n",
              "      <td>610</td>\n",
              "      <td>2</td>\n",
              "      <td>2385</td>\n",
              "      <td>1</td>\n",
              "      <td>1</td>\n",
              "      <td>17596</td>\n",
              "      <td>45426</td>\n",
              "      <td>11</td>\n",
              "      <td>1</td>\n",
              "      <td>3</td>\n",
              "      <td>7</td>\n",
              "      <td>2</td>\n",
              "      <td>2</td>\n",
              "      <td>4</td>\n",
              "      <td>9</td>\n",
              "      <td>103</td>\n",
              "      <td>1581</td>\n",
              "      <td>3</td>\n",
              "      <td>5</td>\n",
              "      <td>1</td>\n",
              "    </tr>\n",
              "    <tr>\n",
              "      <th>2</th>\n",
              "      <td>686.0</td>\n",
              "      <td>37.460664</td>\n",
              "      <td>-3.821329</td>\n",
              "      <td>21</td>\n",
              "      <td>4</td>\n",
              "      <td>250.0</td>\n",
              "      <td>2009.0</td>\n",
              "      <td>True</td>\n",
              "      <td>False</td>\n",
              "      <td>2</td>\n",
              "      <td>924</td>\n",
              "      <td>2296</td>\n",
              "      <td>7</td>\n",
              "      <td>2261</td>\n",
              "      <td>1</td>\n",
              "      <td>1</td>\n",
              "      <td>10096</td>\n",
              "      <td>17767</td>\n",
              "      <td>7</td>\n",
              "      <td>5</td>\n",
              "      <td>6</td>\n",
              "      <td>7</td>\n",
              "      <td>2</td>\n",
              "      <td>1</td>\n",
              "      <td>5</td>\n",
              "      <td>8</td>\n",
              "      <td>108</td>\n",
              "      <td>1629</td>\n",
              "      <td>3</td>\n",
              "      <td>0</td>\n",
              "      <td>2</td>\n",
              "    </tr>\n",
              "    <tr>\n",
              "      <th>3</th>\n",
              "      <td>263.0</td>\n",
              "      <td>38.486161</td>\n",
              "      <td>-11.155298</td>\n",
              "      <td>90</td>\n",
              "      <td>63</td>\n",
              "      <td>58.0</td>\n",
              "      <td>1986.0</td>\n",
              "      <td>True</td>\n",
              "      <td>True</td>\n",
              "      <td>1</td>\n",
              "      <td>1961</td>\n",
              "      <td>2078</td>\n",
              "      <td>7</td>\n",
              "      <td>1130</td>\n",
              "      <td>1</td>\n",
              "      <td>1</td>\n",
              "      <td>9998</td>\n",
              "      <td>45537</td>\n",
              "      <td>7</td>\n",
              "      <td>1</td>\n",
              "      <td>3</td>\n",
              "      <td>7</td>\n",
              "      <td>2</td>\n",
              "      <td>0</td>\n",
              "      <td>7</td>\n",
              "      <td>12</td>\n",
              "      <td>87</td>\n",
              "      <td>1576</td>\n",
              "      <td>14</td>\n",
              "      <td>3</td>\n",
              "      <td>2</td>\n",
              "    </tr>\n",
              "    <tr>\n",
              "      <th>4</th>\n",
              "      <td>1328.8</td>\n",
              "      <td>31.130847</td>\n",
              "      <td>-1.825359</td>\n",
              "      <td>18</td>\n",
              "      <td>1</td>\n",
              "      <td>264.0</td>\n",
              "      <td>2005.4</td>\n",
              "      <td>True</td>\n",
              "      <td>True</td>\n",
              "      <td>7</td>\n",
              "      <td>20</td>\n",
              "      <td>133</td>\n",
              "      <td>7</td>\n",
              "      <td>204</td>\n",
              "      <td>1</td>\n",
              "      <td>1</td>\n",
              "      <td>8583</td>\n",
              "      <td>43411</td>\n",
              "      <td>2</td>\n",
              "      <td>1</td>\n",
              "      <td>3</td>\n",
              "      <td>7</td>\n",
              "      <td>2</td>\n",
              "      <td>4</td>\n",
              "      <td>4</td>\n",
              "      <td>4</td>\n",
              "      <td>26</td>\n",
              "      <td>1692</td>\n",
              "      <td>3</td>\n",
              "      <td>5</td>\n",
              "      <td>1</td>\n",
              "    </tr>\n",
              "  </tbody>\n",
              "</table>\n",
              "</div>\n",
              "      <button class=\"colab-df-convert\" onclick=\"convertToInteractive('df-25b1f670-28b2-4ef1-ba0c-7a2cb13742c8')\"\n",
              "              title=\"Convert this dataframe to an interactive table.\"\n",
              "              style=\"display:none;\">\n",
              "        \n",
              "  <svg xmlns=\"http://www.w3.org/2000/svg\" height=\"24px\"viewBox=\"0 0 24 24\"\n",
              "       width=\"24px\">\n",
              "    <path d=\"M0 0h24v24H0V0z\" fill=\"none\"/>\n",
              "    <path d=\"M18.56 5.44l.94 2.06.94-2.06 2.06-.94-2.06-.94-.94-2.06-.94 2.06-2.06.94zm-11 1L8.5 8.5l.94-2.06 2.06-.94-2.06-.94L8.5 2.5l-.94 2.06-2.06.94zm10 10l.94 2.06.94-2.06 2.06-.94-2.06-.94-.94-2.06-.94 2.06-2.06.94z\"/><path d=\"M17.41 7.96l-1.37-1.37c-.4-.4-.92-.59-1.43-.59-.52 0-1.04.2-1.43.59L10.3 9.45l-7.72 7.72c-.78.78-.78 2.05 0 2.83L4 21.41c.39.39.9.59 1.41.59.51 0 1.02-.2 1.41-.59l7.78-7.78 2.81-2.81c.8-.78.8-2.07 0-2.86zM5.41 20L4 18.59l7.72-7.72 1.47 1.35L5.41 20z\"/>\n",
              "  </svg>\n",
              "      </button>\n",
              "      \n",
              "  <style>\n",
              "    .colab-df-container {\n",
              "      display:flex;\n",
              "      flex-wrap:wrap;\n",
              "      gap: 12px;\n",
              "    }\n",
              "\n",
              "    .colab-df-convert {\n",
              "      background-color: #E8F0FE;\n",
              "      border: none;\n",
              "      border-radius: 50%;\n",
              "      cursor: pointer;\n",
              "      display: none;\n",
              "      fill: #1967D2;\n",
              "      height: 32px;\n",
              "      padding: 0 0 0 0;\n",
              "      width: 32px;\n",
              "    }\n",
              "\n",
              "    .colab-df-convert:hover {\n",
              "      background-color: #E2EBFA;\n",
              "      box-shadow: 0px 1px 2px rgba(60, 64, 67, 0.3), 0px 1px 3px 1px rgba(60, 64, 67, 0.15);\n",
              "      fill: #174EA6;\n",
              "    }\n",
              "\n",
              "    [theme=dark] .colab-df-convert {\n",
              "      background-color: #3B4455;\n",
              "      fill: #D2E3FC;\n",
              "    }\n",
              "\n",
              "    [theme=dark] .colab-df-convert:hover {\n",
              "      background-color: #434B5C;\n",
              "      box-shadow: 0px 1px 3px 1px rgba(0, 0, 0, 0.15);\n",
              "      filter: drop-shadow(0px 1px 2px rgba(0, 0, 0, 0.3));\n",
              "      fill: #FFFFFF;\n",
              "    }\n",
              "  </style>\n",
              "\n",
              "      <script>\n",
              "        const buttonEl =\n",
              "          document.querySelector('#df-25b1f670-28b2-4ef1-ba0c-7a2cb13742c8 button.colab-df-convert');\n",
              "        buttonEl.style.display =\n",
              "          google.colab.kernel.accessAllowed ? 'block' : 'none';\n",
              "\n",
              "        async function convertToInteractive(key) {\n",
              "          const element = document.querySelector('#df-25b1f670-28b2-4ef1-ba0c-7a2cb13742c8');\n",
              "          const dataTable =\n",
              "            await google.colab.kernel.invokeFunction('convertToInteractive',\n",
              "                                                     [key], {});\n",
              "          if (!dataTable) return;\n",
              "\n",
              "          const docLinkHtml = 'Like what you see? Visit the ' +\n",
              "            '<a target=\"_blank\" href=https://colab.research.google.com/notebooks/data_table.ipynb>data table notebook</a>'\n",
              "            + ' to learn more about interactive tables.';\n",
              "          element.innerHTML = '';\n",
              "          dataTable['output_type'] = 'display_data';\n",
              "          await google.colab.output.renderOutput(dataTable, element);\n",
              "          const docLink = document.createElement('div');\n",
              "          docLink.innerHTML = docLinkHtml;\n",
              "          element.appendChild(docLink);\n",
              "        }\n",
              "      </script>\n",
              "    </div>\n",
              "  </div>\n",
              "  "
            ],
            "text/plain": [
              "   gps_height  longitude  ...  source_encoded  waterpoint_type_encoded\n",
              "0      1390.0  34.938093  ...               8                        1\n",
              "1      1399.0  34.698766  ...               5                        1\n",
              "2       686.0  37.460664  ...               0                        2\n",
              "3       263.0  38.486161  ...               3                        2\n",
              "4      1328.8  31.130847  ...               5                        1\n",
              "\n",
              "[5 rows x 31 columns]"
            ]
          },
          "metadata": {},
          "execution_count": 4
        }
      ]
    },
    {
      "cell_type": "code",
      "source": [
        "# Разархивируем архив\n",
        "patoolib.extract_archive('/content/my_drive/MyDrive/DataSets/Pump_it_Up.rar', outdir='/content' )"
      ],
      "metadata": {
        "colab": {
          "base_uri": "https://localhost:8080/",
          "height": 105
        },
        "id": "vVJe2p7yN1-d",
        "outputId": "9dc078f0-b715-425e-ff78-717bb07e307a"
      },
      "execution_count": null,
      "outputs": [
        {
          "output_type": "stream",
          "name": "stdout",
          "text": [
            "patool: Extracting /content/my_drive/MyDrive/DataSets/Pump_it_Up.rar ...\n",
            "patool: running /usr/bin/unrar x -- /content/my_drive/MyDrive/DataSets/Pump_it_Up.rar\n",
            "patool:     with cwd='/content'\n",
            "patool: ... /content/my_drive/MyDrive/DataSets/Pump_it_Up.rar extracted to `/content'.\n"
          ]
        },
        {
          "output_type": "execute_result",
          "data": {
            "application/vnd.google.colaboratory.intrinsic+json": {
              "type": "string"
            },
            "text/plain": [
              "'/content'"
            ]
          },
          "metadata": {},
          "execution_count": 5
        }
      ]
    },
    {
      "cell_type": "code",
      "source": [
        "data_labels = pd.read_csv('/content/Pump_it_Up/y_train.csv')"
      ],
      "metadata": {
        "id": "e3bsNLwMLFaB"
      },
      "execution_count": null,
      "outputs": []
    },
    {
      "cell_type": "code",
      "source": [
        "data_labels.head()"
      ],
      "metadata": {
        "colab": {
          "base_uri": "https://localhost:8080/",
          "height": 206
        },
        "id": "BGlKL90XN6rZ",
        "outputId": "4376b4b2-a612-4d69-ce6d-85a469297531"
      },
      "execution_count": null,
      "outputs": [
        {
          "output_type": "execute_result",
          "data": {
            "text/html": [
              "\n",
              "  <div id=\"df-b2407c24-b416-4de2-8cd1-d124245572e2\">\n",
              "    <div class=\"colab-df-container\">\n",
              "      <div>\n",
              "<style scoped>\n",
              "    .dataframe tbody tr th:only-of-type {\n",
              "        vertical-align: middle;\n",
              "    }\n",
              "\n",
              "    .dataframe tbody tr th {\n",
              "        vertical-align: top;\n",
              "    }\n",
              "\n",
              "    .dataframe thead th {\n",
              "        text-align: right;\n",
              "    }\n",
              "</style>\n",
              "<table border=\"1\" class=\"dataframe\">\n",
              "  <thead>\n",
              "    <tr style=\"text-align: right;\">\n",
              "      <th></th>\n",
              "      <th>id</th>\n",
              "      <th>status_group</th>\n",
              "    </tr>\n",
              "  </thead>\n",
              "  <tbody>\n",
              "    <tr>\n",
              "      <th>0</th>\n",
              "      <td>69572</td>\n",
              "      <td>functional</td>\n",
              "    </tr>\n",
              "    <tr>\n",
              "      <th>1</th>\n",
              "      <td>8776</td>\n",
              "      <td>functional</td>\n",
              "    </tr>\n",
              "    <tr>\n",
              "      <th>2</th>\n",
              "      <td>34310</td>\n",
              "      <td>functional</td>\n",
              "    </tr>\n",
              "    <tr>\n",
              "      <th>3</th>\n",
              "      <td>67743</td>\n",
              "      <td>non functional</td>\n",
              "    </tr>\n",
              "    <tr>\n",
              "      <th>4</th>\n",
              "      <td>19728</td>\n",
              "      <td>functional</td>\n",
              "    </tr>\n",
              "  </tbody>\n",
              "</table>\n",
              "</div>\n",
              "      <button class=\"colab-df-convert\" onclick=\"convertToInteractive('df-b2407c24-b416-4de2-8cd1-d124245572e2')\"\n",
              "              title=\"Convert this dataframe to an interactive table.\"\n",
              "              style=\"display:none;\">\n",
              "        \n",
              "  <svg xmlns=\"http://www.w3.org/2000/svg\" height=\"24px\"viewBox=\"0 0 24 24\"\n",
              "       width=\"24px\">\n",
              "    <path d=\"M0 0h24v24H0V0z\" fill=\"none\"/>\n",
              "    <path d=\"M18.56 5.44l.94 2.06.94-2.06 2.06-.94-2.06-.94-.94-2.06-.94 2.06-2.06.94zm-11 1L8.5 8.5l.94-2.06 2.06-.94-2.06-.94L8.5 2.5l-.94 2.06-2.06.94zm10 10l.94 2.06.94-2.06 2.06-.94-2.06-.94-.94-2.06-.94 2.06-2.06.94z\"/><path d=\"M17.41 7.96l-1.37-1.37c-.4-.4-.92-.59-1.43-.59-.52 0-1.04.2-1.43.59L10.3 9.45l-7.72 7.72c-.78.78-.78 2.05 0 2.83L4 21.41c.39.39.9.59 1.41.59.51 0 1.02-.2 1.41-.59l7.78-7.78 2.81-2.81c.8-.78.8-2.07 0-2.86zM5.41 20L4 18.59l7.72-7.72 1.47 1.35L5.41 20z\"/>\n",
              "  </svg>\n",
              "      </button>\n",
              "      \n",
              "  <style>\n",
              "    .colab-df-container {\n",
              "      display:flex;\n",
              "      flex-wrap:wrap;\n",
              "      gap: 12px;\n",
              "    }\n",
              "\n",
              "    .colab-df-convert {\n",
              "      background-color: #E8F0FE;\n",
              "      border: none;\n",
              "      border-radius: 50%;\n",
              "      cursor: pointer;\n",
              "      display: none;\n",
              "      fill: #1967D2;\n",
              "      height: 32px;\n",
              "      padding: 0 0 0 0;\n",
              "      width: 32px;\n",
              "    }\n",
              "\n",
              "    .colab-df-convert:hover {\n",
              "      background-color: #E2EBFA;\n",
              "      box-shadow: 0px 1px 2px rgba(60, 64, 67, 0.3), 0px 1px 3px 1px rgba(60, 64, 67, 0.15);\n",
              "      fill: #174EA6;\n",
              "    }\n",
              "\n",
              "    [theme=dark] .colab-df-convert {\n",
              "      background-color: #3B4455;\n",
              "      fill: #D2E3FC;\n",
              "    }\n",
              "\n",
              "    [theme=dark] .colab-df-convert:hover {\n",
              "      background-color: #434B5C;\n",
              "      box-shadow: 0px 1px 3px 1px rgba(0, 0, 0, 0.15);\n",
              "      filter: drop-shadow(0px 1px 2px rgba(0, 0, 0, 0.3));\n",
              "      fill: #FFFFFF;\n",
              "    }\n",
              "  </style>\n",
              "\n",
              "      <script>\n",
              "        const buttonEl =\n",
              "          document.querySelector('#df-b2407c24-b416-4de2-8cd1-d124245572e2 button.colab-df-convert');\n",
              "        buttonEl.style.display =\n",
              "          google.colab.kernel.accessAllowed ? 'block' : 'none';\n",
              "\n",
              "        async function convertToInteractive(key) {\n",
              "          const element = document.querySelector('#df-b2407c24-b416-4de2-8cd1-d124245572e2');\n",
              "          const dataTable =\n",
              "            await google.colab.kernel.invokeFunction('convertToInteractive',\n",
              "                                                     [key], {});\n",
              "          if (!dataTable) return;\n",
              "\n",
              "          const docLinkHtml = 'Like what you see? Visit the ' +\n",
              "            '<a target=\"_blank\" href=https://colab.research.google.com/notebooks/data_table.ipynb>data table notebook</a>'\n",
              "            + ' to learn more about interactive tables.';\n",
              "          element.innerHTML = '';\n",
              "          dataTable['output_type'] = 'display_data';\n",
              "          await google.colab.output.renderOutput(dataTable, element);\n",
              "          const docLink = document.createElement('div');\n",
              "          docLink.innerHTML = docLinkHtml;\n",
              "          element.appendChild(docLink);\n",
              "        }\n",
              "      </script>\n",
              "    </div>\n",
              "  </div>\n",
              "  "
            ],
            "text/plain": [
              "      id    status_group\n",
              "0  69572      functional\n",
              "1   8776      functional\n",
              "2  34310      functional\n",
              "3  67743  non functional\n",
              "4  19728      functional"
            ]
          },
          "metadata": {},
          "execution_count": 149
        }
      ]
    },
    {
      "cell_type": "markdown",
      "source": [
        "# Feature Engeneering"
      ],
      "metadata": {
        "id": "tW_4p_20XHH-"
      }
    },
    {
      "cell_type": "markdown",
      "source": [
        "**Посмотрим корреляцию между атрибутами**"
      ],
      "metadata": {
        "id": "3BSY2k71LDA1"
      }
    },
    {
      "cell_type": "code",
      "source": [
        "data.drop('scheme_management_encoded', axis=1, inplace=True)"
      ],
      "metadata": {
        "id": "IXR89cQFN7hR"
      },
      "execution_count": null,
      "outputs": []
    },
    {
      "cell_type": "code",
      "source": [
        "for atribute in data.columns:\n",
        "  space = '                         '\n",
        "  nou = len(data[atribute].unique())\n",
        "  print(f'Кол-во уник. знач. для {atribute}{space[len(atribute):]}:', nou)"
      ],
      "metadata": {
        "colab": {
          "base_uri": "https://localhost:8080/"
        },
        "id": "Z5wFuY8jR_bx",
        "outputId": "599587c8-975d-404a-9c97-68c06a474970"
      },
      "execution_count": null,
      "outputs": [
        {
          "output_type": "stream",
          "name": "stdout",
          "text": [
            "Кол-во уник. знач. для gps_height               : 3191\n",
            "Кол-во уник. знач. для longitude                : 72082\n",
            "Кол-во уник. знач. для latitude                 : 72081\n",
            "Кол-во уник. знач. для region_code              : 27\n",
            "Кол-во уник. знач. для district_code            : 20\n",
            "Кол-во уник. знач. для population               : 1591\n",
            "Кол-во уник. знач. для construction_year        : 203\n",
            "Кол-во уник. знач. для labels                   : 2\n",
            "Кол-во уник. знач. для amount_tsh_bool          : 2\n",
            "Кол-во уник. знач. для month_recorded           : 12\n",
            "Кол-во уник. знач. для funder_encoded           : 2140\n",
            "Кол-во уник. знач. для installer_encoded        : 2410\n",
            "Кол-во уник. знач. для scheme_name_encoded      : 2868\n",
            "Кол-во уник. знач. для public_meeting_encoded   : 2\n",
            "Кол-во уник. знач. для permit_encoded           : 2\n",
            "Кол-во уник. знач. для subvillage_encoded       : 21425\n",
            "Кол-во уник. знач. для wpt_name_encoded         : 45683\n",
            "Кол-во уник. знач. для management_encoded       : 11\n",
            "Кол-во уник. знач. для payment_encoded          : 6\n",
            "Кол-во уник. знач. для payment_type_encoded     : 6\n",
            "Кол-во уник. знач. для water_quality_encoded    : 7\n",
            "Кол-во уник. знач. для quality_group_encoded    : 5\n",
            "Кол-во уник. знач. для quantity_encoded         : 4\n",
            "Кол-во уник. знач. для basin_encoded            : 9\n",
            "Кол-во уник. знач. для region_encoded           : 21\n",
            "Кол-во уник. знач. для lga_encoded              : 125\n",
            "Кол-во уник. знач. для ward_encoded             : 2098\n",
            "Кол-во уник. знач. для extraction_type_encoded  : 18\n",
            "Кол-во уник. знач. для source_encoded           : 10\n",
            "Кол-во уник. знач. для waterpoint_type_encoded  : 7\n"
          ]
        }
      ]
    },
    {
      "cell_type": "code",
      "source": [
        "'''\n",
        "ЗАМЕТКА:\n",
        "Видно, что у некоторых атрибутов очень много уникальных значений, что\n",
        "плохой показатель для построения любой модели\n",
        "\n",
        "ЦЕЛЬ:\n",
        "Избавиться от большого количеста уникальных значений, сохранив содержательность информации\n",
        "\n",
        "ГИПОТЕЗА:\n",
        "Вместо самого значения можно использовать частоту его встречаемости по всей выборке, т.е.\n",
        "если из  1000 данное значение встречается 100 раз, то вместо него пишем 0.1  \n",
        "\n",
        "ЗАДАЧИ:\n",
        "- определить пороговое значение количеста уникальных значений атрибута, \n",
        "начиная с которого будет применяться замена по частоте\n",
        "- применить замену по частоте для атрибутов с количеством\n",
        "уникальных значений выше порога\n",
        "'''\n",
        "print()"
      ],
      "metadata": {
        "colab": {
          "base_uri": "https://localhost:8080/"
        },
        "id": "8TDuuHopUPNP",
        "outputId": "4c071edb-05b3-49c1-af9d-f53ca8dd9a4a"
      },
      "execution_count": null,
      "outputs": [
        {
          "output_type": "stream",
          "name": "stdout",
          "text": [
            "\n"
          ]
        }
      ]
    },
    {
      "cell_type": "code",
      "source": [
        "# оценка частоты встречаемости на примере \"wpt_name_encoded\"\n",
        "data.wpt_name_encoded.value_counts(normalize=True)"
      ],
      "metadata": {
        "colab": {
          "base_uri": "https://localhost:8080/"
        },
        "id": "4rPGhx2fR_gu",
        "outputId": "50e5e2b7-03af-48fa-b7a0-11adcd19738b"
      },
      "execution_count": null,
      "outputs": [
        {
          "output_type": "execute_result",
          "data": {
            "text/plain": [
              "43411    0.029832\n",
              "45426    0.013939\n",
              "1330     0.012040\n",
              "36358    0.008741\n",
              "9588     0.005751\n",
              "           ...   \n",
              "20899    0.000013\n",
              "22946    0.000013\n",
              "16801    0.000013\n",
              "18848    0.000013\n",
              "0        0.000013\n",
              "Name: wpt_name_encoded, Length: 45683, dtype: float64"
            ]
          },
          "metadata": {},
          "execution_count": 153
        }
      ]
    },
    {
      "cell_type": "code",
      "source": [
        "####################################################\n",
        "# Частотное заполнение, где пороговое значения - 27.\n",
        "####################################################\n",
        "\n",
        "for atribute in data.columns:\n",
        "\n",
        "  condition_1 = len(data[atribute].unique()) > 27\n",
        "  condition_2 = atribute not in list1             # не оправдало надежд...\n",
        "  condition  = condition_1 & condition_2\n",
        "\n",
        "  if condition_1:\n",
        "    freq_enc = data[atribute].value_counts(normalize=True)\n",
        "    data[atribute] = data[atribute].map(freq_enc)\n"
      ],
      "metadata": {
        "id": "tgMDlQ2iXAVL"
      },
      "execution_count": null,
      "outputs": []
    },
    {
      "cell_type": "code",
      "source": [
        "# теперь кол-во уникальных значений сократилось\n",
        "for atribute in data.columns:\n",
        "  space = '                         '\n",
        "  nou = len(data[atribute].unique())\n",
        "  print(f'Кол-во уник. знач. для {atribute}{space[len(atribute):]}:', nou)"
      ],
      "metadata": {
        "colab": {
          "base_uri": "https://localhost:8080/"
        },
        "id": "knfi9L5eR_jV",
        "outputId": "1625662d-3256-4836-bd6e-2d65a6811358"
      },
      "execution_count": null,
      "outputs": [
        {
          "output_type": "stream",
          "name": "stdout",
          "text": [
            "Кол-во уник. знач. для gps_height               : 131\n",
            "Кол-во уник. знач. для longitude                : 19\n",
            "Кол-во уник. знач. для latitude                 : 19\n",
            "Кол-во уник. знач. для region_code              : 27\n",
            "Кол-во уник. знач. для district_code            : 20\n",
            "Кол-во уник. знач. для population               : 185\n",
            "Кол-во уник. знач. для construction_year        : 138\n",
            "Кол-во уник. знач. для labels                   : 2\n",
            "Кол-во уник. знач. для amount_tsh_bool          : 2\n",
            "Кол-во уник. знач. для month_recorded           : 12\n",
            "Кол-во уник. знач. для funder_encoded           : 177\n",
            "Кол-во уник. знач. для installer_encoded        : 175\n",
            "Кол-во уник. знач. для scheme_name_encoded      : 189\n",
            "Кол-во уник. знач. для public_meeting_encoded   : 2\n",
            "Кол-во уник. знач. для permit_encoded           : 2\n",
            "Кол-во уник. знач. для subvillage_encoded       : 112\n",
            "Кол-во уник. знач. для wpt_name_encoded         : 99\n",
            "Кол-во уник. знач. для management_encoded       : 11\n",
            "Кол-во уник. знач. для payment_encoded          : 6\n",
            "Кол-во уник. знач. для payment_type_encoded     : 6\n",
            "Кол-во уник. знач. для water_quality_encoded    : 7\n",
            "Кол-во уник. знач. для quality_group_encoded    : 5\n",
            "Кол-во уник. знач. для quantity_encoded         : 4\n",
            "Кол-во уник. знач. для basin_encoded            : 9\n",
            "Кол-во уник. знач. для region_encoded           : 21\n",
            "Кол-во уник. знач. для lga_encoded              : 120\n",
            "Кол-во уник. знач. для ward_encoded             : 156\n",
            "Кол-во уник. знач. для extraction_type_encoded  : 18\n",
            "Кол-во уник. знач. для source_encoded           : 10\n",
            "Кол-во уник. знач. для waterpoint_type_encoded  : 7\n"
          ]
        }
      ]
    },
    {
      "cell_type": "code",
      "source": [
        "data.head()"
      ],
      "metadata": {
        "id": "pjWd2geJR_6d",
        "colab": {
          "base_uri": "https://localhost:8080/",
          "height": 270
        },
        "outputId": "6f99928a-58ca-4b9d-9365-73dded6e5a1d"
      },
      "execution_count": null,
      "outputs": [
        {
          "output_type": "execute_result",
          "data": {
            "text/html": [
              "\n",
              "  <div id=\"df-f0f298d7-37a5-456a-94ca-339933239229\">\n",
              "    <div class=\"colab-df-container\">\n",
              "      <div>\n",
              "<style scoped>\n",
              "    .dataframe tbody tr th:only-of-type {\n",
              "        vertical-align: middle;\n",
              "    }\n",
              "\n",
              "    .dataframe tbody tr th {\n",
              "        vertical-align: top;\n",
              "    }\n",
              "\n",
              "    .dataframe thead th {\n",
              "        text-align: right;\n",
              "    }\n",
              "</style>\n",
              "<table border=\"1\" class=\"dataframe\">\n",
              "  <thead>\n",
              "    <tr style=\"text-align: right;\">\n",
              "      <th></th>\n",
              "      <th>gps_height</th>\n",
              "      <th>longitude</th>\n",
              "      <th>latitude</th>\n",
              "      <th>region_code</th>\n",
              "      <th>district_code</th>\n",
              "      <th>population</th>\n",
              "      <th>construction_year</th>\n",
              "      <th>labels</th>\n",
              "      <th>amount_tsh_bool</th>\n",
              "      <th>month_recorded</th>\n",
              "      <th>funder_encoded</th>\n",
              "      <th>installer_encoded</th>\n",
              "      <th>scheme_name_encoded</th>\n",
              "      <th>public_meeting_encoded</th>\n",
              "      <th>permit_encoded</th>\n",
              "      <th>subvillage_encoded</th>\n",
              "      <th>wpt_name_encoded</th>\n",
              "      <th>management_encoded</th>\n",
              "      <th>payment_encoded</th>\n",
              "      <th>payment_type_encoded</th>\n",
              "      <th>water_quality_encoded</th>\n",
              "      <th>quality_group_encoded</th>\n",
              "      <th>quantity_encoded</th>\n",
              "      <th>basin_encoded</th>\n",
              "      <th>region_encoded</th>\n",
              "      <th>lga_encoded</th>\n",
              "      <th>ward_encoded</th>\n",
              "      <th>extraction_type_encoded</th>\n",
              "      <th>source_encoded</th>\n",
              "      <th>waterpoint_type_encoded</th>\n",
              "    </tr>\n",
              "  </thead>\n",
              "  <tbody>\n",
              "    <tr>\n",
              "      <th>0</th>\n",
              "      <td>0.000539</td>\n",
              "      <td>0.000013</td>\n",
              "      <td>0.000013</td>\n",
              "      <td>11</td>\n",
              "      <td>5</td>\n",
              "      <td>0.000296</td>\n",
              "      <td>0.018316</td>\n",
              "      <td>True</td>\n",
              "      <td>False</td>\n",
              "      <td>3</td>\n",
              "      <td>0.004552</td>\n",
              "      <td>0.001616</td>\n",
              "      <td>0.002303</td>\n",
              "      <td>1</td>\n",
              "      <td>0</td>\n",
              "      <td>0.000081</td>\n",
              "      <td>0.001764</td>\n",
              "      <td>7</td>\n",
              "      <td>3</td>\n",
              "      <td>0</td>\n",
              "      <td>7</td>\n",
              "      <td>2</td>\n",
              "      <td>1</td>\n",
              "      <td>1</td>\n",
              "      <td>3</td>\n",
              "      <td>0.009253</td>\n",
              "      <td>0.000552</td>\n",
              "      <td>3</td>\n",
              "      <td>8</td>\n",
              "      <td>1</td>\n",
              "    </tr>\n",
              "    <tr>\n",
              "      <th>1</th>\n",
              "      <td>0.000525</td>\n",
              "      <td>0.000013</td>\n",
              "      <td>0.000013</td>\n",
              "      <td>20</td>\n",
              "      <td>2</td>\n",
              "      <td>0.001859</td>\n",
              "      <td>0.044714</td>\n",
              "      <td>True</td>\n",
              "      <td>True</td>\n",
              "      <td>3</td>\n",
              "      <td>0.000862</td>\n",
              "      <td>0.000673</td>\n",
              "      <td>0.000835</td>\n",
              "      <td>1</td>\n",
              "      <td>1</td>\n",
              "      <td>0.000081</td>\n",
              "      <td>0.013939</td>\n",
              "      <td>11</td>\n",
              "      <td>1</td>\n",
              "      <td>3</td>\n",
              "      <td>7</td>\n",
              "      <td>2</td>\n",
              "      <td>2</td>\n",
              "      <td>4</td>\n",
              "      <td>9</td>\n",
              "      <td>0.012189</td>\n",
              "      <td>0.001212</td>\n",
              "      <td>3</td>\n",
              "      <td>5</td>\n",
              "      <td>1</td>\n",
              "    </tr>\n",
              "    <tr>\n",
              "      <th>2</th>\n",
              "      <td>0.000148</td>\n",
              "      <td>0.000013</td>\n",
              "      <td>0.000013</td>\n",
              "      <td>21</td>\n",
              "      <td>4</td>\n",
              "      <td>0.028135</td>\n",
              "      <td>0.043152</td>\n",
              "      <td>True</td>\n",
              "      <td>False</td>\n",
              "      <td>2</td>\n",
              "      <td>0.000121</td>\n",
              "      <td>0.007111</td>\n",
              "      <td>0.000189</td>\n",
              "      <td>1</td>\n",
              "      <td>1</td>\n",
              "      <td>0.008512</td>\n",
              "      <td>0.000040</td>\n",
              "      <td>7</td>\n",
              "      <td>5</td>\n",
              "      <td>6</td>\n",
              "      <td>7</td>\n",
              "      <td>2</td>\n",
              "      <td>1</td>\n",
              "      <td>5</td>\n",
              "      <td>8</td>\n",
              "      <td>0.005010</td>\n",
              "      <td>0.000175</td>\n",
              "      <td>3</td>\n",
              "      <td>0</td>\n",
              "      <td>2</td>\n",
              "    </tr>\n",
              "    <tr>\n",
              "      <th>3</th>\n",
              "      <td>0.000458</td>\n",
              "      <td>0.000013</td>\n",
              "      <td>0.000013</td>\n",
              "      <td>90</td>\n",
              "      <td>63</td>\n",
              "      <td>0.000418</td>\n",
              "      <td>0.023556</td>\n",
              "      <td>True</td>\n",
              "      <td>True</td>\n",
              "      <td>1</td>\n",
              "      <td>0.020364</td>\n",
              "      <td>0.003838</td>\n",
              "      <td>0.002640</td>\n",
              "      <td>1</td>\n",
              "      <td>1</td>\n",
              "      <td>0.000323</td>\n",
              "      <td>0.000027</td>\n",
              "      <td>7</td>\n",
              "      <td>1</td>\n",
              "      <td>3</td>\n",
              "      <td>7</td>\n",
              "      <td>2</td>\n",
              "      <td>0</td>\n",
              "      <td>7</td>\n",
              "      <td>12</td>\n",
              "      <td>0.002869</td>\n",
              "      <td>0.000552</td>\n",
              "      <td>14</td>\n",
              "      <td>3</td>\n",
              "      <td>2</td>\n",
              "    </tr>\n",
              "    <tr>\n",
              "      <th>4</th>\n",
              "      <td>0.006747</td>\n",
              "      <td>0.000013</td>\n",
              "      <td>0.000013</td>\n",
              "      <td>18</td>\n",
              "      <td>1</td>\n",
              "      <td>0.006909</td>\n",
              "      <td>0.013953</td>\n",
              "      <td>True</td>\n",
              "      <td>True</td>\n",
              "      <td>7</td>\n",
              "      <td>0.000013</td>\n",
              "      <td>0.002276</td>\n",
              "      <td>0.000337</td>\n",
              "      <td>1</td>\n",
              "      <td>1</td>\n",
              "      <td>0.000027</td>\n",
              "      <td>0.029832</td>\n",
              "      <td>2</td>\n",
              "      <td>1</td>\n",
              "      <td>3</td>\n",
              "      <td>7</td>\n",
              "      <td>2</td>\n",
              "      <td>4</td>\n",
              "      <td>4</td>\n",
              "      <td>4</td>\n",
              "      <td>0.013024</td>\n",
              "      <td>0.000189</td>\n",
              "      <td>3</td>\n",
              "      <td>5</td>\n",
              "      <td>1</td>\n",
              "    </tr>\n",
              "  </tbody>\n",
              "</table>\n",
              "</div>\n",
              "      <button class=\"colab-df-convert\" onclick=\"convertToInteractive('df-f0f298d7-37a5-456a-94ca-339933239229')\"\n",
              "              title=\"Convert this dataframe to an interactive table.\"\n",
              "              style=\"display:none;\">\n",
              "        \n",
              "  <svg xmlns=\"http://www.w3.org/2000/svg\" height=\"24px\"viewBox=\"0 0 24 24\"\n",
              "       width=\"24px\">\n",
              "    <path d=\"M0 0h24v24H0V0z\" fill=\"none\"/>\n",
              "    <path d=\"M18.56 5.44l.94 2.06.94-2.06 2.06-.94-2.06-.94-.94-2.06-.94 2.06-2.06.94zm-11 1L8.5 8.5l.94-2.06 2.06-.94-2.06-.94L8.5 2.5l-.94 2.06-2.06.94zm10 10l.94 2.06.94-2.06 2.06-.94-2.06-.94-.94-2.06-.94 2.06-2.06.94z\"/><path d=\"M17.41 7.96l-1.37-1.37c-.4-.4-.92-.59-1.43-.59-.52 0-1.04.2-1.43.59L10.3 9.45l-7.72 7.72c-.78.78-.78 2.05 0 2.83L4 21.41c.39.39.9.59 1.41.59.51 0 1.02-.2 1.41-.59l7.78-7.78 2.81-2.81c.8-.78.8-2.07 0-2.86zM5.41 20L4 18.59l7.72-7.72 1.47 1.35L5.41 20z\"/>\n",
              "  </svg>\n",
              "      </button>\n",
              "      \n",
              "  <style>\n",
              "    .colab-df-container {\n",
              "      display:flex;\n",
              "      flex-wrap:wrap;\n",
              "      gap: 12px;\n",
              "    }\n",
              "\n",
              "    .colab-df-convert {\n",
              "      background-color: #E8F0FE;\n",
              "      border: none;\n",
              "      border-radius: 50%;\n",
              "      cursor: pointer;\n",
              "      display: none;\n",
              "      fill: #1967D2;\n",
              "      height: 32px;\n",
              "      padding: 0 0 0 0;\n",
              "      width: 32px;\n",
              "    }\n",
              "\n",
              "    .colab-df-convert:hover {\n",
              "      background-color: #E2EBFA;\n",
              "      box-shadow: 0px 1px 2px rgba(60, 64, 67, 0.3), 0px 1px 3px 1px rgba(60, 64, 67, 0.15);\n",
              "      fill: #174EA6;\n",
              "    }\n",
              "\n",
              "    [theme=dark] .colab-df-convert {\n",
              "      background-color: #3B4455;\n",
              "      fill: #D2E3FC;\n",
              "    }\n",
              "\n",
              "    [theme=dark] .colab-df-convert:hover {\n",
              "      background-color: #434B5C;\n",
              "      box-shadow: 0px 1px 3px 1px rgba(0, 0, 0, 0.15);\n",
              "      filter: drop-shadow(0px 1px 2px rgba(0, 0, 0, 0.3));\n",
              "      fill: #FFFFFF;\n",
              "    }\n",
              "  </style>\n",
              "\n",
              "      <script>\n",
              "        const buttonEl =\n",
              "          document.querySelector('#df-f0f298d7-37a5-456a-94ca-339933239229 button.colab-df-convert');\n",
              "        buttonEl.style.display =\n",
              "          google.colab.kernel.accessAllowed ? 'block' : 'none';\n",
              "\n",
              "        async function convertToInteractive(key) {\n",
              "          const element = document.querySelector('#df-f0f298d7-37a5-456a-94ca-339933239229');\n",
              "          const dataTable =\n",
              "            await google.colab.kernel.invokeFunction('convertToInteractive',\n",
              "                                                     [key], {});\n",
              "          if (!dataTable) return;\n",
              "\n",
              "          const docLinkHtml = 'Like what you see? Visit the ' +\n",
              "            '<a target=\"_blank\" href=https://colab.research.google.com/notebooks/data_table.ipynb>data table notebook</a>'\n",
              "            + ' to learn more about interactive tables.';\n",
              "          element.innerHTML = '';\n",
              "          dataTable['output_type'] = 'display_data';\n",
              "          await google.colab.output.renderOutput(dataTable, element);\n",
              "          const docLink = document.createElement('div');\n",
              "          docLink.innerHTML = docLinkHtml;\n",
              "          element.appendChild(docLink);\n",
              "        }\n",
              "      </script>\n",
              "    </div>\n",
              "  </div>\n",
              "  "
            ],
            "text/plain": [
              "   gps_height  longitude  ...  source_encoded  waterpoint_type_encoded\n",
              "0    0.000539   0.000013  ...               8                        1\n",
              "1    0.000525   0.000013  ...               5                        1\n",
              "2    0.000148   0.000013  ...               0                        2\n",
              "3    0.000458   0.000013  ...               3                        2\n",
              "4    0.006747   0.000013  ...               5                        1\n",
              "\n",
              "[5 rows x 30 columns]"
            ]
          },
          "metadata": {},
          "execution_count": 156
        }
      ]
    },
    {
      "cell_type": "markdown",
      "source": [
        "# Modelling"
      ],
      "metadata": {
        "id": "MLKpaMTnY4Ef"
      }
    },
    {
      "cell_type": "code",
      "source": [
        "from sklearn.preprocessing import StandardScaler\n",
        "from sklearn.model_selection import train_test_split\n",
        "\n",
        "from tensorflow.keras import utils #Утилиты для to_categorical\n",
        "\n",
        "from tensorflow.keras.models import Sequential # save_model #Сеть прямого распространения\n",
        "from tensorflow.keras.layers import Dense, Conv2D, MaxPooling2D, Flatten, Dropout, BatchNormalization\n",
        "from tensorflow.python.keras.preprocessing.image import ImageDataGenerator # работа с изображениями\n",
        "from tensorflow.keras.optimizers import SGD, Adam, Adadelta # оптимизаторы\n",
        "\n",
        "from sklearn.preprocessing import LabelEncoder \n",
        "from sklearn.preprocessing import OneHotEncoder \n",
        "from sklearn.metrics import classification_report\n",
        "\n",
        "from keras.models import load_model"
      ],
      "metadata": {
        "id": "De-N0QJvYw88"
      },
      "execution_count": null,
      "outputs": []
    },
    {
      "cell_type": "code",
      "source": [
        "data.head()"
      ],
      "metadata": {
        "colab": {
          "base_uri": "https://localhost:8080/",
          "height": 270
        },
        "id": "R-ADX_-GKEq3",
        "outputId": "4ded95a3-c660-4a17-eaa1-2d04d9f43ead"
      },
      "execution_count": null,
      "outputs": [
        {
          "output_type": "execute_result",
          "data": {
            "text/html": [
              "\n",
              "  <div id=\"df-78592e30-a11f-4c0c-9df3-4b6a659679bb\">\n",
              "    <div class=\"colab-df-container\">\n",
              "      <div>\n",
              "<style scoped>\n",
              "    .dataframe tbody tr th:only-of-type {\n",
              "        vertical-align: middle;\n",
              "    }\n",
              "\n",
              "    .dataframe tbody tr th {\n",
              "        vertical-align: top;\n",
              "    }\n",
              "\n",
              "    .dataframe thead th {\n",
              "        text-align: right;\n",
              "    }\n",
              "</style>\n",
              "<table border=\"1\" class=\"dataframe\">\n",
              "  <thead>\n",
              "    <tr style=\"text-align: right;\">\n",
              "      <th></th>\n",
              "      <th>gps_height</th>\n",
              "      <th>longitude</th>\n",
              "      <th>latitude</th>\n",
              "      <th>region_code</th>\n",
              "      <th>district_code</th>\n",
              "      <th>population</th>\n",
              "      <th>construction_year</th>\n",
              "      <th>labels</th>\n",
              "      <th>amount_tsh_bool</th>\n",
              "      <th>month_recorded</th>\n",
              "      <th>funder_encoded</th>\n",
              "      <th>installer_encoded</th>\n",
              "      <th>scheme_name_encoded</th>\n",
              "      <th>public_meeting_encoded</th>\n",
              "      <th>permit_encoded</th>\n",
              "      <th>subvillage_encoded</th>\n",
              "      <th>wpt_name_encoded</th>\n",
              "      <th>management_encoded</th>\n",
              "      <th>payment_encoded</th>\n",
              "      <th>payment_type_encoded</th>\n",
              "      <th>water_quality_encoded</th>\n",
              "      <th>quality_group_encoded</th>\n",
              "      <th>quantity_encoded</th>\n",
              "      <th>basin_encoded</th>\n",
              "      <th>region_encoded</th>\n",
              "      <th>lga_encoded</th>\n",
              "      <th>ward_encoded</th>\n",
              "      <th>extraction_type_encoded</th>\n",
              "      <th>source_encoded</th>\n",
              "      <th>waterpoint_type_encoded</th>\n",
              "    </tr>\n",
              "  </thead>\n",
              "  <tbody>\n",
              "    <tr>\n",
              "      <th>0</th>\n",
              "      <td>0.000539</td>\n",
              "      <td>0.000013</td>\n",
              "      <td>0.000013</td>\n",
              "      <td>11</td>\n",
              "      <td>5</td>\n",
              "      <td>0.000296</td>\n",
              "      <td>0.018316</td>\n",
              "      <td>True</td>\n",
              "      <td>False</td>\n",
              "      <td>3</td>\n",
              "      <td>0.004552</td>\n",
              "      <td>0.001616</td>\n",
              "      <td>0.002303</td>\n",
              "      <td>1</td>\n",
              "      <td>0</td>\n",
              "      <td>0.000081</td>\n",
              "      <td>0.001764</td>\n",
              "      <td>7</td>\n",
              "      <td>3</td>\n",
              "      <td>0</td>\n",
              "      <td>7</td>\n",
              "      <td>2</td>\n",
              "      <td>1</td>\n",
              "      <td>1</td>\n",
              "      <td>3</td>\n",
              "      <td>0.009253</td>\n",
              "      <td>0.000552</td>\n",
              "      <td>3</td>\n",
              "      <td>8</td>\n",
              "      <td>1</td>\n",
              "    </tr>\n",
              "    <tr>\n",
              "      <th>1</th>\n",
              "      <td>0.000525</td>\n",
              "      <td>0.000013</td>\n",
              "      <td>0.000013</td>\n",
              "      <td>20</td>\n",
              "      <td>2</td>\n",
              "      <td>0.001859</td>\n",
              "      <td>0.044714</td>\n",
              "      <td>True</td>\n",
              "      <td>True</td>\n",
              "      <td>3</td>\n",
              "      <td>0.000862</td>\n",
              "      <td>0.000673</td>\n",
              "      <td>0.000835</td>\n",
              "      <td>1</td>\n",
              "      <td>1</td>\n",
              "      <td>0.000081</td>\n",
              "      <td>0.013939</td>\n",
              "      <td>11</td>\n",
              "      <td>1</td>\n",
              "      <td>3</td>\n",
              "      <td>7</td>\n",
              "      <td>2</td>\n",
              "      <td>2</td>\n",
              "      <td>4</td>\n",
              "      <td>9</td>\n",
              "      <td>0.012189</td>\n",
              "      <td>0.001212</td>\n",
              "      <td>3</td>\n",
              "      <td>5</td>\n",
              "      <td>1</td>\n",
              "    </tr>\n",
              "    <tr>\n",
              "      <th>2</th>\n",
              "      <td>0.000148</td>\n",
              "      <td>0.000013</td>\n",
              "      <td>0.000013</td>\n",
              "      <td>21</td>\n",
              "      <td>4</td>\n",
              "      <td>0.028135</td>\n",
              "      <td>0.043152</td>\n",
              "      <td>True</td>\n",
              "      <td>False</td>\n",
              "      <td>2</td>\n",
              "      <td>0.000121</td>\n",
              "      <td>0.007111</td>\n",
              "      <td>0.000189</td>\n",
              "      <td>1</td>\n",
              "      <td>1</td>\n",
              "      <td>0.008512</td>\n",
              "      <td>0.000040</td>\n",
              "      <td>7</td>\n",
              "      <td>5</td>\n",
              "      <td>6</td>\n",
              "      <td>7</td>\n",
              "      <td>2</td>\n",
              "      <td>1</td>\n",
              "      <td>5</td>\n",
              "      <td>8</td>\n",
              "      <td>0.005010</td>\n",
              "      <td>0.000175</td>\n",
              "      <td>3</td>\n",
              "      <td>0</td>\n",
              "      <td>2</td>\n",
              "    </tr>\n",
              "    <tr>\n",
              "      <th>3</th>\n",
              "      <td>0.000458</td>\n",
              "      <td>0.000013</td>\n",
              "      <td>0.000013</td>\n",
              "      <td>90</td>\n",
              "      <td>63</td>\n",
              "      <td>0.000418</td>\n",
              "      <td>0.023556</td>\n",
              "      <td>True</td>\n",
              "      <td>True</td>\n",
              "      <td>1</td>\n",
              "      <td>0.020364</td>\n",
              "      <td>0.003838</td>\n",
              "      <td>0.002640</td>\n",
              "      <td>1</td>\n",
              "      <td>1</td>\n",
              "      <td>0.000323</td>\n",
              "      <td>0.000027</td>\n",
              "      <td>7</td>\n",
              "      <td>1</td>\n",
              "      <td>3</td>\n",
              "      <td>7</td>\n",
              "      <td>2</td>\n",
              "      <td>0</td>\n",
              "      <td>7</td>\n",
              "      <td>12</td>\n",
              "      <td>0.002869</td>\n",
              "      <td>0.000552</td>\n",
              "      <td>14</td>\n",
              "      <td>3</td>\n",
              "      <td>2</td>\n",
              "    </tr>\n",
              "    <tr>\n",
              "      <th>4</th>\n",
              "      <td>0.006747</td>\n",
              "      <td>0.000013</td>\n",
              "      <td>0.000013</td>\n",
              "      <td>18</td>\n",
              "      <td>1</td>\n",
              "      <td>0.006909</td>\n",
              "      <td>0.013953</td>\n",
              "      <td>True</td>\n",
              "      <td>True</td>\n",
              "      <td>7</td>\n",
              "      <td>0.000013</td>\n",
              "      <td>0.002276</td>\n",
              "      <td>0.000337</td>\n",
              "      <td>1</td>\n",
              "      <td>1</td>\n",
              "      <td>0.000027</td>\n",
              "      <td>0.029832</td>\n",
              "      <td>2</td>\n",
              "      <td>1</td>\n",
              "      <td>3</td>\n",
              "      <td>7</td>\n",
              "      <td>2</td>\n",
              "      <td>4</td>\n",
              "      <td>4</td>\n",
              "      <td>4</td>\n",
              "      <td>0.013024</td>\n",
              "      <td>0.000189</td>\n",
              "      <td>3</td>\n",
              "      <td>5</td>\n",
              "      <td>1</td>\n",
              "    </tr>\n",
              "  </tbody>\n",
              "</table>\n",
              "</div>\n",
              "      <button class=\"colab-df-convert\" onclick=\"convertToInteractive('df-78592e30-a11f-4c0c-9df3-4b6a659679bb')\"\n",
              "              title=\"Convert this dataframe to an interactive table.\"\n",
              "              style=\"display:none;\">\n",
              "        \n",
              "  <svg xmlns=\"http://www.w3.org/2000/svg\" height=\"24px\"viewBox=\"0 0 24 24\"\n",
              "       width=\"24px\">\n",
              "    <path d=\"M0 0h24v24H0V0z\" fill=\"none\"/>\n",
              "    <path d=\"M18.56 5.44l.94 2.06.94-2.06 2.06-.94-2.06-.94-.94-2.06-.94 2.06-2.06.94zm-11 1L8.5 8.5l.94-2.06 2.06-.94-2.06-.94L8.5 2.5l-.94 2.06-2.06.94zm10 10l.94 2.06.94-2.06 2.06-.94-2.06-.94-.94-2.06-.94 2.06-2.06.94z\"/><path d=\"M17.41 7.96l-1.37-1.37c-.4-.4-.92-.59-1.43-.59-.52 0-1.04.2-1.43.59L10.3 9.45l-7.72 7.72c-.78.78-.78 2.05 0 2.83L4 21.41c.39.39.9.59 1.41.59.51 0 1.02-.2 1.41-.59l7.78-7.78 2.81-2.81c.8-.78.8-2.07 0-2.86zM5.41 20L4 18.59l7.72-7.72 1.47 1.35L5.41 20z\"/>\n",
              "  </svg>\n",
              "      </button>\n",
              "      \n",
              "  <style>\n",
              "    .colab-df-container {\n",
              "      display:flex;\n",
              "      flex-wrap:wrap;\n",
              "      gap: 12px;\n",
              "    }\n",
              "\n",
              "    .colab-df-convert {\n",
              "      background-color: #E8F0FE;\n",
              "      border: none;\n",
              "      border-radius: 50%;\n",
              "      cursor: pointer;\n",
              "      display: none;\n",
              "      fill: #1967D2;\n",
              "      height: 32px;\n",
              "      padding: 0 0 0 0;\n",
              "      width: 32px;\n",
              "    }\n",
              "\n",
              "    .colab-df-convert:hover {\n",
              "      background-color: #E2EBFA;\n",
              "      box-shadow: 0px 1px 2px rgba(60, 64, 67, 0.3), 0px 1px 3px 1px rgba(60, 64, 67, 0.15);\n",
              "      fill: #174EA6;\n",
              "    }\n",
              "\n",
              "    [theme=dark] .colab-df-convert {\n",
              "      background-color: #3B4455;\n",
              "      fill: #D2E3FC;\n",
              "    }\n",
              "\n",
              "    [theme=dark] .colab-df-convert:hover {\n",
              "      background-color: #434B5C;\n",
              "      box-shadow: 0px 1px 3px 1px rgba(0, 0, 0, 0.15);\n",
              "      filter: drop-shadow(0px 1px 2px rgba(0, 0, 0, 0.3));\n",
              "      fill: #FFFFFF;\n",
              "    }\n",
              "  </style>\n",
              "\n",
              "      <script>\n",
              "        const buttonEl =\n",
              "          document.querySelector('#df-78592e30-a11f-4c0c-9df3-4b6a659679bb button.colab-df-convert');\n",
              "        buttonEl.style.display =\n",
              "          google.colab.kernel.accessAllowed ? 'block' : 'none';\n",
              "\n",
              "        async function convertToInteractive(key) {\n",
              "          const element = document.querySelector('#df-78592e30-a11f-4c0c-9df3-4b6a659679bb');\n",
              "          const dataTable =\n",
              "            await google.colab.kernel.invokeFunction('convertToInteractive',\n",
              "                                                     [key], {});\n",
              "          if (!dataTable) return;\n",
              "\n",
              "          const docLinkHtml = 'Like what you see? Visit the ' +\n",
              "            '<a target=\"_blank\" href=https://colab.research.google.com/notebooks/data_table.ipynb>data table notebook</a>'\n",
              "            + ' to learn more about interactive tables.';\n",
              "          element.innerHTML = '';\n",
              "          dataTable['output_type'] = 'display_data';\n",
              "          await google.colab.output.renderOutput(dataTable, element);\n",
              "          const docLink = document.createElement('div');\n",
              "          docLink.innerHTML = docLinkHtml;\n",
              "          element.appendChild(docLink);\n",
              "        }\n",
              "      </script>\n",
              "    </div>\n",
              "  </div>\n",
              "  "
            ],
            "text/plain": [
              "   gps_height  longitude  ...  source_encoded  waterpoint_type_encoded\n",
              "0    0.000539   0.000013  ...               8                        1\n",
              "1    0.000525   0.000013  ...               5                        1\n",
              "2    0.000148   0.000013  ...               0                        2\n",
              "3    0.000458   0.000013  ...               3                        2\n",
              "4    0.006747   0.000013  ...               5                        1\n",
              "\n",
              "[5 rows x 30 columns]"
            ]
          },
          "metadata": {},
          "execution_count": 158
        }
      ]
    },
    {
      "cell_type": "code",
      "source": [
        "# Заменяем болевые значение атрибута amount_tsh_bool на 0 и 1\n",
        "data['amount_tsh_bool'] = data.amount_tsh_bool.astype(int)"
      ],
      "metadata": {
        "id": "YiXvsjFlYl5D"
      },
      "execution_count": null,
      "outputs": []
    },
    {
      "cell_type": "code",
      "source": [
        "train = data[data.labels==True]\n",
        "test = data[data.labels==False]\n",
        "y = data_labels.status_group"
      ],
      "metadata": {
        "id": "a5BJT3LGaBhA"
      },
      "execution_count": null,
      "outputs": []
    },
    {
      "cell_type": "code",
      "source": [
        "train.head()"
      ],
      "metadata": {
        "colab": {
          "base_uri": "https://localhost:8080/",
          "height": 270
        },
        "id": "sk4CakaqK3Hj",
        "outputId": "94e5ef57-e659-4ea6-bea4-c218c34e1566"
      },
      "execution_count": null,
      "outputs": [
        {
          "output_type": "execute_result",
          "data": {
            "text/html": [
              "\n",
              "  <div id=\"df-cbbe57d7-b77a-4522-af6e-d044f4b4d3f6\">\n",
              "    <div class=\"colab-df-container\">\n",
              "      <div>\n",
              "<style scoped>\n",
              "    .dataframe tbody tr th:only-of-type {\n",
              "        vertical-align: middle;\n",
              "    }\n",
              "\n",
              "    .dataframe tbody tr th {\n",
              "        vertical-align: top;\n",
              "    }\n",
              "\n",
              "    .dataframe thead th {\n",
              "        text-align: right;\n",
              "    }\n",
              "</style>\n",
              "<table border=\"1\" class=\"dataframe\">\n",
              "  <thead>\n",
              "    <tr style=\"text-align: right;\">\n",
              "      <th></th>\n",
              "      <th>gps_height</th>\n",
              "      <th>longitude</th>\n",
              "      <th>latitude</th>\n",
              "      <th>region_code</th>\n",
              "      <th>district_code</th>\n",
              "      <th>population</th>\n",
              "      <th>construction_year</th>\n",
              "      <th>labels</th>\n",
              "      <th>amount_tsh_bool</th>\n",
              "      <th>month_recorded</th>\n",
              "      <th>funder_encoded</th>\n",
              "      <th>installer_encoded</th>\n",
              "      <th>scheme_name_encoded</th>\n",
              "      <th>public_meeting_encoded</th>\n",
              "      <th>permit_encoded</th>\n",
              "      <th>subvillage_encoded</th>\n",
              "      <th>wpt_name_encoded</th>\n",
              "      <th>management_encoded</th>\n",
              "      <th>payment_encoded</th>\n",
              "      <th>payment_type_encoded</th>\n",
              "      <th>water_quality_encoded</th>\n",
              "      <th>quality_group_encoded</th>\n",
              "      <th>quantity_encoded</th>\n",
              "      <th>basin_encoded</th>\n",
              "      <th>region_encoded</th>\n",
              "      <th>lga_encoded</th>\n",
              "      <th>ward_encoded</th>\n",
              "      <th>extraction_type_encoded</th>\n",
              "      <th>source_encoded</th>\n",
              "      <th>waterpoint_type_encoded</th>\n",
              "    </tr>\n",
              "  </thead>\n",
              "  <tbody>\n",
              "    <tr>\n",
              "      <th>0</th>\n",
              "      <td>0.000539</td>\n",
              "      <td>0.000013</td>\n",
              "      <td>0.000013</td>\n",
              "      <td>11</td>\n",
              "      <td>5</td>\n",
              "      <td>0.000296</td>\n",
              "      <td>0.018316</td>\n",
              "      <td>True</td>\n",
              "      <td>0</td>\n",
              "      <td>3</td>\n",
              "      <td>0.004552</td>\n",
              "      <td>0.001616</td>\n",
              "      <td>0.002303</td>\n",
              "      <td>1</td>\n",
              "      <td>0</td>\n",
              "      <td>0.000081</td>\n",
              "      <td>0.001764</td>\n",
              "      <td>7</td>\n",
              "      <td>3</td>\n",
              "      <td>0</td>\n",
              "      <td>7</td>\n",
              "      <td>2</td>\n",
              "      <td>1</td>\n",
              "      <td>1</td>\n",
              "      <td>3</td>\n",
              "      <td>0.009253</td>\n",
              "      <td>0.000552</td>\n",
              "      <td>3</td>\n",
              "      <td>8</td>\n",
              "      <td>1</td>\n",
              "    </tr>\n",
              "    <tr>\n",
              "      <th>1</th>\n",
              "      <td>0.000525</td>\n",
              "      <td>0.000013</td>\n",
              "      <td>0.000013</td>\n",
              "      <td>20</td>\n",
              "      <td>2</td>\n",
              "      <td>0.001859</td>\n",
              "      <td>0.044714</td>\n",
              "      <td>True</td>\n",
              "      <td>1</td>\n",
              "      <td>3</td>\n",
              "      <td>0.000862</td>\n",
              "      <td>0.000673</td>\n",
              "      <td>0.000835</td>\n",
              "      <td>1</td>\n",
              "      <td>1</td>\n",
              "      <td>0.000081</td>\n",
              "      <td>0.013939</td>\n",
              "      <td>11</td>\n",
              "      <td>1</td>\n",
              "      <td>3</td>\n",
              "      <td>7</td>\n",
              "      <td>2</td>\n",
              "      <td>2</td>\n",
              "      <td>4</td>\n",
              "      <td>9</td>\n",
              "      <td>0.012189</td>\n",
              "      <td>0.001212</td>\n",
              "      <td>3</td>\n",
              "      <td>5</td>\n",
              "      <td>1</td>\n",
              "    </tr>\n",
              "    <tr>\n",
              "      <th>2</th>\n",
              "      <td>0.000148</td>\n",
              "      <td>0.000013</td>\n",
              "      <td>0.000013</td>\n",
              "      <td>21</td>\n",
              "      <td>4</td>\n",
              "      <td>0.028135</td>\n",
              "      <td>0.043152</td>\n",
              "      <td>True</td>\n",
              "      <td>0</td>\n",
              "      <td>2</td>\n",
              "      <td>0.000121</td>\n",
              "      <td>0.007111</td>\n",
              "      <td>0.000189</td>\n",
              "      <td>1</td>\n",
              "      <td>1</td>\n",
              "      <td>0.008512</td>\n",
              "      <td>0.000040</td>\n",
              "      <td>7</td>\n",
              "      <td>5</td>\n",
              "      <td>6</td>\n",
              "      <td>7</td>\n",
              "      <td>2</td>\n",
              "      <td>1</td>\n",
              "      <td>5</td>\n",
              "      <td>8</td>\n",
              "      <td>0.005010</td>\n",
              "      <td>0.000175</td>\n",
              "      <td>3</td>\n",
              "      <td>0</td>\n",
              "      <td>2</td>\n",
              "    </tr>\n",
              "    <tr>\n",
              "      <th>3</th>\n",
              "      <td>0.000458</td>\n",
              "      <td>0.000013</td>\n",
              "      <td>0.000013</td>\n",
              "      <td>90</td>\n",
              "      <td>63</td>\n",
              "      <td>0.000418</td>\n",
              "      <td>0.023556</td>\n",
              "      <td>True</td>\n",
              "      <td>1</td>\n",
              "      <td>1</td>\n",
              "      <td>0.020364</td>\n",
              "      <td>0.003838</td>\n",
              "      <td>0.002640</td>\n",
              "      <td>1</td>\n",
              "      <td>1</td>\n",
              "      <td>0.000323</td>\n",
              "      <td>0.000027</td>\n",
              "      <td>7</td>\n",
              "      <td>1</td>\n",
              "      <td>3</td>\n",
              "      <td>7</td>\n",
              "      <td>2</td>\n",
              "      <td>0</td>\n",
              "      <td>7</td>\n",
              "      <td>12</td>\n",
              "      <td>0.002869</td>\n",
              "      <td>0.000552</td>\n",
              "      <td>14</td>\n",
              "      <td>3</td>\n",
              "      <td>2</td>\n",
              "    </tr>\n",
              "    <tr>\n",
              "      <th>4</th>\n",
              "      <td>0.006747</td>\n",
              "      <td>0.000013</td>\n",
              "      <td>0.000013</td>\n",
              "      <td>18</td>\n",
              "      <td>1</td>\n",
              "      <td>0.006909</td>\n",
              "      <td>0.013953</td>\n",
              "      <td>True</td>\n",
              "      <td>1</td>\n",
              "      <td>7</td>\n",
              "      <td>0.000013</td>\n",
              "      <td>0.002276</td>\n",
              "      <td>0.000337</td>\n",
              "      <td>1</td>\n",
              "      <td>1</td>\n",
              "      <td>0.000027</td>\n",
              "      <td>0.029832</td>\n",
              "      <td>2</td>\n",
              "      <td>1</td>\n",
              "      <td>3</td>\n",
              "      <td>7</td>\n",
              "      <td>2</td>\n",
              "      <td>4</td>\n",
              "      <td>4</td>\n",
              "      <td>4</td>\n",
              "      <td>0.013024</td>\n",
              "      <td>0.000189</td>\n",
              "      <td>3</td>\n",
              "      <td>5</td>\n",
              "      <td>1</td>\n",
              "    </tr>\n",
              "  </tbody>\n",
              "</table>\n",
              "</div>\n",
              "      <button class=\"colab-df-convert\" onclick=\"convertToInteractive('df-cbbe57d7-b77a-4522-af6e-d044f4b4d3f6')\"\n",
              "              title=\"Convert this dataframe to an interactive table.\"\n",
              "              style=\"display:none;\">\n",
              "        \n",
              "  <svg xmlns=\"http://www.w3.org/2000/svg\" height=\"24px\"viewBox=\"0 0 24 24\"\n",
              "       width=\"24px\">\n",
              "    <path d=\"M0 0h24v24H0V0z\" fill=\"none\"/>\n",
              "    <path d=\"M18.56 5.44l.94 2.06.94-2.06 2.06-.94-2.06-.94-.94-2.06-.94 2.06-2.06.94zm-11 1L8.5 8.5l.94-2.06 2.06-.94-2.06-.94L8.5 2.5l-.94 2.06-2.06.94zm10 10l.94 2.06.94-2.06 2.06-.94-2.06-.94-.94-2.06-.94 2.06-2.06.94z\"/><path d=\"M17.41 7.96l-1.37-1.37c-.4-.4-.92-.59-1.43-.59-.52 0-1.04.2-1.43.59L10.3 9.45l-7.72 7.72c-.78.78-.78 2.05 0 2.83L4 21.41c.39.39.9.59 1.41.59.51 0 1.02-.2 1.41-.59l7.78-7.78 2.81-2.81c.8-.78.8-2.07 0-2.86zM5.41 20L4 18.59l7.72-7.72 1.47 1.35L5.41 20z\"/>\n",
              "  </svg>\n",
              "      </button>\n",
              "      \n",
              "  <style>\n",
              "    .colab-df-container {\n",
              "      display:flex;\n",
              "      flex-wrap:wrap;\n",
              "      gap: 12px;\n",
              "    }\n",
              "\n",
              "    .colab-df-convert {\n",
              "      background-color: #E8F0FE;\n",
              "      border: none;\n",
              "      border-radius: 50%;\n",
              "      cursor: pointer;\n",
              "      display: none;\n",
              "      fill: #1967D2;\n",
              "      height: 32px;\n",
              "      padding: 0 0 0 0;\n",
              "      width: 32px;\n",
              "    }\n",
              "\n",
              "    .colab-df-convert:hover {\n",
              "      background-color: #E2EBFA;\n",
              "      box-shadow: 0px 1px 2px rgba(60, 64, 67, 0.3), 0px 1px 3px 1px rgba(60, 64, 67, 0.15);\n",
              "      fill: #174EA6;\n",
              "    }\n",
              "\n",
              "    [theme=dark] .colab-df-convert {\n",
              "      background-color: #3B4455;\n",
              "      fill: #D2E3FC;\n",
              "    }\n",
              "\n",
              "    [theme=dark] .colab-df-convert:hover {\n",
              "      background-color: #434B5C;\n",
              "      box-shadow: 0px 1px 3px 1px rgba(0, 0, 0, 0.15);\n",
              "      filter: drop-shadow(0px 1px 2px rgba(0, 0, 0, 0.3));\n",
              "      fill: #FFFFFF;\n",
              "    }\n",
              "  </style>\n",
              "\n",
              "      <script>\n",
              "        const buttonEl =\n",
              "          document.querySelector('#df-cbbe57d7-b77a-4522-af6e-d044f4b4d3f6 button.colab-df-convert');\n",
              "        buttonEl.style.display =\n",
              "          google.colab.kernel.accessAllowed ? 'block' : 'none';\n",
              "\n",
              "        async function convertToInteractive(key) {\n",
              "          const element = document.querySelector('#df-cbbe57d7-b77a-4522-af6e-d044f4b4d3f6');\n",
              "          const dataTable =\n",
              "            await google.colab.kernel.invokeFunction('convertToInteractive',\n",
              "                                                     [key], {});\n",
              "          if (!dataTable) return;\n",
              "\n",
              "          const docLinkHtml = 'Like what you see? Visit the ' +\n",
              "            '<a target=\"_blank\" href=https://colab.research.google.com/notebooks/data_table.ipynb>data table notebook</a>'\n",
              "            + ' to learn more about interactive tables.';\n",
              "          element.innerHTML = '';\n",
              "          dataTable['output_type'] = 'display_data';\n",
              "          await google.colab.output.renderOutput(dataTable, element);\n",
              "          const docLink = document.createElement('div');\n",
              "          docLink.innerHTML = docLinkHtml;\n",
              "          element.appendChild(docLink);\n",
              "        }\n",
              "      </script>\n",
              "    </div>\n",
              "  </div>\n",
              "  "
            ],
            "text/plain": [
              "   gps_height  longitude  ...  source_encoded  waterpoint_type_encoded\n",
              "0    0.000539   0.000013  ...               8                        1\n",
              "1    0.000525   0.000013  ...               5                        1\n",
              "2    0.000148   0.000013  ...               0                        2\n",
              "3    0.000458   0.000013  ...               3                        2\n",
              "4    0.006747   0.000013  ...               5                        1\n",
              "\n",
              "[5 rows x 30 columns]"
            ]
          },
          "metadata": {},
          "execution_count": 161
        }
      ]
    },
    {
      "cell_type": "code",
      "source": [
        "# Удаляем атрибут labels, т.к. уже произведено разделение на обучающую и тестовую выборки\n",
        "train.drop('labels', axis=1, inplace=True)\n",
        "test.drop('labels', axis=1, inplace=True)"
      ],
      "metadata": {
        "id": "smhG-ug8KlDu"
      },
      "execution_count": null,
      "outputs": []
    },
    {
      "cell_type": "code",
      "source": [
        "y.value_counts(normalize=True)"
      ],
      "metadata": {
        "colab": {
          "base_uri": "https://localhost:8080/"
        },
        "id": "NLOMQcF2b_Pl",
        "outputId": "2b6b4a0d-89c5-475e-82d0-7d7778abf4b1"
      },
      "execution_count": null,
      "outputs": [
        {
          "output_type": "execute_result",
          "data": {
            "text/plain": [
              "functional                 0.543081\n",
              "non functional             0.384242\n",
              "functional needs repair    0.072677\n",
              "Name: status_group, dtype: float64"
            ]
          },
          "metadata": {},
          "execution_count": 163
        }
      ]
    },
    {
      "cell_type": "code",
      "source": [
        "print(train.shape, y.shape )"
      ],
      "metadata": {
        "colab": {
          "base_uri": "https://localhost:8080/"
        },
        "id": "zXl1dP33gCNi",
        "outputId": "6e0ecc2e-d2c2-4240-912d-5e8bfa6a93c3"
      },
      "execution_count": null,
      "outputs": [
        {
          "output_type": "stream",
          "name": "stdout",
          "text": [
            "(59400, 29) (59400,)\n"
          ]
        }
      ]
    },
    {
      "cell_type": "code",
      "source": [
        "'''\n",
        "ЗАМЕТКА:\n",
        "Наблюдается сильная разбалансировка классов:\n",
        "functional                 0.543081\n",
        "non functional             0.384242\n",
        "functional needs repair    0.072677\n",
        "\n",
        "Поэтому при создании проверочной и тестовой это нужно учитывать\n",
        "Для сбалансированного деления для метода train_test_split\n",
        "будем использовать stratify=True\n",
        "'''\n",
        "print()"
      ],
      "metadata": {
        "colab": {
          "base_uri": "https://localhost:8080/"
        },
        "id": "4wqgRfe-XiaD",
        "outputId": "3040362f-a4cb-42a3-e40a-c96600cceabd"
      },
      "execution_count": null,
      "outputs": [
        {
          "output_type": "stream",
          "name": "stdout",
          "text": [
            "\n"
          ]
        }
      ]
    },
    {
      "cell_type": "code",
      "source": [
        "train_v = train.values.copy()"
      ],
      "metadata": {
        "id": "iwBYWTCyM_sn"
      },
      "execution_count": null,
      "outputs": []
    },
    {
      "cell_type": "code",
      "source": [
        "y_v = y.values.copy()"
      ],
      "metadata": {
        "id": "KJxg2qe9NM-S"
      },
      "execution_count": null,
      "outputs": []
    },
    {
      "cell_type": "code",
      "source": [
        "type(y_v)"
      ],
      "metadata": {
        "colab": {
          "base_uri": "https://localhost:8080/"
        },
        "id": "GtYfZkrCNc_7",
        "outputId": "40033c31-f14b-4513-abc6-349a7a1347ce"
      },
      "execution_count": null,
      "outputs": [
        {
          "output_type": "execute_result",
          "data": {
            "text/plain": [
              "numpy.ndarray"
            ]
          },
          "metadata": {},
          "execution_count": 168
        }
      ]
    },
    {
      "cell_type": "code",
      "source": [
        "# stratify=True - сбалансированно делит нашу выборку т.е. в x_train и в x_test\n",
        "# functional, non functional, functional needs repair будут в одинаковых пропорциях\n",
        "\n",
        "x_train, x_test, y_train, y_test = train_test_split(train_v, y_v, \n",
        "                                                    test_size=0.3,\n",
        "                                                    stratify=y.values)"
      ],
      "metadata": {
        "id": "o8NPYUSBaBqS"
      },
      "execution_count": null,
      "outputs": []
    },
    {
      "cell_type": "code",
      "source": [
        "pd_y_train = pd.DataFrame(y_train)\n",
        "pd_y_test = pd.DataFrame(y_test)"
      ],
      "metadata": {
        "id": "_6rqSdQocAlw"
      },
      "execution_count": null,
      "outputs": []
    },
    {
      "cell_type": "code",
      "source": [
        "# проверка распределения классов на обучающей выборке\n",
        "pd_y_train.value_counts(normalize=True)"
      ],
      "metadata": {
        "colab": {
          "base_uri": "https://localhost:8080/"
        },
        "id": "OyeqMKLEcAoG",
        "outputId": "465ddb12-7813-49f1-c5ee-fa1618ced360"
      },
      "execution_count": null,
      "outputs": [
        {
          "output_type": "execute_result",
          "data": {
            "text/plain": [
              "functional                 0.543074\n",
              "non functional             0.384247\n",
              "functional needs repair    0.072679\n",
              "dtype: float64"
            ]
          },
          "metadata": {},
          "execution_count": 171
        }
      ]
    },
    {
      "cell_type": "code",
      "source": [
        "# проверка распределения классов на тестовой выборке\n",
        "pd_y_test.value_counts(normalize=True)"
      ],
      "metadata": {
        "colab": {
          "base_uri": "https://localhost:8080/"
        },
        "id": "-5wOsUtUcAqr",
        "outputId": "77d9ce59-71f6-4e23-8542-bbdd3b09102f"
      },
      "execution_count": null,
      "outputs": [
        {
          "output_type": "execute_result",
          "data": {
            "text/plain": [
              "functional                 0.543098\n",
              "non functional             0.384231\n",
              "functional needs repair    0.072671\n",
              "dtype: float64"
            ]
          },
          "metadata": {},
          "execution_count": 172
        }
      ]
    },
    {
      "cell_type": "code",
      "source": [
        "x_test.shape"
      ],
      "metadata": {
        "id": "q6ZKm98GiqXh",
        "colab": {
          "base_uri": "https://localhost:8080/"
        },
        "outputId": "fe9199dc-c1b8-46e8-cf06-5c19de514bdb"
      },
      "execution_count": null,
      "outputs": [
        {
          "output_type": "execute_result",
          "data": {
            "text/plain": [
              "(17820, 29)"
            ]
          },
          "metadata": {},
          "execution_count": 173
        }
      ]
    },
    {
      "cell_type": "markdown",
      "source": [
        "## Dense Model"
      ],
      "metadata": {
        "id": "kVLX6QRBLZTM"
      }
    },
    {
      "cell_type": "code",
      "source": [
        "print(type(x_train),' / ', x_train.shape)\n",
        "print(type(y_train),' / ', y_train.shape)\n",
        "print(type(x_test),' / ', x_test.shape)\n",
        "print(type(y_test),' / ', y_test.shape)"
      ],
      "metadata": {
        "colab": {
          "base_uri": "https://localhost:8080/"
        },
        "id": "bPyDcL6xLZzI",
        "outputId": "cb5868b6-c028-45a4-901c-5ffee5fd651e"
      },
      "execution_count": null,
      "outputs": [
        {
          "output_type": "stream",
          "name": "stdout",
          "text": [
            "<class 'numpy.ndarray'>  /  (41580, 29)\n",
            "<class 'numpy.ndarray'>  /  (41580,)\n",
            "<class 'numpy.ndarray'>  /  (17820, 29)\n",
            "<class 'numpy.ndarray'>  /  (17820,)\n"
          ]
        }
      ]
    },
    {
      "cell_type": "code",
      "source": [
        "###########################################################################################################\n",
        "# Создание самописной функции Recall, демонстрирует способность алгоритма обнаруживать данный класс вообще.\n",
        "###########################################################################################################\n",
        "\n",
        "def checker(model, x_test, y_test):\n",
        "  \n",
        "  dic = {\n",
        "      'functional': 0.543098,\n",
        "      'functional needs repair': 0.072671,\n",
        "      'non functional': 0.384231          \n",
        "  }\n",
        "  funk_list = []\n",
        "  need_list = []\n",
        "  none_list = []\n",
        "  len_all = x_test.shape[0]\n",
        "\n",
        "  for index in tqdm_notebook(range(x_test.shape[0])):\n",
        "    sample = x_test[index].reshape(1,29)\n",
        "    now_class = y_test_ohe[index].argmax()\n",
        "    now_predict = model_0.predict(sample)[0].argmax()\n",
        "\n",
        "    if now_class == 0:\n",
        "      if now_class == now_predict:\n",
        "        funk_list.append(1)\n",
        "    elif now_class == 1:    \n",
        "      if now_class == now_predict:\n",
        "        need_list.append(1)\n",
        "    elif now_class == 2:    \n",
        "      if now_class == now_predict:\n",
        "        none_list.append(1)\n",
        "\n",
        "  prob_1 = (len(funk_list)/len_all) / dic['functional']\n",
        "  prob_2 = (len(need_list)/len_all) / dic['functional needs repair']\n",
        "  prob_3 = (len(none_list)/len_all) / dic['non functional']\n",
        "\n",
        "  prob_all = prob_1 * prob_2 * prob_3\n",
        "\n",
        "  print(f'Доля верно угаданных \"functional\" - {prob_1}')\n",
        "  print(f'Доля верно угаданных \"functional needs repair\" - {prob_2}')\n",
        "  print(f'Доля верно угаданных \"non functional\" - {prob_3}')\n",
        "  print(f'Доля верно угаданных по всем - {prob_all}')"
      ],
      "metadata": {
        "id": "DHVyMcJDaeAK"
      },
      "execution_count": null,
      "outputs": []
    },
    {
      "cell_type": "code",
      "source": [
        ""
      ],
      "metadata": {
        "id": "PcT4lV0uVrwF"
      },
      "execution_count": null,
      "outputs": []
    },
    {
      "cell_type": "markdown",
      "source": [
        "### Preprocessing"
      ],
      "metadata": {
        "id": "iSkj_Rqub_JX"
      }
    },
    {
      "cell_type": "code",
      "source": [
        "######################################\n",
        "# перефодим наши targets в формат OHE.\n",
        "######################################\n",
        "\n",
        "label_encoder = LabelEncoder()\n",
        "\n",
        "integer_encoded = label_encoder.fit_transform(y_train) \n",
        "print(integer_encoded[:5])\n",
        "\n",
        "y_train_ohe = utils.to_categorical(integer_encoded, 3)\n",
        "print(y_train_ohe.shape)\n",
        "\n",
        "integer_encoded = label_encoder.fit_transform(y_test) \n",
        "print(integer_encoded[:5])\n",
        "\n",
        "y_test_ohe = utils.to_categorical(integer_encoded, 3)\n",
        "print(y_test_ohe.shape)"
      ],
      "metadata": {
        "colab": {
          "base_uri": "https://localhost:8080/"
        },
        "id": "TfTOOE0ArPOU",
        "outputId": "e78a436c-f423-435d-a3cb-bbef3ef7b840"
      },
      "execution_count": null,
      "outputs": [
        {
          "output_type": "stream",
          "name": "stdout",
          "text": [
            "[0 2 2 2 2]\n",
            "(41580, 3)\n",
            "[2 2 2 0 2]\n",
            "(17820, 3)\n"
          ]
        }
      ]
    },
    {
      "cell_type": "code",
      "source": [
        "##########################\n",
        "# Шкалируем наши значения.\n",
        "##########################\n",
        "\n",
        "scaler = StandardScaler()\n",
        "\n",
        "x_train_scaled = scaler.fit_transform(x_train)\n",
        "x_test_scaled = scaler.transform(x_test)"
      ],
      "metadata": {
        "id": "KMk-enVfdRQD"
      },
      "execution_count": null,
      "outputs": []
    },
    {
      "cell_type": "code",
      "source": [
        "x_train_scaled[0]"
      ],
      "metadata": {
        "colab": {
          "base_uri": "https://localhost:8080/"
        },
        "id": "Y9vDyY-Bdd9N",
        "outputId": "2e1bf459-4e7a-400d-ecb6-3bb114d89123"
      },
      "execution_count": null,
      "outputs": [
        {
          "output_type": "execute_result",
          "data": {
            "text/plain": [
              "array([-0.47895205, -0.13599696, -0.13599696,  3.6919522 ,  1.78812416,\n",
              "        2.54971141,  0.94916636,  0.6548786 , -1.11497046, -0.64321192,\n",
              "       -0.65036611, -0.50860895,  0.3204431 ,  0.67368105, -0.29453589,\n",
              "       -0.29431717, -0.19613976, -0.94916245, -0.0860356 ,  0.31096462,\n",
              "       -0.29611061, -0.39008006,  1.17994131, -0.47577906, -0.7092627 ,\n",
              "       -0.51892341, -0.79004588, -0.0356279 , -0.88124707])"
            ]
          },
          "metadata": {},
          "execution_count": 178
        }
      ]
    },
    {
      "cell_type": "code",
      "source": [
        "x_test_scaled[0]"
      ],
      "metadata": {
        "colab": {
          "base_uri": "https://localhost:8080/"
        },
        "id": "s2DmHTX9deFu",
        "outputId": "70af25c5-acf3-4ea9-cef1-1a03607587bf"
      },
      "execution_count": null,
      "outputs": [
        {
          "output_type": "execute_result",
          "data": {
            "text/plain": [
              "array([ 0.4065987 , -0.13599696, -0.13599696,  0.21320071, -0.06727572,\n",
              "       -0.56272509, -0.879096  ,  0.6548786 ,  1.19915218, -0.61594435,\n",
              "       -0.69470582, -0.44478112,  0.3204431 ,  0.67368105, -0.20652918,\n",
              "       -0.29431717, -0.19613976, -0.94916245, -0.0860356 ,  0.31096462,\n",
              "       -0.29611061, -1.46678802, -0.03114613,  0.53525448, -0.80974583,\n",
              "       -0.68420957,  0.63632817,  0.45571803,  0.80655823])"
            ]
          },
          "metadata": {},
          "execution_count": 179
        }
      ]
    },
    {
      "cell_type": "code",
      "source": [
        ""
      ],
      "metadata": {
        "id": "WK1kbqMorZD3"
      },
      "execution_count": null,
      "outputs": []
    },
    {
      "cell_type": "code",
      "source": [
        ""
      ],
      "metadata": {
        "id": "iLMOv2mzrxLE"
      },
      "execution_count": null,
      "outputs": []
    },
    {
      "cell_type": "markdown",
      "source": [
        "### Building + Training"
      ],
      "metadata": {
        "id": "WRgWTK0ssMuo"
      }
    },
    {
      "cell_type": "code",
      "source": [
        "#################\n",
        "# гиперпараметры\n",
        "#################\n",
        "\n",
        "batch_size = 10 \n",
        "epochs = 25\n",
        "\n",
        "\n",
        "#####################################################\n",
        "# Функция построения модели прототипа классификатора\n",
        "#####################################################\n",
        "def model():\n",
        "  model = Sequential()                                    # Создаем последовательную модель      \n",
        "\n",
        "  model.add(Dense(units=32, activation='relu', input_shape = x_train.shape[1:])) \n",
        "  model.add(Dropout(0.2))    \n",
        "  model.add(Dense(32, activation='relu'))                 # полносвязный слой (предклассификация признаков)\n",
        "  model.add(Dropout(0.2))                                 # слой дропаута (защита от переобучения)\n",
        "  model.add(Dense(3, activation='softmax'))               # final Dense (финальная классификация на 3 класса)\n",
        "\n",
        "  #Компилируем сеть\n",
        "  model.compile(loss=\"categorical_crossentropy\", optimizer=Adam(learning_rate=0.0001), metrics=[\"accuracy\"])\n",
        "\n",
        "  return model\n",
        "\n",
        "model_1 = model()"
      ],
      "metadata": {
        "id": "M1lCDlB0wNcH"
      },
      "execution_count": null,
      "outputs": []
    },
    {
      "cell_type": "code",
      "source": [
        "##############\n",
        "# обучение НС\n",
        "##############\n",
        "lr_list = []\n",
        "\n",
        "history = model_1.fit(x_train_scaled, \n",
        "                    y_train_ohe, \n",
        "                    batch_size=batch_size, \n",
        "                    epochs=epochs,\n",
        "                    validation_data=(x_test_scaled, y_test_ohe),\n",
        "                    verbose=1, \n",
        "                    shuffle=True)\n",
        "\n",
        "#Отображаем график точности обучения\n",
        "plt.plot(history.history['accuracy'], \n",
        "         label='Доля верных ответов на обучающем наборе')\n",
        "plt.plot(history.history['val_accuracy'], \n",
        "         label='Доля верных ответов на проверочном наборе')\n",
        "plt.xlabel('Эпоха обучения')\n",
        "plt.ylabel('Доля верных ответов')\n",
        "plt.title('Точность на x_train и x_test')\n",
        "plt.legend()\n",
        "plt.show()"
      ],
      "metadata": {
        "colab": {
          "base_uri": "https://localhost:8080/",
          "height": 1000
        },
        "id": "Mk_joMY2dycW",
        "outputId": "400d648b-6730-4623-d992-5cb1fed48aff"
      },
      "execution_count": null,
      "outputs": [
        {
          "output_type": "stream",
          "name": "stdout",
          "text": [
            "Epoch 1/25\n",
            "4158/4158 [==============================] - 19s 4ms/step - loss: 0.9326 - accuracy: 0.5308 - val_loss: 0.8523 - val_accuracy: 0.5914\n",
            "Epoch 2/25\n",
            "4158/4158 [==============================] - 17s 4ms/step - loss: 0.8481 - accuracy: 0.5984 - val_loss: 0.8088 - val_accuracy: 0.6349\n",
            "Epoch 3/25\n",
            "4158/4158 [==============================] - 17s 4ms/step - loss: 0.8144 - accuracy: 0.6275 - val_loss: 0.7843 - val_accuracy: 0.6547\n",
            "Epoch 4/25\n",
            "4158/4158 [==============================] - 16s 4ms/step - loss: 0.7927 - accuracy: 0.6486 - val_loss: 0.7666 - val_accuracy: 0.6643\n",
            "Epoch 5/25\n",
            "4158/4158 [==============================] - 15s 4ms/step - loss: 0.7718 - accuracy: 0.6594 - val_loss: 0.7524 - val_accuracy: 0.6700\n",
            "Epoch 6/25\n",
            "4158/4158 [==============================] - 17s 4ms/step - loss: 0.7575 - accuracy: 0.6695 - val_loss: 0.7397 - val_accuracy: 0.6831\n",
            "Epoch 7/25\n",
            "4158/4158 [==============================] - 17s 4ms/step - loss: 0.7429 - accuracy: 0.6810 - val_loss: 0.7287 - val_accuracy: 0.6889\n",
            "Epoch 8/25\n",
            "4158/4158 [==============================] - 17s 4ms/step - loss: 0.7320 - accuracy: 0.6877 - val_loss: 0.7188 - val_accuracy: 0.6944\n",
            "Epoch 9/25\n",
            "4158/4158 [==============================] - 17s 4ms/step - loss: 0.7210 - accuracy: 0.6968 - val_loss: 0.7111 - val_accuracy: 0.6999\n",
            "Epoch 10/25\n",
            "4158/4158 [==============================] - 16s 4ms/step - loss: 0.7142 - accuracy: 0.7015 - val_loss: 0.7060 - val_accuracy: 0.7031\n",
            "Epoch 11/25\n",
            "4158/4158 [==============================] - 17s 4ms/step - loss: 0.7096 - accuracy: 0.7014 - val_loss: 0.7019 - val_accuracy: 0.7034\n",
            "Epoch 12/25\n",
            "4158/4158 [==============================] - 17s 4ms/step - loss: 0.7037 - accuracy: 0.7049 - val_loss: 0.6983 - val_accuracy: 0.7067\n",
            "Epoch 13/25\n",
            "4158/4158 [==============================] - 17s 4ms/step - loss: 0.7000 - accuracy: 0.7051 - val_loss: 0.6964 - val_accuracy: 0.7080\n",
            "Epoch 14/25\n",
            "4158/4158 [==============================] - 18s 4ms/step - loss: 0.6953 - accuracy: 0.7085 - val_loss: 0.6930 - val_accuracy: 0.7103\n",
            "Epoch 15/25\n",
            "4158/4158 [==============================] - 17s 4ms/step - loss: 0.6950 - accuracy: 0.7086 - val_loss: 0.6905 - val_accuracy: 0.7115\n",
            "Epoch 16/25\n",
            "4158/4158 [==============================] - 16s 4ms/step - loss: 0.6910 - accuracy: 0.7106 - val_loss: 0.6886 - val_accuracy: 0.7126\n",
            "Epoch 17/25\n",
            "4158/4158 [==============================] - 18s 4ms/step - loss: 0.6892 - accuracy: 0.7109 - val_loss: 0.6869 - val_accuracy: 0.7135\n",
            "Epoch 18/25\n",
            "4158/4158 [==============================] - 18s 4ms/step - loss: 0.6869 - accuracy: 0.7118 - val_loss: 0.6852 - val_accuracy: 0.7144\n",
            "Epoch 19/25\n",
            "4158/4158 [==============================] - 18s 4ms/step - loss: 0.6857 - accuracy: 0.7114 - val_loss: 0.6838 - val_accuracy: 0.7152\n",
            "Epoch 20/25\n",
            "4158/4158 [==============================] - 18s 4ms/step - loss: 0.6834 - accuracy: 0.7129 - val_loss: 0.6822 - val_accuracy: 0.7157\n",
            "Epoch 21/25\n",
            "4158/4158 [==============================] - 16s 4ms/step - loss: 0.6813 - accuracy: 0.7136 - val_loss: 0.6811 - val_accuracy: 0.7166\n",
            "Epoch 22/25\n",
            "4158/4158 [==============================] - 18s 4ms/step - loss: 0.6820 - accuracy: 0.7144 - val_loss: 0.6798 - val_accuracy: 0.7170\n",
            "Epoch 23/25\n",
            "4158/4158 [==============================] - 18s 4ms/step - loss: 0.6805 - accuracy: 0.7159 - val_loss: 0.6790 - val_accuracy: 0.7171\n",
            "Epoch 24/25\n",
            "4158/4158 [==============================] - 18s 4ms/step - loss: 0.6799 - accuracy: 0.7149 - val_loss: 0.6780 - val_accuracy: 0.7190\n",
            "Epoch 25/25\n",
            "4158/4158 [==============================] - 16s 4ms/step - loss: 0.6768 - accuracy: 0.7171 - val_loss: 0.6765 - val_accuracy: 0.7194\n"
          ]
        },
        {
          "output_type": "display_data",
          "data": {
            "image/png": "[encoded data removed]",
            "text/plain": [
              "<Figure size 432x288 with 1 Axes>"
            ]
          },
          "metadata": {
            "needs_background": "light"
          }
        }
      ]
    },
    {
      "cell_type": "code",
      "source": [
        ""
      ],
      "metadata": {
        "id": "BRWqGOq5rsX2"
      },
      "execution_count": null,
      "outputs": []
    },
    {
      "cell_type": "code",
      "source": [
        "#####################################################\n",
        "# Функция построения модели прототипа классификатора\n",
        "#####################################################\n",
        "def model():\n",
        "  model = Sequential()                                    # Создаем последовательную модель      \n",
        "\n",
        "  model.add(Dense(units=16, activation='relu', input_shape = x_train.shape[1:]))  \n",
        "  model.add(Dense(16, activation='relu'))                 # полносвязный слой (предклассификация признаков)\n",
        "  model.add(Dropout(0.15))                                 # слой дропаута (защита от переобучения)\n",
        "  model.add(Dense(16, activation='relu'))                 # полносвязный слой (предклассификация признаков)\n",
        "  model.add(Dropout(0.2))                                 # слой дропаута (защита от переобучения)\n",
        "  model.add(Dense(3, activation='softmax'))               # final Dense (финальная классификация на 3 класса)\n",
        "\n",
        "  #Компилируем сеть\n",
        "  model.compile(loss=\"categorical_crossentropy\", optimizer=Adam(learning_rate=0.0001), metrics=[\"accuracy\"])\n",
        "\n",
        "  return model"
      ],
      "metadata": {
        "id": "YODN4DP5rxMn"
      },
      "execution_count": null,
      "outputs": []
    },
    {
      "cell_type": "code",
      "source": [
        "model_2 = model()"
      ],
      "metadata": {
        "id": "0gWXCMfAdyhH"
      },
      "execution_count": null,
      "outputs": []
    },
    {
      "cell_type": "code",
      "source": [
        "#################\n",
        "# гиперпараметры\n",
        "#################\n",
        "\n",
        "batch_size = 10 \n",
        "epochs = 25"
      ],
      "metadata": {
        "id": "r5pvq8RYPDy7"
      },
      "execution_count": null,
      "outputs": []
    },
    {
      "cell_type": "code",
      "source": [
        "##############\n",
        "# обучение НС\n",
        "##############\n",
        "lr_list = []\n",
        "\n",
        "history = model_2.fit(x_train_scaled, \n",
        "                    y_train_ohe, \n",
        "                    batch_size=batch_size, \n",
        "                    epochs=epochs,\n",
        "                    validation_data=(x_test_scaled, y_test_ohe),\n",
        "                    verbose=1, \n",
        "                    shuffle=True)\n",
        "\n",
        "#Отображаем график точности обучения\n",
        "plt.plot(history.history['accuracy'], \n",
        "         label='Доля верных ответов на обучающем наборе')\n",
        "plt.plot(history.history['val_accuracy'], \n",
        "         label='Доля верных ответов на проверочном наборе')\n",
        "plt.xlabel('Эпоха обучения')\n",
        "plt.ylabel('Доля верных ответов')\n",
        "plt.title('Точность на x_train и x_test')\n",
        "plt.legend()\n",
        "plt.show()"
      ],
      "metadata": {
        "colab": {
          "base_uri": "https://localhost:8080/",
          "height": 1000
        },
        "id": "9fgwMkoeb_ss",
        "outputId": "4dea5634-d875-45c8-e1b6-3fd9e4bc1879"
      },
      "execution_count": null,
      "outputs": [
        {
          "output_type": "stream",
          "name": "stdout",
          "text": [
            "Epoch 1/35\n",
            "4158/4158 [==============================] - 59s 2ms/step - loss: 0.9115 - accuracy: 0.5539 - val_loss: 0.8408 - val_accuracy: 0.6052\n",
            "Epoch 2/35\n",
            "4158/4158 [==============================] - 9s 2ms/step - loss: 0.8442 - accuracy: 0.6052 - val_loss: 0.8103 - val_accuracy: 0.6304\n",
            "Epoch 3/35\n",
            "4158/4158 [==============================] - 9s 2ms/step - loss: 0.8199 - accuracy: 0.6246 - val_loss: 0.7928 - val_accuracy: 0.6441\n",
            "Epoch 4/35\n",
            "4158/4158 [==============================] - 9s 2ms/step - loss: 0.8025 - accuracy: 0.6373 - val_loss: 0.7760 - val_accuracy: 0.6579\n",
            "Epoch 5/35\n",
            "4158/4158 [==============================] - 8s 2ms/step - loss: 0.7860 - accuracy: 0.6498 - val_loss: 0.7615 - val_accuracy: 0.6674\n",
            "Epoch 6/35\n",
            "4158/4158 [==============================] - 9s 2ms/step - loss: 0.7716 - accuracy: 0.6603 - val_loss: 0.7487 - val_accuracy: 0.6802\n",
            "Epoch 7/35\n",
            "4158/4158 [==============================] - 9s 2ms/step - loss: 0.7593 - accuracy: 0.6700 - val_loss: 0.7352 - val_accuracy: 0.6912\n",
            "Epoch 8/35\n",
            "4158/4158 [==============================] - 9s 2ms/step - loss: 0.7454 - accuracy: 0.6795 - val_loss: 0.7223 - val_accuracy: 0.6973\n",
            "Epoch 9/35\n",
            "4158/4158 [==============================] - 9s 2ms/step - loss: 0.7350 - accuracy: 0.6892 - val_loss: 0.7136 - val_accuracy: 0.7027\n",
            "Epoch 10/35\n",
            "4158/4158 [==============================] - 9s 2ms/step - loss: 0.7263 - accuracy: 0.6930 - val_loss: 0.7058 - val_accuracy: 0.7050\n",
            "Epoch 11/35\n",
            "4158/4158 [==============================] - 8s 2ms/step - loss: 0.7195 - accuracy: 0.6963 - val_loss: 0.7016 - val_accuracy: 0.7097\n",
            "Epoch 12/35\n",
            "4158/4158 [==============================] - 9s 2ms/step - loss: 0.7155 - accuracy: 0.7018 - val_loss: 0.6986 - val_accuracy: 0.7102\n",
            "Epoch 13/35\n",
            "4158/4158 [==============================] - 9s 2ms/step - loss: 0.7108 - accuracy: 0.7027 - val_loss: 0.6949 - val_accuracy: 0.7123\n",
            "Epoch 14/35\n",
            "4158/4158 [==============================] - 9s 2ms/step - loss: 0.7067 - accuracy: 0.7069 - val_loss: 0.6924 - val_accuracy: 0.7125\n",
            "Epoch 15/35\n",
            "4158/4158 [==============================] - 8s 2ms/step - loss: 0.7045 - accuracy: 0.7069 - val_loss: 0.6904 - val_accuracy: 0.7145\n",
            "Epoch 16/35\n",
            "4158/4158 [==============================] - 8s 2ms/step - loss: 0.6979 - accuracy: 0.7090 - val_loss: 0.6876 - val_accuracy: 0.7160\n",
            "Epoch 17/35\n",
            "4158/4158 [==============================] - 9s 2ms/step - loss: 0.6971 - accuracy: 0.7115 - val_loss: 0.6852 - val_accuracy: 0.7162\n",
            "Epoch 18/35\n",
            "4158/4158 [==============================] - 8s 2ms/step - loss: 0.6933 - accuracy: 0.7126 - val_loss: 0.6832 - val_accuracy: 0.7171\n",
            "Epoch 19/35\n",
            "4158/4158 [==============================] - 9s 2ms/step - loss: 0.6921 - accuracy: 0.7135 - val_loss: 0.6812 - val_accuracy: 0.7176\n",
            "Epoch 20/35\n",
            "4158/4158 [==============================] - 9s 2ms/step - loss: 0.6888 - accuracy: 0.7157 - val_loss: 0.6795 - val_accuracy: 0.7176\n",
            "Epoch 21/35\n",
            "4158/4158 [==============================] - 9s 2ms/step - loss: 0.6849 - accuracy: 0.7163 - val_loss: 0.6771 - val_accuracy: 0.7202\n",
            "Epoch 22/35\n",
            "4158/4158 [==============================] - 9s 2ms/step - loss: 0.6836 - accuracy: 0.7168 - val_loss: 0.6758 - val_accuracy: 0.7200\n",
            "Epoch 23/35\n",
            "4158/4158 [==============================] - 9s 2ms/step - loss: 0.6804 - accuracy: 0.7168 - val_loss: 0.6746 - val_accuracy: 0.7210\n",
            "Epoch 24/35\n",
            "4158/4158 [==============================] - 9s 2ms/step - loss: 0.6790 - accuracy: 0.7186 - val_loss: 0.6727 - val_accuracy: 0.7226\n",
            "Epoch 25/35\n",
            "4158/4158 [==============================] - 9s 2ms/step - loss: 0.6775 - accuracy: 0.7191 - val_loss: 0.6716 - val_accuracy: 0.7236\n",
            "Epoch 26/35\n",
            "4158/4158 [==============================] - 8s 2ms/step - loss: 0.6749 - accuracy: 0.7197 - val_loss: 0.6704 - val_accuracy: 0.7239\n",
            "Epoch 27/35\n",
            "4158/4158 [==============================] - 9s 2ms/step - loss: 0.6741 - accuracy: 0.7206 - val_loss: 0.6683 - val_accuracy: 0.7223\n",
            "Epoch 28/35\n",
            "4158/4158 [==============================] - 8s 2ms/step - loss: 0.6712 - accuracy: 0.7228 - val_loss: 0.6674 - val_accuracy: 0.7240\n",
            "Epoch 29/35\n",
            "4158/4158 [==============================] - 9s 2ms/step - loss: 0.6718 - accuracy: 0.7213 - val_loss: 0.6667 - val_accuracy: 0.7243\n",
            "Epoch 30/35\n",
            "4158/4158 [==============================] - 9s 2ms/step - loss: 0.6691 - accuracy: 0.7246 - val_loss: 0.6648 - val_accuracy: 0.7260\n",
            "Epoch 31/35\n",
            "4158/4158 [==============================] - 9s 2ms/step - loss: 0.6688 - accuracy: 0.7235 - val_loss: 0.6638 - val_accuracy: 0.7256\n",
            "Epoch 32/35\n",
            "4158/4158 [==============================] - 8s 2ms/step - loss: 0.6665 - accuracy: 0.7226 - val_loss: 0.6629 - val_accuracy: 0.7271\n",
            "Epoch 33/35\n",
            "4158/4158 [==============================] - 9s 2ms/step - loss: 0.6654 - accuracy: 0.7245 - val_loss: 0.6621 - val_accuracy: 0.7272\n",
            "Epoch 34/35\n",
            "4158/4158 [==============================] - 9s 2ms/step - loss: 0.6659 - accuracy: 0.7243 - val_loss: 0.6613 - val_accuracy: 0.7275\n",
            "Epoch 35/35\n",
            "4158/4158 [==============================] - 9s 2ms/step - loss: 0.6633 - accuracy: 0.7260 - val_loss: 0.6608 - val_accuracy: 0.7287\n"
          ]
        },
        {
          "output_type": "display_data",
          "data": {
            "image/png": "[encoded data removed]",
            "text/plain": [
              "<Figure size 432x288 with 1 Axes>"
            ]
          },
          "metadata": {
            "needs_background": "light"
          }
        }
      ]
    },
    {
      "cell_type": "markdown",
      "source": [
        "### Interpretation"
      ],
      "metadata": {
        "id": "JVziQBTooT5p"
      }
    },
    {
      "cell_type": "code",
      "source": [
        "# Загружаем сохраненную модель\n",
        "model_0 = load_model('/content/my_drive/MyDrive/Colab Notebooks/Pump_it_up/Dense_last.h5')"
      ],
      "metadata": {
        "id": "ux7Cl3fwwlSA"
      },
      "execution_count": null,
      "outputs": []
    },
    {
      "cell_type": "code",
      "source": [
        "x_train_scaled[0]"
      ],
      "metadata": {
        "colab": {
          "base_uri": "https://localhost:8080/"
        },
        "id": "hYCQuT1GOxNS",
        "outputId": "68d20a6f-28eb-42e6-867a-ffb5bfef1d59"
      },
      "execution_count": null,
      "outputs": [
        {
          "output_type": "execute_result",
          "data": {
            "text/plain": [
              "array([-0.47895205, -0.13599696, -0.13599696,  3.6919522 ,  1.78812416,\n",
              "        2.54971141,  0.94916636,  0.6548786 , -1.11497046, -0.64321192,\n",
              "       -0.65036611, -0.50860895,  0.3204431 ,  0.67368105, -0.29453589,\n",
              "       -0.29431717, -0.19613976, -0.94916245, -0.0860356 ,  0.31096462,\n",
              "       -0.29611061, -0.39008006,  1.17994131, -0.47577906, -0.7092627 ,\n",
              "       -0.51892341, -0.79004588, -0.0356279 , -0.88124707])"
            ]
          },
          "metadata": {},
          "execution_count": 188
        }
      ]
    },
    {
      "cell_type": "code",
      "source": [
        "x_test[0]"
      ],
      "metadata": {
        "colab": {
          "base_uri": "https://localhost:8080/"
        },
        "id": "hfH1W3ksOy45",
        "outputId": "3cc6303c-9ecb-4795-b6f6-25b836a5360b"
      },
      "execution_count": null,
      "outputs": [
        {
          "output_type": "execute_result",
          "data": {
            "text/plain": [
              "array([3.63636364e-03, 1.34680135e-05, 1.34680135e-05, 1.90000000e+01,\n",
              "       5.00000000e+00, 3.63636364e-03, 8.88888889e-03, 1.00000000e+00,\n",
              "       8.00000000e+00, 2.11447811e-03, 3.47474747e-03, 1.02356902e-03,\n",
              "       1.00000000e+00, 1.00000000e+00, 2.28956229e-04, 1.34680135e-05,\n",
              "       7.00000000e+00, 1.00000000e+00, 3.00000000e+00, 7.00000000e+00,\n",
              "       2.00000000e+00, 0.00000000e+00, 4.00000000e+00, 1.30000000e+01,\n",
              "       5.53535354e-03, 3.90572391e-04, 9.00000000e+00, 7.00000000e+00,\n",
              "       4.00000000e+00])"
            ]
          },
          "metadata": {},
          "execution_count": 189
        }
      ]
    },
    {
      "cell_type": "code",
      "source": [
        "test_v = test.values.copy()\n",
        "\n",
        "test_v = scaler.transform(test_v)"
      ],
      "metadata": {
        "id": "zns4aW2tQhCr"
      },
      "execution_count": null,
      "outputs": []
    },
    {
      "cell_type": "code",
      "source": [
        "#########################################\n",
        "# Получение  precision, recall, f1-score.\n",
        "#########################################\n",
        "\n",
        "integer_unencod = label_encoder.inverse_transform(integer_encoded)\n",
        "\n",
        "prediction = model_0.predict(x_test_scaled)\n",
        "predict_class = np.argmax(prediction, axis=1)\n",
        "\n",
        "print(classification_report(integer_encoded, predict_class))\n",
        "'''\n",
        "Recall демонстрирует способность алгоритма обнаруживать данный класс вообще,\n",
        "а precision — способность отличать этот класс от других классов.\n",
        "'''\n",
        "print()"
      ],
      "metadata": {
        "id": "SZbF7EwLyaXh",
        "colab": {
          "base_uri": "https://localhost:8080/"
        },
        "outputId": "f804e8b3-02d5-4cfc-cb35-8821a22579a8"
      },
      "execution_count": null,
      "outputs": [
        {
          "output_type": "stream",
          "name": "stdout",
          "text": [
            "              precision    recall  f1-score   support\n",
            "\n",
            "           0       0.70      0.92      0.79      9678\n",
            "           1       0.00      0.00      0.00      1295\n",
            "           2       0.81      0.60      0.69      6847\n",
            "\n",
            "    accuracy                           0.73     17820\n",
            "   macro avg       0.50      0.51      0.49     17820\n",
            "weighted avg       0.69      0.73      0.69     17820\n",
            "\n",
            "\n"
          ]
        }
      ]
    },
    {
      "cell_type": "code",
      "source": [
        "'''\n",
        "ЗАМЕТКА:\n",
        "По данным report хорошо видно, что класс functional needs repair \n",
        "совсем не обнаруживается и не различается, что свидетельствует о том,\n",
        "что НС трудно детектировать самый маленький класс.\n",
        "'''\n",
        "print()"
      ],
      "metadata": {
        "id": "A8HIim7Fbr3a"
      },
      "execution_count": null,
      "outputs": []
    },
    {
      "cell_type": "code",
      "source": [
        "checker(model_0, x_test_scaled, y_test)"
      ],
      "metadata": {
        "colab": {
          "base_uri": "https://localhost:8080/",
          "height": 118,
          "referenced_widgets": [
            "ddfcf5146c93433297945c5457b846e2",
            "4b2ec1f289a341be9f3ae7d1d3f0f6f8",
            "adf6d9bd2ff1442189432adaae87c55b",
            "0f510374918f40dc9a5ba7c4abe910d6",
            "2e0b185644c94c43b975248699fe9b26",
            "ddb3d62f84f64fa1adfead7f30b5b54a",
            "9778c0c36229471fb7da1361e9702710",
            "e50206b4193343b5a297865b087fcb43",
            "5033dbb233dc48b396be4295e59bf1bd",
            "a473c57f55d34b388a6a75a659331339",
            "ebae6f1b36224e1baa232b3a544237fb"
          ]
        },
        "id": "K3PwOcfYxOxl",
        "outputId": "5d0730af-b1e6-4155-c670-09d783a751ab"
      },
      "execution_count": null,
      "outputs": [
        {
          "output_type": "display_data",
          "data": {
            "application/vnd.jupyter.widget-view+json": {
              "model_id": "ddfcf5146c93433297945c5457b846e2",
              "version_minor": 0,
              "version_major": 2
            },
            "text/plain": [
              "  0%|          | 0/17820 [00:00<?, ?it/s]"
            ]
          },
          "metadata": {}
        },
        {
          "output_type": "stream",
          "name": "stdout",
          "text": [
            "Доля верно угаданных \"functional\" - 0.9206441563032823\n",
            "Доля верно угаданных \"functional needs repair\" - 0.0\n",
            "Доля верно угаданных \"non functional\" - 0.5951514722713993\n",
            "Доля верно угаданных по всем - 0.0\n"
          ]
        }
      ]
    },
    {
      "cell_type": "code",
      "source": [
        "'''\n",
        "ЗАМЕТКА:\n",
        "Наша самописная функция checker отлично справляется с подсчетом \n",
        "показателя recall, что хорошо видно из сравнения с данными,\n",
        "которые вернул classification_report.\n",
        "'''\n",
        "print()"
      ],
      "metadata": {
        "id": "nTuHQ0V9c4go"
      },
      "execution_count": null,
      "outputs": []
    },
    {
      "cell_type": "code",
      "source": [
        ""
      ],
      "metadata": {
        "id": "90L2gpucyamY"
      },
      "execution_count": null,
      "outputs": []
    },
    {
      "cell_type": "markdown",
      "source": [
        "### Train on all data"
      ],
      "metadata": {
        "id": "v0G0yAy8R39m"
      }
    },
    {
      "cell_type": "markdown",
      "source": [
        "Тренировка НС на всех размеченных данных "
      ],
      "metadata": {
        "id": "yOv4D-kddZ_M"
      }
    },
    {
      "cell_type": "code",
      "source": [
        "y_train_all =  np.concatenate((y_train_ohe, y_test_ohe), axis=0)"
      ],
      "metadata": {
        "id": "BiW-3dZ3SxUI"
      },
      "execution_count": null,
      "outputs": []
    },
    {
      "cell_type": "code",
      "source": [
        "y_train_all.shape"
      ],
      "metadata": {
        "colab": {
          "base_uri": "https://localhost:8080/"
        },
        "id": "149B-B3WUZE9",
        "outputId": "49160317-9557-4179-9c56-52b03cffa71c"
      },
      "execution_count": null,
      "outputs": [
        {
          "output_type": "execute_result",
          "data": {
            "text/plain": [
              "(59400, 3)"
            ]
          },
          "metadata": {},
          "execution_count": 199
        }
      ]
    },
    {
      "cell_type": "code",
      "source": [
        "x_train_all =  np.concatenate((x_train_scaled, x_test_scaled), axis=0)"
      ],
      "metadata": {
        "id": "5tseEMBDR4ag"
      },
      "execution_count": null,
      "outputs": []
    },
    {
      "cell_type": "code",
      "source": [
        "x_train_all.shape"
      ],
      "metadata": {
        "colab": {
          "base_uri": "https://localhost:8080/"
        },
        "id": "0ab8qrn8SOGq",
        "outputId": "acabf251-dade-412e-de19-5bff6900ea72"
      },
      "execution_count": null,
      "outputs": [
        {
          "output_type": "execute_result",
          "data": {
            "text/plain": [
              "(59400, 29)"
            ]
          },
          "metadata": {},
          "execution_count": 201
        }
      ]
    },
    {
      "cell_type": "code",
      "source": [
        "model_2 = model()"
      ],
      "metadata": {
        "id": "YhBUL50Ga1tb"
      },
      "execution_count": null,
      "outputs": []
    },
    {
      "cell_type": "code",
      "source": [
        "#################\n",
        "# гиперпараметры\n",
        "#################\n",
        "\n",
        "batch_size = 10 \n",
        "epochs = 30"
      ],
      "metadata": {
        "id": "DWCNc_hGYdz2"
      },
      "execution_count": null,
      "outputs": []
    },
    {
      "cell_type": "code",
      "source": [
        "##############\n",
        "# обучение НС\n",
        "##############\n",
        "lr_list = []\n",
        "\n",
        "history = model_2.fit(x_train_all, \n",
        "                    y_train_all, \n",
        "                    batch_size=batch_size, \n",
        "                    epochs=epochs,\n",
        "                    verbose=1, \n",
        "                    shuffle=True)\n",
        "\n",
        "#Отображаем график точности обучения\n",
        "plt.plot(history.history['accuracy'], \n",
        "         label='Доля верных ответов на обучающем наборе')\n",
        "plt.xlabel('Эпоха обучения')\n",
        "plt.ylabel('Доля верных ответов')\n",
        "plt.title('Точность на x_train и x_test')\n",
        "plt.legend()\n",
        "plt.show()"
      ],
      "metadata": {
        "colab": {
          "base_uri": "https://localhost:8080/",
          "height": 1000
        },
        "id": "FPav-GCCR5iX",
        "outputId": "277a7d73-ec5d-4040-8e93-d9fa472ed149"
      },
      "execution_count": null,
      "outputs": [
        {
          "output_type": "stream",
          "name": "stdout",
          "text": [
            "Epoch 1/30\n",
            "5940/5940 [==============================] - 10s 2ms/step - loss: 0.9001 - accuracy: 0.5570\n",
            "Epoch 2/30\n",
            "5940/5940 [==============================] - 9s 2ms/step - loss: 0.8307 - accuracy: 0.6142\n",
            "Epoch 3/30\n",
            "5940/5940 [==============================] - 9s 2ms/step - loss: 0.8013 - accuracy: 0.6404\n",
            "Epoch 4/30\n",
            "5940/5940 [==============================] - 10s 2ms/step - loss: 0.7798 - accuracy: 0.6572\n",
            "Epoch 5/30\n",
            "5940/5940 [==============================] - 10s 2ms/step - loss: 0.7590 - accuracy: 0.6736\n",
            "Epoch 6/30\n",
            "5940/5940 [==============================] - 10s 2ms/step - loss: 0.7388 - accuracy: 0.6906\n",
            "Epoch 7/30\n",
            "5940/5940 [==============================] - 10s 2ms/step - loss: 0.7228 - accuracy: 0.6994\n",
            "Epoch 8/30\n",
            "5940/5940 [==============================] - 10s 2ms/step - loss: 0.7132 - accuracy: 0.7062\n",
            "Epoch 9/30\n",
            "5940/5940 [==============================] - 10s 2ms/step - loss: 0.7045 - accuracy: 0.7113\n",
            "Epoch 10/30\n",
            "5940/5940 [==============================] - 10s 2ms/step - loss: 0.6999 - accuracy: 0.7148\n",
            "Epoch 11/30\n",
            "5940/5940 [==============================] - 10s 2ms/step - loss: 0.6953 - accuracy: 0.7163\n",
            "Epoch 12/30\n",
            "5940/5940 [==============================] - 9s 2ms/step - loss: 0.6931 - accuracy: 0.7194\n",
            "Epoch 13/30\n",
            "5940/5940 [==============================] - 10s 2ms/step - loss: 0.6877 - accuracy: 0.7209\n",
            "Epoch 14/30\n",
            "5940/5940 [==============================] - 9s 2ms/step - loss: 0.6871 - accuracy: 0.7211\n",
            "Epoch 15/30\n",
            "5940/5940 [==============================] - 10s 2ms/step - loss: 0.6847 - accuracy: 0.7212\n",
            "Epoch 16/30\n",
            "5940/5940 [==============================] - 10s 2ms/step - loss: 0.6822 - accuracy: 0.7222\n",
            "Epoch 17/30\n",
            "5940/5940 [==============================] - 10s 2ms/step - loss: 0.6808 - accuracy: 0.7233\n",
            "Epoch 18/30\n",
            "5940/5940 [==============================] - 10s 2ms/step - loss: 0.6777 - accuracy: 0.7248\n",
            "Epoch 19/30\n",
            "5940/5940 [==============================] - 10s 2ms/step - loss: 0.6780 - accuracy: 0.7242\n",
            "Epoch 20/30\n",
            "5940/5940 [==============================] - 10s 2ms/step - loss: 0.6756 - accuracy: 0.7248\n",
            "Epoch 21/30\n",
            "5940/5940 [==============================] - 10s 2ms/step - loss: 0.6744 - accuracy: 0.7257\n",
            "Epoch 22/30\n",
            "5940/5940 [==============================] - 10s 2ms/step - loss: 0.6733 - accuracy: 0.7273\n",
            "Epoch 23/30\n",
            "5940/5940 [==============================] - 9s 2ms/step - loss: 0.6712 - accuracy: 0.7273\n",
            "Epoch 24/30\n",
            "5940/5940 [==============================] - 9s 2ms/step - loss: 0.6703 - accuracy: 0.7278\n",
            "Epoch 25/30\n",
            "5940/5940 [==============================] - 10s 2ms/step - loss: 0.6686 - accuracy: 0.7276\n",
            "Epoch 26/30\n",
            "5940/5940 [==============================] - 10s 2ms/step - loss: 0.6695 - accuracy: 0.7286\n",
            "Epoch 27/30\n",
            "5940/5940 [==============================] - 10s 2ms/step - loss: 0.6683 - accuracy: 0.7283\n",
            "Epoch 28/30\n",
            "5940/5940 [==============================] - 10s 2ms/step - loss: 0.6662 - accuracy: 0.7300\n",
            "Epoch 29/30\n",
            "5940/5940 [==============================] - 10s 2ms/step - loss: 0.6651 - accuracy: 0.7305\n",
            "Epoch 30/30\n",
            "5940/5940 [==============================] - 10s 2ms/step - loss: 0.6650 - accuracy: 0.7303\n"
          ]
        },
        {
          "output_type": "display_data",
          "data": {
            "image/png": "[encoded data removed]",
            "text/plain": [
              "<Figure size 432x288 with 1 Axes>"
            ]
          },
          "metadata": {
            "needs_background": "light"
          }
        }
      ]
    },
    {
      "cell_type": "code",
      "source": [
        "model_2.save('/content/my_drive/MyDrive/Colab Notebooks/Pump_it_up/Dense_last.h5')"
      ],
      "metadata": {
        "id": "nw6OAHAIYkxQ"
      },
      "execution_count": null,
      "outputs": []
    },
    {
      "cell_type": "code",
      "source": [
        ""
      ],
      "metadata": {
        "id": "rc2wzrWHS23r"
      },
      "execution_count": null,
      "outputs": []
    },
    {
      "cell_type": "markdown",
      "source": [
        "# Submit"
      ],
      "metadata": {
        "id": "iYu2j5kEqjfN"
      }
    },
    {
      "cell_type": "code",
      "source": [
        "model_now = load_model('/content/my_drive/MyDrive/Colab Notebooks/Pump_it_up/Dense_last.h5')\n",
        "submit_form = pd.read_csv('/content/Pump_it_Up/SubmissionFormat.csv')\n",
        "test_v = test.values.copy()\n",
        "\n",
        "test_v = scaler.transform(test_v)\n",
        "\n",
        "prediction = model_now.predict(test_v, batch_size=None, verbose=0, steps=None, callbacks=None, max_queue_size=10, workers=1, use_multiprocessing=False)\n"
      ],
      "metadata": {
        "id": "BprazkukM-ug"
      },
      "execution_count": null,
      "outputs": []
    },
    {
      "cell_type": "code",
      "source": [
        "#############################################################\n",
        "# Функция перевода таргета их OHE в первоначальное состояние.\n",
        "############################################################\n",
        "\n",
        "def ans_to_lable(data):\n",
        "\n",
        "  ans_list = []\n",
        "\n",
        "  for sample in tqdm_notebook(data):\n",
        "    if sample.argmax() == 0:\n",
        "      ans_list.append('functional')\n",
        "    elif sample.argmax() == 1:\n",
        "      ans_list.append('functional needs repair')     \n",
        "    elif sample.argmax() == 2:\n",
        "      ans_list.append('non functional')\n",
        "  return ans_list"
      ],
      "metadata": {
        "id": "ZK9pBrdcqj5z"
      },
      "execution_count": null,
      "outputs": []
    },
    {
      "cell_type": "code",
      "source": [
        "ans_list = ans_to_lable(prediction)\n",
        "\n",
        "answer = np.array(ans_list)\n",
        "submit_form['status_group'] = answer\n",
        "submit_form\n",
        "\n",
        "submit_form.to_csv('/content/my_drive/MyDrive/DataSets/submit_6_Dense_final.csv', index=False)"
      ],
      "metadata": {
        "colab": {
          "base_uri": "https://localhost:8080/",
          "height": 49,
          "referenced_widgets": [
            "bf3ceec61f96449bb46280a3eadf9ae5",
            "0587187a3b334bf6ba2ca2bd5fe0a3a1",
            "7396ee245a9d4864bbaa6f26632a2bd4",
            "0b5e2c89f48149568927c4e67a791ee0",
            "4685e5a0f3c54d70978224aa8358df5f",
            "ad27b2002acc40e5b13da2587795be81",
            "5167807c91324ab1b6e25435e7d6ef26",
            "251fe953d5c94834b6f8f3a9d1b87f70",
            "1e2b12b803a341debec2ad0289deb3c9",
            "f34b67a6d74b44d693d157316576f12f",
            "685fe72df6884ce799dc8a3a9591054d"
          ]
        },
        "id": "QycIymd0qkLP",
        "outputId": "6eaed6d6-aa69-451f-c115-fe6601031f9f"
      },
      "execution_count": null,
      "outputs": [
        {
          "output_type": "display_data",
          "data": {
            "application/vnd.jupyter.widget-view+json": {
              "model_id": "bf3ceec61f96449bb46280a3eadf9ae5",
              "version_minor": 0,
              "version_major": 2
            },
            "text/plain": [
              "  0%|          | 0/14850 [00:00<?, ?it/s]"
            ]
          },
          "metadata": {}
        }
      ]
    },
    {
      "cell_type": "markdown",
      "source": [
        "# Accuracy on DrivenData\n"
      ],
      "metadata": {
        "id": "Q9StoovleSoW"
      }
    },
    {
      "cell_type": "markdown",
      "source": [
        "![image.png](data:image/png;base64,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)"
      ],
      "metadata": {
        "id": "wLN3sy6vadP9"
      }
    }
  ]
}