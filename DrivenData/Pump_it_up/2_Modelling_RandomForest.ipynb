{
  "nbformat": 4,
  "nbformat_minor": 0,
  "metadata": {
    "colab": {
      "name": "2_Modeling_RandomForest.ipynb",
      "provenance": [],
      "collapsed_sections": [],
      "toc_visible": true
    },
    "kernelspec": {
      "name": "python3",
      "display_name": "Python 3"
    },
    "language_info": {
      "name": "python"
    },
    "widgets": {
      "application/vnd.jupyter.widget-state+json": {
        "5ae46fadcc1d4971b1afed8d4450ba0e": {
          "model_module": "@jupyter-widgets/controls",
          "model_name": "HBoxModel",
          "model_module_version": "1.5.0",
          "state": {
            "_view_name": "HBoxView",
            "_dom_classes": [],
            "_model_name": "HBoxModel",
            "_view_module": "@jupyter-widgets/controls",
            "_model_module_version": "1.5.0",
            "_view_count": null,
            "_view_module_version": "1.5.0",
            "box_style": "",
            "layout": "IPY_MODEL_ac1a9515cc5541449bc2f7860c273b64",
            "_model_module": "@jupyter-widgets/controls",
            "children": [
              "IPY_MODEL_96a7556da57c45f98381034b7634d9cb",
              "IPY_MODEL_e63359e034004fa496cb4c771477ecca",
              "IPY_MODEL_f03b013551864d51a293f8fff6c17b2d"
            ]
          }
        },
        "ac1a9515cc5541449bc2f7860c273b64": {
          "model_module": "@jupyter-widgets/base",
          "model_name": "LayoutModel",
          "model_module_version": "1.2.0",
          "state": {
            "_view_name": "LayoutView",
            "grid_template_rows": null,
            "right": null,
            "justify_content": null,
            "_view_module": "@jupyter-widgets/base",
            "overflow": null,
            "_model_module_version": "1.2.0",
            "_view_count": null,
            "flex_flow": null,
            "width": null,
            "min_width": null,
            "border": null,
            "align_items": null,
            "bottom": null,
            "_model_module": "@jupyter-widgets/base",
            "top": null,
            "grid_column": null,
            "overflow_y": null,
            "overflow_x": null,
            "grid_auto_flow": null,
            "grid_area": null,
            "grid_template_columns": null,
            "flex": null,
            "_model_name": "LayoutModel",
            "justify_items": null,
            "grid_row": null,
            "max_height": null,
            "align_content": null,
            "visibility": null,
            "align_self": null,
            "height": null,
            "min_height": null,
            "padding": null,
            "grid_auto_rows": null,
            "grid_gap": null,
            "max_width": null,
            "order": null,
            "_view_module_version": "1.2.0",
            "grid_template_areas": null,
            "object_position": null,
            "object_fit": null,
            "grid_auto_columns": null,
            "margin": null,
            "display": null,
            "left": null
          }
        },
        "96a7556da57c45f98381034b7634d9cb": {
          "model_module": "@jupyter-widgets/controls",
          "model_name": "HTMLModel",
          "model_module_version": "1.5.0",
          "state": {
            "_view_name": "HTMLView",
            "style": "IPY_MODEL_438915f7710040a7a01ca76547683b5c",
            "_dom_classes": [],
            "description": "",
            "_model_name": "HTMLModel",
            "placeholder": "​",
            "_view_module": "@jupyter-widgets/controls",
            "_model_module_version": "1.5.0",
            "value": "100%",
            "_view_count": null,
            "_view_module_version": "1.5.0",
            "description_tooltip": null,
            "_model_module": "@jupyter-widgets/controls",
            "layout": "IPY_MODEL_fc2e33965d7d474d8f90c04961b2d907"
          }
        },
        "e63359e034004fa496cb4c771477ecca": {
          "model_module": "@jupyter-widgets/controls",
          "model_name": "FloatProgressModel",
          "model_module_version": "1.5.0",
          "state": {
            "_view_name": "ProgressView",
            "style": "IPY_MODEL_60ae6341bdd94c78b531d52d9b66e64f",
            "_dom_classes": [],
            "description": "",
            "_model_name": "FloatProgressModel",
            "bar_style": "success",
            "max": 6,
            "_view_module": "@jupyter-widgets/controls",
            "_model_module_version": "1.5.0",
            "value": 6,
            "_view_count": null,
            "_view_module_version": "1.5.0",
            "orientation": "horizontal",
            "min": 0,
            "description_tooltip": null,
            "_model_module": "@jupyter-widgets/controls",
            "layout": "IPY_MODEL_35170027f1f64c2e95e5bcb5e91607db"
          }
        },
        "f03b013551864d51a293f8fff6c17b2d": {
          "model_module": "@jupyter-widgets/controls",
          "model_name": "HTMLModel",
          "model_module_version": "1.5.0",
          "state": {
            "_view_name": "HTMLView",
            "style": "IPY_MODEL_1e3d6e6afb8d4c1782ca38be7a900201",
            "_dom_classes": [],
            "description": "",
            "_model_name": "HTMLModel",
            "placeholder": "​",
            "_view_module": "@jupyter-widgets/controls",
            "_model_module_version": "1.5.0",
            "value": " 6/6 [01:20&lt;00:00, 16.98s/it]",
            "_view_count": null,
            "_view_module_version": "1.5.0",
            "description_tooltip": null,
            "_model_module": "@jupyter-widgets/controls",
            "layout": "IPY_MODEL_84a47fda026b47a8b7efc87e0ebc5b9a"
          }
        },
        "438915f7710040a7a01ca76547683b5c": {
          "model_module": "@jupyter-widgets/controls",
          "model_name": "DescriptionStyleModel",
          "model_module_version": "1.5.0",
          "state": {
            "_view_name": "StyleView",
            "_model_name": "DescriptionStyleModel",
            "description_width": "",
            "_view_module": "@jupyter-widgets/base",
            "_model_module_version": "1.5.0",
            "_view_count": null,
            "_view_module_version": "1.2.0",
            "_model_module": "@jupyter-widgets/controls"
          }
        },
        "fc2e33965d7d474d8f90c04961b2d907": {
          "model_module": "@jupyter-widgets/base",
          "model_name": "LayoutModel",
          "model_module_version": "1.2.0",
          "state": {
            "_view_name": "LayoutView",
            "grid_template_rows": null,
            "right": null,
            "justify_content": null,
            "_view_module": "@jupyter-widgets/base",
            "overflow": null,
            "_model_module_version": "1.2.0",
            "_view_count": null,
            "flex_flow": null,
            "width": null,
            "min_width": null,
            "border": null,
            "align_items": null,
            "bottom": null,
            "_model_module": "@jupyter-widgets/base",
            "top": null,
            "grid_column": null,
            "overflow_y": null,
            "overflow_x": null,
            "grid_auto_flow": null,
            "grid_area": null,
            "grid_template_columns": null,
            "flex": null,
            "_model_name": "LayoutModel",
            "justify_items": null,
            "grid_row": null,
            "max_height": null,
            "align_content": null,
            "visibility": null,
            "align_self": null,
            "height": null,
            "min_height": null,
            "padding": null,
            "grid_auto_rows": null,
            "grid_gap": null,
            "max_width": null,
            "order": null,
            "_view_module_version": "1.2.0",
            "grid_template_areas": null,
            "object_position": null,
            "object_fit": null,
            "grid_auto_columns": null,
            "margin": null,
            "display": null,
            "left": null
          }
        },
        "60ae6341bdd94c78b531d52d9b66e64f": {
          "model_module": "@jupyter-widgets/controls",
          "model_name": "ProgressStyleModel",
          "model_module_version": "1.5.0",
          "state": {
            "_view_name": "StyleView",
            "_model_name": "ProgressStyleModel",
            "description_width": "",
            "_view_module": "@jupyter-widgets/base",
            "_model_module_version": "1.5.0",
            "_view_count": null,
            "_view_module_version": "1.2.0",
            "bar_color": null,
            "_model_module": "@jupyter-widgets/controls"
          }
        },
        "35170027f1f64c2e95e5bcb5e91607db": {
          "model_module": "@jupyter-widgets/base",
          "model_name": "LayoutModel",
          "model_module_version": "1.2.0",
          "state": {
            "_view_name": "LayoutView",
            "grid_template_rows": null,
            "right": null,
            "justify_content": null,
            "_view_module": "@jupyter-widgets/base",
            "overflow": null,
            "_model_module_version": "1.2.0",
            "_view_count": null,
            "flex_flow": null,
            "width": null,
            "min_width": null,
            "border": null,
            "align_items": null,
            "bottom": null,
            "_model_module": "@jupyter-widgets/base",
            "top": null,
            "grid_column": null,
            "overflow_y": null,
            "overflow_x": null,
            "grid_auto_flow": null,
            "grid_area": null,
            "grid_template_columns": null,
            "flex": null,
            "_model_name": "LayoutModel",
            "justify_items": null,
            "grid_row": null,
            "max_height": null,
            "align_content": null,
            "visibility": null,
            "align_self": null,
            "height": null,
            "min_height": null,
            "padding": null,
            "grid_auto_rows": null,
            "grid_gap": null,
            "max_width": null,
            "order": null,
            "_view_module_version": "1.2.0",
            "grid_template_areas": null,
            "object_position": null,
            "object_fit": null,
            "grid_auto_columns": null,
            "margin": null,
            "display": null,
            "left": null
          }
        },
        "1e3d6e6afb8d4c1782ca38be7a900201": {
          "model_module": "@jupyter-widgets/controls",
          "model_name": "DescriptionStyleModel",
          "model_module_version": "1.5.0",
          "state": {
            "_view_name": "StyleView",
            "_model_name": "DescriptionStyleModel",
            "description_width": "",
            "_view_module": "@jupyter-widgets/base",
            "_model_module_version": "1.5.0",
            "_view_count": null,
            "_view_module_version": "1.2.0",
            "_model_module": "@jupyter-widgets/controls"
          }
        },
        "84a47fda026b47a8b7efc87e0ebc5b9a": {
          "model_module": "@jupyter-widgets/base",
          "model_name": "LayoutModel",
          "model_module_version": "1.2.0",
          "state": {
            "_view_name": "LayoutView",
            "grid_template_rows": null,
            "right": null,
            "justify_content": null,
            "_view_module": "@jupyter-widgets/base",
            "overflow": null,
            "_model_module_version": "1.2.0",
            "_view_count": null,
            "flex_flow": null,
            "width": null,
            "min_width": null,
            "border": null,
            "align_items": null,
            "bottom": null,
            "_model_module": "@jupyter-widgets/base",
            "top": null,
            "grid_column": null,
            "overflow_y": null,
            "overflow_x": null,
            "grid_auto_flow": null,
            "grid_area": null,
            "grid_template_columns": null,
            "flex": null,
            "_model_name": "LayoutModel",
            "justify_items": null,
            "grid_row": null,
            "max_height": null,
            "align_content": null,
            "visibility": null,
            "align_self": null,
            "height": null,
            "min_height": null,
            "padding": null,
            "grid_auto_rows": null,
            "grid_gap": null,
            "max_width": null,
            "order": null,
            "_view_module_version": "1.2.0",
            "grid_template_areas": null,
            "object_position": null,
            "object_fit": null,
            "grid_auto_columns": null,
            "margin": null,
            "display": null,
            "left": null
          }
        }
      }
    }
  },
  "cells": [
    {
      "cell_type": "code",
      "source": [
        "import pandas as pd\n",
        "import numpy as np\n",
        "import matplotlib.pyplot as plt\n",
        "import seaborn as sns\n",
        "\n",
        "!pip install patool\n",
        "import patoolib                       \n",
        "\n",
        "import warnings\n",
        "warnings.filterwarnings('ignore')\n",
        "\n",
        "from tqdm import tqdm_notebook\n",
        "%matplotlib inline"
      ],
      "metadata": {
        "colab": {
          "base_uri": "https://localhost:8080/"
        },
        "id": "iMzEsp2MLDBK",
        "outputId": "b74694e4-96a5-4c90-c2c5-51969b73f757"
      },
      "execution_count": 1,
      "outputs": [
        {
          "output_type": "stream",
          "name": "stdout",
          "text": [
            "Collecting patool\n",
            "  Downloading patool-1.12-py2.py3-none-any.whl (77 kB)\n",
            "\u001b[?25l\r\u001b[K     |████▎                           | 10 kB 19.5 MB/s eta 0:00:01\r\u001b[K     |████████▌                       | 20 kB 13.6 MB/s eta 0:00:01\r\u001b[K     |████████████▊                   | 30 kB 7.3 MB/s eta 0:00:01\r\u001b[K     |█████████████████               | 40 kB 6.7 MB/s eta 0:00:01\r\u001b[K     |█████████████████████▏          | 51 kB 4.9 MB/s eta 0:00:01\r\u001b[K     |█████████████████████████▍      | 61 kB 4.9 MB/s eta 0:00:01\r\u001b[K     |█████████████████████████████▋  | 71 kB 5.5 MB/s eta 0:00:01\r\u001b[K     |████████████████████████████████| 77 kB 1.9 MB/s \n",
            "\u001b[?25hInstalling collected packages: patool\n",
            "Successfully installed patool-1.12\n"
          ]
        }
      ]
    },
    {
      "cell_type": "code",
      "source": [
        "from google.colab import drive\n",
        "drive.mount('/content/my_drive')"
      ],
      "metadata": {
        "id": "BeBBK5JNLDUR",
        "colab": {
          "base_uri": "https://localhost:8080/"
        },
        "outputId": "83900079-aa78-4f03-c090-ed14a2adf5c8"
      },
      "execution_count": 2,
      "outputs": [
        {
          "output_type": "stream",
          "name": "stdout",
          "text": [
            "Mounted at /content/my_drive\n"
          ]
        }
      ]
    },
    {
      "cell_type": "code",
      "source": [
        "data = pd.read_csv('/content/my_drive/MyDrive/DataSets/Data_processed_new_coords.csv', index_col=0)"
      ],
      "metadata": {
        "id": "JmKrP79dLFU0"
      },
      "execution_count": 3,
      "outputs": []
    },
    {
      "cell_type": "code",
      "source": [
        "data"
      ],
      "metadata": {
        "colab": {
          "base_uri": "https://localhost:8080/",
          "height": 483
        },
        "id": "XX6JWOOZLFXN",
        "outputId": "644408b9-6f9d-4219-a9ff-6294f0759540"
      },
      "execution_count": 4,
      "outputs": [
        {
          "output_type": "execute_result",
          "data": {
            "text/html": [
              "\n",
              "  <div id=\"df-6e19e7f2-d29b-45a6-9b6c-ef70d517140c\">\n",
              "    <div class=\"colab-df-container\">\n",
              "      <div>\n",
              "<style scoped>\n",
              "    .dataframe tbody tr th:only-of-type {\n",
              "        vertical-align: middle;\n",
              "    }\n",
              "\n",
              "    .dataframe tbody tr th {\n",
              "        vertical-align: top;\n",
              "    }\n",
              "\n",
              "    .dataframe thead th {\n",
              "        text-align: right;\n",
              "    }\n",
              "</style>\n",
              "<table border=\"1\" class=\"dataframe\">\n",
              "  <thead>\n",
              "    <tr style=\"text-align: right;\">\n",
              "      <th></th>\n",
              "      <th>gps_height</th>\n",
              "      <th>longitude</th>\n",
              "      <th>latitude</th>\n",
              "      <th>region_code</th>\n",
              "      <th>district_code</th>\n",
              "      <th>population</th>\n",
              "      <th>construction_year</th>\n",
              "      <th>labels</th>\n",
              "      <th>amount_tsh_bool</th>\n",
              "      <th>month_recorded</th>\n",
              "      <th>funder_encoded</th>\n",
              "      <th>installer_encoded</th>\n",
              "      <th>scheme_management_encoded</th>\n",
              "      <th>scheme_name_encoded</th>\n",
              "      <th>public_meeting_encoded</th>\n",
              "      <th>permit_encoded</th>\n",
              "      <th>subvillage_encoded</th>\n",
              "      <th>wpt_name_encoded</th>\n",
              "      <th>management_encoded</th>\n",
              "      <th>payment_encoded</th>\n",
              "      <th>payment_type_encoded</th>\n",
              "      <th>water_quality_encoded</th>\n",
              "      <th>quality_group_encoded</th>\n",
              "      <th>quantity_encoded</th>\n",
              "      <th>basin_encoded</th>\n",
              "      <th>region_encoded</th>\n",
              "      <th>lga_encoded</th>\n",
              "      <th>ward_encoded</th>\n",
              "      <th>extraction_type_encoded</th>\n",
              "      <th>source_encoded</th>\n",
              "      <th>waterpoint_type_encoded</th>\n",
              "    </tr>\n",
              "  </thead>\n",
              "  <tbody>\n",
              "    <tr>\n",
              "      <th>0</th>\n",
              "      <td>1390.0</td>\n",
              "      <td>34.938093</td>\n",
              "      <td>-9.856322</td>\n",
              "      <td>11</td>\n",
              "      <td>5</td>\n",
              "      <td>109.0</td>\n",
              "      <td>1999.0</td>\n",
              "      <td>True</td>\n",
              "      <td>False</td>\n",
              "      <td>3</td>\n",
              "      <td>1548</td>\n",
              "      <td>1706</td>\n",
              "      <td>7</td>\n",
              "      <td>2388</td>\n",
              "      <td>1</td>\n",
              "      <td>0</td>\n",
              "      <td>13116</td>\n",
              "      <td>9784</td>\n",
              "      <td>7</td>\n",
              "      <td>3</td>\n",
              "      <td>0</td>\n",
              "      <td>7</td>\n",
              "      <td>2</td>\n",
              "      <td>1</td>\n",
              "      <td>1</td>\n",
              "      <td>3</td>\n",
              "      <td>51</td>\n",
              "      <td>1429</td>\n",
              "      <td>3</td>\n",
              "      <td>8</td>\n",
              "      <td>1</td>\n",
              "    </tr>\n",
              "    <tr>\n",
              "      <th>1</th>\n",
              "      <td>1399.0</td>\n",
              "      <td>34.698766</td>\n",
              "      <td>-2.147466</td>\n",
              "      <td>20</td>\n",
              "      <td>2</td>\n",
              "      <td>280.0</td>\n",
              "      <td>2010.0</td>\n",
              "      <td>True</td>\n",
              "      <td>True</td>\n",
              "      <td>3</td>\n",
              "      <td>522</td>\n",
              "      <td>610</td>\n",
              "      <td>2</td>\n",
              "      <td>2385</td>\n",
              "      <td>1</td>\n",
              "      <td>1</td>\n",
              "      <td>17596</td>\n",
              "      <td>45426</td>\n",
              "      <td>11</td>\n",
              "      <td>1</td>\n",
              "      <td>3</td>\n",
              "      <td>7</td>\n",
              "      <td>2</td>\n",
              "      <td>2</td>\n",
              "      <td>4</td>\n",
              "      <td>9</td>\n",
              "      <td>103</td>\n",
              "      <td>1581</td>\n",
              "      <td>3</td>\n",
              "      <td>5</td>\n",
              "      <td>1</td>\n",
              "    </tr>\n",
              "    <tr>\n",
              "      <th>2</th>\n",
              "      <td>686.0</td>\n",
              "      <td>37.460664</td>\n",
              "      <td>-3.821329</td>\n",
              "      <td>21</td>\n",
              "      <td>4</td>\n",
              "      <td>250.0</td>\n",
              "      <td>2009.0</td>\n",
              "      <td>True</td>\n",
              "      <td>False</td>\n",
              "      <td>2</td>\n",
              "      <td>924</td>\n",
              "      <td>2296</td>\n",
              "      <td>7</td>\n",
              "      <td>2261</td>\n",
              "      <td>1</td>\n",
              "      <td>1</td>\n",
              "      <td>10096</td>\n",
              "      <td>17767</td>\n",
              "      <td>7</td>\n",
              "      <td>5</td>\n",
              "      <td>6</td>\n",
              "      <td>7</td>\n",
              "      <td>2</td>\n",
              "      <td>1</td>\n",
              "      <td>5</td>\n",
              "      <td>8</td>\n",
              "      <td>108</td>\n",
              "      <td>1629</td>\n",
              "      <td>3</td>\n",
              "      <td>0</td>\n",
              "      <td>2</td>\n",
              "    </tr>\n",
              "    <tr>\n",
              "      <th>3</th>\n",
              "      <td>263.0</td>\n",
              "      <td>38.486161</td>\n",
              "      <td>-11.155298</td>\n",
              "      <td>90</td>\n",
              "      <td>63</td>\n",
              "      <td>58.0</td>\n",
              "      <td>1986.0</td>\n",
              "      <td>True</td>\n",
              "      <td>True</td>\n",
              "      <td>1</td>\n",
              "      <td>1961</td>\n",
              "      <td>2078</td>\n",
              "      <td>7</td>\n",
              "      <td>1130</td>\n",
              "      <td>1</td>\n",
              "      <td>1</td>\n",
              "      <td>9998</td>\n",
              "      <td>45537</td>\n",
              "      <td>7</td>\n",
              "      <td>1</td>\n",
              "      <td>3</td>\n",
              "      <td>7</td>\n",
              "      <td>2</td>\n",
              "      <td>0</td>\n",
              "      <td>7</td>\n",
              "      <td>12</td>\n",
              "      <td>87</td>\n",
              "      <td>1576</td>\n",
              "      <td>14</td>\n",
              "      <td>3</td>\n",
              "      <td>2</td>\n",
              "    </tr>\n",
              "    <tr>\n",
              "      <th>4</th>\n",
              "      <td>1328.8</td>\n",
              "      <td>31.130847</td>\n",
              "      <td>-1.825359</td>\n",
              "      <td>18</td>\n",
              "      <td>1</td>\n",
              "      <td>264.0</td>\n",
              "      <td>2005.4</td>\n",
              "      <td>True</td>\n",
              "      <td>True</td>\n",
              "      <td>7</td>\n",
              "      <td>20</td>\n",
              "      <td>133</td>\n",
              "      <td>7</td>\n",
              "      <td>204</td>\n",
              "      <td>1</td>\n",
              "      <td>1</td>\n",
              "      <td>8583</td>\n",
              "      <td>43411</td>\n",
              "      <td>2</td>\n",
              "      <td>1</td>\n",
              "      <td>3</td>\n",
              "      <td>7</td>\n",
              "      <td>2</td>\n",
              "      <td>4</td>\n",
              "      <td>4</td>\n",
              "      <td>4</td>\n",
              "      <td>26</td>\n",
              "      <td>1692</td>\n",
              "      <td>3</td>\n",
              "      <td>5</td>\n",
              "      <td>1</td>\n",
              "    </tr>\n",
              "    <tr>\n",
              "      <th>...</th>\n",
              "      <td>...</td>\n",
              "      <td>...</td>\n",
              "      <td>...</td>\n",
              "      <td>...</td>\n",
              "      <td>...</td>\n",
              "      <td>...</td>\n",
              "      <td>...</td>\n",
              "      <td>...</td>\n",
              "      <td>...</td>\n",
              "      <td>...</td>\n",
              "      <td>...</td>\n",
              "      <td>...</td>\n",
              "      <td>...</td>\n",
              "      <td>...</td>\n",
              "      <td>...</td>\n",
              "      <td>...</td>\n",
              "      <td>...</td>\n",
              "      <td>...</td>\n",
              "      <td>...</td>\n",
              "      <td>...</td>\n",
              "      <td>...</td>\n",
              "      <td>...</td>\n",
              "      <td>...</td>\n",
              "      <td>...</td>\n",
              "      <td>...</td>\n",
              "      <td>...</td>\n",
              "      <td>...</td>\n",
              "      <td>...</td>\n",
              "      <td>...</td>\n",
              "      <td>...</td>\n",
              "      <td>...</td>\n",
              "    </tr>\n",
              "    <tr>\n",
              "      <th>14845</th>\n",
              "      <td>34.0</td>\n",
              "      <td>38.852669</td>\n",
              "      <td>-6.582841</td>\n",
              "      <td>6</td>\n",
              "      <td>1</td>\n",
              "      <td>20.0</td>\n",
              "      <td>1988.0</td>\n",
              "      <td>False</td>\n",
              "      <td>True</td>\n",
              "      <td>2</td>\n",
              "      <td>293</td>\n",
              "      <td>456</td>\n",
              "      <td>7</td>\n",
              "      <td>168</td>\n",
              "      <td>1</td>\n",
              "      <td>1</td>\n",
              "      <td>21327</td>\n",
              "      <td>30976</td>\n",
              "      <td>7</td>\n",
              "      <td>1</td>\n",
              "      <td>3</td>\n",
              "      <td>7</td>\n",
              "      <td>2</td>\n",
              "      <td>1</td>\n",
              "      <td>8</td>\n",
              "      <td>14</td>\n",
              "      <td>3</td>\n",
              "      <td>2087</td>\n",
              "      <td>7</td>\n",
              "      <td>6</td>\n",
              "      <td>1</td>\n",
              "    </tr>\n",
              "    <tr>\n",
              "      <th>14846</th>\n",
              "      <td>1178.4</td>\n",
              "      <td>37.451633</td>\n",
              "      <td>-5.350428</td>\n",
              "      <td>4</td>\n",
              "      <td>7</td>\n",
              "      <td>2960.0</td>\n",
              "      <td>1994.0</td>\n",
              "      <td>False</td>\n",
              "      <td>False</td>\n",
              "      <td>3</td>\n",
              "      <td>584</td>\n",
              "      <td>675</td>\n",
              "      <td>7</td>\n",
              "      <td>2571</td>\n",
              "      <td>1</td>\n",
              "      <td>0</td>\n",
              "      <td>12687</td>\n",
              "      <td>1352</td>\n",
              "      <td>7</td>\n",
              "      <td>3</td>\n",
              "      <td>0</td>\n",
              "      <td>5</td>\n",
              "      <td>5</td>\n",
              "      <td>2</td>\n",
              "      <td>5</td>\n",
              "      <td>20</td>\n",
              "      <td>33</td>\n",
              "      <td>1454</td>\n",
              "      <td>8</td>\n",
              "      <td>7</td>\n",
              "      <td>4</td>\n",
              "    </tr>\n",
              "    <tr>\n",
              "      <th>14847</th>\n",
              "      <td>1476.0</td>\n",
              "      <td>34.739804</td>\n",
              "      <td>-4.585587</td>\n",
              "      <td>13</td>\n",
              "      <td>2</td>\n",
              "      <td>200.0</td>\n",
              "      <td>2010.0</td>\n",
              "      <td>False</td>\n",
              "      <td>True</td>\n",
              "      <td>3</td>\n",
              "      <td>1858</td>\n",
              "      <td>1939</td>\n",
              "      <td>7</td>\n",
              "      <td>2638</td>\n",
              "      <td>1</td>\n",
              "      <td>1</td>\n",
              "      <td>4755</td>\n",
              "      <td>1821</td>\n",
              "      <td>7</td>\n",
              "      <td>1</td>\n",
              "      <td>3</td>\n",
              "      <td>7</td>\n",
              "      <td>2</td>\n",
              "      <td>2</td>\n",
              "      <td>0</td>\n",
              "      <td>18</td>\n",
              "      <td>109</td>\n",
              "      <td>2000</td>\n",
              "      <td>3</td>\n",
              "      <td>0</td>\n",
              "      <td>1</td>\n",
              "    </tr>\n",
              "    <tr>\n",
              "      <th>14848</th>\n",
              "      <td>998.0</td>\n",
              "      <td>35.432732</td>\n",
              "      <td>-10.584159</td>\n",
              "      <td>10</td>\n",
              "      <td>2</td>\n",
              "      <td>150.0</td>\n",
              "      <td>2009.0</td>\n",
              "      <td>False</td>\n",
              "      <td>True</td>\n",
              "      <td>2</td>\n",
              "      <td>482</td>\n",
              "      <td>442</td>\n",
              "      <td>7</td>\n",
              "      <td>1767</td>\n",
              "      <td>1</td>\n",
              "      <td>1</td>\n",
              "      <td>15803</td>\n",
              "      <td>14467</td>\n",
              "      <td>7</td>\n",
              "      <td>1</td>\n",
              "      <td>3</td>\n",
              "      <td>7</td>\n",
              "      <td>2</td>\n",
              "      <td>2</td>\n",
              "      <td>1</td>\n",
              "      <td>16</td>\n",
              "      <td>111</td>\n",
              "      <td>1072</td>\n",
              "      <td>3</td>\n",
              "      <td>6</td>\n",
              "      <td>1</td>\n",
              "    </tr>\n",
              "    <tr>\n",
              "      <th>14849</th>\n",
              "      <td>481.0</td>\n",
              "      <td>34.765054</td>\n",
              "      <td>-11.226012</td>\n",
              "      <td>10</td>\n",
              "      <td>3</td>\n",
              "      <td>40.0</td>\n",
              "      <td>2008.0</td>\n",
              "      <td>False</td>\n",
              "      <td>True</td>\n",
              "      <td>2</td>\n",
              "      <td>507</td>\n",
              "      <td>637</td>\n",
              "      <td>7</td>\n",
              "      <td>313</td>\n",
              "      <td>1</td>\n",
              "      <td>1</td>\n",
              "      <td>5205</td>\n",
              "      <td>21779</td>\n",
              "      <td>7</td>\n",
              "      <td>1</td>\n",
              "      <td>3</td>\n",
              "      <td>7</td>\n",
              "      <td>2</td>\n",
              "      <td>0</td>\n",
              "      <td>1</td>\n",
              "      <td>16</td>\n",
              "      <td>61</td>\n",
              "      <td>1144</td>\n",
              "      <td>3</td>\n",
              "      <td>8</td>\n",
              "      <td>1</td>\n",
              "    </tr>\n",
              "  </tbody>\n",
              "</table>\n",
              "<p>74250 rows × 31 columns</p>\n",
              "</div>\n",
              "      <button class=\"colab-df-convert\" onclick=\"convertToInteractive('df-6e19e7f2-d29b-45a6-9b6c-ef70d517140c')\"\n",
              "              title=\"Convert this dataframe to an interactive table.\"\n",
              "              style=\"display:none;\">\n",
              "        \n",
              "  <svg xmlns=\"http://www.w3.org/2000/svg\" height=\"24px\"viewBox=\"0 0 24 24\"\n",
              "       width=\"24px\">\n",
              "    <path d=\"M0 0h24v24H0V0z\" fill=\"none\"/>\n",
              "    <path d=\"M18.56 5.44l.94 2.06.94-2.06 2.06-.94-2.06-.94-.94-2.06-.94 2.06-2.06.94zm-11 1L8.5 8.5l.94-2.06 2.06-.94-2.06-.94L8.5 2.5l-.94 2.06-2.06.94zm10 10l.94 2.06.94-2.06 2.06-.94-2.06-.94-.94-2.06-.94 2.06-2.06.94z\"/><path d=\"M17.41 7.96l-1.37-1.37c-.4-.4-.92-.59-1.43-.59-.52 0-1.04.2-1.43.59L10.3 9.45l-7.72 7.72c-.78.78-.78 2.05 0 2.83L4 21.41c.39.39.9.59 1.41.59.51 0 1.02-.2 1.41-.59l7.78-7.78 2.81-2.81c.8-.78.8-2.07 0-2.86zM5.41 20L4 18.59l7.72-7.72 1.47 1.35L5.41 20z\"/>\n",
              "  </svg>\n",
              "      </button>\n",
              "      \n",
              "  <style>\n",
              "    .colab-df-container {\n",
              "      display:flex;\n",
              "      flex-wrap:wrap;\n",
              "      gap: 12px;\n",
              "    }\n",
              "\n",
              "    .colab-df-convert {\n",
              "      background-color: #E8F0FE;\n",
              "      border: none;\n",
              "      border-radius: 50%;\n",
              "      cursor: pointer;\n",
              "      display: none;\n",
              "      fill: #1967D2;\n",
              "      height: 32px;\n",
              "      padding: 0 0 0 0;\n",
              "      width: 32px;\n",
              "    }\n",
              "\n",
              "    .colab-df-convert:hover {\n",
              "      background-color: #E2EBFA;\n",
              "      box-shadow: 0px 1px 2px rgba(60, 64, 67, 0.3), 0px 1px 3px 1px rgba(60, 64, 67, 0.15);\n",
              "      fill: #174EA6;\n",
              "    }\n",
              "\n",
              "    [theme=dark] .colab-df-convert {\n",
              "      background-color: #3B4455;\n",
              "      fill: #D2E3FC;\n",
              "    }\n",
              "\n",
              "    [theme=dark] .colab-df-convert:hover {\n",
              "      background-color: #434B5C;\n",
              "      box-shadow: 0px 1px 3px 1px rgba(0, 0, 0, 0.15);\n",
              "      filter: drop-shadow(0px 1px 2px rgba(0, 0, 0, 0.3));\n",
              "      fill: #FFFFFF;\n",
              "    }\n",
              "  </style>\n",
              "\n",
              "      <script>\n",
              "        const buttonEl =\n",
              "          document.querySelector('#df-6e19e7f2-d29b-45a6-9b6c-ef70d517140c button.colab-df-convert');\n",
              "        buttonEl.style.display =\n",
              "          google.colab.kernel.accessAllowed ? 'block' : 'none';\n",
              "\n",
              "        async function convertToInteractive(key) {\n",
              "          const element = document.querySelector('#df-6e19e7f2-d29b-45a6-9b6c-ef70d517140c');\n",
              "          const dataTable =\n",
              "            await google.colab.kernel.invokeFunction('convertToInteractive',\n",
              "                                                     [key], {});\n",
              "          if (!dataTable) return;\n",
              "\n",
              "          const docLinkHtml = 'Like what you see? Visit the ' +\n",
              "            '<a target=\"_blank\" href=https://colab.research.google.com/notebooks/data_table.ipynb>data table notebook</a>'\n",
              "            + ' to learn more about interactive tables.';\n",
              "          element.innerHTML = '';\n",
              "          dataTable['output_type'] = 'display_data';\n",
              "          await google.colab.output.renderOutput(dataTable, element);\n",
              "          const docLink = document.createElement('div');\n",
              "          docLink.innerHTML = docLinkHtml;\n",
              "          element.appendChild(docLink);\n",
              "        }\n",
              "      </script>\n",
              "    </div>\n",
              "  </div>\n",
              "  "
            ],
            "text/plain": [
              "       gps_height  longitude  ...  source_encoded  waterpoint_type_encoded\n",
              "0          1390.0  34.938093  ...               8                        1\n",
              "1          1399.0  34.698766  ...               5                        1\n",
              "2           686.0  37.460664  ...               0                        2\n",
              "3           263.0  38.486161  ...               3                        2\n",
              "4          1328.8  31.130847  ...               5                        1\n",
              "...           ...        ...  ...             ...                      ...\n",
              "14845        34.0  38.852669  ...               6                        1\n",
              "14846      1178.4  37.451633  ...               7                        4\n",
              "14847      1476.0  34.739804  ...               0                        1\n",
              "14848       998.0  35.432732  ...               6                        1\n",
              "14849       481.0  34.765054  ...               8                        1\n",
              "\n",
              "[74250 rows x 31 columns]"
            ]
          },
          "metadata": {},
          "execution_count": 4
        }
      ]
    },
    {
      "cell_type": "code",
      "source": [
        "# Разархивируем архив\n",
        "patoolib.extract_archive('/content/my_drive/MyDrive/DataSets/Pump_it_Up.rar', outdir='/content' )"
      ],
      "metadata": {
        "colab": {
          "base_uri": "https://localhost:8080/",
          "height": 103
        },
        "id": "vVJe2p7yN1-d",
        "outputId": "036258a8-29ee-417e-c1f4-3b67d14caf3f"
      },
      "execution_count": 5,
      "outputs": [
        {
          "output_type": "stream",
          "name": "stdout",
          "text": [
            "patool: Extracting /content/my_drive/MyDrive/DataSets/Pump_it_Up.rar ...\n",
            "patool: running /usr/bin/unrar x -- /content/my_drive/MyDrive/DataSets/Pump_it_Up.rar\n",
            "patool:     with cwd='/content'\n",
            "patool: ... /content/my_drive/MyDrive/DataSets/Pump_it_Up.rar extracted to `/content'.\n"
          ]
        },
        {
          "output_type": "execute_result",
          "data": {
            "application/vnd.google.colaboratory.intrinsic+json": {
              "type": "string"
            },
            "text/plain": [
              "'/content'"
            ]
          },
          "metadata": {},
          "execution_count": 5
        }
      ]
    },
    {
      "cell_type": "code",
      "source": [
        "data_labels = pd.read_csv('/content/Pump_it_Up/y_train.csv')"
      ],
      "metadata": {
        "id": "e3bsNLwMLFaB"
      },
      "execution_count": 6,
      "outputs": []
    },
    {
      "cell_type": "code",
      "source": [
        "data_labels"
      ],
      "metadata": {
        "colab": {
          "base_uri": "https://localhost:8080/",
          "height": 419
        },
        "id": "BGlKL90XN6rZ",
        "outputId": "5fc8a28f-202e-4fff-e144-8c43d7ed74de"
      },
      "execution_count": 8,
      "outputs": [
        {
          "output_type": "execute_result",
          "data": {
            "text/html": [
              "\n",
              "  <div id=\"df-eabb352b-5862-4949-98a0-973acc2504c1\">\n",
              "    <div class=\"colab-df-container\">\n",
              "      <div>\n",
              "<style scoped>\n",
              "    .dataframe tbody tr th:only-of-type {\n",
              "        vertical-align: middle;\n",
              "    }\n",
              "\n",
              "    .dataframe tbody tr th {\n",
              "        vertical-align: top;\n",
              "    }\n",
              "\n",
              "    .dataframe thead th {\n",
              "        text-align: right;\n",
              "    }\n",
              "</style>\n",
              "<table border=\"1\" class=\"dataframe\">\n",
              "  <thead>\n",
              "    <tr style=\"text-align: right;\">\n",
              "      <th></th>\n",
              "      <th>id</th>\n",
              "      <th>status_group</th>\n",
              "    </tr>\n",
              "  </thead>\n",
              "  <tbody>\n",
              "    <tr>\n",
              "      <th>0</th>\n",
              "      <td>69572</td>\n",
              "      <td>functional</td>\n",
              "    </tr>\n",
              "    <tr>\n",
              "      <th>1</th>\n",
              "      <td>8776</td>\n",
              "      <td>functional</td>\n",
              "    </tr>\n",
              "    <tr>\n",
              "      <th>2</th>\n",
              "      <td>34310</td>\n",
              "      <td>functional</td>\n",
              "    </tr>\n",
              "    <tr>\n",
              "      <th>3</th>\n",
              "      <td>67743</td>\n",
              "      <td>non functional</td>\n",
              "    </tr>\n",
              "    <tr>\n",
              "      <th>4</th>\n",
              "      <td>19728</td>\n",
              "      <td>functional</td>\n",
              "    </tr>\n",
              "    <tr>\n",
              "      <th>...</th>\n",
              "      <td>...</td>\n",
              "      <td>...</td>\n",
              "    </tr>\n",
              "    <tr>\n",
              "      <th>59395</th>\n",
              "      <td>60739</td>\n",
              "      <td>functional</td>\n",
              "    </tr>\n",
              "    <tr>\n",
              "      <th>59396</th>\n",
              "      <td>27263</td>\n",
              "      <td>functional</td>\n",
              "    </tr>\n",
              "    <tr>\n",
              "      <th>59397</th>\n",
              "      <td>37057</td>\n",
              "      <td>functional</td>\n",
              "    </tr>\n",
              "    <tr>\n",
              "      <th>59398</th>\n",
              "      <td>31282</td>\n",
              "      <td>functional</td>\n",
              "    </tr>\n",
              "    <tr>\n",
              "      <th>59399</th>\n",
              "      <td>26348</td>\n",
              "      <td>functional</td>\n",
              "    </tr>\n",
              "  </tbody>\n",
              "</table>\n",
              "<p>59400 rows × 2 columns</p>\n",
              "</div>\n",
              "      <button class=\"colab-df-convert\" onclick=\"convertToInteractive('df-eabb352b-5862-4949-98a0-973acc2504c1')\"\n",
              "              title=\"Convert this dataframe to an interactive table.\"\n",
              "              style=\"display:none;\">\n",
              "        \n",
              "  <svg xmlns=\"http://www.w3.org/2000/svg\" height=\"24px\"viewBox=\"0 0 24 24\"\n",
              "       width=\"24px\">\n",
              "    <path d=\"M0 0h24v24H0V0z\" fill=\"none\"/>\n",
              "    <path d=\"M18.56 5.44l.94 2.06.94-2.06 2.06-.94-2.06-.94-.94-2.06-.94 2.06-2.06.94zm-11 1L8.5 8.5l.94-2.06 2.06-.94-2.06-.94L8.5 2.5l-.94 2.06-2.06.94zm10 10l.94 2.06.94-2.06 2.06-.94-2.06-.94-.94-2.06-.94 2.06-2.06.94z\"/><path d=\"M17.41 7.96l-1.37-1.37c-.4-.4-.92-.59-1.43-.59-.52 0-1.04.2-1.43.59L10.3 9.45l-7.72 7.72c-.78.78-.78 2.05 0 2.83L4 21.41c.39.39.9.59 1.41.59.51 0 1.02-.2 1.41-.59l7.78-7.78 2.81-2.81c.8-.78.8-2.07 0-2.86zM5.41 20L4 18.59l7.72-7.72 1.47 1.35L5.41 20z\"/>\n",
              "  </svg>\n",
              "      </button>\n",
              "      \n",
              "  <style>\n",
              "    .colab-df-container {\n",
              "      display:flex;\n",
              "      flex-wrap:wrap;\n",
              "      gap: 12px;\n",
              "    }\n",
              "\n",
              "    .colab-df-convert {\n",
              "      background-color: #E8F0FE;\n",
              "      border: none;\n",
              "      border-radius: 50%;\n",
              "      cursor: pointer;\n",
              "      display: none;\n",
              "      fill: #1967D2;\n",
              "      height: 32px;\n",
              "      padding: 0 0 0 0;\n",
              "      width: 32px;\n",
              "    }\n",
              "\n",
              "    .colab-df-convert:hover {\n",
              "      background-color: #E2EBFA;\n",
              "      box-shadow: 0px 1px 2px rgba(60, 64, 67, 0.3), 0px 1px 3px 1px rgba(60, 64, 67, 0.15);\n",
              "      fill: #174EA6;\n",
              "    }\n",
              "\n",
              "    [theme=dark] .colab-df-convert {\n",
              "      background-color: #3B4455;\n",
              "      fill: #D2E3FC;\n",
              "    }\n",
              "\n",
              "    [theme=dark] .colab-df-convert:hover {\n",
              "      background-color: #434B5C;\n",
              "      box-shadow: 0px 1px 3px 1px rgba(0, 0, 0, 0.15);\n",
              "      filter: drop-shadow(0px 1px 2px rgba(0, 0, 0, 0.3));\n",
              "      fill: #FFFFFF;\n",
              "    }\n",
              "  </style>\n",
              "\n",
              "      <script>\n",
              "        const buttonEl =\n",
              "          document.querySelector('#df-eabb352b-5862-4949-98a0-973acc2504c1 button.colab-df-convert');\n",
              "        buttonEl.style.display =\n",
              "          google.colab.kernel.accessAllowed ? 'block' : 'none';\n",
              "\n",
              "        async function convertToInteractive(key) {\n",
              "          const element = document.querySelector('#df-eabb352b-5862-4949-98a0-973acc2504c1');\n",
              "          const dataTable =\n",
              "            await google.colab.kernel.invokeFunction('convertToInteractive',\n",
              "                                                     [key], {});\n",
              "          if (!dataTable) return;\n",
              "\n",
              "          const docLinkHtml = 'Like what you see? Visit the ' +\n",
              "            '<a target=\"_blank\" href=https://colab.research.google.com/notebooks/data_table.ipynb>data table notebook</a>'\n",
              "            + ' to learn more about interactive tables.';\n",
              "          element.innerHTML = '';\n",
              "          dataTable['output_type'] = 'display_data';\n",
              "          await google.colab.output.renderOutput(dataTable, element);\n",
              "          const docLink = document.createElement('div');\n",
              "          docLink.innerHTML = docLinkHtml;\n",
              "          element.appendChild(docLink);\n",
              "        }\n",
              "      </script>\n",
              "    </div>\n",
              "  </div>\n",
              "  "
            ],
            "text/plain": [
              "          id    status_group\n",
              "0      69572      functional\n",
              "1       8776      functional\n",
              "2      34310      functional\n",
              "3      67743  non functional\n",
              "4      19728      functional\n",
              "...      ...             ...\n",
              "59395  60739      functional\n",
              "59396  27263      functional\n",
              "59397  37057      functional\n",
              "59398  31282      functional\n",
              "59399  26348      functional\n",
              "\n",
              "[59400 rows x 2 columns]"
            ]
          },
          "metadata": {},
          "execution_count": 8
        }
      ]
    },
    {
      "cell_type": "markdown",
      "source": [
        "# Preprocessing"
      ],
      "metadata": {
        "id": "tW_4p_20XHH-"
      }
    },
    {
      "cell_type": "markdown",
      "source": [
        "**Посмотрим корреляцию между атрибутами**"
      ],
      "metadata": {
        "id": "3BSY2k71LDA1"
      }
    },
    {
      "cell_type": "code",
      "source": [
        "plt.figure(figsize=(12,12))\n",
        "sns.heatmap(data.corr(method='spearman'))\n",
        "plt.show()"
      ],
      "metadata": {
        "colab": {
          "base_uri": "https://localhost:8080/",
          "height": 853
        },
        "id": "0N4076VaN7Y9",
        "outputId": "e4b6aba4-0447-4310-e7fb-e5b72b74a2b8"
      },
      "execution_count": 9,
      "outputs": [
        {
          "output_type": "display_data",
          "data": {
            "image/png": "[encoded data removed]",
            "text/plain": [
              "<Figure size 864x864 with 2 Axes>"
            ]
          },
          "metadata": {
            "needs_background": "light"
          }
        }
      ]
    },
    {
      "cell_type": "code",
      "source": [
        "'''\n",
        "ЗАМЕТКА:\n",
        "Из heatmap видно, что management_encoded и scheme_management_encoded\n",
        "сильно с коррелированы, что может привести к переобучению модели\n",
        "Поэтому следует удалить один из этих атрибутов\n",
        "Логичным будет удалить атрибут с более общим признаком, т.е. 'scheme_management_encoded'\n",
        "'''\n",
        "print()"
      ],
      "metadata": {
        "colab": {
          "base_uri": "https://localhost:8080/"
        },
        "id": "zhnQWZFSLcFu",
        "outputId": "39955f8a-1f17-48a8-930b-e5ac472b255f"
      },
      "execution_count": 12,
      "outputs": [
        {
          "output_type": "stream",
          "name": "stdout",
          "text": [
            "\n"
          ]
        }
      ]
    },
    {
      "cell_type": "code",
      "source": [
        "data.scheme_management_encoded"
      ],
      "metadata": {
        "colab": {
          "base_uri": "https://localhost:8080/"
        },
        "id": "nxM9ucKWQ7xy",
        "outputId": "21e142b1-dbce-49f9-c11b-5957c410fb49"
      },
      "execution_count": 13,
      "outputs": [
        {
          "output_type": "execute_result",
          "data": {
            "text/plain": [
              "0        7\n",
              "1        2\n",
              "2        7\n",
              "3        7\n",
              "4        7\n",
              "        ..\n",
              "14845    7\n",
              "14846    7\n",
              "14847    7\n",
              "14848    7\n",
              "14849    7\n",
              "Name: scheme_management_encoded, Length: 74250, dtype: int64"
            ]
          },
          "metadata": {},
          "execution_count": 13
        }
      ]
    },
    {
      "cell_type": "code",
      "source": [
        "data.drop('scheme_management_encoded', axis=1, inplace=True)"
      ],
      "metadata": {
        "id": "IXR89cQFN7hR"
      },
      "execution_count": 14,
      "outputs": []
    },
    {
      "cell_type": "code",
      "source": [
        "# проверяем успешность удаления\n",
        "plt.figure(figsize=(12,12))\n",
        "sns.heatmap(data.corr(method='spearman'))\n",
        "plt.show()"
      ],
      "metadata": {
        "colab": {
          "base_uri": "https://localhost:8080/",
          "height": 823
        },
        "id": "mi2hm_FJPbtT",
        "outputId": "240684cb-5cd2-4c09-9dd0-237188ae94dd"
      },
      "execution_count": 15,
      "outputs": [
        {
          "output_type": "display_data",
          "data": {
            "image/png": "[encoded data removed]",
            "text/plain": [
              "<Figure size 864x864 with 2 Axes>"
            ]
          },
          "metadata": {
            "needs_background": "light"
          }
        }
      ]
    },
    {
      "cell_type": "code",
      "source": [
        "data_show_copy = data.copy()"
      ],
      "metadata": {
        "id": "ZaBC-_3YRXkP"
      },
      "execution_count": 16,
      "outputs": []
    },
    {
      "cell_type": "code",
      "source": [
        "# удалим атрибуты с булевыми значениями для копии, чтобы построить гистограммы распределения\n",
        "data_show_copy.drop('labels', axis=1, inplace=True)\n",
        "data_show_copy.drop('amount_tsh_bool', axis=1, inplace=True)"
      ],
      "metadata": {
        "id": "SJHCovVOQyJw"
      },
      "execution_count": 18,
      "outputs": []
    },
    {
      "cell_type": "code",
      "source": [
        "# гистограммы распределения по всем атрибутам\n",
        "data_show_copy.hist(figsize=(15,15))\n",
        "plt.show()"
      ],
      "metadata": {
        "colab": {
          "base_uri": "https://localhost:8080/",
          "height": 874
        },
        "id": "SB9TykGdN7kF",
        "outputId": "dfb4be32-dc0b-4350-faa9-0461f4890af7"
      },
      "execution_count": 19,
      "outputs": [
        {
          "output_type": "display_data",
          "data": {
            "image/png": "[encoded data removed]",
            "text/plain": [
              "<Figure size 1080x1080 with 30 Axes>"
            ]
          },
          "metadata": {
            "needs_background": "light"
          }
        }
      ]
    },
    {
      "cell_type": "code",
      "source": [
        "for atribute in data.columns:\n",
        "  space = '                         '\n",
        "  nou = len(data[atribute].unique())\n",
        "  print(f'Кол-во уник. знач. для {atribute}{space[len(atribute):]}:', nou)"
      ],
      "metadata": {
        "colab": {
          "base_uri": "https://localhost:8080/"
        },
        "id": "Z5wFuY8jR_bx",
        "outputId": "8bee4c63-fd3d-4ccd-c659-7c55bb2963e5"
      },
      "execution_count": 21,
      "outputs": [
        {
          "output_type": "stream",
          "name": "stdout",
          "text": [
            "Кол-во уник. знач. для gps_height               : 3191\n",
            "Кол-во уник. знач. для longitude                : 72082\n",
            "Кол-во уник. знач. для latitude                 : 72081\n",
            "Кол-во уник. знач. для region_code              : 27\n",
            "Кол-во уник. знач. для district_code            : 20\n",
            "Кол-во уник. знач. для population               : 1591\n",
            "Кол-во уник. знач. для construction_year        : 203\n",
            "Кол-во уник. знач. для labels                   : 2\n",
            "Кол-во уник. знач. для amount_tsh_bool          : 2\n",
            "Кол-во уник. знач. для month_recorded           : 12\n",
            "Кол-во уник. знач. для funder_encoded           : 2140\n",
            "Кол-во уник. знач. для installer_encoded        : 2410\n",
            "Кол-во уник. знач. для scheme_name_encoded      : 2868\n",
            "Кол-во уник. знач. для public_meeting_encoded   : 2\n",
            "Кол-во уник. знач. для permit_encoded           : 2\n",
            "Кол-во уник. знач. для subvillage_encoded       : 21425\n",
            "Кол-во уник. знач. для wpt_name_encoded         : 45683\n",
            "Кол-во уник. знач. для management_encoded       : 11\n",
            "Кол-во уник. знач. для payment_encoded          : 6\n",
            "Кол-во уник. знач. для payment_type_encoded     : 6\n",
            "Кол-во уник. знач. для water_quality_encoded    : 7\n",
            "Кол-во уник. знач. для quality_group_encoded    : 5\n",
            "Кол-во уник. знач. для quantity_encoded         : 4\n",
            "Кол-во уник. знач. для basin_encoded            : 9\n",
            "Кол-во уник. знач. для region_encoded           : 21\n",
            "Кол-во уник. знач. для lga_encoded              : 125\n",
            "Кол-во уник. знач. для ward_encoded             : 2098\n",
            "Кол-во уник. знач. для extraction_type_encoded  : 18\n",
            "Кол-во уник. знач. для source_encoded           : 10\n",
            "Кол-во уник. знач. для waterpoint_type_encoded  : 7\n"
          ]
        }
      ]
    },
    {
      "cell_type": "code",
      "source": [
        "'''\n",
        "ЗАМЕТКА:\n",
        "Видно, что у некоторых атрибутов очень много уникальных значений, что\n",
        "плохой показатель для построения любой модели\n",
        "\n",
        "ЦЕЛЬ:\n",
        "Избавиться от большого количеста уникальных значений, сохранив содержательность информации\n",
        "\n",
        "ГИПОТЕЗА:\n",
        "Вместо самого значения можно использовать частоту его встречаемости по всей выборке, т.е.\n",
        "если из  1000 данное значение встречается 100 раз, то вместо него пишем 0.1  \n",
        "\n",
        "ЗАДАЧИ:\n",
        "- определить пороговое значение количеста уникальных значений атрибута, \n",
        "начиная с которого будет применяться замена по частоте\n",
        "- применить замену по частоте для атрибутов с количеством\n",
        "уникальных значений выше порога\n",
        "'''\n",
        "print()"
      ],
      "metadata": {
        "colab": {
          "base_uri": "https://localhost:8080/"
        },
        "id": "8TDuuHopUPNP",
        "outputId": "6513df8e-837b-491d-d37c-384278527a52"
      },
      "execution_count": 22,
      "outputs": [
        {
          "output_type": "stream",
          "name": "stdout",
          "text": [
            "\n"
          ]
        }
      ]
    },
    {
      "cell_type": "code",
      "source": [
        "# оценка частоты встречаемости на примере \"wpt_name_encoded\"\n",
        "data.wpt_name_encoded.value_counts(normalize=True)"
      ],
      "metadata": {
        "colab": {
          "base_uri": "https://localhost:8080/"
        },
        "id": "4rPGhx2fR_gu",
        "outputId": "01121b5b-022d-4c4a-d12a-37c9cd5ece34"
      },
      "execution_count": 23,
      "outputs": [
        {
          "output_type": "execute_result",
          "data": {
            "text/plain": [
              "43411    0.029832\n",
              "45426    0.013939\n",
              "1330     0.012040\n",
              "36358    0.008741\n",
              "9588     0.005751\n",
              "           ...   \n",
              "20899    0.000013\n",
              "22946    0.000013\n",
              "16801    0.000013\n",
              "18848    0.000013\n",
              "0        0.000013\n",
              "Name: wpt_name_encoded, Length: 45683, dtype: float64"
            ]
          },
          "metadata": {},
          "execution_count": 23
        }
      ]
    },
    {
      "cell_type": "code",
      "source": [
        "####################################################\n",
        "# Частотное заполнение, где пороговое значения - 27.\n",
        "####################################################\n",
        "\n",
        "for atribute in data.columns:\n",
        "\n",
        "  if len(data[atribute].unique()) > 27:\n",
        "    freq_enc = data[atribute].value_counts(normalize=True)\n",
        "    data[atribute] = data[atribute].map(freq_enc)\n"
      ],
      "metadata": {
        "id": "tgMDlQ2iXAVL"
      },
      "execution_count": 24,
      "outputs": []
    },
    {
      "cell_type": "code",
      "source": [
        "# теперь кол-во уникальных значений сократилось\n",
        "for atribute in data.columns:\n",
        "  space = '                         '\n",
        "  nou = len(data[atribute].unique())\n",
        "  print(f'Кол-во уник. знач. для {atribute}{space[len(atribute):]}:', nou)"
      ],
      "metadata": {
        "colab": {
          "base_uri": "https://localhost:8080/"
        },
        "id": "knfi9L5eR_jV",
        "outputId": "605ec340-db05-475a-e469-9d09c99c223e"
      },
      "execution_count": 25,
      "outputs": [
        {
          "output_type": "stream",
          "name": "stdout",
          "text": [
            "Кол-во уник. знач. для gps_height               : 131\n",
            "Кол-во уник. знач. для longitude                : 19\n",
            "Кол-во уник. знач. для latitude                 : 19\n",
            "Кол-во уник. знач. для region_code              : 27\n",
            "Кол-во уник. знач. для district_code            : 20\n",
            "Кол-во уник. знач. для population               : 185\n",
            "Кол-во уник. знач. для construction_year        : 138\n",
            "Кол-во уник. знач. для labels                   : 2\n",
            "Кол-во уник. знач. для amount_tsh_bool          : 2\n",
            "Кол-во уник. знач. для month_recorded           : 12\n",
            "Кол-во уник. знач. для funder_encoded           : 177\n",
            "Кол-во уник. знач. для installer_encoded        : 175\n",
            "Кол-во уник. знач. для scheme_name_encoded      : 189\n",
            "Кол-во уник. знач. для public_meeting_encoded   : 2\n",
            "Кол-во уник. знач. для permit_encoded           : 2\n",
            "Кол-во уник. знач. для subvillage_encoded       : 112\n",
            "Кол-во уник. знач. для wpt_name_encoded         : 99\n",
            "Кол-во уник. знач. для management_encoded       : 11\n",
            "Кол-во уник. знач. для payment_encoded          : 6\n",
            "Кол-во уник. знач. для payment_type_encoded     : 6\n",
            "Кол-во уник. знач. для water_quality_encoded    : 7\n",
            "Кол-во уник. знач. для quality_group_encoded    : 5\n",
            "Кол-во уник. знач. для quantity_encoded         : 4\n",
            "Кол-во уник. знач. для basin_encoded            : 9\n",
            "Кол-во уник. знач. для region_encoded           : 21\n",
            "Кол-во уник. знач. для lga_encoded              : 120\n",
            "Кол-во уник. знач. для ward_encoded             : 156\n",
            "Кол-во уник. знач. для extraction_type_encoded  : 18\n",
            "Кол-во уник. знач. для source_encoded           : 10\n",
            "Кол-во уник. знач. для waterpoint_type_encoded  : 7\n"
          ]
        }
      ]
    },
    {
      "cell_type": "code",
      "source": [
        ""
      ],
      "metadata": {
        "id": "pjWd2geJR_6d"
      },
      "execution_count": null,
      "outputs": []
    },
    {
      "cell_type": "markdown",
      "source": [
        "# Modelling"
      ],
      "metadata": {
        "id": "MLKpaMTnY4Ef"
      }
    },
    {
      "cell_type": "code",
      "source": [
        "from sklearn.preprocessing import StandardScaler\n",
        "from sklearn.model_selection import train_test_split\n",
        "from sklearn.metrics import classification_report\n",
        "from sklearn.linear_model import LogisticRegressionCV\n",
        "from sklearn.dummy import  DummyClassifier\n",
        "from sklearn.ensemble import RandomForestClassifier"
      ],
      "metadata": {
        "id": "De-N0QJvYw88"
      },
      "execution_count": 32,
      "outputs": []
    },
    {
      "cell_type": "code",
      "source": [
        "train = data[data.labels==True]\n",
        "test = data[data.labels==False]\n",
        "y = data_labels.status_group"
      ],
      "metadata": {
        "id": "a5BJT3LGaBhA"
      },
      "execution_count": 27,
      "outputs": []
    },
    {
      "cell_type": "code",
      "source": [
        "y.value_counts(normalize=True)"
      ],
      "metadata": {
        "colab": {
          "base_uri": "https://localhost:8080/"
        },
        "id": "NLOMQcF2b_Pl",
        "outputId": "b0c50fab-8afd-425c-8cb0-50b8930aea66"
      },
      "execution_count": 28,
      "outputs": [
        {
          "output_type": "execute_result",
          "data": {
            "text/plain": [
              "functional                 0.543081\n",
              "non functional             0.384242\n",
              "functional needs repair    0.072677\n",
              "Name: status_group, dtype: float64"
            ]
          },
          "metadata": {},
          "execution_count": 28
        }
      ]
    },
    {
      "cell_type": "code",
      "source": [
        "print(train.shape, y.shape )"
      ],
      "metadata": {
        "colab": {
          "base_uri": "https://localhost:8080/"
        },
        "id": "zXl1dP33gCNi",
        "outputId": "48fc3b81-f6f9-492e-c864-98e4357446bb"
      },
      "execution_count": 30,
      "outputs": [
        {
          "output_type": "stream",
          "name": "stdout",
          "text": [
            "(59400, 30) (59400,)\n"
          ]
        }
      ]
    },
    {
      "cell_type": "code",
      "source": [
        "'''\n",
        "ЗАМЕТКА:\n",
        "Наблюдается сильная разбалансировка классов:\n",
        "functional                 0.543081\n",
        "non functional             0.384242\n",
        "functional needs repair    0.072677\n",
        "\n",
        "Поэтому при создании проверочной и тестовой это нужно учитывать\n",
        "Для сбалансированного деления для метода train_test_split\n",
        "будем использовать stratify=True\n",
        "'''\n",
        "print()"
      ],
      "metadata": {
        "colab": {
          "base_uri": "https://localhost:8080/"
        },
        "id": "4wqgRfe-XiaD",
        "outputId": "33366815-55c4-496b-d176-7d6fd042eb1d"
      },
      "execution_count": 33,
      "outputs": [
        {
          "output_type": "stream",
          "name": "stdout",
          "text": [
            "\n"
          ]
        }
      ]
    },
    {
      "cell_type": "code",
      "source": [
        "# stratify=True - сбалансированно делит нашу выборку т.е. в x_train и в x_test\n",
        "# functional, non functional, functional needs repair будут в одинаковых пропорциях\n",
        "\n",
        "x_train, x_test, y_train, y_test = train_test_split(train, y, \n",
        "                                                    test_size=0.3,\n",
        "                                                    stratify=y.values)"
      ],
      "metadata": {
        "id": "o8NPYUSBaBqS"
      },
      "execution_count": 34,
      "outputs": []
    },
    {
      "cell_type": "code",
      "source": [
        "pd_y_train = pd.DataFrame(y_train)\n",
        "pd_y_test = pd.DataFrame(y_test)"
      ],
      "metadata": {
        "id": "_6rqSdQocAlw"
      },
      "execution_count": 35,
      "outputs": []
    },
    {
      "cell_type": "code",
      "source": [
        "# проверка распределения классов на обучающей выборке\n",
        "pd_y_train.value_counts(normalize=True)"
      ],
      "metadata": {
        "colab": {
          "base_uri": "https://localhost:8080/"
        },
        "id": "OyeqMKLEcAoG",
        "outputId": "27998f8c-1fd5-4843-d380-d246d1a244a5"
      },
      "execution_count": 36,
      "outputs": [
        {
          "output_type": "execute_result",
          "data": {
            "text/plain": [
              "status_group           \n",
              "functional                 0.543074\n",
              "non functional             0.384247\n",
              "functional needs repair    0.072679\n",
              "dtype: float64"
            ]
          },
          "metadata": {},
          "execution_count": 36
        }
      ]
    },
    {
      "cell_type": "code",
      "source": [
        "# проверка распределения классов на тестовой выборке\n",
        "pd_y_test.value_counts(normalize=True)"
      ],
      "metadata": {
        "colab": {
          "base_uri": "https://localhost:8080/"
        },
        "id": "-5wOsUtUcAqr",
        "outputId": "4a9952b3-9d15-44f7-fe6e-d4c1f55a0a30"
      },
      "execution_count": 37,
      "outputs": [
        {
          "output_type": "execute_result",
          "data": {
            "text/plain": [
              "status_group           \n",
              "functional                 0.543098\n",
              "non functional             0.384231\n",
              "functional needs repair    0.072671\n",
              "dtype: float64"
            ]
          },
          "metadata": {},
          "execution_count": 37
        }
      ]
    },
    {
      "cell_type": "code",
      "source": [
        ""
      ],
      "metadata": {
        "id": "q6ZKm98GiqXh"
      },
      "execution_count": null,
      "outputs": []
    },
    {
      "cell_type": "markdown",
      "source": [
        "## DummyClassifier"
      ],
      "metadata": {
        "id": "4cxqR8g-ZQie"
      }
    },
    {
      "cell_type": "code",
      "source": [
        "dummy_clf = DummyClassifier()\n",
        "dummy_clf.fit(x_train, y_train)"
      ],
      "metadata": {
        "colab": {
          "base_uri": "https://localhost:8080/"
        },
        "id": "r-25Sxahiqfm",
        "outputId": "864d60f5-e7bc-4b06-b66b-4116aa7fb5b8"
      },
      "execution_count": 38,
      "outputs": [
        {
          "output_type": "execute_result",
          "data": {
            "text/plain": [
              "DummyClassifier()"
            ]
          },
          "metadata": {},
          "execution_count": 38
        }
      ]
    },
    {
      "cell_type": "code",
      "source": [
        "baseline_train = dummy_clf.predict(x_train)\n",
        "baseline_test = dummy_clf.predict(x_test)"
      ],
      "metadata": {
        "id": "BGIoIMeZN7pb"
      },
      "execution_count": 39,
      "outputs": []
    },
    {
      "cell_type": "code",
      "source": [
        "print(classification_report(y_test, baseline_test))"
      ],
      "metadata": {
        "colab": {
          "base_uri": "https://localhost:8080/"
        },
        "id": "ue--xcFC5koZ",
        "outputId": "20fa46a8-f8ed-41ab-cc74-c16574b4a553"
      },
      "execution_count": 40,
      "outputs": [
        {
          "output_type": "stream",
          "name": "stdout",
          "text": [
            "                         precision    recall  f1-score   support\n",
            "\n",
            "             functional       0.54      1.00      0.70      9678\n",
            "functional needs repair       0.00      0.00      0.00      1295\n",
            "         non functional       0.00      0.00      0.00      6847\n",
            "\n",
            "               accuracy                           0.54     17820\n",
            "              macro avg       0.18      0.33      0.23     17820\n",
            "           weighted avg       0.29      0.54      0.38     17820\n",
            "\n"
          ]
        }
      ]
    },
    {
      "cell_type": "code",
      "source": [
        "'''\n",
        "Точность на DummyClassifier: 0.29  \n",
        "'''\n",
        "print()"
      ],
      "metadata": {
        "id": "QQt_2_LkjHd4",
        "colab": {
          "base_uri": "https://localhost:8080/"
        },
        "outputId": "1b36d05e-0cc0-4b33-f376-088345802268"
      },
      "execution_count": 50,
      "outputs": [
        {
          "output_type": "stream",
          "name": "stdout",
          "text": [
            "\n"
          ]
        }
      ]
    },
    {
      "cell_type": "code",
      "source": [
        ""
      ],
      "metadata": {
        "id": "y1MoEoTvZjM6"
      },
      "execution_count": null,
      "outputs": []
    },
    {
      "cell_type": "markdown",
      "source": [
        "##LogisticRegressionCV"
      ],
      "metadata": {
        "id": "d_9niYn6ajbk"
      }
    },
    {
      "cell_type": "code",
      "source": [
        "log_reg = LogisticRegressionCV()\n",
        "\n",
        "scaler = StandardScaler()\n",
        "\n",
        "x_train_scaled = scaler.fit_transform(x_train)\n",
        "x_test_scaled = scaler.transform(x_test)\n"
      ],
      "metadata": {
        "id": "4b2DFYYQjHgK"
      },
      "execution_count": 45,
      "outputs": []
    },
    {
      "cell_type": "code",
      "source": [
        "log_reg.fit(x_train_scaled, y_train)"
      ],
      "metadata": {
        "colab": {
          "base_uri": "https://localhost:8080/"
        },
        "id": "Ht7sxaEOkmHq",
        "outputId": "6880a68b-1e33-42ea-d237-1d6ed14ef7dd"
      },
      "execution_count": 46,
      "outputs": [
        {
          "output_type": "execute_result",
          "data": {
            "text/plain": [
              "LogisticRegressionCV()"
            ]
          },
          "metadata": {},
          "execution_count": 46
        }
      ]
    },
    {
      "cell_type": "code",
      "source": [
        "log_reg_pred_train = log_reg.predict(x_train_scaled)\n",
        "log_reg_pred_test = log_reg.predict(x_test_scaled)"
      ],
      "metadata": {
        "id": "aqOryRwCjEhE"
      },
      "execution_count": 47,
      "outputs": []
    },
    {
      "cell_type": "code",
      "source": [
        "log_reg_pred_test"
      ],
      "metadata": {
        "colab": {
          "base_uri": "https://localhost:8080/"
        },
        "id": "yEdHmojumSap",
        "outputId": "abbee254-7f0a-4872-a4ad-a2f4eb87cc4d"
      },
      "execution_count": 48,
      "outputs": [
        {
          "output_type": "execute_result",
          "data": {
            "text/plain": [
              "array(['functional', 'functional', 'functional', ..., 'non functional',\n",
              "       'non functional', 'functional'], dtype=object)"
            ]
          },
          "metadata": {},
          "execution_count": 48
        }
      ]
    },
    {
      "cell_type": "code",
      "source": [
        "print(classification_report(y_test, log_reg_pred_test))"
      ],
      "metadata": {
        "colab": {
          "base_uri": "https://localhost:8080/"
        },
        "id": "XNAWG6kn9LfC",
        "outputId": "39d8ccf2-65ce-4c33-a1af-828fcad2b88c"
      },
      "execution_count": 49,
      "outputs": [
        {
          "output_type": "stream",
          "name": "stdout",
          "text": [
            "                         precision    recall  f1-score   support\n",
            "\n",
            "             functional       0.64      0.83      0.72      9678\n",
            "functional needs repair       0.00      0.00      0.00      1295\n",
            "         non functional       0.64      0.49      0.56      6847\n",
            "\n",
            "               accuracy                           0.64     17820\n",
            "              macro avg       0.43      0.44      0.43     17820\n",
            "           weighted avg       0.59      0.64      0.61     17820\n",
            "\n"
          ]
        }
      ]
    },
    {
      "cell_type": "code",
      "source": [
        "'''\n",
        "Точность на LogisticRegressionCV: 0.59  \n",
        "'''\n",
        "print()"
      ],
      "metadata": {
        "colab": {
          "base_uri": "https://localhost:8080/"
        },
        "id": "xLteaqtdaqFL",
        "outputId": "0af3705e-2b63-4272-b5f8-2ba86cd81ce2"
      },
      "execution_count": 51,
      "outputs": [
        {
          "output_type": "stream",
          "name": "stdout",
          "text": [
            "\n"
          ]
        }
      ]
    },
    {
      "cell_type": "code",
      "source": [
        ""
      ],
      "metadata": {
        "id": "Sx3fIBr-Cy7W"
      },
      "execution_count": null,
      "outputs": []
    },
    {
      "cell_type": "markdown",
      "source": [
        "## RandomForestClassifier"
      ],
      "metadata": {
        "id": "irj5rPsjbbrO"
      }
    },
    {
      "cell_type": "code",
      "source": [
        "max_depth_list = [2,4,8,16,32,None]"
      ],
      "metadata": {
        "id": "4SvvtDbkE6at"
      },
      "execution_count": 52,
      "outputs": []
    },
    {
      "cell_type": "code",
      "source": [
        "def chose_max_depth(max_depth_list):\n",
        "\n",
        "  for i in tqdm_notebook(max_depth_list):\n",
        "    rf_clf = RandomForestClassifier(n_estimators=200, max_depth=i)\n",
        "    rf_clf.fit(x_train, y_train)\n",
        "    rf_pred_train = rf_clf.predict(x_train)\n",
        "    rf_reg_pred_test = rf_clf.predict(x_test)\n",
        "    print(f'------------------------{i}-------------------------------')\n",
        "    print(classification_report(y_test, rf_reg_pred_test))"
      ],
      "metadata": {
        "id": "fMo3pCqBEVcL"
      },
      "execution_count": 53,
      "outputs": []
    },
    {
      "cell_type": "code",
      "source": [
        "chose_max_depth(max_depth_list)"
      ],
      "metadata": {
        "colab": {
          "base_uri": "https://localhost:8080/",
          "height": 1000,
          "referenced_widgets": [
            "5ae46fadcc1d4971b1afed8d4450ba0e",
            "ac1a9515cc5541449bc2f7860c273b64",
            "96a7556da57c45f98381034b7634d9cb",
            "e63359e034004fa496cb4c771477ecca",
            "f03b013551864d51a293f8fff6c17b2d",
            "438915f7710040a7a01ca76547683b5c",
            "fc2e33965d7d474d8f90c04961b2d907",
            "60ae6341bdd94c78b531d52d9b66e64f",
            "35170027f1f64c2e95e5bcb5e91607db",
            "1e3d6e6afb8d4c1782ca38be7a900201",
            "84a47fda026b47a8b7efc87e0ebc5b9a"
          ]
        },
        "id": "L-1bRbf-FjUM",
        "outputId": "0d07f29a-d54a-4e6b-883a-8ba7f04c2ec1"
      },
      "execution_count": 54,
      "outputs": [
        {
          "output_type": "display_data",
          "data": {
            "application/vnd.jupyter.widget-view+json": {
              "model_id": "5ae46fadcc1d4971b1afed8d4450ba0e",
              "version_minor": 0,
              "version_major": 2
            },
            "text/plain": [
              "  0%|          | 0/6 [00:00<?, ?it/s]"
            ]
          },
          "metadata": {}
        },
        {
          "output_type": "stream",
          "name": "stdout",
          "text": [
            "------------------------2-------------------------------\n",
            "                         precision    recall  f1-score   support\n",
            "\n",
            "             functional       0.64      0.98      0.78      9678\n",
            "functional needs repair       0.00      0.00      0.00      1295\n",
            "         non functional       0.92      0.41      0.57      6847\n",
            "\n",
            "               accuracy                           0.69     17820\n",
            "              macro avg       0.52      0.46      0.45     17820\n",
            "           weighted avg       0.70      0.69      0.64     17820\n",
            "\n",
            "------------------------4-------------------------------\n",
            "                         precision    recall  f1-score   support\n",
            "\n",
            "             functional       0.66      0.97      0.79      9678\n",
            "functional needs repair       0.00      0.00      0.00      1295\n",
            "         non functional       0.88      0.48      0.62      6847\n",
            "\n",
            "               accuracy                           0.71     17820\n",
            "              macro avg       0.51      0.48      0.47     17820\n",
            "           weighted avg       0.70      0.71      0.67     17820\n",
            "\n",
            "------------------------8-------------------------------\n",
            "                         precision    recall  f1-score   support\n",
            "\n",
            "             functional       0.69      0.96      0.81      9678\n",
            "functional needs repair       1.00      0.01      0.01      1295\n",
            "         non functional       0.88      0.57      0.69      6847\n",
            "\n",
            "               accuracy                           0.74     17820\n",
            "              macro avg       0.86      0.51      0.50     17820\n",
            "           weighted avg       0.79      0.74      0.71     17820\n",
            "\n",
            "------------------------16-------------------------------\n",
            "                         precision    recall  f1-score   support\n",
            "\n",
            "             functional       0.77      0.93      0.84      9678\n",
            "functional needs repair       0.67      0.22      0.33      1295\n",
            "         non functional       0.87      0.72      0.79      6847\n",
            "\n",
            "               accuracy                           0.80     17820\n",
            "              macro avg       0.77      0.62      0.65     17820\n",
            "           weighted avg       0.80      0.80      0.78     17820\n",
            "\n",
            "------------------------32-------------------------------\n",
            "                         precision    recall  f1-score   support\n",
            "\n",
            "             functional       0.80      0.88      0.84      9678\n",
            "functional needs repair       0.54      0.32      0.40      1295\n",
            "         non functional       0.83      0.77      0.80      6847\n",
            "\n",
            "               accuracy                           0.80     17820\n",
            "              macro avg       0.72      0.66      0.68     17820\n",
            "           weighted avg       0.79      0.80      0.79     17820\n",
            "\n",
            "------------------------None-------------------------------\n",
            "                         precision    recall  f1-score   support\n",
            "\n",
            "             functional       0.80      0.88      0.84      9678\n",
            "functional needs repair       0.53      0.32      0.40      1295\n",
            "         non functional       0.83      0.77      0.80      6847\n",
            "\n",
            "               accuracy                           0.80     17820\n",
            "              macro avg       0.72      0.66      0.68     17820\n",
            "           weighted avg       0.79      0.80      0.79     17820\n",
            "\n"
          ]
        }
      ]
    },
    {
      "cell_type": "code",
      "source": [
        "rf_clf = RandomForestClassifier(n_estimators=100, max_depth=20)\n",
        "rf_clf.fit(x_train, y_train)\n",
        "rf_pred_train = rf_clf.predict(x_train)\n",
        "rf_reg_pred_test = rf_clf.predict(x_test)\n",
        "print(classification_report(y_test, rf_reg_pred_test))"
      ],
      "metadata": {
        "colab": {
          "base_uri": "https://localhost:8080/"
        },
        "id": "7xAoxs4M58ME",
        "outputId": "1f0fd318-2637-4bd5-ae1f-cd3e5c9374f8"
      },
      "execution_count": 61,
      "outputs": [
        {
          "output_type": "stream",
          "name": "stdout",
          "text": [
            "                         precision    recall  f1-score   support\n",
            "\n",
            "             functional       0.79      0.91      0.84      9678\n",
            "functional needs repair       0.60      0.27      0.37      1295\n",
            "         non functional       0.85      0.76      0.80      6847\n",
            "\n",
            "               accuracy                           0.80     17820\n",
            "              macro avg       0.75      0.65      0.67     17820\n",
            "           weighted avg       0.80      0.80      0.79     17820\n",
            "\n"
          ]
        }
      ]
    },
    {
      "cell_type": "code",
      "source": [
        "'''\n",
        "Точность на RandomForestClassifier: 0.8 \n",
        "'''\n",
        "print()"
      ],
      "metadata": {
        "id": "7TUMc0bjxKAl",
        "colab": {
          "base_uri": "https://localhost:8080/"
        },
        "outputId": "08375e58-600b-466f-c04a-5d5e2d2fec91"
      },
      "execution_count": 62,
      "outputs": [
        {
          "output_type": "stream",
          "name": "stdout",
          "text": [
            "\n"
          ]
        }
      ]
    },
    {
      "cell_type": "code",
      "source": [
        ""
      ],
      "metadata": {
        "id": "N6zmHD3Qc-Dy"
      },
      "execution_count": null,
      "outputs": []
    },
    {
      "cell_type": "markdown",
      "source": [
        "# Submission"
      ],
      "metadata": {
        "id": "0gyF1B4s7oVN"
      }
    },
    {
      "cell_type": "code",
      "source": [
        "rf_clf = RandomForestClassifier(n_estimators=100, max_depth=20)\n",
        "rf_clf.fit(train, y)"
      ],
      "metadata": {
        "colab": {
          "base_uri": "https://localhost:8080/"
        },
        "id": "TKYd8Cu2p1_-",
        "outputId": "ede8e7a9-25b6-427a-e0d5-76423ae020d5"
      },
      "execution_count": null,
      "outputs": [
        {
          "output_type": "execute_result",
          "data": {
            "text/plain": [
              "RandomForestClassifier(max_depth=20)"
            ]
          },
          "metadata": {},
          "execution_count": 48
        }
      ]
    },
    {
      "cell_type": "code",
      "source": [
        "submit_pred = rf_clf.predict(test)"
      ],
      "metadata": {
        "id": "J192Usec7sB_"
      },
      "execution_count": null,
      "outputs": []
    },
    {
      "cell_type": "code",
      "source": [
        "submit_pred"
      ],
      "metadata": {
        "colab": {
          "base_uri": "https://localhost:8080/"
        },
        "id": "yN8ChFOY7sFM",
        "outputId": "d2d90bce-3264-458e-f925-70b293406b01"
      },
      "execution_count": null,
      "outputs": [
        {
          "output_type": "execute_result",
          "data": {
            "text/plain": [
              "array(['non functional', 'functional', 'functional', ..., 'functional',\n",
              "       'functional', 'non functional'], dtype=object)"
            ]
          },
          "metadata": {},
          "execution_count": 50
        }
      ]
    },
    {
      "cell_type": "code",
      "source": [
        "submit_form = pd.read_csv('/content/Pump_it_Up/SubmissionFormat.csv')"
      ],
      "metadata": {
        "id": "ZsRXRTw_9-Po"
      },
      "execution_count": null,
      "outputs": []
    },
    {
      "cell_type": "code",
      "source": [
        "submit_form"
      ],
      "metadata": {
        "colab": {
          "base_uri": "https://localhost:8080/",
          "height": 419
        },
        "id": "dD7fKMP17sL3",
        "outputId": "1a4ec2e1-f60b-48c8-cd83-20ac217aac1e"
      },
      "execution_count": null,
      "outputs": [
        {
          "output_type": "execute_result",
          "data": {
            "text/html": [
              "\n",
              "  <div id=\"df-ce99dc0f-1892-4229-81d3-72e01cc3d055\">\n",
              "    <div class=\"colab-df-container\">\n",
              "      <div>\n",
              "<style scoped>\n",
              "    .dataframe tbody tr th:only-of-type {\n",
              "        vertical-align: middle;\n",
              "    }\n",
              "\n",
              "    .dataframe tbody tr th {\n",
              "        vertical-align: top;\n",
              "    }\n",
              "\n",
              "    .dataframe thead th {\n",
              "        text-align: right;\n",
              "    }\n",
              "</style>\n",
              "<table border=\"1\" class=\"dataframe\">\n",
              "  <thead>\n",
              "    <tr style=\"text-align: right;\">\n",
              "      <th></th>\n",
              "      <th>id</th>\n",
              "      <th>status_group</th>\n",
              "    </tr>\n",
              "  </thead>\n",
              "  <tbody>\n",
              "    <tr>\n",
              "      <th>0</th>\n",
              "      <td>50785</td>\n",
              "      <td>predicted label</td>\n",
              "    </tr>\n",
              "    <tr>\n",
              "      <th>1</th>\n",
              "      <td>51630</td>\n",
              "      <td>predicted label</td>\n",
              "    </tr>\n",
              "    <tr>\n",
              "      <th>2</th>\n",
              "      <td>17168</td>\n",
              "      <td>predicted label</td>\n",
              "    </tr>\n",
              "    <tr>\n",
              "      <th>3</th>\n",
              "      <td>45559</td>\n",
              "      <td>predicted label</td>\n",
              "    </tr>\n",
              "    <tr>\n",
              "      <th>4</th>\n",
              "      <td>49871</td>\n",
              "      <td>predicted label</td>\n",
              "    </tr>\n",
              "    <tr>\n",
              "      <th>...</th>\n",
              "      <td>...</td>\n",
              "      <td>...</td>\n",
              "    </tr>\n",
              "    <tr>\n",
              "      <th>14845</th>\n",
              "      <td>39307</td>\n",
              "      <td>predicted label</td>\n",
              "    </tr>\n",
              "    <tr>\n",
              "      <th>14846</th>\n",
              "      <td>18990</td>\n",
              "      <td>predicted label</td>\n",
              "    </tr>\n",
              "    <tr>\n",
              "      <th>14847</th>\n",
              "      <td>28749</td>\n",
              "      <td>predicted label</td>\n",
              "    </tr>\n",
              "    <tr>\n",
              "      <th>14848</th>\n",
              "      <td>33492</td>\n",
              "      <td>predicted label</td>\n",
              "    </tr>\n",
              "    <tr>\n",
              "      <th>14849</th>\n",
              "      <td>68707</td>\n",
              "      <td>predicted label</td>\n",
              "    </tr>\n",
              "  </tbody>\n",
              "</table>\n",
              "<p>14850 rows × 2 columns</p>\n",
              "</div>\n",
              "      <button class=\"colab-df-convert\" onclick=\"convertToInteractive('df-ce99dc0f-1892-4229-81d3-72e01cc3d055')\"\n",
              "              title=\"Convert this dataframe to an interactive table.\"\n",
              "              style=\"display:none;\">\n",
              "        \n",
              "  <svg xmlns=\"http://www.w3.org/2000/svg\" height=\"24px\"viewBox=\"0 0 24 24\"\n",
              "       width=\"24px\">\n",
              "    <path d=\"M0 0h24v24H0V0z\" fill=\"none\"/>\n",
              "    <path d=\"M18.56 5.44l.94 2.06.94-2.06 2.06-.94-2.06-.94-.94-2.06-.94 2.06-2.06.94zm-11 1L8.5 8.5l.94-2.06 2.06-.94-2.06-.94L8.5 2.5l-.94 2.06-2.06.94zm10 10l.94 2.06.94-2.06 2.06-.94-2.06-.94-.94-2.06-.94 2.06-2.06.94z\"/><path d=\"M17.41 7.96l-1.37-1.37c-.4-.4-.92-.59-1.43-.59-.52 0-1.04.2-1.43.59L10.3 9.45l-7.72 7.72c-.78.78-.78 2.05 0 2.83L4 21.41c.39.39.9.59 1.41.59.51 0 1.02-.2 1.41-.59l7.78-7.78 2.81-2.81c.8-.78.8-2.07 0-2.86zM5.41 20L4 18.59l7.72-7.72 1.47 1.35L5.41 20z\"/>\n",
              "  </svg>\n",
              "      </button>\n",
              "      \n",
              "  <style>\n",
              "    .colab-df-container {\n",
              "      display:flex;\n",
              "      flex-wrap:wrap;\n",
              "      gap: 12px;\n",
              "    }\n",
              "\n",
              "    .colab-df-convert {\n",
              "      background-color: #E8F0FE;\n",
              "      border: none;\n",
              "      border-radius: 50%;\n",
              "      cursor: pointer;\n",
              "      display: none;\n",
              "      fill: #1967D2;\n",
              "      height: 32px;\n",
              "      padding: 0 0 0 0;\n",
              "      width: 32px;\n",
              "    }\n",
              "\n",
              "    .colab-df-convert:hover {\n",
              "      background-color: #E2EBFA;\n",
              "      box-shadow: 0px 1px 2px rgba(60, 64, 67, 0.3), 0px 1px 3px 1px rgba(60, 64, 67, 0.15);\n",
              "      fill: #174EA6;\n",
              "    }\n",
              "\n",
              "    [theme=dark] .colab-df-convert {\n",
              "      background-color: #3B4455;\n",
              "      fill: #D2E3FC;\n",
              "    }\n",
              "\n",
              "    [theme=dark] .colab-df-convert:hover {\n",
              "      background-color: #434B5C;\n",
              "      box-shadow: 0px 1px 3px 1px rgba(0, 0, 0, 0.15);\n",
              "      filter: drop-shadow(0px 1px 2px rgba(0, 0, 0, 0.3));\n",
              "      fill: #FFFFFF;\n",
              "    }\n",
              "  </style>\n",
              "\n",
              "      <script>\n",
              "        const buttonEl =\n",
              "          document.querySelector('#df-ce99dc0f-1892-4229-81d3-72e01cc3d055 button.colab-df-convert');\n",
              "        buttonEl.style.display =\n",
              "          google.colab.kernel.accessAllowed ? 'block' : 'none';\n",
              "\n",
              "        async function convertToInteractive(key) {\n",
              "          const element = document.querySelector('#df-ce99dc0f-1892-4229-81d3-72e01cc3d055');\n",
              "          const dataTable =\n",
              "            await google.colab.kernel.invokeFunction('convertToInteractive',\n",
              "                                                     [key], {});\n",
              "          if (!dataTable) return;\n",
              "\n",
              "          const docLinkHtml = 'Like what you see? Visit the ' +\n",
              "            '<a target=\"_blank\" href=https://colab.research.google.com/notebooks/data_table.ipynb>data table notebook</a>'\n",
              "            + ' to learn more about interactive tables.';\n",
              "          element.innerHTML = '';\n",
              "          dataTable['output_type'] = 'display_data';\n",
              "          await google.colab.output.renderOutput(dataTable, element);\n",
              "          const docLink = document.createElement('div');\n",
              "          docLink.innerHTML = docLinkHtml;\n",
              "          element.appendChild(docLink);\n",
              "        }\n",
              "      </script>\n",
              "    </div>\n",
              "  </div>\n",
              "  "
            ],
            "text/plain": [
              "          id     status_group\n",
              "0      50785  predicted label\n",
              "1      51630  predicted label\n",
              "2      17168  predicted label\n",
              "3      45559  predicted label\n",
              "4      49871  predicted label\n",
              "...      ...              ...\n",
              "14845  39307  predicted label\n",
              "14846  18990  predicted label\n",
              "14847  28749  predicted label\n",
              "14848  33492  predicted label\n",
              "14849  68707  predicted label\n",
              "\n",
              "[14850 rows x 2 columns]"
            ]
          },
          "metadata": {},
          "execution_count": 52
        }
      ]
    },
    {
      "cell_type": "code",
      "source": [
        "submit_form['status_group'] = submit_pred"
      ],
      "metadata": {
        "id": "9UkSZlKq7sPd"
      },
      "execution_count": null,
      "outputs": []
    },
    {
      "cell_type": "code",
      "source": [
        "submit_form"
      ],
      "metadata": {
        "colab": {
          "base_uri": "https://localhost:8080/",
          "height": 419
        },
        "id": "pB7tNpTb-KyY",
        "outputId": "1d5f3651-a7a8-4661-d1c4-ed5fbaddc5d3"
      },
      "execution_count": null,
      "outputs": [
        {
          "output_type": "execute_result",
          "data": {
            "text/html": [
              "\n",
              "  <div id=\"df-14cf1e8e-d16a-4f19-b92b-dd0965ddb35d\">\n",
              "    <div class=\"colab-df-container\">\n",
              "      <div>\n",
              "<style scoped>\n",
              "    .dataframe tbody tr th:only-of-type {\n",
              "        vertical-align: middle;\n",
              "    }\n",
              "\n",
              "    .dataframe tbody tr th {\n",
              "        vertical-align: top;\n",
              "    }\n",
              "\n",
              "    .dataframe thead th {\n",
              "        text-align: right;\n",
              "    }\n",
              "</style>\n",
              "<table border=\"1\" class=\"dataframe\">\n",
              "  <thead>\n",
              "    <tr style=\"text-align: right;\">\n",
              "      <th></th>\n",
              "      <th>id</th>\n",
              "      <th>status_group</th>\n",
              "    </tr>\n",
              "  </thead>\n",
              "  <tbody>\n",
              "    <tr>\n",
              "      <th>0</th>\n",
              "      <td>50785</td>\n",
              "      <td>non functional</td>\n",
              "    </tr>\n",
              "    <tr>\n",
              "      <th>1</th>\n",
              "      <td>51630</td>\n",
              "      <td>functional</td>\n",
              "    </tr>\n",
              "    <tr>\n",
              "      <th>2</th>\n",
              "      <td>17168</td>\n",
              "      <td>functional</td>\n",
              "    </tr>\n",
              "    <tr>\n",
              "      <th>3</th>\n",
              "      <td>45559</td>\n",
              "      <td>non functional</td>\n",
              "    </tr>\n",
              "    <tr>\n",
              "      <th>4</th>\n",
              "      <td>49871</td>\n",
              "      <td>functional</td>\n",
              "    </tr>\n",
              "    <tr>\n",
              "      <th>...</th>\n",
              "      <td>...</td>\n",
              "      <td>...</td>\n",
              "    </tr>\n",
              "    <tr>\n",
              "      <th>14845</th>\n",
              "      <td>39307</td>\n",
              "      <td>non functional</td>\n",
              "    </tr>\n",
              "    <tr>\n",
              "      <th>14846</th>\n",
              "      <td>18990</td>\n",
              "      <td>functional</td>\n",
              "    </tr>\n",
              "    <tr>\n",
              "      <th>14847</th>\n",
              "      <td>28749</td>\n",
              "      <td>functional</td>\n",
              "    </tr>\n",
              "    <tr>\n",
              "      <th>14848</th>\n",
              "      <td>33492</td>\n",
              "      <td>functional</td>\n",
              "    </tr>\n",
              "    <tr>\n",
              "      <th>14849</th>\n",
              "      <td>68707</td>\n",
              "      <td>non functional</td>\n",
              "    </tr>\n",
              "  </tbody>\n",
              "</table>\n",
              "<p>14850 rows × 2 columns</p>\n",
              "</div>\n",
              "      <button class=\"colab-df-convert\" onclick=\"convertToInteractive('df-14cf1e8e-d16a-4f19-b92b-dd0965ddb35d')\"\n",
              "              title=\"Convert this dataframe to an interactive table.\"\n",
              "              style=\"display:none;\">\n",
              "        \n",
              "  <svg xmlns=\"http://www.w3.org/2000/svg\" height=\"24px\"viewBox=\"0 0 24 24\"\n",
              "       width=\"24px\">\n",
              "    <path d=\"M0 0h24v24H0V0z\" fill=\"none\"/>\n",
              "    <path d=\"M18.56 5.44l.94 2.06.94-2.06 2.06-.94-2.06-.94-.94-2.06-.94 2.06-2.06.94zm-11 1L8.5 8.5l.94-2.06 2.06-.94-2.06-.94L8.5 2.5l-.94 2.06-2.06.94zm10 10l.94 2.06.94-2.06 2.06-.94-2.06-.94-.94-2.06-.94 2.06-2.06.94z\"/><path d=\"M17.41 7.96l-1.37-1.37c-.4-.4-.92-.59-1.43-.59-.52 0-1.04.2-1.43.59L10.3 9.45l-7.72 7.72c-.78.78-.78 2.05 0 2.83L4 21.41c.39.39.9.59 1.41.59.51 0 1.02-.2 1.41-.59l7.78-7.78 2.81-2.81c.8-.78.8-2.07 0-2.86zM5.41 20L4 18.59l7.72-7.72 1.47 1.35L5.41 20z\"/>\n",
              "  </svg>\n",
              "      </button>\n",
              "      \n",
              "  <style>\n",
              "    .colab-df-container {\n",
              "      display:flex;\n",
              "      flex-wrap:wrap;\n",
              "      gap: 12px;\n",
              "    }\n",
              "\n",
              "    .colab-df-convert {\n",
              "      background-color: #E8F0FE;\n",
              "      border: none;\n",
              "      border-radius: 50%;\n",
              "      cursor: pointer;\n",
              "      display: none;\n",
              "      fill: #1967D2;\n",
              "      height: 32px;\n",
              "      padding: 0 0 0 0;\n",
              "      width: 32px;\n",
              "    }\n",
              "\n",
              "    .colab-df-convert:hover {\n",
              "      background-color: #E2EBFA;\n",
              "      box-shadow: 0px 1px 2px rgba(60, 64, 67, 0.3), 0px 1px 3px 1px rgba(60, 64, 67, 0.15);\n",
              "      fill: #174EA6;\n",
              "    }\n",
              "\n",
              "    [theme=dark] .colab-df-convert {\n",
              "      background-color: #3B4455;\n",
              "      fill: #D2E3FC;\n",
              "    }\n",
              "\n",
              "    [theme=dark] .colab-df-convert:hover {\n",
              "      background-color: #434B5C;\n",
              "      box-shadow: 0px 1px 3px 1px rgba(0, 0, 0, 0.15);\n",
              "      filter: drop-shadow(0px 1px 2px rgba(0, 0, 0, 0.3));\n",
              "      fill: #FFFFFF;\n",
              "    }\n",
              "  </style>\n",
              "\n",
              "      <script>\n",
              "        const buttonEl =\n",
              "          document.querySelector('#df-14cf1e8e-d16a-4f19-b92b-dd0965ddb35d button.colab-df-convert');\n",
              "        buttonEl.style.display =\n",
              "          google.colab.kernel.accessAllowed ? 'block' : 'none';\n",
              "\n",
              "        async function convertToInteractive(key) {\n",
              "          const element = document.querySelector('#df-14cf1e8e-d16a-4f19-b92b-dd0965ddb35d');\n",
              "          const dataTable =\n",
              "            await google.colab.kernel.invokeFunction('convertToInteractive',\n",
              "                                                     [key], {});\n",
              "          if (!dataTable) return;\n",
              "\n",
              "          const docLinkHtml = 'Like what you see? Visit the ' +\n",
              "            '<a target=\"_blank\" href=https://colab.research.google.com/notebooks/data_table.ipynb>data table notebook</a>'\n",
              "            + ' to learn more about interactive tables.';\n",
              "          element.innerHTML = '';\n",
              "          dataTable['output_type'] = 'display_data';\n",
              "          await google.colab.output.renderOutput(dataTable, element);\n",
              "          const docLink = document.createElement('div');\n",
              "          docLink.innerHTML = docLinkHtml;\n",
              "          element.appendChild(docLink);\n",
              "        }\n",
              "      </script>\n",
              "    </div>\n",
              "  </div>\n",
              "  "
            ],
            "text/plain": [
              "          id    status_group\n",
              "0      50785  non functional\n",
              "1      51630      functional\n",
              "2      17168      functional\n",
              "3      45559  non functional\n",
              "4      49871      functional\n",
              "...      ...             ...\n",
              "14845  39307  non functional\n",
              "14846  18990      functional\n",
              "14847  28749      functional\n",
              "14848  33492      functional\n",
              "14849  68707  non functional\n",
              "\n",
              "[14850 rows x 2 columns]"
            ]
          },
          "metadata": {},
          "execution_count": 54
        }
      ]
    },
    {
      "cell_type": "code",
      "source": [
        "submit_form.to_csv('/content/my_drive/MyDrive/DataSets/submit_3_new_coords.csv', index=False)"
      ],
      "metadata": {
        "id": "pY2FBqBHp2JY"
      },
      "execution_count": null,
      "outputs": []
    },
    {
      "cell_type": "markdown",
      "source": [
        "# Accuracy on DrivenData\n"
      ],
      "metadata": {
        "id": "Q9StoovleSoW"
      }
    },
    {
      "cell_type": "markdown",
      "source": [
        "![Submission_1.jpg](data:image/jpeg;base64,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)"
      ],
      "metadata": {
        "id": "Su14g1jceivV"
      }
    }
  ]
}